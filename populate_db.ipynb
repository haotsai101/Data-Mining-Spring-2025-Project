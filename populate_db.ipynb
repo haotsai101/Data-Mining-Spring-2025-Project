{
 "cells": [
  {
   "cell_type": "code",
   "execution_count": 1,
   "id": "c8968c3b-62c6-46da-9d6b-a1e4948ba5be",
   "metadata": {},
   "outputs": [
    {
     "name": "stderr",
     "output_type": "stream",
     "text": [
      "/scratch/u1319464/miniforge3/envs/ds4150-faces/lib/python3.8/site-packages/tqdm/auto.py:21: TqdmWarning: IProgress not found. Please update jupyter and ipywidgets. See https://ipywidgets.readthedocs.io/en/stable/user_install.html\n",
      "  from .autonotebook import tqdm as notebook_tqdm\n"
     ]
    }
   ],
   "source": [
    "import importlib\n",
    "import dbops\n",
    "import cv2\n",
    "import time\n",
    "import numpy as np\n",
    "from tqdm import tqdm\n",
    "from PIL import Image\n",
    "\n",
    "import torch\n",
    "\n",
    "from facelib import FaceDetector, EmotionDetector\n",
    "import glob\n",
    "import math"
   ]
  },
  {
   "cell_type": "code",
   "execution_count": 2,
   "id": "bb0b7761-cf63-43df-bf11-197a898fd742",
   "metadata": {},
   "outputs": [
    {
     "data": {
      "text/plain": [
       "<module 'dbops' from '/scratch/u1319464/Data-Mining-Spring-2025-Project/dbops.py'>"
      ]
     },
     "execution_count": 2,
     "metadata": {},
     "output_type": "execute_result"
    }
   ],
   "source": [
    "importlib.reload(dbops)  # Reload the module from source"
   ]
  },
  {
   "cell_type": "code",
   "execution_count": 27,
   "id": "a4aa9118-11b2-4160-bf13-4c4b01e62431",
   "metadata": {},
   "outputs": [
    {
     "name": "stdout",
     "output_type": "stream",
     "text": [
      "Bishops Wife 1947.mp4\n",
      "Day the Earth Stood Still 1951.mp4\n",
      "Dracula 1931.mp4\n",
      "Earth vs the Flying Saucers color.mp4\n",
      "Fight.Club.10th.Anniversary.Edition.1999.1080p.BrRip.x264.YIFY.mp4\n",
      "Frankenstein 1931 colorized.mp4\n",
      "Hellhole.1985.1080p.BluRay.H264.AAC-RARBG.mp4\n",
      "Invasion of the Body Snatchers.mp4\n",
      "Invisible Man 1933.mp4\n",
      "It Came from Outer Space 1953 colorized.mp4\n",
      "Kronos 1957 colorized.mp4\n",
      "Natural Born Killer A.mp4\n",
      "Natural Born Killer B.mp4\n",
      "Sahara 1943.mp4\n",
      "Tarantula 1955 colorized.mp4\n",
      "Taxi Driver A.mp4\n",
      "Taxi Driver B.mp4\n",
      "The Matrix (1999) [OPEN MATTE] [WEB-DL 1080p 10bit DD5.1 x265].mp4\n",
      "Wolf Man 1941.mp4\n"
     ]
    }
   ],
   "source": [
    "!ls data | grep -v \"Dragon Ball\""
   ]
  },
  {
   "cell_type": "code",
   "execution_count": 28,
   "id": "6b6dbc70-bcf5-423f-9a02-78cd89fbb9ea",
   "metadata": {},
   "outputs": [
    {
     "data": {
      "text/plain": [
       "{'./data/Bishops Wife 1947.mp4',\n",
       " './data/Day the Earth Stood Still 1951.mp4',\n",
       " './data/Dracula 1931.mp4',\n",
       " './data/Earth vs the Flying Saucers color.mp4',\n",
       " './data/Fight.Club.10th.Anniversary.Edition.1999.1080p.BrRip.x264.YIFY.mp4',\n",
       " './data/Frankenstein 1931 colorized.mp4',\n",
       " './data/Hellhole.1985.1080p.BluRay.H264.AAC-RARBG.mp4',\n",
       " './data/Invasion of the Body Snatchers.mp4',\n",
       " './data/Invisible Man 1933.mp4',\n",
       " './data/It Came from Outer Space 1953 colorized.mp4',\n",
       " './data/Kronos 1957 colorized.mp4',\n",
       " './data/Natural Born Killer A.mp4',\n",
       " './data/Natural Born Killer B.mp4',\n",
       " './data/Sahara 1943.mp4',\n",
       " './data/Tarantula 1955 colorized.mp4',\n",
       " './data/Taxi Driver A.mp4',\n",
       " './data/Taxi Driver B.mp4',\n",
       " './data/The Matrix (1999) [OPEN MATTE] [WEB-DL 1080p 10bit DD5.1 x265].mp4',\n",
       " './data/Wolf Man 1941.mp4'}"
      ]
     },
     "execution_count": 28,
     "metadata": {},
     "output_type": "execute_result"
    }
   ],
   "source": [
    "set(glob.glob('./data/*mp4')) - set(glob.glob('./data/Dragon Ball*mp4'))"
   ]
  },
  {
   "cell_type": "code",
   "execution_count": 29,
   "id": "1ed862de-c56a-4e0c-8d37-fd4dc4e0eaa8",
   "metadata": {},
   "outputs": [],
   "source": [
    "import glob\n",
    "for file_path in (set(glob.glob('./data/*mp4')) - set(glob.glob('./data/Dragon Ball*mp4'))):\n",
    "    title = file_path.replace('./data/', '').replace('.mp4', '')\n",
    "    omdb_data = dbops.omdb.get_movie_data(title)\n",
    "    if omdb_data!=None:\n",
    "        dbops.Movie.add_movie_from_omdb_data(file_path, omdb_data)"
   ]
  },
  {
   "cell_type": "code",
   "execution_count": 30,
   "id": "3d620fcd-6c8f-4a06-af81-fd06486e6048",
   "metadata": {},
   "outputs": [],
   "source": [
    "\n",
    "# Earth vs the Flying Saucers color\n",
    "dbops.Movie.add_movie_from_omdb_data('./data/Earth vs the Flying Saucers color.mp4', dbops.omdb.get_movie_data(identifier='tt0049169', is_imdb_id=True))\n",
    "\n",
    "# Wolf Man 1941\n",
    "dbops.Movie.add_movie_from_omdb_data('./data/Wolf Man 1941.mp4', dbops.omdb.get_movie_data(identifier='tt0034398', is_imdb_id=True))\n",
    "\n",
    "# Dracula 1931\n",
    "dbops.Movie.add_movie_from_omdb_data('./data/Dracula 1931.mp4', dbops.omdb.get_movie_data(identifier='tt0021814', is_imdb_id=True))\n",
    "\n",
    "# Taxi Driver A\n",
    "dbops.Movie.add_movie_from_omdb_data('./data/Taxi Driver A.mp4', dbops.omdb.get_movie_data(identifier='tt0075314', is_imdb_id=True))\n",
    "# Taxi Driver B\n",
    "# dbops.Movie.add_movie_from_omdb_data('./data/Earth vs the Flying Saucers color.mp4', dbops.omdb.get_movie_data(identifier='tt0075314', is_imdb_id=True)\n",
    "\n",
    "# Natural Born Killer A\n",
    "dbops.Movie.add_movie_from_omdb_data('./data/Natural Born Killer A.mp4', dbops.omdb.get_movie_data(identifier='tt0110632', is_imdb_id=True))\n",
    "# Natural Born Killer B\n",
    "# dbops.omdb.get_movie_data(identifier='tt0110632', is_imdb_id=True)\n",
    "\n",
    "# Bishops Wife 1947\n",
    "dbops.Movie.add_movie_from_omdb_data('./data/Bishops Wife 1947.mp4', dbops.omdb.get_movie_data(identifier='tt0039190', is_imdb_id=True))\n",
    "\n",
    "# Kronos 1957 colorized\n",
    "dbops.Movie.add_movie_from_omdb_data('./data/Kronos 1957 colorized.mp4', dbops.omdb.get_movie_data(identifier='tt0050610', is_imdb_id=True))\n",
    "\n",
    "# Sahara 1943\n",
    "dbops.Movie.add_movie_from_omdb_data('./data/Sahara 1943.mp4', dbops.omdb.get_movie_data(identifier='tt0036323', is_imdb_id=True))\n",
    "\n",
    "# It Came from Outer Space 1953 colorized\n",
    "dbops.Movie.add_movie_from_omdb_data('./data/It Came from Outer Space 1953 colorized.mp4', dbops.omdb.get_movie_data(identifier='tt0045920', is_imdb_id=True))\n",
    "\n",
    "# Tarantula 1955 colorized\n",
    "dbops.Movie.add_movie_from_omdb_data('./data/Tarantula 1955 colorized.mp4', dbops.omdb.get_movie_data(identifier='tt0048696', is_imdb_id=True))\n",
    "\n",
    "# The Matrix (1999)\n",
    "dbops.Movie.add_movie_from_omdb_data('./data/The Matrix (1999) [OPEN MATTE] [WEB-DL 1080p 10bit DD5.1 x265].mp4', dbops.omdb.get_movie_data(identifier='tt0133093', is_imdb_id=True))\n",
    "\n",
    "# Frankenstein 1931 colorized\n",
    "dbops.Movie.add_movie_from_omdb_data('./data/Frankenstein 1931 colorized.mp4', dbops.omdb.get_movie_data(identifier='tt0021884', is_imdb_id=True))\n",
    "\n",
    "# Hellhole.1985.1080p.BluRay.H264.AAC-RARBG\n",
    "dbops.Movie.add_movie_from_omdb_data('./data/Hellhole.1985.1080p.BluRay.H264.AAC-RARBG.mp4', dbops.omdb.get_movie_data(identifier='tt0089269', is_imdb_id=True))\n",
    "\n",
    "# Fight.Club.10th.Anniversary.Edition.1999.1080p.BrRip.x264.YIFY\n",
    "dbops.Movie.add_movie_from_omdb_data('./data/Fight.Club.10th.Anniversary.Edition.1999.1080p.BrRip.x264.YIFY.mp4', dbops.omdb.get_movie_data(identifier='tt0137523', is_imdb_id=True))\n",
    "\n",
    "# Day the Earth Stood Still 1951\n",
    "dbops.Movie.add_movie_from_omdb_data('./data/Day the Earth Stood Still 1951.mp4', dbops.omdb.get_movie_data(identifier='tt0043456', is_imdb_id=True))\n"
   ]
  },
  {
   "cell_type": "code",
   "execution_count": 36,
   "id": "09b31e47-9e6f-4b8d-ac31-07e064889684",
   "metadata": {},
   "outputs": [
    {
     "data": {
      "text/plain": [
       "('The Invisible Man (1933)', './data/Invisible Man 1933.mp4', '25 Sep 2018')"
      ]
     },
     "execution_count": 36,
     "metadata": {},
     "output_type": "execute_result"
    }
   ],
   "source": [
    "movie = dbops.Movie('tt15439366')\n",
    "movie.get_title(), movie.get_file_path(), movie.get_date_created()"
   ]
  },
  {
   "cell_type": "code",
   "execution_count": 3,
   "id": "f087fa23-a5a9-4dc7-be0a-0f9ca9f91474",
   "metadata": {},
   "outputs": [
    {
     "name": "stdout",
     "output_type": "stream",
     "text": [
      "from EmotionDetector: weights loaded\n"
     ]
    }
   ],
   "source": [
    "\n",
    "face_detector = FaceDetector()\n",
    "emotion_detector = EmotionDetector()\n"
   ]
  },
  {
   "cell_type": "code",
   "execution_count": null,
   "id": "ec582945-5c0f-4fb2-9cb5-61af01b3f6b4",
   "metadata": {},
   "outputs": [
    {
     "name": "stdout",
     "output_type": "stream",
     "text": [
      "Now Processing: The Bishop's Wife\n",
      "Starting from minute 10, processing up to minute 110.096760\n",
      "Building num_faces index of frames from every 15 seconds\n"
     ]
    },
    {
     "name": "stderr",
     "output_type": "stream",
     "text": [
      "Building Index: 100%|█████████████████████████████████████████████████████████████████████████████| 400/400 [01:09<00:00,  5.75it/s]\n"
     ]
    },
    {
     "name": "stdout",
     "output_type": "stream",
     "text": [
      "Processing facial scenes\n"
     ]
    },
    {
     "name": "stderr",
     "output_type": "stream",
     "text": [
      "Processing Frames:   0%|                                                                                    | 0/399 [00:00<?, ?it/s]"
     ]
    },
    {
     "name": "stdout",
     "output_type": "stream",
     "text": [
      "Start frame: 17981\tEnd Frame: 18431\n",
      "Skipped frame 17982\n",
      "Skipped frame 17985\n",
      "Skipped frame 17988\n",
      "Skipped frame 17991\n",
      "Skipped frame 17994\n",
      "Skipped frame 17997\n",
      "Skipped frame 18000\n",
      "Skipped frame 18003\n",
      "Skipped frame 18006\n",
      "Skipped frame 18009\n",
      "Skipped frame 18012\n",
      "Skipped frame 18015\n",
      "Skipped frame 18018\n",
      "Skipped frame 18021\n",
      "Skipped frame 18024\n",
      "Skipped frame 18027\n",
      "Skipped frame 18030\n",
      "Skipped frame 18033\n",
      "Skipped frame 18036\n",
      "Skipped frame 18039\n",
      "Skipped frame 18042\n",
      "Skipped frame 18045\n",
      "Skipped frame 18048\n",
      "Skipped frame 18051\n",
      "Skipped frame 18054\n",
      "Skipped frame 18057\n",
      "Skipped frame 18060\n",
      "Skipped frame 18063\n",
      "Skipped frame 18066\n",
      "Skipped frame 18069\n",
      "Skipped frame 18072\n",
      "Skipped frame 18075\n",
      "Skipped frame 18078\n",
      "Skipped frame 18081\n",
      "Skipped frame 18084\n",
      "Skipped frame 18087\n",
      "Skipped frame 18090\n",
      "Skipped frame 18093\n",
      "Skipped frame 18096\n",
      "Skipped frame 18099\n",
      "Skipped frame 18102\n",
      "Skipped frame 18105\n",
      "Skipped frame 18108\n",
      "Skipped frame 18111\n",
      "Skipped frame 18114\n",
      "Skipped frame 18117\n",
      "Skipped frame 18120\n",
      "Skipped frame 18123\n",
      "Skipped frame 18126\n",
      "Skipped frame 18129\n",
      "Skipped frame 18132\n",
      "Skipped frame 18135\n",
      "Skipped frame 18138\n",
      "Skipped frame 18141\n",
      "Skipped frame 18144\n",
      "Skipped frame 18147\n",
      "Skipped frame 18150\n",
      "Skipped frame 18153\n",
      "Skipped frame 18156\n",
      "Skipped frame 18159\n",
      "Skipped frame 18162\n",
      "Skipped frame 18165\n",
      "Skipped frame 18168\n",
      "Skipped frame 18171\n",
      "Skipped frame 18174\n",
      "Skipped frame 18177\n",
      "Skipped frame 18180\n",
      "Skipped frame 18183\n",
      "Skipped frame 18186\n",
      "Skipped frame 18189\n",
      "Skipped frame 18192\n",
      "Skipped frame 18195\n",
      "Skipped frame 18198\n",
      "Skipped frame 18201\n",
      "Skipped frame 18204\n",
      "Skipped frame 18207\n",
      "Skipped frame 18210\n",
      "Skipped frame 18213\n",
      "Skipped frame 18216\n",
      "Skipped frame 18219\n",
      "Skipped frame 18222\n",
      "Skipped frame 18225\n",
      "Skipped frame 18228\n",
      "Skipped frame 18231\n",
      "Skipped frame 18234\n",
      "Skipped frame 18237\n",
      "Skipped frame 18240\n",
      "Skipped frame 18243\n",
      "Skipped frame 18246\n",
      "Skipped frame 18249\n",
      "Skipped frame 18252\n",
      "Skipped frame 18255\n",
      "Skipped frame 18258\n",
      "Skipped frame 18261\n",
      "Skipped frame 18264\n",
      "Skipped frame 18267\n",
      "Skipped frame 18270\n",
      "Skipped frame 18273\n",
      "Skipped frame 18276\n",
      "Skipped frame 18279\n",
      "Skipped frame 18282\n",
      "Skipped frame 18285\n",
      "Skipped frame 18288\n",
      "Skipped frame 18291\n",
      "Skipped frame 18294\n",
      "Skipped frame 18297\n",
      "Skipped frame 18300\n",
      "Skipped frame 18303\n",
      "Skipped frame 18306\n",
      "Skipped frame 18309\n",
      "Skipped frame 18312\n",
      "Skipped frame 18315\n",
      "Skipped frame 18318\n",
      "Skipped frame 18321\n",
      "Skipped frame 18324\n",
      "Skipped frame 18327\n",
      "Skipped frame 18330\n",
      "Skipped frame 18333\n",
      "Skipped frame 18336\n",
      "Skipped frame 18339\n",
      "Skipped frame 18342\n",
      "Skipped frame 18345\n",
      "Skipped frame 18348\n",
      "Skipped frame 18351\n",
      "Skipped frame 18354\n",
      "Skipped frame 18357\n",
      "Skipped frame 18360\n",
      "Skipped frame 18363\n",
      "Skipped frame 18366\n",
      "Skipped frame 18369\n",
      "Skipped frame 18372\n",
      "Skipped frame 18375\n",
      "Skipped frame 18378\n",
      "Skipped frame 18381\n",
      "Skipped frame 18384\n",
      "Skipped frame 18387\n",
      "Skipped frame 18390\n",
      "Skipped frame 18393\n",
      "Skipped frame 18396\n",
      "Skipped frame 18399\n",
      "Skipped frame 18402\n",
      "Skipped frame 18405\n",
      "Skipped frame 18408\n",
      "Skipped frame 18411\n",
      "Skipped frame 18414\n",
      "Skipped frame 18417\n",
      "Skipped frame 18420\n",
      "Skipped frame 18423\n",
      "Skipped frame 18426\n"
     ]
    },
    {
     "name": "stderr",
     "output_type": "stream",
     "text": [
      "Processing Frames:   0%|▏                                                                         | 1/399 [00:33<3:43:55, 33.76s/it]"
     ]
    },
    {
     "name": "stdout",
     "output_type": "stream",
     "text": [
      "Skipped frame 18429\n",
      "Start frame: 18431\tEnd Frame: 18881\n",
      "Skipped frame 18432\n",
      "Skipped frame 18435\n",
      "Skipped frame 18438\n",
      "Skipped frame 18441\n",
      "Skipped frame 18444\n",
      "Skipped frame 18447\n",
      "Skipped frame 18450\n",
      "Skipped frame 18453\n",
      "Skipped frame 18456\n",
      "Skipped frame 18459\n",
      "Skipped frame 18462\n",
      "Skipped frame 18465\n",
      "Skipped frame 18468\n",
      "Skipped frame 18471\n",
      "Skipped frame 18474\n",
      "Skipped frame 18477\n",
      "Skipped frame 18480\n",
      "Skipped frame 18483\n",
      "Skipped frame 18486\n",
      "Skipped frame 18489\n",
      "Skipped frame 18492\n",
      "Skipped frame 18495\n",
      "Skipped frame 18498\n",
      "Skipped frame 18501\n",
      "Skipped frame 18504\n",
      "Skipped frame 18507\n",
      "Skipped frame 18510\n",
      "Skipped frame 18513\n",
      "Skipped frame 18516\n",
      "Skipped frame 18519\n",
      "Skipped frame 18522\n",
      "Skipped frame 18525\n",
      "Skipped frame 18528\n",
      "Skipped frame 18531\n",
      "Skipped frame 18534\n",
      "Skipped frame 18537\n",
      "Skipped frame 18540\n",
      "Skipped frame 18543\n",
      "Skipped frame 18546\n",
      "Skipped frame 18549\n",
      "Skipped frame 18552\n",
      "Skipped frame 18555\n",
      "Skipped frame 18558\n",
      "Skipped frame 18561\n",
      "Skipped frame 18564\n",
      "Skipped frame 18567\n",
      "Skipped frame 18570\n",
      "Skipped frame 18573\n",
      "Skipped frame 18576\n",
      "Skipped frame 18579\n",
      "Skipped frame 18582\n",
      "Skipped frame 18585\n",
      "Skipped frame 18588\n",
      "Skipped frame 18591\n",
      "Skipped frame 18594\n",
      "Skipped frame 18597\n",
      "Skipped frame 18600\n",
      "Skipped frame 18603\n",
      "Skipped frame 18606\n",
      "Skipped frame 18609\n",
      "Skipped frame 18612\n",
      "Skipped frame 18615\n",
      "Skipped frame 18618\n",
      "Skipped frame 18621\n",
      "Skipped frame 18624\n",
      "Skipped frame 18627\n",
      "Skipped frame 18630\n",
      "Skipped frame 18633\n",
      "Skipped frame 18636\n",
      "Skipped frame 18639\n",
      "Skipped frame 18642\n",
      "Skipped frame 18645\n",
      "Skipped frame 18648\n",
      "Skipped frame 18651\n",
      "Skipped frame 18654\n",
      "Skipped frame 18657\n",
      "Skipped frame 18660\n",
      "Skipped frame 18663\n",
      "Skipped frame 18666\n",
      "Skipped frame 18669\n",
      "Skipped frame 18672\n",
      "Skipped frame 18675\n",
      "Skipped frame 18678\n",
      "Skipped frame 18681\n",
      "Skipped frame 18684\n",
      "Skipped frame 18687\n",
      "Skipped frame 18690\n",
      "Skipped frame 18693\n",
      "Skipped frame 18696\n",
      "Skipped frame 18699\n",
      "Skipped frame 18702\n",
      "Skipped frame 18705\n",
      "Skipped frame 18708\n",
      "Skipped frame 18711\n",
      "Skipped frame 18714\n",
      "Skipped frame 18717\n",
      "Skipped frame 18720\n",
      "Skipped frame 18723\n",
      "Skipped frame 18726\n",
      "Skipped frame 18729\n",
      "Skipped frame 18732\n",
      "Skipped frame 18735\n",
      "Skipped frame 18738\n",
      "Skipped frame 18741\n",
      "Skipped frame 18744\n",
      "Skipped frame 18747\n",
      "Skipped frame 18750\n",
      "Skipped frame 18753\n",
      "Skipped frame 18756\n",
      "Skipped frame 18759\n",
      "Skipped frame 18762\n",
      "Skipped frame 18765\n",
      "Skipped frame 18768\n",
      "Skipped frame 18771\n",
      "Skipped frame 18774\n",
      "Skipped frame 18777\n",
      "Skipped frame 18780\n",
      "Skipped frame 18783\n",
      "Skipped frame 18786\n",
      "Skipped frame 18789\n",
      "Skipped frame 18792\n",
      "Skipped frame 18795\n",
      "Skipped frame 18798\n",
      "Skipped frame 18801\n",
      "Skipped frame 18804\n",
      "Skipped frame 18807\n",
      "Skipped frame 18810\n",
      "Skipped frame 18813\n",
      "Skipped frame 18816\n",
      "Skipped frame 18819\n",
      "Skipped frame 18822\n",
      "Skipped frame 18825\n",
      "Skipped frame 18828\n",
      "Skipped frame 18831\n",
      "Skipped frame 18834\n",
      "Skipped frame 18837\n",
      "Skipped frame 18840\n",
      "Skipped frame 18843\n",
      "Skipped frame 18846\n",
      "Skipped frame 18849\n",
      "Skipped frame 18852\n",
      "Skipped frame 18855\n",
      "Skipped frame 18858\n",
      "Skipped frame 18861\n",
      "Skipped frame 18864\n",
      "Skipped frame 18867\n",
      "Skipped frame 18870\n",
      "Skipped frame 18873\n",
      "Skipped frame 18876\n"
     ]
    },
    {
     "name": "stderr",
     "output_type": "stream",
     "text": [
      "Processing Frames:   1%|▎                                                                         | 2/399 [01:08<3:48:27, 34.53s/it]"
     ]
    },
    {
     "name": "stdout",
     "output_type": "stream",
     "text": [
      "Skipped frame 18879\n",
      "Start frame: 18881\tEnd Frame: 19331\n",
      "Skipped frame 18882\n",
      "Skipped frame 18885\n",
      "Skipped frame 18888\n",
      "Skipped frame 18891\n",
      "Skipped frame 18894\n",
      "Skipped frame 18897\n",
      "Skipped frame 18900\n",
      "Skipped frame 18903\n",
      "Skipped frame 18906\n",
      "Skipped frame 18909\n",
      "Skipped frame 18912\n",
      "Skipped frame 18915\n",
      "Skipped frame 18918\n",
      "Skipped frame 18921\n",
      "Skipped frame 18924\n",
      "Skipped frame 18927\n",
      "Skipped frame 18930\n",
      "Skipped frame 18933\n",
      "Skipped frame 18936\n",
      "Skipped frame 18939\n",
      "Skipped frame 18942\n",
      "Skipped frame 18945\n",
      "Skipped frame 18948\n",
      "Skipped frame 18951\n",
      "Skipped frame 18954\n",
      "Skipped frame 18957\n",
      "Skipped frame 18960\n",
      "Skipped frame 18963\n",
      "Skipped frame 18966\n",
      "Skipped frame 18969\n",
      "Skipped frame 18972\n",
      "Skipped frame 18975\n",
      "Skipped frame 18978\n",
      "Skipped frame 18981\n",
      "Skipped frame 18984\n",
      "Skipped frame 18987\n",
      "Skipped frame 18990\n",
      "Skipped frame 18993\n",
      "Skipped frame 18996\n",
      "Skipped frame 18999\n",
      "Skipped frame 19002\n",
      "Skipped frame 19005\n",
      "Skipped frame 19008\n",
      "Skipped frame 19011\n",
      "Skipped frame 19014\n",
      "Skipped frame 19017\n",
      "Skipped frame 19020\n",
      "Skipped frame 19023\n",
      "Skipped frame 19026\n",
      "Skipped frame 19029\n",
      "Skipped frame 19032\n",
      "Skipped frame 19035\n",
      "Skipped frame 19038\n",
      "Skipped frame 19041\n",
      "Skipped frame 19044\n",
      "Skipped frame 19047\n",
      "Skipped frame 19050\n",
      "Skipped frame 19053\n",
      "Skipped frame 19056\n",
      "Skipped frame 19059\n",
      "Skipped frame 19062\n",
      "Skipped frame 19065\n",
      "Skipped frame 19068\n",
      "Skipped frame 19071\n",
      "Skipped frame 19074\n",
      "Skipped frame 19077\n",
      "Skipped frame 19080\n",
      "Skipped frame 19083\n",
      "Skipped frame 19086\n",
      "Skipped frame 19089\n",
      "Skipped frame 19092\n",
      "Skipped frame 19095\n",
      "Skipped frame 19098\n",
      "Skipped frame 19101\n",
      "Skipped frame 19104\n",
      "Skipped frame 19107\n",
      "Skipped frame 19110\n",
      "Skipped frame 19113\n",
      "Skipped frame 19116\n",
      "Skipped frame 19119\n",
      "Skipped frame 19122\n",
      "Skipped frame 19125\n",
      "Skipped frame 19128\n",
      "Skipped frame 19131\n",
      "Skipped frame 19134\n",
      "Skipped frame 19137\n",
      "Skipped frame 19140\n",
      "Skipped frame 19143\n",
      "Skipped frame 19146\n",
      "Skipped frame 19149\n",
      "Skipped frame 19152\n",
      "Skipped frame 19155\n",
      "Skipped frame 19158\n",
      "Skipped frame 19161\n",
      "Skipped frame 19164\n",
      "Skipped frame 19167\n",
      "Skipped frame 19170\n",
      "Skipped frame 19173\n",
      "Skipped frame 19176\n",
      "Skipped frame 19179\n",
      "Skipped frame 19182\n",
      "Skipped frame 19185\n",
      "Skipped frame 19188\n",
      "Skipped frame 19191\n",
      "Skipped frame 19194\n",
      "Skipped frame 19197\n",
      "Skipped frame 19200\n",
      "Skipped frame 19203\n",
      "Skipped frame 19206\n",
      "Skipped frame 19209\n",
      "Skipped frame 19212\n",
      "Skipped frame 19215\n",
      "Skipped frame 19218\n",
      "Skipped frame 19221\n",
      "Skipped frame 19224\n",
      "Skipped frame 19227\n",
      "Skipped frame 19230\n",
      "Skipped frame 19233\n",
      "Skipped frame 19236\n",
      "Skipped frame 19239\n",
      "Skipped frame 19242\n",
      "Skipped frame 19245\n",
      "Skipped frame 19248\n",
      "Skipped frame 19251\n",
      "Skipped frame 19254\n",
      "Skipped frame 19257\n",
      "Skipped frame 19260\n",
      "Skipped frame 19263\n",
      "Skipped frame 19266\n",
      "Skipped frame 19269\n",
      "Skipped frame 19272\n",
      "Skipped frame 19275\n",
      "Skipped frame 19278\n",
      "Skipped frame 19281\n",
      "Skipped frame 19284\n",
      "Skipped frame 19287\n",
      "Skipped frame 19290\n",
      "Skipped frame 19293\n",
      "Skipped frame 19296\n",
      "Skipped frame 19299\n",
      "Skipped frame 19302\n",
      "Skipped frame 19305\n",
      "Skipped frame 19308\n",
      "Skipped frame 19311\n",
      "Skipped frame 19314\n",
      "Skipped frame 19317\n",
      "Skipped frame 19320\n",
      "Skipped frame 19323\n",
      "Skipped frame 19326\n"
     ]
    },
    {
     "name": "stderr",
     "output_type": "stream",
     "text": [
      "Processing Frames:   1%|▌                                                                         | 3/399 [01:43<3:47:15, 34.43s/it]"
     ]
    },
    {
     "name": "stdout",
     "output_type": "stream",
     "text": [
      "Skipped frame 19329\n",
      "Start frame: 19331\tEnd Frame: 19781\n",
      "Skipped frame 19332\n",
      "Skipped frame 19335\n",
      "Skipped frame 19338\n",
      "Skipped frame 19341\n",
      "Skipped frame 19344\n",
      "Skipped frame 19347\n",
      "Skipped frame 19350\n",
      "Skipped frame 19353\n",
      "Skipped frame 19356\n",
      "Skipped frame 19359\n",
      "Skipped frame 19362\n",
      "Skipped frame 19365\n",
      "Skipped frame 19368\n",
      "Skipped frame 19371\n",
      "Skipped frame 19374\n",
      "Skipped frame 19377\n",
      "Skipped frame 19380\n",
      "Skipped frame 19383\n",
      "Skipped frame 19386\n",
      "Skipped frame 19389\n",
      "Skipped frame 19392\n",
      "Skipped frame 19395\n",
      "Skipped frame 19398\n",
      "Skipped frame 19401\n",
      "Skipped frame 19404\n",
      "Skipped frame 19407\n",
      "Skipped frame 19410\n",
      "Skipped frame 19413\n",
      "Skipped frame 19416\n",
      "Skipped frame 19419\n",
      "Skipped frame 19422\n",
      "Skipped frame 19425\n",
      "Skipped frame 19428\n",
      "Skipped frame 19431\n",
      "Skipped frame 19434\n",
      "Skipped frame 19437\n",
      "Skipped frame 19440\n",
      "Skipped frame 19443\n",
      "Skipped frame 19446\n",
      "Skipped frame 19449\n",
      "Skipped frame 19452\n",
      "Skipped frame 19455\n",
      "Skipped frame 19458\n",
      "Skipped frame 19461\n",
      "Skipped frame 19464\n",
      "Skipped frame 19467\n",
      "Skipped frame 19470\n",
      "Skipped frame 19473\n",
      "Skipped frame 19476\n",
      "Skipped frame 19479\n",
      "Skipped frame 19482\n",
      "Skipped frame 19485\n",
      "Skipped frame 19488\n",
      "Skipped frame 19491\n",
      "Skipped frame 19494\n",
      "Skipped frame 19497\n",
      "Skipped frame 19500\n",
      "Skipped frame 19503\n",
      "Skipped frame 19506\n",
      "Skipped frame 19509\n",
      "Skipped frame 19512\n",
      "Skipped frame 19515\n",
      "Skipped frame 19518\n",
      "Skipped frame 19521\n",
      "Skipped frame 19524\n",
      "Skipped frame 19527\n",
      "Skipped frame 19530\n",
      "Skipped frame 19533\n",
      "Skipped frame 19536\n",
      "Skipped frame 19539\n",
      "Skipped frame 19542\n",
      "Skipped frame 19545\n",
      "Skipped frame 19548\n",
      "Skipped frame 19551\n",
      "Skipped frame 19554\n",
      "Skipped frame 19557\n",
      "Skipped frame 19560\n",
      "Skipped frame 19563\n",
      "Skipped frame 19566\n",
      "Skipped frame 19569\n",
      "Skipped frame 19572\n",
      "Skipped frame 19575\n",
      "Skipped frame 19578\n",
      "Skipped frame 19581\n",
      "Skipped frame 19584\n",
      "Skipped frame 19587\n",
      "Skipped frame 19590\n",
      "Skipped frame 19593\n",
      "Skipped frame 19596\n",
      "Skipped frame 19599\n",
      "Skipped frame 19602\n",
      "Skipped frame 19605\n",
      "Skipped frame 19608\n",
      "Skipped frame 19611\n",
      "Skipped frame 19614\n",
      "Skipped frame 19617\n",
      "Skipped frame 19620\n",
      "Skipped frame 19623\n",
      "Skipped frame 19626\n",
      "Skipped frame 19629\n",
      "Skipped frame 19632\n",
      "Skipped frame 19635\n",
      "Skipped frame 19638\n",
      "Skipped frame 19641\n",
      "Skipped frame 19644\n",
      "Skipped frame 19647\n",
      "Skipped frame 19650\n",
      "Skipped frame 19653\n",
      "Skipped frame 19656\n",
      "Skipped frame 19659\n",
      "Skipped frame 19662\n",
      "Skipped frame 19665\n",
      "Skipped frame 19668\n",
      "Skipped frame 19671\n",
      "Skipped frame 19674\n",
      "Skipped frame 19677\n",
      "Skipped frame 19680\n",
      "Skipped frame 19683\n",
      "Skipped frame 19686\n",
      "Skipped frame 19689\n",
      "Skipped frame 19692\n",
      "Skipped frame 19695\n",
      "Skipped frame 19698\n",
      "Skipped frame 19701\n",
      "Skipped frame 19704\n",
      "Skipped frame 19707\n",
      "Skipped frame 19710\n",
      "Skipped frame 19713\n",
      "Skipped frame 19716\n",
      "Skipped frame 19719\n",
      "Skipped frame 19722\n",
      "Skipped frame 19725\n",
      "Skipped frame 19728\n",
      "Skipped frame 19731\n",
      "Skipped frame 19734\n",
      "Skipped frame 19737\n",
      "Skipped frame 19740\n",
      "Skipped frame 19743\n",
      "Skipped frame 19746\n",
      "Skipped frame 19749\n",
      "Skipped frame 19752\n",
      "Skipped frame 19755\n",
      "Skipped frame 19758\n",
      "Skipped frame 19761\n",
      "Skipped frame 19764\n",
      "Skipped frame 19767\n",
      "Skipped frame 19770\n",
      "Skipped frame 19773\n",
      "Skipped frame 19776\n"
     ]
    },
    {
     "name": "stderr",
     "output_type": "stream",
     "text": [
      "Processing Frames:   1%|▋                                                                         | 4/399 [02:17<3:45:58, 34.32s/it]"
     ]
    },
    {
     "name": "stdout",
     "output_type": "stream",
     "text": [
      "Skipped frame 19779\n",
      "Start frame: 19781\tEnd Frame: 20231\n",
      "Skipped frame 19782\n",
      "Skipped frame 19785\n",
      "Skipped frame 19788\n",
      "Skipped frame 19791\n",
      "Skipped frame 19794\n",
      "Skipped frame 19797\n",
      "Skipped frame 19800\n",
      "Skipped frame 19803\n",
      "Skipped frame 19806\n",
      "Skipped frame 19809\n",
      "Skipped frame 19812\n",
      "Skipped frame 19815\n",
      "Skipped frame 19818\n",
      "Skipped frame 19821\n",
      "Skipped frame 19824\n",
      "Skipped frame 19827\n",
      "Skipped frame 19830\n",
      "Skipped frame 19833\n",
      "Skipped frame 19836\n",
      "Skipped frame 19839\n",
      "Skipped frame 19842\n",
      "Skipped frame 19845\n",
      "Skipped frame 19848\n",
      "Skipped frame 19851\n",
      "Skipped frame 19854\n",
      "Skipped frame 19857\n",
      "Skipped frame 19860\n",
      "Skipped frame 19863\n",
      "Skipped frame 19866\n",
      "Skipped frame 19869\n",
      "Skipped frame 19872\n",
      "Skipped frame 19875\n",
      "Skipped frame 19878\n",
      "Skipped frame 19881\n",
      "Skipped frame 19884\n",
      "Skipped frame 19887\n",
      "Skipped frame 19890\n",
      "Skipped frame 19893\n",
      "Skipped frame 19896\n",
      "Skipped frame 19899\n",
      "Skipped frame 19902\n",
      "Skipped frame 19905\n",
      "Skipped frame 19908\n",
      "Skipped frame 19911\n",
      "Skipped frame 19914\n",
      "Skipped frame 19917\n",
      "Skipped frame 19920\n",
      "Skipped frame 19923\n"
     ]
    },
    {
     "name": "stderr",
     "output_type": "stream",
     "text": [
      "Processing Frames:   1%|▉                                                                         | 5/399 [03:19<4:51:11, 44.34s/it]"
     ]
    },
    {
     "name": "stdout",
     "output_type": "stream",
     "text": [
      "Start frame: 20231\tEnd Frame: 20681\n"
     ]
    },
    {
     "name": "stderr",
     "output_type": "stream",
     "text": [
      "Processing Frames:   2%|█                                                                         | 6/399 [04:45<6:23:10, 58.50s/it]"
     ]
    },
    {
     "name": "stdout",
     "output_type": "stream",
     "text": [
      "Start frame: 20681\tEnd Frame: 21131\n"
     ]
    },
    {
     "name": "stderr",
     "output_type": "stream",
     "text": [
      "Processing Frames:   2%|█▎                                                                        | 7/399 [06:11<7:21:15, 67.54s/it]"
     ]
    },
    {
     "name": "stdout",
     "output_type": "stream",
     "text": [
      "Start frame: 21131\tEnd Frame: 21581\n"
     ]
    },
    {
     "name": "stderr",
     "output_type": "stream",
     "text": [
      "Processing Frames:   2%|█▍                                                                        | 8/399 [07:15<7:12:13, 66.33s/it]"
     ]
    },
    {
     "name": "stdout",
     "output_type": "stream",
     "text": [
      "Start frame: 21581\tEnd Frame: 22031\n"
     ]
    },
    {
     "name": "stderr",
     "output_type": "stream",
     "text": [
      "Processing Frames:   2%|█▋                                                                        | 9/399 [08:20<7:08:58, 66.00s/it]"
     ]
    },
    {
     "name": "stdout",
     "output_type": "stream",
     "text": [
      "Start frame: 22031\tEnd Frame: 22481\n"
     ]
    },
    {
     "name": "stderr",
     "output_type": "stream",
     "text": [
      "Processing Frames:   3%|█▊                                                                       | 10/399 [09:28<7:12:10, 66.66s/it]"
     ]
    },
    {
     "name": "stdout",
     "output_type": "stream",
     "text": [
      "Start frame: 22481\tEnd Frame: 22931\n"
     ]
    },
    {
     "name": "stderr",
     "output_type": "stream",
     "text": [
      "Processing Frames:   3%|██                                                                       | 11/399 [10:34<7:09:47, 66.46s/it]"
     ]
    },
    {
     "name": "stdout",
     "output_type": "stream",
     "text": [
      "Start frame: 22931\tEnd Frame: 23381\n"
     ]
    },
    {
     "name": "stderr",
     "output_type": "stream",
     "text": [
      "Processing Frames:   3%|██▏                                                                      | 12/399 [11:48<7:22:11, 68.56s/it]"
     ]
    },
    {
     "name": "stdout",
     "output_type": "stream",
     "text": [
      "Start frame: 23381\tEnd Frame: 23831\n"
     ]
    },
    {
     "name": "stderr",
     "output_type": "stream",
     "text": [
      "Processing Frames:   3%|██▍                                                                      | 13/399 [13:12<7:51:15, 73.25s/it]"
     ]
    },
    {
     "name": "stdout",
     "output_type": "stream",
     "text": [
      "Start frame: 23831\tEnd Frame: 24281\n"
     ]
    },
    {
     "name": "stderr",
     "output_type": "stream",
     "text": [
      "Processing Frames:   4%|██▌                                                                      | 14/399 [14:37<8:14:31, 77.07s/it]"
     ]
    },
    {
     "name": "stdout",
     "output_type": "stream",
     "text": [
      "Start frame: 24281\tEnd Frame: 24731\n"
     ]
    },
    {
     "name": "stderr",
     "output_type": "stream",
     "text": [
      "Processing Frames:   4%|██▋                                                                      | 15/399 [15:58<8:19:22, 78.03s/it]"
     ]
    },
    {
     "name": "stdout",
     "output_type": "stream",
     "text": [
      "Start frame: 24731\tEnd Frame: 25181\n"
     ]
    },
    {
     "name": "stderr",
     "output_type": "stream",
     "text": [
      "Processing Frames:   4%|██▉                                                                      | 16/399 [17:17<8:20:44, 78.45s/it]"
     ]
    },
    {
     "name": "stdout",
     "output_type": "stream",
     "text": [
      "Start frame: 25181\tEnd Frame: 25631\n"
     ]
    },
    {
     "name": "stderr",
     "output_type": "stream",
     "text": [
      "Processing Frames:   4%|███                                                                      | 17/399 [18:47<8:41:10, 81.86s/it]"
     ]
    },
    {
     "name": "stdout",
     "output_type": "stream",
     "text": [
      "Start frame: 25631\tEnd Frame: 26081\n"
     ]
    },
    {
     "name": "stderr",
     "output_type": "stream",
     "text": [
      "Processing Frames:   5%|███▎                                                                     | 18/399 [20:25<9:10:41, 86.72s/it]"
     ]
    },
    {
     "name": "stdout",
     "output_type": "stream",
     "text": [
      "Start frame: 26081\tEnd Frame: 26531\n"
     ]
    },
    {
     "name": "stderr",
     "output_type": "stream",
     "text": [
      "Processing Frames:   5%|███▍                                                                     | 19/399 [21:40<8:47:41, 83.32s/it]"
     ]
    },
    {
     "name": "stdout",
     "output_type": "stream",
     "text": [
      "Start frame: 26531\tEnd Frame: 26981\n"
     ]
    },
    {
     "name": "stderr",
     "output_type": "stream",
     "text": [
      "Processing Frames:   5%|███▋                                                                     | 20/399 [22:48<8:15:43, 78.48s/it]"
     ]
    },
    {
     "name": "stdout",
     "output_type": "stream",
     "text": [
      "Start frame: 26981\tEnd Frame: 27431\n"
     ]
    },
    {
     "name": "stderr",
     "output_type": "stream",
     "text": [
      "Processing Frames:   5%|███▊                                                                     | 21/399 [24:12<8:24:57, 80.15s/it]"
     ]
    },
    {
     "name": "stdout",
     "output_type": "stream",
     "text": [
      "Start frame: 27431\tEnd Frame: 27881\n",
      "Start frame: 27881\tEnd Frame: 28331\n"
     ]
    },
    {
     "name": "stderr",
     "output_type": "stream",
     "text": [
      "Processing Frames:   6%|████▏                                                                    | 23/399 [25:41<6:40:13, 63.87s/it]"
     ]
    },
    {
     "name": "stdout",
     "output_type": "stream",
     "text": [
      "Start frame: 28331\tEnd Frame: 28781\n"
     ]
    },
    {
     "name": "stderr",
     "output_type": "stream",
     "text": [
      "Processing Frames:   6%|████▍                                                                    | 24/399 [27:07<7:12:19, 69.17s/it]"
     ]
    },
    {
     "name": "stdout",
     "output_type": "stream",
     "text": [
      "Start frame: 28781\tEnd Frame: 29231\n"
     ]
    },
    {
     "name": "stderr",
     "output_type": "stream",
     "text": [
      "Processing Frames:   6%|████▌                                                                    | 25/399 [28:26<7:28:29, 71.95s/it]"
     ]
    },
    {
     "name": "stdout",
     "output_type": "stream",
     "text": [
      "Start frame: 29231\tEnd Frame: 29681\n"
     ]
    },
    {
     "name": "stderr",
     "output_type": "stream",
     "text": [
      "Processing Frames:   7%|████▊                                                                    | 26/399 [29:59<8:01:28, 77.45s/it]"
     ]
    },
    {
     "name": "stdout",
     "output_type": "stream",
     "text": [
      "Start frame: 29681\tEnd Frame: 30131\n"
     ]
    },
    {
     "name": "stderr",
     "output_type": "stream",
     "text": [
      "Processing Frames:   7%|████▉                                                                    | 27/399 [31:30<8:24:08, 81.31s/it]"
     ]
    },
    {
     "name": "stdout",
     "output_type": "stream",
     "text": [
      "Start frame: 30131\tEnd Frame: 30581\n"
     ]
    },
    {
     "name": "stderr",
     "output_type": "stream",
     "text": [
      "Processing Frames:   7%|█████                                                                    | 28/399 [32:44<8:09:36, 79.18s/it]"
     ]
    },
    {
     "name": "stdout",
     "output_type": "stream",
     "text": [
      "Start frame: 30581\tEnd Frame: 31031\n",
      "Start frame: 31031\tEnd Frame: 31481\n"
     ]
    },
    {
     "name": "stderr",
     "output_type": "stream",
     "text": [
      "Processing Frames:   8%|█████▍                                                                   | 30/399 [34:29<6:53:28, 67.23s/it]"
     ]
    },
    {
     "name": "stdout",
     "output_type": "stream",
     "text": [
      "Start frame: 31481\tEnd Frame: 31931\n"
     ]
    },
    {
     "name": "stderr",
     "output_type": "stream",
     "text": [
      "Processing Frames:   8%|█████▋                                                                   | 31/399 [35:43<7:02:59, 68.97s/it]"
     ]
    },
    {
     "name": "stdout",
     "output_type": "stream",
     "text": [
      "Start frame: 31931\tEnd Frame: 32381\n",
      "Start frame: 32381\tEnd Frame: 32831\n"
     ]
    },
    {
     "name": "stderr",
     "output_type": "stream",
     "text": [
      "Processing Frames:   8%|██████                                                                   | 33/399 [37:07<5:52:37, 57.81s/it]"
     ]
    },
    {
     "name": "stdout",
     "output_type": "stream",
     "text": [
      "Start frame: 32831\tEnd Frame: 33281\n"
     ]
    },
    {
     "name": "stderr",
     "output_type": "stream",
     "text": [
      "Processing Frames:   9%|██████▏                                                                  | 34/399 [38:32<6:29:08, 63.97s/it]"
     ]
    },
    {
     "name": "stdout",
     "output_type": "stream",
     "text": [
      "Start frame: 33281\tEnd Frame: 33731\n"
     ]
    }
   ],
   "source": [
    "\n",
    "face_index_sample_resolution = 15 # seconds\n",
    "skip_every__frames = 3\n",
    "# to improve performance, we first build an index of every 15 seconds that tells us whether that frame had a face.\n",
    "# next, we only process interfavals of 15 seconds which started and/or ended with a frame which had a face\n",
    "# this avoids processing areas with no faces\n",
    "\n",
    "num_faces_index = {} # frame_index --> number of faces\n",
    "\n",
    "def process_frame(frame_ref: dbops.Frame, frame_array=None):\n",
    "\n",
    "    if frame_array is None:\n",
    "        frame_array = np.array(frame_ref.get_frame_image())\n",
    "\n",
    "    frame_ref.compute_frame()\n",
    "    \n",
    "    # Detect faces\n",
    "    with torch.no_grad():\n",
    "        aligned_faces, boxes, scores, landmarks = face_detector.detect_align(frame_array)\n",
    "\n",
    "        num_faces = len(aligned_faces)\n",
    "        frame_ref.set_num_faces(num_faces)\n",
    "        \n",
    "        num_faces_index[frame_ref.frame_index] = num_faces\n",
    "    \n",
    "        # Recognize facial expression (happy, sad, angry, etc.)\n",
    "        # emotions, probab = emotion_detector.detect_emotion(faces)\n",
    "        if num_faces>0:\n",
    "            aligned_faces = aligned_faces.permute(0, 3, 1, 2)\n",
    "            aligned_faces = aligned_faces.float().div(255).cuda()\n",
    "            \n",
    "            # should this be softmaxxed?\n",
    "            \n",
    "            emotion_vectors = torch.softmax(emotion_detector.model(aligned_faces), dim=1).cpu().numpy()\n",
    "\n",
    "            for i, (aligned_face, emotion_vector, landmark) in enumerate(zip(aligned_faces.permute(0, 2, 3, 1).cpu().numpy(), emotion_vectors, landmarks.cpu().numpy())):\n",
    "                face = dbops.Face.add_face(imdb_id, frame_idx, i)\n",
    "                face.set_face_image_aligned(Image.fromarray(cv2.cvtColor(aligned_face*255, cv2.COLOR_BGR2RGB).clip(0, 255).astype(np.uint8)))\n",
    "                face.set_facial_landmarks(landmarks)\n",
    "                face.set_emotion_embedding(emotion_vector)\n",
    "                face.compute_face()\n",
    "        # else:\n",
    "        #     print(f'No faces found in frame {frame_idx}')\n",
    "\n",
    "\n",
    "for movie_ref in dbops.Movie.iterate_all_movies():\n",
    "    imdb_id = movie_ref.get_imdb_id()\n",
    "    title = movie_ref.get_title()\n",
    "    file_path = movie_ref.get_file_path()\n",
    "    \n",
    "    print(f'Now Processing: {title}')\n",
    "\n",
    "    video_stream = cv2.VideoCapture(file_path)\n",
    "\n",
    "    if not video_stream.isOpened():\n",
    "        print(f\"Error: Could not open video {file_path}\")\n",
    "    \n",
    "    fps = video_stream.get(cv2.CAP_PROP_FPS)       # frames per second\n",
    "\n",
    "    offset_minutes = 10\n",
    "    offset_in_frames = int(offset_minutes * 60 * fps)\n",
    "    video_stream.set(cv2.CAP_PROP_POS_FRAMES, offset_in_frames)\n",
    "    \n",
    "    # --- PROCESS next 5 minutes of frames ---\n",
    "    total_frames = int(video_stream.get(cv2.CAP_PROP_FRAME_COUNT))\n",
    "    frames_to_process = total_frames - int(5 * 60 * fps)  # 5 minutes = 300 seconds\n",
    "    \n",
    "    # Ensure we don't exceed the total number of frames\n",
    "    upper_frame_limit = offset_in_frames + frames_to_process\n",
    "    if upper_frame_limit > total_frames:\n",
    "        upper_frame_limit = total_frames\n",
    "    \n",
    "    print(f\"Starting from minute {offset_minutes}, processing up to minute {(upper_frame_limit / 60 / fps):02f}\")\n",
    "\n",
    "    print(f'Building num_faces index of frames from every {face_index_sample_resolution} seconds')\n",
    "\n",
    "    for frame_idx in tqdm(range(offset_in_frames, upper_frame_limit, int(math.ceil(face_index_sample_resolution * fps))), desc='Building Index'):\n",
    "        frame_ref = dbops.Frame(imdb_id, frame_idx)\n",
    "        video_stream.set(cv2.CAP_PROP_POS_FRAMES, frame_idx)\n",
    "        ret, frame = video_stream.read()\n",
    "\n",
    "        if not ret:\n",
    "            print(f\"Error: Could not read frame: {frame_idx}\")\n",
    "            continue\n",
    "\n",
    "        # looks hackey but this avoids worring about caching the whole movie somewhere.\n",
    "        # instead, the movie is streamed right here, and then we get rid of it after\n",
    "        frame_ref.frame_image = Image.fromarray(cv2.cvtColor(frame, cv2.COLOR_BGR2RGB))\n",
    "        \n",
    "        process_frame(frame_ref, frame)\n",
    "        \n",
    "        del frame_ref\n",
    "\n",
    "    print('Processing facial scenes')\n",
    "\n",
    "    video_stream.set(cv2.CAP_PROP_POS_FRAMES, offset_in_frames) # restart video\n",
    "    \n",
    "    indexed_frames = list(sorted(num_faces_index.keys()))\n",
    "    for i in tqdm(range(len(indexed_frames)-1), desc='Processing Frames'):\n",
    "        \n",
    "        start_frame = indexed_frames[i]\n",
    "        end_frame =   indexed_frames[i+1]\n",
    "        print(f'Start frame: {start_frame}\\tEnd Frame: {end_frame}')\n",
    "        \n",
    "        if num_faces_index[start_frame] > 0 or num_faces_index[end_frame] > 0:\n",
    "            \n",
    "            for frame_idx in range(start_frame, end_frame):\n",
    "                if frame_idx%skip_every__frames!=0:\n",
    "                    continue\n",
    "        \n",
    "                frame_ref = dbops.Frame(imdb_id, frame_idx)\n",
    "        \n",
    "                if frame_ref.is_fully_cached():\n",
    "                    print(f'Skipped frame {frame_idx}')\n",
    "                    continue\n",
    "\n",
    "                video_stream.set(cv2.CAP_PROP_POS_FRAMES, frame_idx)\n",
    "                ret, frame = video_stream.read()\n",
    "        \n",
    "                if not ret:\n",
    "                    print(f\"Error: Could not read frame: {frame_idx}\")\n",
    "                    continue\n",
    "        \n",
    "                # looks hackey but this avoids worring about caching the whole movie somewhere.\n",
    "                # instead, the movie is streamed right here, and then we get rid of it after\n",
    "                frame_ref.frame_image = Image.fromarray(cv2.cvtColor(frame, cv2.COLOR_BGR2RGB))\n",
    "                \n",
    "                process_frame(frame_ref, frame)\n",
    "                \n",
    "                del frame_ref\n",
    "\n",
    "    video_stream.release()\n",
    "print(\"Processing complete!\")\n"
   ]
  },
  {
   "cell_type": "code",
   "execution_count": 59,
   "id": "6cf53251-4638-4ca6-a4d0-9a53c7cadee1",
   "metadata": {
    "editable": true,
    "slideshow": {
     "slide_type": ""
    },
    "tags": []
   },
   "outputs": [
    {
     "name": "stdout",
     "output_type": "stream",
     "text": [
      "214K\tmovies.db\n",
      "189K\tomdb\n",
      "1.9G\timages\n",
      "23G\tdata\n",
      "15G\ttmp\n"
     ]
    }
   ],
   "source": [
    "!du -sh movies.db omdb images data tmp"
   ]
  },
  {
   "cell_type": "code",
   "execution_count": null,
   "id": "535cb5a2-6515-4d88-8192-7d446b07f1c4",
   "metadata": {},
   "outputs": [],
   "source": []
  }
 ],
 "metadata": {
  "kernelspec": {
   "display_name": "Python 3 (ipykernel)",
   "language": "python",
   "name": "python3"
  },
  "language_info": {
   "codemirror_mode": {
    "name": "ipython",
    "version": 3
   },
   "file_extension": ".py",
   "mimetype": "text/x-python",
   "name": "python",
   "nbconvert_exporter": "python",
   "pygments_lexer": "ipython3",
   "version": "3.8.5"
  }
 },
 "nbformat": 4,
 "nbformat_minor": 5
}
