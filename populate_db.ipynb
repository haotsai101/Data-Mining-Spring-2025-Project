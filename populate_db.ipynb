{
 "cells": [
  {
   "cell_type": "code",
   "execution_count": 7,
   "id": "c8968c3b-62c6-46da-9d6b-a1e4948ba5be",
   "metadata": {},
   "outputs": [
    {
     "name": "stdout",
     "output_type": "stream",
     "text": [
      "from EmotionDetector: weights loaded\n"
     ]
    }
   ],
   "source": [
    "import importlib\n",
    "import dbops  # Replace with your module name"
   ]
  },
  {
   "cell_type": "code",
   "execution_count": 26,
   "id": "bb0b7761-cf63-43df-bf11-197a898fd742",
   "metadata": {},
   "outputs": [
    {
     "name": "stdout",
     "output_type": "stream",
     "text": [
      "from EmotionDetector: weights loaded\n"
     ]
    },
    {
     "data": {
      "text/plain": [
       "<module 'dbops' from '/scratch/u1319464/Data-Mining-Spring-2025-Project/dbops.py'>"
      ]
     },
     "execution_count": 26,
     "metadata": {},
     "output_type": "execute_result"
    }
   ],
   "source": [
    "importlib.reload(dbops)  # Reload the module from source"
   ]
  },
  {
   "cell_type": "code",
   "execution_count": 27,
   "id": "a4aa9118-11b2-4160-bf13-4c4b01e62431",
   "metadata": {},
   "outputs": [
    {
     "name": "stdout",
     "output_type": "stream",
     "text": [
      "Bishops Wife 1947.mp4\n",
      "Day the Earth Stood Still 1951.mp4\n",
      "Dracula 1931.mp4\n",
      "Earth vs the Flying Saucers color.mp4\n",
      "Fight.Club.10th.Anniversary.Edition.1999.1080p.BrRip.x264.YIFY.mp4\n",
      "Frankenstein 1931 colorized.mp4\n",
      "Hellhole.1985.1080p.BluRay.H264.AAC-RARBG.mp4\n",
      "Invasion of the Body Snatchers.mp4\n",
      "Invisible Man 1933.mp4\n",
      "It Came from Outer Space 1953 colorized.mp4\n",
      "Kronos 1957 colorized.mp4\n",
      "Natural Born Killer A.mp4\n",
      "Natural Born Killer B.mp4\n",
      "Sahara 1943.mp4\n",
      "Tarantula 1955 colorized.mp4\n",
      "Taxi Driver A.mp4\n",
      "Taxi Driver B.mp4\n",
      "The Matrix (1999) [OPEN MATTE] [WEB-DL 1080p 10bit DD5.1 x265].mp4\n",
      "Wolf Man 1941.mp4\n"
     ]
    }
   ],
   "source": [
    "!ls data | grep -v \"Dragon Ball\""
   ]
  },
  {
   "cell_type": "code",
   "execution_count": 28,
   "id": "6b6dbc70-bcf5-423f-9a02-78cd89fbb9ea",
   "metadata": {},
   "outputs": [
    {
     "data": {
      "text/plain": [
       "{'./data/Bishops Wife 1947.mp4',\n",
       " './data/Day the Earth Stood Still 1951.mp4',\n",
       " './data/Dracula 1931.mp4',\n",
       " './data/Earth vs the Flying Saucers color.mp4',\n",
       " './data/Fight.Club.10th.Anniversary.Edition.1999.1080p.BrRip.x264.YIFY.mp4',\n",
       " './data/Frankenstein 1931 colorized.mp4',\n",
       " './data/Hellhole.1985.1080p.BluRay.H264.AAC-RARBG.mp4',\n",
       " './data/Invasion of the Body Snatchers.mp4',\n",
       " './data/Invisible Man 1933.mp4',\n",
       " './data/It Came from Outer Space 1953 colorized.mp4',\n",
       " './data/Kronos 1957 colorized.mp4',\n",
       " './data/Natural Born Killer A.mp4',\n",
       " './data/Natural Born Killer B.mp4',\n",
       " './data/Sahara 1943.mp4',\n",
       " './data/Tarantula 1955 colorized.mp4',\n",
       " './data/Taxi Driver A.mp4',\n",
       " './data/Taxi Driver B.mp4',\n",
       " './data/The Matrix (1999) [OPEN MATTE] [WEB-DL 1080p 10bit DD5.1 x265].mp4',\n",
       " './data/Wolf Man 1941.mp4'}"
      ]
     },
     "execution_count": 28,
     "metadata": {},
     "output_type": "execute_result"
    }
   ],
   "source": [
    "set(glob.glob('./data/*mp4')) - set(glob.glob('./data/Dragon Ball*mp4'))"
   ]
  },
  {
   "cell_type": "code",
   "execution_count": 29,
   "id": "1ed862de-c56a-4e0c-8d37-fd4dc4e0eaa8",
   "metadata": {},
   "outputs": [],
   "source": [
    "import glob\n",
    "for file_path in (set(glob.glob('./data/*mp4')) - set(glob.glob('./data/Dragon Ball*mp4'))):\n",
    "    title = file_path.replace('./data/', '').replace('.mp4', '')\n",
    "    omdb_data = dbops.omdb.get_movie_data(title)\n",
    "    if omdb_data!=None:\n",
    "        dbops.Movie.add_movie_from_omdb_data(file_path, omdb_data)"
   ]
  },
  {
   "cell_type": "code",
   "execution_count": 30,
   "id": "3d620fcd-6c8f-4a06-af81-fd06486e6048",
   "metadata": {},
   "outputs": [],
   "source": [
    "\n",
    "# Earth vs the Flying Saucers color\n",
    "dbops.Movie.add_movie_from_omdb_data('./data/Earth vs the Flying Saucers color.mp4', dbops.omdb.get_movie_data(identifier='tt0049169', is_imdb_id=True))\n",
    "\n",
    "# Wolf Man 1941\n",
    "dbops.Movie.add_movie_from_omdb_data('./data/Wolf Man 1941.mp4', dbops.omdb.get_movie_data(identifier='tt0034398', is_imdb_id=True))\n",
    "\n",
    "# Dracula 1931\n",
    "dbops.Movie.add_movie_from_omdb_data('./data/Dracula 1931.mp4', dbops.omdb.get_movie_data(identifier='tt0021814', is_imdb_id=True))\n",
    "\n",
    "# Taxi Driver A\n",
    "dbops.Movie.add_movie_from_omdb_data('./data/Taxi Driver A.mp4', dbops.omdb.get_movie_data(identifier='tt0075314', is_imdb_id=True))\n",
    "# Taxi Driver B\n",
    "# dbops.Movie.add_movie_from_omdb_data('./data/Earth vs the Flying Saucers color.mp4', dbops.omdb.get_movie_data(identifier='tt0075314', is_imdb_id=True)\n",
    "\n",
    "# Natural Born Killer A\n",
    "dbops.Movie.add_movie_from_omdb_data('./data/Natural Born Killer A.mp4', dbops.omdb.get_movie_data(identifier='tt0110632', is_imdb_id=True))\n",
    "# Natural Born Killer B\n",
    "# dbops.omdb.get_movie_data(identifier='tt0110632', is_imdb_id=True)\n",
    "\n",
    "# Bishops Wife 1947\n",
    "dbops.Movie.add_movie_from_omdb_data('./data/Bishops Wife 1947.mp4', dbops.omdb.get_movie_data(identifier='tt0039190', is_imdb_id=True))\n",
    "\n",
    "# Kronos 1957 colorized\n",
    "dbops.Movie.add_movie_from_omdb_data('./data/Kronos 1957 colorized.mp4', dbops.omdb.get_movie_data(identifier='tt0050610', is_imdb_id=True))\n",
    "\n",
    "# Sahara 1943\n",
    "dbops.Movie.add_movie_from_omdb_data('./data/Sahara 1943.mp4', dbops.omdb.get_movie_data(identifier='tt0036323', is_imdb_id=True))\n",
    "\n",
    "# It Came from Outer Space 1953 colorized\n",
    "dbops.Movie.add_movie_from_omdb_data('./data/It Came from Outer Space 1953 colorized.mp4', dbops.omdb.get_movie_data(identifier='tt0045920', is_imdb_id=True))\n",
    "\n",
    "# Tarantula 1955 colorized\n",
    "dbops.Movie.add_movie_from_omdb_data('./data/Tarantula 1955 colorized.mp4', dbops.omdb.get_movie_data(identifier='tt0048696', is_imdb_id=True))\n",
    "\n",
    "# The Matrix (1999)\n",
    "dbops.Movie.add_movie_from_omdb_data('./data/The Matrix (1999) [OPEN MATTE] [WEB-DL 1080p 10bit DD5.1 x265].mp4', dbops.omdb.get_movie_data(identifier='tt0133093', is_imdb_id=True))\n",
    "\n",
    "# Frankenstein 1931 colorized\n",
    "dbops.Movie.add_movie_from_omdb_data('./data/Frankenstein 1931 colorized.mp4', dbops.omdb.get_movie_data(identifier='tt0021884', is_imdb_id=True))\n",
    "\n",
    "# Hellhole.1985.1080p.BluRay.H264.AAC-RARBG\n",
    "dbops.Movie.add_movie_from_omdb_data('./data/Hellhole.1985.1080p.BluRay.H264.AAC-RARBG.mp4', dbops.omdb.get_movie_data(identifier='tt0089269', is_imdb_id=True))\n",
    "\n",
    "# Fight.Club.10th.Anniversary.Edition.1999.1080p.BrRip.x264.YIFY\n",
    "dbops.Movie.add_movie_from_omdb_data('./data/Fight.Club.10th.Anniversary.Edition.1999.1080p.BrRip.x264.YIFY.mp4', dbops.omdb.get_movie_data(identifier='tt0137523', is_imdb_id=True))\n",
    "\n",
    "# Day the Earth Stood Still 1951\n",
    "dbops.Movie.add_movie_from_omdb_data('./data/Day the Earth Stood Still 1951.mp4', dbops.omdb.get_movie_data(identifier='tt0043456', is_imdb_id=True))\n"
   ]
  }
 ],
 "metadata": {
  "kernelspec": {
   "display_name": "Python 3 (ipykernel)",
   "language": "python",
   "name": "python3"
  },
  "language_info": {
   "codemirror_mode": {
    "name": "ipython",
    "version": 3
   },
   "file_extension": ".py",
   "mimetype": "text/x-python",
   "name": "python",
   "nbconvert_exporter": "python",
   "pygments_lexer": "ipython3",
   "version": "3.8.5"
  }
 },
 "nbformat": 4,
 "nbformat_minor": 5
}
