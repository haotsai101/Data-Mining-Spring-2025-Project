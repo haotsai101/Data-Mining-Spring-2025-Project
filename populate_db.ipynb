{
 "cells": [
  {
   "cell_type": "code",
   "execution_count": 8,
   "id": "c8968c3b-62c6-46da-9d6b-a1e4948ba5be",
   "metadata": {},
   "outputs": [],
   "source": [
    "import importlib\n",
    "import dbops\n",
    "import cv2\n",
    "import time\n",
    "import numpy as np\n",
    "from tqdm import tqdm\n",
    "from PIL import Image\n",
    "\n",
    "import torch\n",
    "\n",
    "from facelib import FaceDetector, EmotionDetector\n",
    "import glob"
   ]
  },
  {
   "cell_type": "code",
   "execution_count": 35,
   "id": "bb0b7761-cf63-43df-bf11-197a898fd742",
   "metadata": {},
   "outputs": [
    {
     "name": "stdout",
     "output_type": "stream",
     "text": [
      "from EmotionDetector: weights loaded\n"
     ]
    },
    {
     "data": {
      "text/plain": [
       "<module 'dbops' from '/scratch/u1319464/Data-Mining-Spring-2025-Project/dbops.py'>"
      ]
     },
     "execution_count": 35,
     "metadata": {},
     "output_type": "execute_result"
    }
   ],
   "source": [
    "importlib.reload(dbops)  # Reload the module from source"
   ]
  },
  {
   "cell_type": "code",
   "execution_count": 27,
   "id": "a4aa9118-11b2-4160-bf13-4c4b01e62431",
   "metadata": {},
   "outputs": [
    {
     "name": "stdout",
     "output_type": "stream",
     "text": [
      "Bishops Wife 1947.mp4\n",
      "Day the Earth Stood Still 1951.mp4\n",
      "Dracula 1931.mp4\n",
      "Earth vs the Flying Saucers color.mp4\n",
      "Fight.Club.10th.Anniversary.Edition.1999.1080p.BrRip.x264.YIFY.mp4\n",
      "Frankenstein 1931 colorized.mp4\n",
      "Hellhole.1985.1080p.BluRay.H264.AAC-RARBG.mp4\n",
      "Invasion of the Body Snatchers.mp4\n",
      "Invisible Man 1933.mp4\n",
      "It Came from Outer Space 1953 colorized.mp4\n",
      "Kronos 1957 colorized.mp4\n",
      "Natural Born Killer A.mp4\n",
      "Natural Born Killer B.mp4\n",
      "Sahara 1943.mp4\n",
      "Tarantula 1955 colorized.mp4\n",
      "Taxi Driver A.mp4\n",
      "Taxi Driver B.mp4\n",
      "The Matrix (1999) [OPEN MATTE] [WEB-DL 1080p 10bit DD5.1 x265].mp4\n",
      "Wolf Man 1941.mp4\n"
     ]
    }
   ],
   "source": [
    "!ls data | grep -v \"Dragon Ball\""
   ]
  },
  {
   "cell_type": "code",
   "execution_count": 28,
   "id": "6b6dbc70-bcf5-423f-9a02-78cd89fbb9ea",
   "metadata": {},
   "outputs": [
    {
     "data": {
      "text/plain": [
       "{'./data/Bishops Wife 1947.mp4',\n",
       " './data/Day the Earth Stood Still 1951.mp4',\n",
       " './data/Dracula 1931.mp4',\n",
       " './data/Earth vs the Flying Saucers color.mp4',\n",
       " './data/Fight.Club.10th.Anniversary.Edition.1999.1080p.BrRip.x264.YIFY.mp4',\n",
       " './data/Frankenstein 1931 colorized.mp4',\n",
       " './data/Hellhole.1985.1080p.BluRay.H264.AAC-RARBG.mp4',\n",
       " './data/Invasion of the Body Snatchers.mp4',\n",
       " './data/Invisible Man 1933.mp4',\n",
       " './data/It Came from Outer Space 1953 colorized.mp4',\n",
       " './data/Kronos 1957 colorized.mp4',\n",
       " './data/Natural Born Killer A.mp4',\n",
       " './data/Natural Born Killer B.mp4',\n",
       " './data/Sahara 1943.mp4',\n",
       " './data/Tarantula 1955 colorized.mp4',\n",
       " './data/Taxi Driver A.mp4',\n",
       " './data/Taxi Driver B.mp4',\n",
       " './data/The Matrix (1999) [OPEN MATTE] [WEB-DL 1080p 10bit DD5.1 x265].mp4',\n",
       " './data/Wolf Man 1941.mp4'}"
      ]
     },
     "execution_count": 28,
     "metadata": {},
     "output_type": "execute_result"
    }
   ],
   "source": [
    "set(glob.glob('./data/*mp4')) - set(glob.glob('./data/Dragon Ball*mp4'))"
   ]
  },
  {
   "cell_type": "code",
   "execution_count": 29,
   "id": "1ed862de-c56a-4e0c-8d37-fd4dc4e0eaa8",
   "metadata": {},
   "outputs": [],
   "source": [
    "import glob\n",
    "for file_path in (set(glob.glob('./data/*mp4')) - set(glob.glob('./data/Dragon Ball*mp4'))):\n",
    "    title = file_path.replace('./data/', '').replace('.mp4', '')\n",
    "    omdb_data = dbops.omdb.get_movie_data(title)\n",
    "    if omdb_data!=None:\n",
    "        dbops.Movie.add_movie_from_omdb_data(file_path, omdb_data)"
   ]
  },
  {
   "cell_type": "code",
   "execution_count": 30,
   "id": "3d620fcd-6c8f-4a06-af81-fd06486e6048",
   "metadata": {},
   "outputs": [],
   "source": [
    "\n",
    "# Earth vs the Flying Saucers color\n",
    "dbops.Movie.add_movie_from_omdb_data('./data/Earth vs the Flying Saucers color.mp4', dbops.omdb.get_movie_data(identifier='tt0049169', is_imdb_id=True))\n",
    "\n",
    "# Wolf Man 1941\n",
    "dbops.Movie.add_movie_from_omdb_data('./data/Wolf Man 1941.mp4', dbops.omdb.get_movie_data(identifier='tt0034398', is_imdb_id=True))\n",
    "\n",
    "# Dracula 1931\n",
    "dbops.Movie.add_movie_from_omdb_data('./data/Dracula 1931.mp4', dbops.omdb.get_movie_data(identifier='tt0021814', is_imdb_id=True))\n",
    "\n",
    "# Taxi Driver A\n",
    "dbops.Movie.add_movie_from_omdb_data('./data/Taxi Driver A.mp4', dbops.omdb.get_movie_data(identifier='tt0075314', is_imdb_id=True))\n",
    "# Taxi Driver B\n",
    "# dbops.Movie.add_movie_from_omdb_data('./data/Earth vs the Flying Saucers color.mp4', dbops.omdb.get_movie_data(identifier='tt0075314', is_imdb_id=True)\n",
    "\n",
    "# Natural Born Killer A\n",
    "dbops.Movie.add_movie_from_omdb_data('./data/Natural Born Killer A.mp4', dbops.omdb.get_movie_data(identifier='tt0110632', is_imdb_id=True))\n",
    "# Natural Born Killer B\n",
    "# dbops.omdb.get_movie_data(identifier='tt0110632', is_imdb_id=True)\n",
    "\n",
    "# Bishops Wife 1947\n",
    "dbops.Movie.add_movie_from_omdb_data('./data/Bishops Wife 1947.mp4', dbops.omdb.get_movie_data(identifier='tt0039190', is_imdb_id=True))\n",
    "\n",
    "# Kronos 1957 colorized\n",
    "dbops.Movie.add_movie_from_omdb_data('./data/Kronos 1957 colorized.mp4', dbops.omdb.get_movie_data(identifier='tt0050610', is_imdb_id=True))\n",
    "\n",
    "# Sahara 1943\n",
    "dbops.Movie.add_movie_from_omdb_data('./data/Sahara 1943.mp4', dbops.omdb.get_movie_data(identifier='tt0036323', is_imdb_id=True))\n",
    "\n",
    "# It Came from Outer Space 1953 colorized\n",
    "dbops.Movie.add_movie_from_omdb_data('./data/It Came from Outer Space 1953 colorized.mp4', dbops.omdb.get_movie_data(identifier='tt0045920', is_imdb_id=True))\n",
    "\n",
    "# Tarantula 1955 colorized\n",
    "dbops.Movie.add_movie_from_omdb_data('./data/Tarantula 1955 colorized.mp4', dbops.omdb.get_movie_data(identifier='tt0048696', is_imdb_id=True))\n",
    "\n",
    "# The Matrix (1999)\n",
    "dbops.Movie.add_movie_from_omdb_data('./data/The Matrix (1999) [OPEN MATTE] [WEB-DL 1080p 10bit DD5.1 x265].mp4', dbops.omdb.get_movie_data(identifier='tt0133093', is_imdb_id=True))\n",
    "\n",
    "# Frankenstein 1931 colorized\n",
    "dbops.Movie.add_movie_from_omdb_data('./data/Frankenstein 1931 colorized.mp4', dbops.omdb.get_movie_data(identifier='tt0021884', is_imdb_id=True))\n",
    "\n",
    "# Hellhole.1985.1080p.BluRay.H264.AAC-RARBG\n",
    "dbops.Movie.add_movie_from_omdb_data('./data/Hellhole.1985.1080p.BluRay.H264.AAC-RARBG.mp4', dbops.omdb.get_movie_data(identifier='tt0089269', is_imdb_id=True))\n",
    "\n",
    "# Fight.Club.10th.Anniversary.Edition.1999.1080p.BrRip.x264.YIFY\n",
    "dbops.Movie.add_movie_from_omdb_data('./data/Fight.Club.10th.Anniversary.Edition.1999.1080p.BrRip.x264.YIFY.mp4', dbops.omdb.get_movie_data(identifier='tt0137523', is_imdb_id=True))\n",
    "\n",
    "# Day the Earth Stood Still 1951\n",
    "dbops.Movie.add_movie_from_omdb_data('./data/Day the Earth Stood Still 1951.mp4', dbops.omdb.get_movie_data(identifier='tt0043456', is_imdb_id=True))\n"
   ]
  },
  {
   "cell_type": "code",
   "execution_count": 36,
   "id": "09b31e47-9e6f-4b8d-ac31-07e064889684",
   "metadata": {},
   "outputs": [
    {
     "data": {
      "text/plain": [
       "('The Invisible Man (1933)', './data/Invisible Man 1933.mp4', '25 Sep 2018')"
      ]
     },
     "execution_count": 36,
     "metadata": {},
     "output_type": "execute_result"
    }
   ],
   "source": [
    "movie = dbops.Movie('tt15439366')\n",
    "movie.get_title(), movie.get_file_path(), movie.get_date_created()"
   ]
  },
  {
   "cell_type": "code",
   "execution_count": 4,
   "id": "f087fa23-a5a9-4dc7-be0a-0f9ca9f91474",
   "metadata": {},
   "outputs": [
    {
     "name": "stdout",
     "output_type": "stream",
     "text": [
      "from EmotionDetector: weights loaded\n"
     ]
    }
   ],
   "source": [
    "\n",
    "face_detector = FaceDetector()\n",
    "emotion_detector = EmotionDetector()\n"
   ]
  },
  {
   "cell_type": "code",
   "execution_count": null,
   "id": "ec582945-5c0f-4fb2-9cb5-61af01b3f6b4",
   "metadata": {},
   "outputs": [
    {
     "name": "stdout",
     "output_type": "stream",
     "text": [
      "Starting from 10 min, processing up to 110.096760 min\n",
      "Now Processing: The Bishop's Wife\n"
     ]
    },
    {
     "name": "stderr",
     "output_type": "stream",
     "text": [
      "Processing Frames:  34%|██████████████████████▎                                          | 61663/179984 [6:12:54<6:48:31,  4.83it/s]IOPub message rate exceeded.\n",
      "The Jupyter server will temporarily stop sending output\n",
      "to the client in order to avoid crashing it.\n",
      "To change this limit, set the config variable\n",
      "`--ServerApp.iopub_msg_rate_limit`.\n",
      "\n",
      "Current values:\n",
      "ServerApp.iopub_msg_rate_limit=1000.0 (msgs/sec)\n",
      "ServerApp.rate_limit_window=3.0 (secs)\n",
      "\n"
     ]
    }
   ],
   "source": [
    "cursor = dbops.conn.cursor()\n",
    "cursor.execute(\"SELECT imdb_id, file_path, title FROM movie\")\n",
    "for (imdb_id, file_path, title) in cursor.fetchall():\n",
    "\n",
    "    video_stream = cv2.VideoCapture(file_path)\n",
    "\n",
    "    if not video_stream.isOpened():\n",
    "        print(f\"Error: Could not open video {file_path}\")\n",
    "    \n",
    "    fps = video_stream.get(cv2.CAP_PROP_FPS)       # frames per second\n",
    "\n",
    "    offset_minutes = 10\n",
    "    offset_in_frames = int(offset_minutes * 60 * fps)\n",
    "    video_stream.set(cv2.CAP_PROP_POS_FRAMES, offset_in_frames)\n",
    "    \n",
    "    # --- PROCESS next 5 minutes of frames ---\n",
    "    total_frames = int(video_stream.get(cv2.CAP_PROP_FRAME_COUNT))\n",
    "    frames_to_process = total_frames - int(5 * 60 * fps)  # 5 minutes = 300 seconds\n",
    "    \n",
    "    # Ensure we don't exceed the total number of frames\n",
    "    upper_frame_limit = offset_in_frames + frames_to_process\n",
    "    if upper_frame_limit > total_frames:\n",
    "        upper_frame_limit = total_frames\n",
    "    \n",
    "    print(f\"Starting from minute {offset_minutes}, processing up to minute {(upper_frame_limit / 60 / fps):02f}\")\n",
    "\n",
    "    print(f'Now Processing: {title}')\n",
    "    \n",
    "    for frame_idx in tqdm(range(offset_in_frames, upper_frame_limit), desc='Processing Frames'):\n",
    "        if frame_idx%2==0: # skip every other frame for quick testing\n",
    "            continue\n",
    "        \n",
    "        ret, frame = video_stream.read()\n",
    "        \n",
    "        if not ret:\n",
    "            print(\"Error: Could not read frame.\")\n",
    "            break\n",
    "\n",
    "        frame_ref = dbops.Frame.add_frame(imdb_id, frame_idx)\n",
    "        frame_ref.compute_frame(frame)\n",
    "    \n",
    "        # Detect faces\n",
    "        with torch.no_grad():\n",
    "            aligned_faces, boxes, scores, landmarks = face_detector.detect_align(frame)\n",
    "        \n",
    "            # Recognize facial expression (happy, sad, angry, etc.)\n",
    "            # emotions, probab = emotion_detector.detect_emotion(faces)\n",
    "            if len(aligned_faces)>0:\n",
    "                aligned_faces = aligned_faces.permute(0, 3, 1, 2)\n",
    "                aligned_faces = aligned_faces.float().div(255).cuda()\n",
    "                \n",
    "                # should this be softmaxxed?\n",
    "                \n",
    "                emotion_vectors = torch.softmax(emotion_detector.model(aligned_faces), dim=1).cpu().numpy()\n",
    "    \n",
    "                for i, (aligned_face, emotion_vector, landmark) in enumerate(zip(aligned_faces.permute(0, 2, 3, 1).cpu().numpy(), emotion_vectors, landmarks.cpu().numpy())):\n",
    "                    face = dbops.Face.add_face(imdb_id, frame_idx, i)\n",
    "                    face.set_face_image_aligned(Image.fromarray(cv2.cvtColor(aligned_face*255, cv2.COLOR_BGR2RGB).clip(0, 255).astype(np.uint8)))\n",
    "                    face.set_facial_landmarks(landmarks)\n",
    "                    face.set_emotion_embedding(emotion_vector)\n",
    "                    face.compute_face()\n",
    "    \n",
    "    video_stream.release()\n",
    "print(\"Processing complete!\")\n"
   ]
  },
  {
   "cell_type": "code",
   "execution_count": 1,
   "id": "6cf53251-4638-4ca6-a4d0-9a53c7cadee1",
   "metadata": {},
   "outputs": [
    {
     "name": "stdout",
     "output_type": "stream",
     "text": [
      "16M\tmovies.db\n",
      "180K\tomdb\n",
      "1.8G\timages\n",
      "23G\tdata\n",
      "15G\ttmp\n"
     ]
    }
   ],
   "source": [
    "!du -sh movies.db omdb images data tmp"
   ]
  },
  {
   "cell_type": "code",
   "execution_count": null,
   "id": "ebd91ce3-f03a-417c-8263-13b930abdc4d",
   "metadata": {},
   "outputs": [],
   "source": []
  }
 ],
 "metadata": {
  "kernelspec": {
   "display_name": "Python 3 (ipykernel)",
   "language": "python",
   "name": "python3"
  },
  "language_info": {
   "codemirror_mode": {
    "name": "ipython",
    "version": 3
   },
   "file_extension": ".py",
   "mimetype": "text/x-python",
   "name": "python",
   "nbconvert_exporter": "python",
   "pygments_lexer": "ipython3",
   "version": "3.8.5"
  }
 },
 "nbformat": 4,
 "nbformat_minor": 5
}
