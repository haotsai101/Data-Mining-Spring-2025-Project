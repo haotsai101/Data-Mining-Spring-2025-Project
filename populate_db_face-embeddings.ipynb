{
 "cells": [
  {
   "cell_type": "code",
   "execution_count": 1,
   "id": "6840af13-9e46-487c-8ce2-205db9809321",
   "metadata": {},
   "outputs": [
    {
     "name": "stderr",
     "output_type": "stream",
     "text": [
      "/scratch/u1319464/miniforge3/envs/ds4150-faces/lib/python3.8/site-packages/tqdm/auto.py:21: TqdmWarning: IProgress not found. Please update jupyter and ipywidgets. See https://ipywidgets.readthedocs.io/en/stable/user_install.html\n",
      "  from .autonotebook import tqdm as notebook_tqdm\n"
     ]
    }
   ],
   "source": [
    "import importlib\n",
    "import dbops\n",
    "import cv2\n",
    "import time\n",
    "import numpy as np\n",
    "from tqdm import tqdm\n",
    "from PIL import Image\n",
    "\n",
    "import torch\n",
    "from torchvision import transforms\n",
    "from torchvision.transforms import functional as F\n",
    "\n",
    "from facelib import FaceRecognizer, get_config, FaceDetector\n",
    "\n",
    "import glob\n",
    "import math"
   ]
  },
  {
   "cell_type": "code",
   "execution_count": 2,
   "id": "3c1c9ce8-f066-43d0-8c5e-fd8825cb8215",
   "metadata": {},
   "outputs": [
    {
     "name": "stdout",
     "output_type": "stream",
     "text": [
      "Mon Apr 14 12:25:49 2025       \n",
      "+---------------------------------------------------------------------------------------+\n",
      "| NVIDIA-SMI 535.230.02             Driver Version: 535.230.02   CUDA Version: 12.2     |\n",
      "|-----------------------------------------+----------------------+----------------------+\n",
      "| GPU  Name                 Persistence-M | Bus-Id        Disp.A | Volatile Uncorr. ECC |\n",
      "| Fan  Temp   Perf          Pwr:Usage/Cap |         Memory-Usage | GPU-Util  Compute M. |\n",
      "|                                         |                      |               MIG M. |\n",
      "|=========================================+======================+======================|\n",
      "|   0  NVIDIA GeForce GTX 1070        Off | 00000000:01:00.0 Off |                  N/A |\n",
      "| 27%   32C    P8               6W / 151W |    982MiB /  8192MiB |      0%      Default |\n",
      "|                                         |                      |                  N/A |\n",
      "+-----------------------------------------+----------------------+----------------------+\n",
      "                                                                                         \n",
      "+---------------------------------------------------------------------------------------+\n",
      "| Processes:                                                                            |\n",
      "|  GPU   GI   CI        PID   Type   Process name                            GPU Memory |\n",
      "|        ID   ID                                                             Usage      |\n",
      "|=======================================================================================|\n",
      "|    0   N/A  N/A   3119413      G   /usr/libexec/Xorg                            28MiB |\n",
      "|    0   N/A  N/A   3119501      G   /usr/bin/gnome-shell                         60MiB |\n",
      "|    0   N/A  N/A   3298783      G   /usr/libexec/Xorg                            39MiB |\n",
      "|    0   N/A  N/A   3298872      G   /usr/bin/gnome-shell                         44MiB |\n",
      "|    0   N/A  N/A   4013255      C   ...forge3/envs/ds4150-faces/bin/python      780MiB |\n",
      "+---------------------------------------------------------------------------------------+\n"
     ]
    }
   ],
   "source": [
    "!nvidia-smi"
   ]
  },
  {
   "cell_type": "code",
   "execution_count": 3,
   "id": "3baead27-8a1b-44d8-aab2-f26ec17897c1",
   "metadata": {},
   "outputs": [
    {
     "data": {
      "text/plain": [
       "<module 'dbops' from '/scratch/u1319464/Data-Mining-Spring-2025-Project/dbops.py'>"
      ]
     },
     "execution_count": 3,
     "metadata": {},
     "output_type": "execute_result"
    }
   ],
   "source": [
    "importlib.reload(dbops)  # Reload the module from source"
   ]
  },
  {
   "cell_type": "code",
   "execution_count": 4,
   "id": "c2af61e4-4a72-4c19-86a9-e1c72e7057e0",
   "metadata": {},
   "outputs": [],
   "source": [
    "facelib_conf = get_config()\n",
    "face_regonizer = FaceRecognizer(facelib_conf)\n"
   ]
  },
  {
   "cell_type": "code",
   "execution_count": 5,
   "id": "f39fc0ca-363a-47a1-a375-7a23d50531ec",
   "metadata": {},
   "outputs": [
    {
     "data": {
      "text/plain": [
       "{'data_path': PosixPath('/scratch/u1319464/miniforge3/envs/ds4150-faces/lib/python3.8/site-packages/facelib/InsightFace/models/data'),\n",
       " 'work_path': PosixPath('weights'),\n",
       " 'model_path': PosixPath('weights/models'),\n",
       " 'log_path': PosixPath('weights/log'),\n",
       " 'save_path': PosixPath('weights'),\n",
       " 'input_size': [112, 112],\n",
       " 'embedding_size': 512,\n",
       " 'use_mobilfacenet': True,\n",
       " 'net_depth': 50,\n",
       " 'drop_ratio': 0.6,\n",
       " 'net_mode': 'ir_se',\n",
       " 'device': device(type='cuda', index=0),\n",
       " 'data_mode': 'emore',\n",
       " 'vgg_folder': PosixPath('/scratch/u1319464/miniforge3/envs/ds4150-faces/lib/python3.8/site-packages/facelib/InsightFace/models/data/faces_vgg_112x112'),\n",
       " 'ms1m_folder': PosixPath('/scratch/u1319464/miniforge3/envs/ds4150-faces/lib/python3.8/site-packages/facelib/InsightFace/models/data/faces_ms1m_112x112'),\n",
       " 'emore_folder': PosixPath('/scratch/u1319464/miniforge3/envs/ds4150-faces/lib/python3.8/site-packages/facelib/InsightFace/models/data/faces_emore'),\n",
       " 'batch_size': 100,\n",
       " 'facebank_path': PosixPath('/scratch/u1319464/miniforge3/envs/ds4150-faces/lib/python3.8/site-packages/facelib/InsightFace/models/data/facebank'),\n",
       " 'threshold': 1.5,\n",
       " 'face_limit': 10}"
      ]
     },
     "execution_count": 5,
     "metadata": {},
     "output_type": "execute_result"
    }
   ],
   "source": [
    "facelib_conf"
   ]
  },
  {
   "cell_type": "code",
   "execution_count": 6,
   "id": "73e2d753-80b2-4ae3-91d3-cb86483c076c",
   "metadata": {},
   "outputs": [],
   "source": [
    "\n",
    "EMB_METHOD = 'FaceLib.FaceRecognizer(FaceLib.get_config())'\n",
    "\n",
    "transform = transforms.Compose([\n",
    "    transforms.Resize((112, 112)),\n",
    "    # transforms.ToTensor()\n",
    "])\n",
    "\n",
    "def do_embedding(faces):\n",
    "    if len(faces) > 0:\n",
    "        with torch.no_grad():\n",
    "            # from [0,255] RGB to [0,1] BGR <-- important\n",
    "            faces = faces[:,[2,0,1]].float().div(255).to(face_regonizer.device)\n",
    "            embeddings = face_regonizer.feature_extractor(faces)\n",
    "            return embeddings\n",
    "    else:\n",
    "        raise Exception('no faces to parse')\n"
   ]
  },
  {
   "cell_type": "code",
   "execution_count": 10,
   "id": "7d736a9f-5c15-42e3-902e-6beaf9504c4e",
   "metadata": {},
   "outputs": [
    {
     "name": "stderr",
     "output_type": "stream",
     "text": [
      "Earth vs. the Flying Saucers: 100%|████████████████████████████████████████████████████████████████████████████████████████████████████| 2766/2766 [01:00<00:00, 45.40it/s]\n",
      "The Wolf Man: 100%|████████████████████████████████████████████████████████████████████████████████████████████████████████████████████| 2142/2142 [00:34<00:00, 61.45it/s]\n",
      "Dracula: 100%|█████████████████████████████████████████████████████████████████████████████████████████████████████████████████████████| 2469/2469 [00:45<00:00, 54.49it/s]\n",
      "Taxi Driver: 100%|█████████████████████████████████████████████████████████████████████████████████████████████████████████████████████| 1484/1484 [00:19<00:00, 75.24it/s]\n",
      "Natural Born Killers: 100%|█████████████████████████████████████████████████████████████████████████████████████████████████████████████| 805/805 [00:05<00:00, 136.25it/s]\n",
      "The Bishop's Wife: 100%|███████████████████████████████████████████████████████████████████████████████████████████████████████████████| 5314/5314 [02:01<00:00, 43.79it/s]\n",
      "Kronos: 100%|██████████████████████████████████████████████████████████████████████████████████████████████████████████████████████████| 2242/2242 [00:38<00:00, 58.29it/s]\n",
      "Sahara: 100%|██████████████████████████████████████████████████████████████████████████████████████████████████████████████████████████| 3320/3320 [00:56<00:00, 58.90it/s]\n",
      "It Came from Outer Space: 100%|████████████████████████████████████████████████████████████████████████████████████████████████████████| 2715/2715 [01:06<00:00, 40.75it/s]\n",
      "Tarantula: 100%|███████████████████████████████████████████████████████████████████████████████████████████████████████████████████████| 2927/2927 [01:14<00:00, 39.45it/s]\n",
      "The Matrix: 100%|██████████████████████████████████████████████████████████████████████████████████████████████████████████████████████| 4753/4753 [01:28<00:00, 53.68it/s]\n",
      "Frankenstein: 100%|████████████████████████████████████████████████████████████████████████████████████████████████████████████████████| 2143/2143 [00:42<00:00, 50.47it/s]\n",
      "Hellhole: 100%|████████████████████████████████████████████████████████████████████████████████████████████████████████████████████████| 3091/3091 [01:26<00:00, 35.62it/s]\n",
      "Fight Club: 100%|██████████████████████████████████████████████████████████████████████████████████████████████████████████████████████| 5379/5379 [02:18<00:00, 38.83it/s]\n",
      "The Day the Earth Stood Still: 100%|███████████████████████████████████████████████████████████████████████████████████████████████████| 3503/3503 [01:15<00:00, 46.52it/s]\n",
      "Taxi Driver: A XXX Parody: 100%|███████████████████████████████████████████████████████████████████████████████████████████████████████| 1484/1484 [00:21<00:00, 69.05it/s]\n",
      "Invasion of the Body Snatchers: 100%|██████████████████████████████████████████████████████████████████████████████████████████████████| 2646/2646 [01:08<00:00, 38.89it/s]\n",
      "The Invisible Man (1933): 100%|████████████████████████████████████████████████████████████████████████████████████████████████████████| 2263/2263 [00:39<00:00, 56.70it/s]\n"
     ]
    }
   ],
   "source": [
    "\n",
    "for movie_ref in dbops.Movie.iterate_all_movies():\n",
    "    imdb_id = movie_ref.get_imdb_id()\n",
    "    title = movie_ref.get_title()\n",
    "    file_path = movie_ref.get_file_path()\n",
    "\n",
    "    for frame_ref in tqdm(movie_ref.iterate_frames(), desc=movie_ref.get_title()):\n",
    "        \n",
    "        for face_ref in frame_ref.iterate_faces():\n",
    "\n",
    "            emb_ref = dbops.FaceIdentity.add_face(face_ref.imdb_id, face_ref.frame_index, face_ref.face_index, EMB_METHOD)\n",
    "\n",
    "            try:\n",
    "            \n",
    "                aligned_face_img = face_ref.get_face_image_aligned().resize([112, 112])\n",
    "    \n",
    "                embeddings = do_embedding(F.pil_to_tensor(aligned_face_img).permute(1, 2, 0).unsqueeze(0))\n",
    "    \n",
    "                # print(embeddings.cpu().numpy(), classifications, confidences)\n",
    "                \n",
    "                emb_ref.set_embedding(embeddings[0].cpu().numpy())\n",
    "    \n",
    "                # print(emb_ref.get_embedding())\n",
    "\n",
    "            except Exception as e:\n",
    "                print(e)\n"
   ]
  },
  {
   "cell_type": "code",
   "execution_count": 9,
   "id": "833af012-4370-4727-b40d-41d01f86a993",
   "metadata": {},
   "outputs": [
    {
     "data": {
      "text/plain": [
       "torch.Size([1, 112, 112, 3])"
      ]
     },
     "execution_count": 9,
     "metadata": {},
     "output_type": "execute_result"
    }
   ],
   "source": [
    "F.pil_to_tensor(aligned_face_img).permute(1, 2, 0).unsqueeze(0).shape"
   ]
  },
  {
   "cell_type": "code",
   "execution_count": 11,
   "id": "64ae67c6-78d2-40b0-b8b0-a0db4ca44d94",
   "metadata": {},
   "outputs": [
    {
     "data": {
      "text/plain": [
       "torch.Size([1, 512])"
      ]
     },
     "execution_count": 11,
     "metadata": {},
     "output_type": "execute_result"
    }
   ],
   "source": [
    "embeddings.shape"
   ]
  },
  {
   "cell_type": "code",
   "execution_count": null,
   "id": "360db459-9dde-40fd-9c11-b8f144b7c5d6",
   "metadata": {},
   "outputs": [],
   "source": []
  },
  {
   "cell_type": "code",
   "execution_count": null,
   "id": "33f35913-6c60-4afe-a4b3-ef884efac710",
   "metadata": {},
   "outputs": [],
   "source": []
  }
 ],
 "metadata": {
  "kernelspec": {
   "display_name": "Python 3 (ipykernel)",
   "language": "python",
   "name": "python3"
  },
  "language_info": {
   "codemirror_mode": {
    "name": "ipython",
    "version": 3
   },
   "file_extension": ".py",
   "mimetype": "text/x-python",
   "name": "python",
   "nbconvert_exporter": "python",
   "pygments_lexer": "ipython3",
   "version": "3.8.18"
  }
 },
 "nbformat": 4,
 "nbformat_minor": 5
}
