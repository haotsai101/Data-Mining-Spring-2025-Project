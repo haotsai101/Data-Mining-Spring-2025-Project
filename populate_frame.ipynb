{
 "cells": [
  {
   "cell_type": "code",
   "execution_count": 1,
   "id": "c8968c3b-62c6-46da-9d6b-a1e4948ba5be",
   "metadata": {},
   "outputs": [
    {
     "name": "stderr",
     "output_type": "stream",
     "text": [
      "/scratch/u1319464/miniforge3/envs/ds4150-faces/lib/python3.8/site-packages/tqdm/auto.py:21: TqdmWarning: IProgress not found. Please update jupyter and ipywidgets. See https://ipywidgets.readthedocs.io/en/stable/user_install.html\n",
      "  from .autonotebook import tqdm as notebook_tqdm\n"
     ]
    }
   ],
   "source": [
    "import importlib\n",
    "import dbops\n",
    "import cv2\n",
    "import time\n",
    "import numpy as np\n",
    "from tqdm import tqdm\n",
    "from PIL import Image\n",
    "from IPython.display import display\n",
    "\n",
    "import torch\n",
    "\n",
    "from facelib import FaceDetector, EmotionDetector\n",
    "import glob\n",
    "import math"
   ]
  },
  {
   "cell_type": "code",
   "execution_count": 2,
   "id": "09b31e47-9e6f-4b8d-ac31-07e064889684",
   "metadata": {},
   "outputs": [
    {
     "data": {
      "text/plain": [
       "('The Invisible Man (1933)',\n",
       " './data/Invisible Man 1933.mp4',\n",
       " datetime.datetime(2018, 9, 25, 0, 0))"
      ]
     },
     "execution_count": 2,
     "metadata": {},
     "output_type": "execute_result"
    }
   ],
   "source": [
    "movie = dbops.Movie('tt15439366')\n",
    "movie.get_title(), movie.get_file_path(), movie.get_date_created()"
   ]
  },
  {
   "cell_type": "code",
   "execution_count": 3,
   "id": "f087fa23-a5a9-4dc7-be0a-0f9ca9f91474",
   "metadata": {},
   "outputs": [
    {
     "name": "stdout",
     "output_type": "stream",
     "text": [
      "from EmotionDetector: weights loaded\n"
     ]
    }
   ],
   "source": [
    "\n",
    "face_detector = FaceDetector()\n",
    "emotion_detector = EmotionDetector()\n"
   ]
  },
  {
   "cell_type": "code",
   "execution_count": 4,
   "id": "ec582945-5c0f-4fb2-9cb5-61af01b3f6b4",
   "metadata": {},
   "outputs": [
    {
     "name": "stdout",
     "output_type": "stream",
     "text": [
      "Now Processing: Earth vs. the Flying Saucers\n",
      "Starting from minute 10, processing up to minute 80.311333\n",
      "Building num_faces index of frames from every 15 seconds\n"
     ]
    },
    {
     "name": "stderr",
     "output_type": "stream",
     "text": [
      "Building Index: 100%|████████████████████████████████████████████████████████████████████████████████████████████████████████████████████| 282/282 [00:22<00:00, 12.55it/s]\n"
     ]
    },
    {
     "name": "stdout",
     "output_type": "stream",
     "text": [
      "Processing facial scenes\n"
     ]
    },
    {
     "name": "stderr",
     "output_type": "stream",
     "text": [
      "Processing Frames:   0%|                                                                                                                           | 0/281 [00:00<?, ?it/s]"
     ]
    },
    {
     "name": "stdout",
     "output_type": "stream",
     "text": [
      "Start frame: 14999\tEnd Frame: 15374\n",
      "No faces detected by index; Skipping scene.\n",
      "Start frame: 15374\tEnd Frame: 15749\n",
      "Computation reduction from downsampling & caching: 0.968000\n"
     ]
    },
    {
     "name": "stderr",
     "output_type": "stream",
     "text": [
      "Processing Frames:   1%|▊                                                                                                                  | 2/281 [00:01<02:27,  1.89it/s]"
     ]
    },
    {
     "name": "stdout",
     "output_type": "stream",
     "text": [
      "Start frame: 15749\tEnd Frame: 16124\n",
      "Computation reduction from downsampling & caching: 0.968000\n"
     ]
    },
    {
     "name": "stderr",
     "output_type": "stream",
     "text": [
      "Processing Frames:   1%|█▏                                                                                                                 | 3/281 [00:02<03:34,  1.30it/s]"
     ]
    },
    {
     "name": "stdout",
     "output_type": "stream",
     "text": [
      "Start frame: 16124\tEnd Frame: 16499\n",
      "Computation reduction from downsampling & caching: 0.968000\n"
     ]
    },
    {
     "name": "stderr",
     "output_type": "stream",
     "text": [
      "Processing Frames:   1%|█▋                                                                                                                 | 4/281 [00:03<04:04,  1.13it/s]"
     ]
    },
    {
     "name": "stdout",
     "output_type": "stream",
     "text": [
      "Start frame: 16499\tEnd Frame: 16874\n",
      "Computation reduction from downsampling & caching: 0.968000\n"
     ]
    },
    {
     "name": "stderr",
     "output_type": "stream",
     "text": [
      "Processing Frames:   2%|██                                                                                                                 | 5/281 [00:04<04:25,  1.04it/s]"
     ]
    },
    {
     "name": "stdout",
     "output_type": "stream",
     "text": [
      "Start frame: 16874\tEnd Frame: 17249\n",
      "Computation reduction from downsampling & caching: 0.968000\n"
     ]
    },
    {
     "name": "stderr",
     "output_type": "stream",
     "text": [
      "Processing Frames:   2%|██▍                                                                                                                | 6/281 [00:05<04:38,  1.01s/it]"
     ]
    },
    {
     "name": "stdout",
     "output_type": "stream",
     "text": [
      "Start frame: 17249\tEnd Frame: 17624\n",
      "Computation reduction from downsampling & caching: 0.968000\n"
     ]
    },
    {
     "name": "stderr",
     "output_type": "stream",
     "text": [
      "Processing Frames:   2%|██▊                                                                                                                | 7/281 [00:06<05:03,  1.11s/it]"
     ]
    },
    {
     "name": "stdout",
     "output_type": "stream",
     "text": [
      "Start frame: 17624\tEnd Frame: 17999\n",
      "Computation reduction from downsampling & caching: 0.968000\n"
     ]
    },
    {
     "name": "stderr",
     "output_type": "stream",
     "text": [
      "Processing Frames:   3%|███▎                                                                                                               | 8/281 [00:08<05:25,  1.19s/it]"
     ]
    },
    {
     "name": "stdout",
     "output_type": "stream",
     "text": [
      "Start frame: 17999\tEnd Frame: 18374\n",
      "Computation reduction from downsampling & caching: 0.968000\n"
     ]
    },
    {
     "name": "stderr",
     "output_type": "stream",
     "text": [
      "Processing Frames:   3%|███▋                                                                                                               | 9/281 [00:09<05:48,  1.28s/it]"
     ]
    },
    {
     "name": "stdout",
     "output_type": "stream",
     "text": [
      "Start frame: 18374\tEnd Frame: 18749\n",
      "Computation reduction from downsampling & caching: 0.968000\n"
     ]
    },
    {
     "name": "stderr",
     "output_type": "stream",
     "text": [
      "Processing Frames:   4%|████                                                                                                              | 10/281 [00:11<06:17,  1.39s/it]"
     ]
    },
    {
     "name": "stdout",
     "output_type": "stream",
     "text": [
      "Start frame: 18749\tEnd Frame: 19124\n",
      "Computation reduction from downsampling & caching: 0.968000\n"
     ]
    },
    {
     "name": "stderr",
     "output_type": "stream",
     "text": [
      "Processing Frames:   4%|████▍                                                                                                             | 11/281 [00:12<06:38,  1.48s/it]"
     ]
    },
    {
     "name": "stdout",
     "output_type": "stream",
     "text": [
      "Start frame: 19124\tEnd Frame: 19499\n",
      "Computation reduction from downsampling & caching: 0.968000\n"
     ]
    },
    {
     "name": "stderr",
     "output_type": "stream",
     "text": [
      "Processing Frames:   4%|████▊                                                                                                             | 12/281 [00:14<06:37,  1.48s/it]"
     ]
    },
    {
     "name": "stdout",
     "output_type": "stream",
     "text": [
      "Start frame: 19499\tEnd Frame: 19874\n",
      "Computation reduction from downsampling & caching: 0.968000\n"
     ]
    },
    {
     "name": "stderr",
     "output_type": "stream",
     "text": [
      "Processing Frames:   5%|█████▎                                                                                                            | 13/281 [00:15<06:16,  1.40s/it]"
     ]
    },
    {
     "name": "stdout",
     "output_type": "stream",
     "text": [
      "Start frame: 19874\tEnd Frame: 20249\n",
      "Computation reduction from downsampling & caching: 0.968000\n"
     ]
    },
    {
     "name": "stderr",
     "output_type": "stream",
     "text": [
      "Processing Frames:   5%|█████▋                                                                                                            | 14/281 [00:16<06:05,  1.37s/it]"
     ]
    },
    {
     "name": "stdout",
     "output_type": "stream",
     "text": [
      "Start frame: 20249\tEnd Frame: 20624\n",
      "Computation reduction from downsampling & caching: 0.968000\n"
     ]
    },
    {
     "name": "stderr",
     "output_type": "stream",
     "text": [
      "Processing Frames:   5%|██████                                                                                                            | 15/281 [00:18<05:51,  1.32s/it]"
     ]
    },
    {
     "name": "stdout",
     "output_type": "stream",
     "text": [
      "Start frame: 20624\tEnd Frame: 20999\n",
      "Computation reduction from downsampling & caching: 0.968000\n"
     ]
    },
    {
     "name": "stderr",
     "output_type": "stream",
     "text": [
      "Processing Frames:   6%|██████▍                                                                                                           | 16/281 [00:19<05:49,  1.32s/it]"
     ]
    },
    {
     "name": "stdout",
     "output_type": "stream",
     "text": [
      "Start frame: 20999\tEnd Frame: 21374\n",
      "Computation reduction from downsampling & caching: 0.968000\n"
     ]
    },
    {
     "name": "stderr",
     "output_type": "stream",
     "text": [
      "Processing Frames:   6%|██████▉                                                                                                           | 17/281 [00:20<05:53,  1.34s/it]"
     ]
    },
    {
     "name": "stdout",
     "output_type": "stream",
     "text": [
      "Start frame: 21374\tEnd Frame: 21749\n",
      "Computation reduction from downsampling & caching: 0.968000\n"
     ]
    },
    {
     "name": "stderr",
     "output_type": "stream",
     "text": [
      "Processing Frames:   6%|███████▎                                                                                                          | 18/281 [00:22<06:06,  1.39s/it]"
     ]
    },
    {
     "name": "stdout",
     "output_type": "stream",
     "text": [
      "Start frame: 21749\tEnd Frame: 22124\n",
      "Computation reduction from downsampling & caching: 0.968000\n"
     ]
    },
    {
     "name": "stderr",
     "output_type": "stream",
     "text": [
      "Processing Frames:   7%|███████▋                                                                                                          | 19/281 [00:23<05:40,  1.30s/it]"
     ]
    },
    {
     "name": "stdout",
     "output_type": "stream",
     "text": [
      "Start frame: 22124\tEnd Frame: 22499\n",
      "Computation reduction from downsampling & caching: 0.968000\n"
     ]
    },
    {
     "name": "stderr",
     "output_type": "stream",
     "text": [
      "Processing Frames:   7%|████████                                                                                                          | 20/281 [00:24<05:47,  1.33s/it]"
     ]
    },
    {
     "name": "stdout",
     "output_type": "stream",
     "text": [
      "Start frame: 22499\tEnd Frame: 22874\n",
      "Computation reduction from downsampling & caching: 0.968000\n"
     ]
    },
    {
     "name": "stderr",
     "output_type": "stream",
     "text": [
      "Processing Frames:   7%|████████▌                                                                                                         | 21/281 [00:26<05:43,  1.32s/it]"
     ]
    },
    {
     "name": "stdout",
     "output_type": "stream",
     "text": [
      "Start frame: 22874\tEnd Frame: 23249\n",
      "Computation reduction from downsampling & caching: 0.968000\n"
     ]
    },
    {
     "name": "stderr",
     "output_type": "stream",
     "text": [
      "Processing Frames:   8%|████████▉                                                                                                         | 22/281 [00:27<05:24,  1.25s/it]"
     ]
    },
    {
     "name": "stdout",
     "output_type": "stream",
     "text": [
      "Start frame: 23249\tEnd Frame: 23624\n",
      "No faces detected by index; Skipping scene.\n",
      "Start frame: 23624\tEnd Frame: 23999\n",
      "No faces detected by index; Skipping scene.\n",
      "Start frame: 23999\tEnd Frame: 24374\n",
      "Computation reduction from downsampling & caching: 0.968000\n"
     ]
    },
    {
     "name": "stderr",
     "output_type": "stream",
     "text": [
      "Processing Frames:   9%|██████████▏                                                                                                       | 25/281 [00:28<03:29,  1.22it/s]"
     ]
    },
    {
     "name": "stdout",
     "output_type": "stream",
     "text": [
      "Start frame: 24374\tEnd Frame: 24749\n",
      "Computation reduction from downsampling & caching: 0.968000\n"
     ]
    },
    {
     "name": "stderr",
     "output_type": "stream",
     "text": [
      "Processing Frames:   9%|██████████▌                                                                                                       | 26/281 [00:29<03:47,  1.12it/s]"
     ]
    },
    {
     "name": "stdout",
     "output_type": "stream",
     "text": [
      "Start frame: 24749\tEnd Frame: 25124\n",
      "Computation reduction from downsampling & caching: 0.968000\n"
     ]
    },
    {
     "name": "stderr",
     "output_type": "stream",
     "text": [
      "Processing Frames:  10%|██████████▉                                                                                                       | 27/281 [00:31<04:04,  1.04it/s]"
     ]
    },
    {
     "name": "stdout",
     "output_type": "stream",
     "text": [
      "Start frame: 25124\tEnd Frame: 25499\n",
      "Computation reduction from downsampling & caching: 0.968000\n"
     ]
    },
    {
     "name": "stderr",
     "output_type": "stream",
     "text": [
      "Processing Frames:  10%|███████████▎                                                                                                      | 28/281 [00:32<04:09,  1.01it/s]"
     ]
    },
    {
     "name": "stdout",
     "output_type": "stream",
     "text": [
      "Start frame: 25499\tEnd Frame: 25874\n",
      "Computation reduction from downsampling & caching: 0.968000\n"
     ]
    },
    {
     "name": "stderr",
     "output_type": "stream",
     "text": [
      "Processing Frames:  10%|███████████▊                                                                                                      | 29/281 [00:33<04:14,  1.01s/it]"
     ]
    },
    {
     "name": "stdout",
     "output_type": "stream",
     "text": [
      "Start frame: 25874\tEnd Frame: 26249\n",
      "Computation reduction from downsampling & caching: 0.968000\n"
     ]
    },
    {
     "name": "stderr",
     "output_type": "stream",
     "text": [
      "Processing Frames:  11%|████████████▏                                                                                                     | 30/281 [00:34<04:19,  1.03s/it]"
     ]
    },
    {
     "name": "stdout",
     "output_type": "stream",
     "text": [
      "Start frame: 26249\tEnd Frame: 26624\n",
      "Computation reduction from downsampling & caching: 0.968000\n"
     ]
    },
    {
     "name": "stderr",
     "output_type": "stream",
     "text": [
      "Processing Frames:  11%|████████████▌                                                                                                     | 31/281 [00:35<04:12,  1.01s/it]"
     ]
    },
    {
     "name": "stdout",
     "output_type": "stream",
     "text": [
      "Start frame: 26624\tEnd Frame: 26999\n",
      "Computation reduction from downsampling & caching: 0.968000\n"
     ]
    },
    {
     "name": "stderr",
     "output_type": "stream",
     "text": [
      "Processing Frames:  11%|████████████▉                                                                                                     | 32/281 [00:36<04:14,  1.02s/it]"
     ]
    },
    {
     "name": "stdout",
     "output_type": "stream",
     "text": [
      "Start frame: 26999\tEnd Frame: 27374\n",
      "No faces detected by index; Skipping scene.\n",
      "Start frame: 27374\tEnd Frame: 27749\n",
      "No faces detected by index; Skipping scene.\n",
      "Start frame: 27749\tEnd Frame: 28124\n",
      "No faces detected by index; Skipping scene.\n",
      "Start frame: 28124\tEnd Frame: 28499\n",
      "Computation reduction from downsampling & caching: 0.968000\n"
     ]
    },
    {
     "name": "stderr",
     "output_type": "stream",
     "text": [
      "Processing Frames:  13%|██████████████▌                                                                                                   | 36/281 [00:37<02:08,  1.91it/s]"
     ]
    },
    {
     "name": "stdout",
     "output_type": "stream",
     "text": [
      "Start frame: 28499\tEnd Frame: 28874\n",
      "Computation reduction from downsampling & caching: 0.968000\n"
     ]
    },
    {
     "name": "stderr",
     "output_type": "stream",
     "text": [
      "Processing Frames:  13%|███████████████                                                                                                   | 37/281 [00:38<02:24,  1.69it/s]"
     ]
    },
    {
     "name": "stdout",
     "output_type": "stream",
     "text": [
      "Start frame: 28874\tEnd Frame: 29249\n",
      "No faces detected by index; Skipping scene.\n",
      "Start frame: 29249\tEnd Frame: 29624\n",
      "No faces detected by index; Skipping scene.\n",
      "Start frame: 29624\tEnd Frame: 29999\n",
      "Computation reduction from downsampling & caching: 0.968000\n"
     ]
    },
    {
     "name": "stderr",
     "output_type": "stream",
     "text": [
      "Processing Frames:  14%|████████████████▏                                                                                                 | 40/281 [00:39<02:02,  1.97it/s]"
     ]
    },
    {
     "name": "stdout",
     "output_type": "stream",
     "text": [
      "Start frame: 29999\tEnd Frame: 30374\n",
      "Computation reduction from downsampling & caching: 0.968000\n"
     ]
    },
    {
     "name": "stderr",
     "output_type": "stream",
     "text": [
      "Processing Frames:  15%|████████████████▋                                                                                                 | 41/281 [00:40<02:20,  1.71it/s]"
     ]
    },
    {
     "name": "stdout",
     "output_type": "stream",
     "text": [
      "Start frame: 30374\tEnd Frame: 30749\n",
      "No faces detected by index; Skipping scene.\n",
      "Start frame: 30749\tEnd Frame: 31124\n",
      "No faces detected by index; Skipping scene.\n",
      "Start frame: 31124\tEnd Frame: 31499\n",
      "No faces detected by index; Skipping scene.\n",
      "Start frame: 31499\tEnd Frame: 31874\n",
      "No faces detected by index; Skipping scene.\n",
      "Start frame: 31874\tEnd Frame: 32249\n",
      "No faces detected by index; Skipping scene.\n",
      "Start frame: 32249\tEnd Frame: 32624\n",
      "No faces detected by index; Skipping scene.\n",
      "Start frame: 32624\tEnd Frame: 32999\n",
      "No faces detected by index; Skipping scene.\n",
      "Start frame: 32999\tEnd Frame: 33374\n",
      "No faces detected by index; Skipping scene.\n",
      "Start frame: 33374\tEnd Frame: 33749\n",
      "Computation reduction from downsampling & caching: 0.968000\n"
     ]
    },
    {
     "name": "stderr",
     "output_type": "stream",
     "text": [
      "Processing Frames:  18%|████████████████████▎                                                                                             | 50/281 [00:41<00:58,  3.94it/s]"
     ]
    },
    {
     "name": "stdout",
     "output_type": "stream",
     "text": [
      "Start frame: 33749\tEnd Frame: 34124\n",
      "Computation reduction from downsampling & caching: 0.968000\n"
     ]
    },
    {
     "name": "stderr",
     "output_type": "stream",
     "text": [
      "Processing Frames:  18%|████████████████████▋                                                                                             | 51/281 [00:41<01:11,  3.24it/s]"
     ]
    },
    {
     "name": "stdout",
     "output_type": "stream",
     "text": [
      "Start frame: 34124\tEnd Frame: 34499\n",
      "Computation reduction from downsampling & caching: 0.968000\n"
     ]
    },
    {
     "name": "stderr",
     "output_type": "stream",
     "text": [
      "Processing Frames:  19%|█████████████████████                                                                                             | 52/281 [00:43<01:31,  2.49it/s]"
     ]
    },
    {
     "name": "stdout",
     "output_type": "stream",
     "text": [
      "Start frame: 34499\tEnd Frame: 34874\n",
      "Computation reduction from downsampling & caching: 0.968000\n"
     ]
    },
    {
     "name": "stderr",
     "output_type": "stream",
     "text": [
      "Processing Frames:  19%|█████████████████████▌                                                                                            | 53/281 [00:44<01:51,  2.04it/s]"
     ]
    },
    {
     "name": "stdout",
     "output_type": "stream",
     "text": [
      "Start frame: 34874\tEnd Frame: 35249\n",
      "Computation reduction from downsampling & caching: 0.968000\n"
     ]
    },
    {
     "name": "stderr",
     "output_type": "stream",
     "text": [
      "Processing Frames:  19%|█████████████████████▉                                                                                            | 54/281 [00:44<02:10,  1.75it/s]"
     ]
    },
    {
     "name": "stdout",
     "output_type": "stream",
     "text": [
      "Start frame: 35249\tEnd Frame: 35624\n",
      "Computation reduction from downsampling & caching: 0.968000\n"
     ]
    },
    {
     "name": "stderr",
     "output_type": "stream",
     "text": [
      "Processing Frames:  20%|██████████████████████▎                                                                                           | 55/281 [00:45<02:27,  1.54it/s]"
     ]
    },
    {
     "name": "stdout",
     "output_type": "stream",
     "text": [
      "Start frame: 35624\tEnd Frame: 35999\n",
      "Computation reduction from downsampling & caching: 0.968000\n"
     ]
    },
    {
     "name": "stderr",
     "output_type": "stream",
     "text": [
      "Processing Frames:  20%|██████████████████████▋                                                                                           | 56/281 [00:46<02:38,  1.42it/s]"
     ]
    },
    {
     "name": "stdout",
     "output_type": "stream",
     "text": [
      "Start frame: 35999\tEnd Frame: 36374\n",
      "Computation reduction from downsampling & caching: 0.968000\n"
     ]
    },
    {
     "name": "stderr",
     "output_type": "stream",
     "text": [
      "Processing Frames:  20%|███████████████████████                                                                                           | 57/281 [00:47<02:48,  1.33it/s]"
     ]
    },
    {
     "name": "stdout",
     "output_type": "stream",
     "text": [
      "Start frame: 36374\tEnd Frame: 36749\n",
      "Computation reduction from downsampling & caching: 0.968000\n"
     ]
    },
    {
     "name": "stderr",
     "output_type": "stream",
     "text": [
      "Processing Frames:  21%|███████████████████████▌                                                                                          | 58/281 [00:48<03:00,  1.24it/s]"
     ]
    },
    {
     "name": "stdout",
     "output_type": "stream",
     "text": [
      "Start frame: 36749\tEnd Frame: 37124\n",
      "No faces detected by index; Skipping scene.\n",
      "Start frame: 37124\tEnd Frame: 37499\n",
      "Computation reduction from downsampling & caching: 0.968000\n"
     ]
    },
    {
     "name": "stderr",
     "output_type": "stream",
     "text": [
      "Processing Frames:  21%|████████████████████████▎                                                                                         | 60/281 [00:49<02:20,  1.58it/s]"
     ]
    },
    {
     "name": "stdout",
     "output_type": "stream",
     "text": [
      "Start frame: 37499\tEnd Frame: 37874\n",
      "Computation reduction from downsampling & caching: 0.968000\n"
     ]
    },
    {
     "name": "stderr",
     "output_type": "stream",
     "text": [
      "Processing Frames:  22%|████████████████████████▋                                                                                         | 61/281 [00:50<02:55,  1.26it/s]"
     ]
    },
    {
     "name": "stdout",
     "output_type": "stream",
     "text": [
      "Start frame: 37874\tEnd Frame: 38249\n",
      "Computation reduction from downsampling & caching: 0.968000\n"
     ]
    },
    {
     "name": "stderr",
     "output_type": "stream",
     "text": [
      "Processing Frames:  22%|█████████████████████████▏                                                                                        | 62/281 [00:52<03:22,  1.08it/s]"
     ]
    },
    {
     "name": "stdout",
     "output_type": "stream",
     "text": [
      "Start frame: 38249\tEnd Frame: 38624\n",
      "Computation reduction from downsampling & caching: 0.968000\n"
     ]
    },
    {
     "name": "stderr",
     "output_type": "stream",
     "text": [
      "Processing Frames:  22%|█████████████████████████▌                                                                                        | 63/281 [00:53<03:37,  1.00it/s]"
     ]
    },
    {
     "name": "stdout",
     "output_type": "stream",
     "text": [
      "Start frame: 38624\tEnd Frame: 38999\n",
      "No faces detected by index; Skipping scene.\n",
      "Start frame: 38999\tEnd Frame: 39374\n",
      "No faces detected by index; Skipping scene.\n",
      "Start frame: 39374\tEnd Frame: 39749\n",
      "No faces detected by index; Skipping scene.\n",
      "Start frame: 39749\tEnd Frame: 40124\n",
      "Computation reduction from downsampling & caching: 0.968000\n"
     ]
    },
    {
     "name": "stderr",
     "output_type": "stream",
     "text": [
      "Processing Frames:  24%|███████████████████████████▏                                                                                      | 67/281 [00:54<02:17,  1.55it/s]"
     ]
    },
    {
     "name": "stdout",
     "output_type": "stream",
     "text": [
      "Start frame: 40124\tEnd Frame: 40499\n",
      "Computation reduction from downsampling & caching: 0.968000\n"
     ]
    },
    {
     "name": "stderr",
     "output_type": "stream",
     "text": [
      "Processing Frames:  24%|███████████████████████████▌                                                                                      | 68/281 [00:57<03:09,  1.12it/s]"
     ]
    },
    {
     "name": "stdout",
     "output_type": "stream",
     "text": [
      "Start frame: 40499\tEnd Frame: 40874\n",
      "Computation reduction from downsampling & caching: 0.968000\n"
     ]
    },
    {
     "name": "stderr",
     "output_type": "stream",
     "text": [
      "Processing Frames:  25%|███████████████████████████▉                                                                                      | 69/281 [00:59<04:03,  1.15s/it]"
     ]
    },
    {
     "name": "stdout",
     "output_type": "stream",
     "text": [
      "Start frame: 40874\tEnd Frame: 41249\n",
      "Computation reduction from downsampling & caching: 0.968000\n"
     ]
    },
    {
     "name": "stderr",
     "output_type": "stream",
     "text": [
      "Processing Frames:  25%|████████████████████████████▍                                                                                     | 70/281 [01:01<04:46,  1.36s/it]"
     ]
    },
    {
     "name": "stdout",
     "output_type": "stream",
     "text": [
      "Start frame: 41249\tEnd Frame: 41624\n",
      "Computation reduction from downsampling & caching: 0.968000\n"
     ]
    },
    {
     "name": "stderr",
     "output_type": "stream",
     "text": [
      "Processing Frames:  25%|████████████████████████████▊                                                                                     | 71/281 [01:03<05:19,  1.52s/it]"
     ]
    },
    {
     "name": "stdout",
     "output_type": "stream",
     "text": [
      "Start frame: 41624\tEnd Frame: 41999\n",
      "Computation reduction from downsampling & caching: 0.968000\n"
     ]
    },
    {
     "name": "stderr",
     "output_type": "stream",
     "text": [
      "Processing Frames:  26%|█████████████████████████████▏                                                                                    | 72/281 [01:05<05:43,  1.64s/it]"
     ]
    },
    {
     "name": "stdout",
     "output_type": "stream",
     "text": [
      "Start frame: 41999\tEnd Frame: 42374\n",
      "Computation reduction from downsampling & caching: 0.968000\n"
     ]
    },
    {
     "name": "stderr",
     "output_type": "stream",
     "text": [
      "Processing Frames:  26%|█████████████████████████████▌                                                                                    | 73/281 [01:07<05:59,  1.73s/it]"
     ]
    },
    {
     "name": "stdout",
     "output_type": "stream",
     "text": [
      "Start frame: 42374\tEnd Frame: 42749\n",
      "Computation reduction from downsampling & caching: 0.968000\n"
     ]
    },
    {
     "name": "stderr",
     "output_type": "stream",
     "text": [
      "Processing Frames:  26%|██████████████████████████████                                                                                    | 74/281 [01:09<05:59,  1.74s/it]"
     ]
    },
    {
     "name": "stdout",
     "output_type": "stream",
     "text": [
      "Start frame: 42749\tEnd Frame: 43124\n",
      "Computation reduction from downsampling & caching: 0.968000\n"
     ]
    },
    {
     "name": "stderr",
     "output_type": "stream",
     "text": [
      "Processing Frames:  27%|██████████████████████████████▍                                                                                   | 75/281 [01:10<05:44,  1.67s/it]"
     ]
    },
    {
     "name": "stdout",
     "output_type": "stream",
     "text": [
      "Start frame: 43124\tEnd Frame: 43499\n",
      "Computation reduction from downsampling & caching: 0.968000\n"
     ]
    },
    {
     "name": "stderr",
     "output_type": "stream",
     "text": [
      "Processing Frames:  27%|██████████████████████████████▊                                                                                   | 76/281 [01:12<05:32,  1.62s/it]"
     ]
    },
    {
     "name": "stdout",
     "output_type": "stream",
     "text": [
      "Start frame: 43499\tEnd Frame: 43874\n",
      "No faces detected by index; Skipping scene.\n",
      "Start frame: 43874\tEnd Frame: 44249\n",
      "Computation reduction from downsampling & caching: 0.968000\n"
     ]
    },
    {
     "name": "stderr",
     "output_type": "stream",
     "text": [
      "Processing Frames:  57%|███████████████████████████████████████████████████████████████▉                                                 | 159/281 [02:41<02:53,  1.42s/it]"
     ]
    },
    {
     "name": "stdout",
     "output_type": "stream",
     "text": [
      "Start frame: 74624\tEnd Frame: 74999\n",
      "No faces detected by index; Skipping scene.\n",
      "Start frame: 74999\tEnd Frame: 75374\n",
      "No faces detected by index; Skipping scene.\n",
      "Start frame: 75374\tEnd Frame: 75749\n",
      "No faces detected by index; Skipping scene.\n",
      "Start frame: 75749\tEnd Frame: 76124\n",
      "Computation reduction from downsampling & caching: 0.968000\n"
     ]
    },
    {
     "name": "stderr",
     "output_type": "stream",
     "text": [
      "Processing Frames:  58%|█████████████████████████████████████████████████████████████████▌                                               | 163/281 [02:42<01:23,  1.41it/s]"
     ]
    },
    {
     "name": "stdout",
     "output_type": "stream",
     "text": [
      "Start frame: 76124\tEnd Frame: 76499\n",
      "Computation reduction from downsampling & caching: 0.968000\n"
     ]
    },
    {
     "name": "stderr",
     "output_type": "stream",
     "text": [
      "Processing Frames:  58%|█████████████████████████████████████████████████████████████████▉                                               | 164/281 [02:43<01:28,  1.32it/s]"
     ]
    },
    {
     "name": "stdout",
     "output_type": "stream",
     "text": [
      "Start frame: 76499\tEnd Frame: 76874\n",
      "Computation reduction from downsampling & caching: 0.968000\n"
     ]
    },
    {
     "name": "stderr",
     "output_type": "stream",
     "text": [
      "Processing Frames:  59%|██████████████████████████████████████████████████████████████████▎                                              | 165/281 [02:44<01:32,  1.26it/s]"
     ]
    },
    {
     "name": "stdout",
     "output_type": "stream",
     "text": [
      "Start frame: 76874\tEnd Frame: 77249\n",
      "No faces detected by index; Skipping scene.\n",
      "Start frame: 77249\tEnd Frame: 77624\n",
      "No faces detected by index; Skipping scene.\n",
      "Start frame: 77624\tEnd Frame: 77999\n",
      "No faces detected by index; Skipping scene.\n",
      "Start frame: 77999\tEnd Frame: 78374\n",
      "Computation reduction from downsampling & caching: 0.968000\n"
     ]
    },
    {
     "name": "stderr",
     "output_type": "stream",
     "text": [
      "Processing Frames:  60%|███████████████████████████████████████████████████████████████████▉                                             | 169/281 [02:45<00:55,  2.02it/s]"
     ]
    },
    {
     "name": "stdout",
     "output_type": "stream",
     "text": [
      "Start frame: 78374\tEnd Frame: 78749\n",
      "Computation reduction from downsampling & caching: 0.968000\n"
     ]
    },
    {
     "name": "stderr",
     "output_type": "stream",
     "text": [
      "Processing Frames:  60%|████████████████████████████████████████████████████████████████████▎                                            | 170/281 [02:46<01:02,  1.76it/s]"
     ]
    },
    {
     "name": "stdout",
     "output_type": "stream",
     "text": [
      "Start frame: 78749\tEnd Frame: 79124\n",
      "No faces detected by index; Skipping scene.\n",
      "Start frame: 79124\tEnd Frame: 79499\n",
      "No faces detected by index; Skipping scene.\n",
      "Start frame: 79499\tEnd Frame: 79874\n",
      "Computation reduction from downsampling & caching: 0.968000\n"
     ]
    },
    {
     "name": "stderr",
     "output_type": "stream",
     "text": [
      "Processing Frames:  62%|█████████████████████████████████████████████████████████████████████▌                                           | 173/281 [02:47<00:51,  2.11it/s]"
     ]
    },
    {
     "name": "stdout",
     "output_type": "stream",
     "text": [
      "Start frame: 79874\tEnd Frame: 80249\n",
      "Computation reduction from downsampling & caching: 0.968000\n"
     ]
    },
    {
     "name": "stderr",
     "output_type": "stream",
     "text": [
      "Processing Frames:  62%|█████████████████████████████████████████████████████████████████████▉                                           | 174/281 [02:48<01:02,  1.71it/s]"
     ]
    },
    {
     "name": "stdout",
     "output_type": "stream",
     "text": [
      "Start frame: 80249\tEnd Frame: 80624\n",
      "Computation reduction from downsampling & caching: 0.968000\n"
     ]
    },
    {
     "name": "stderr",
     "output_type": "stream",
     "text": [
      "Processing Frames:  62%|██████████████████████████████████████████████████████████████████████▎                                          | 175/281 [02:49<01:06,  1.59it/s]"
     ]
    },
    {
     "name": "stdout",
     "output_type": "stream",
     "text": [
      "Start frame: 80624\tEnd Frame: 80999\n",
      "Computation reduction from downsampling & caching: 0.968000\n"
     ]
    },
    {
     "name": "stderr",
     "output_type": "stream",
     "text": [
      "Processing Frames:  63%|██████████████████████████████████████████████████████████████████████▊                                          | 176/281 [02:50<01:18,  1.34it/s]"
     ]
    },
    {
     "name": "stdout",
     "output_type": "stream",
     "text": [
      "Start frame: 80999\tEnd Frame: 81374\n",
      "Computation reduction from downsampling & caching: 0.968000\n"
     ]
    },
    {
     "name": "stderr",
     "output_type": "stream",
     "text": [
      "Processing Frames:  63%|███████████████████████████████████████████████████████████████████████▏                                         | 177/281 [02:51<01:28,  1.18it/s]"
     ]
    },
    {
     "name": "stdout",
     "output_type": "stream",
     "text": [
      "Start frame: 81374\tEnd Frame: 81749\n",
      "Computation reduction from downsampling & caching: 0.968000\n"
     ]
    },
    {
     "name": "stderr",
     "output_type": "stream",
     "text": [
      "Processing Frames:  63%|███████████████████████████████████████████████████████████████████████▌                                         | 178/281 [02:52<01:29,  1.15it/s]"
     ]
    },
    {
     "name": "stdout",
     "output_type": "stream",
     "text": [
      "Start frame: 81749\tEnd Frame: 82124\n",
      "Computation reduction from downsampling & caching: 0.968000\n"
     ]
    },
    {
     "name": "stderr",
     "output_type": "stream",
     "text": [
      "Processing Frames:  64%|███████████████████████████████████████████████████████████████████████▉                                         | 179/281 [02:53<01:33,  1.09it/s]"
     ]
    },
    {
     "name": "stdout",
     "output_type": "stream",
     "text": [
      "Start frame: 82124\tEnd Frame: 82499\n",
      "Computation reduction from downsampling & caching: 0.968000\n"
     ]
    },
    {
     "name": "stderr",
     "output_type": "stream",
     "text": [
      "Processing Frames:  64%|████████████████████████████████████████████████████████████████████████▍                                        | 180/281 [02:54<01:31,  1.10it/s]"
     ]
    },
    {
     "name": "stdout",
     "output_type": "stream",
     "text": [
      "Start frame: 82499\tEnd Frame: 82874\n",
      "Computation reduction from downsampling & caching: 0.968000\n"
     ]
    },
    {
     "name": "stderr",
     "output_type": "stream",
     "text": [
      "Processing Frames:  64%|████████████████████████████████████████████████████████████████████████▊                                        | 181/281 [02:55<01:27,  1.14it/s]"
     ]
    },
    {
     "name": "stdout",
     "output_type": "stream",
     "text": [
      "Start frame: 82874\tEnd Frame: 83249\n",
      "Computation reduction from downsampling & caching: 0.968000\n"
     ]
    },
    {
     "name": "stderr",
     "output_type": "stream",
     "text": [
      "Processing Frames:  65%|█████████████████████████████████████████████████████████████████████████▏                                       | 182/281 [02:56<01:22,  1.20it/s]"
     ]
    },
    {
     "name": "stdout",
     "output_type": "stream",
     "text": [
      "Start frame: 83249\tEnd Frame: 83624\n",
      "No faces detected by index; Skipping scene.\n",
      "Start frame: 83624\tEnd Frame: 83999\n",
      "No faces detected by index; Skipping scene.\n",
      "Start frame: 83999\tEnd Frame: 84374\n",
      "No faces detected by index; Skipping scene.\n",
      "Start frame: 84374\tEnd Frame: 84749\n",
      "Computation reduction from downsampling & caching: 0.968000\n"
     ]
    },
    {
     "name": "stderr",
     "output_type": "stream",
     "text": [
      "Processing Frames:  66%|██████████████████████████████████████████████████████████████████████████▊                                      | 186/281 [02:57<00:41,  2.29it/s]"
     ]
    },
    {
     "name": "stdout",
     "output_type": "stream",
     "text": [
      "Start frame: 84749\tEnd Frame: 85124\n",
      "Computation reduction from downsampling & caching: 0.968000\n"
     ]
    },
    {
     "name": "stderr",
     "output_type": "stream",
     "text": [
      "Processing Frames:  67%|███████████████████████████████████████████████████████████████████████████▏                                     | 187/281 [02:57<00:48,  1.95it/s]"
     ]
    },
    {
     "name": "stdout",
     "output_type": "stream",
     "text": [
      "Start frame: 85124\tEnd Frame: 85499\n",
      "No faces detected by index; Skipping scene.\n",
      "Start frame: 85499\tEnd Frame: 85874\n",
      "Computation reduction from downsampling & caching: 0.968000\n"
     ]
    },
    {
     "name": "stderr",
     "output_type": "stream",
     "text": [
      "Processing Frames:  67%|████████████████████████████████████████████████████████████████████████████                                     | 189/281 [02:59<00:53,  1.73it/s]"
     ]
    },
    {
     "name": "stdout",
     "output_type": "stream",
     "text": [
      "Start frame: 85874\tEnd Frame: 86249\n",
      "Computation reduction from downsampling & caching: 0.968000\n"
     ]
    },
    {
     "name": "stderr",
     "output_type": "stream",
     "text": [
      "Processing Frames:  68%|████████████████████████████████████████████████████████████████████████████▍                                    | 190/281 [03:01<01:26,  1.05it/s]"
     ]
    },
    {
     "name": "stdout",
     "output_type": "stream",
     "text": [
      "Start frame: 86249\tEnd Frame: 86624\n",
      "Computation reduction from downsampling & caching: 0.968000\n"
     ]
    },
    {
     "name": "stderr",
     "output_type": "stream",
     "text": [
      "Processing Frames:  68%|████████████████████████████████████████████████████████████████████████████▊                                    | 191/281 [03:03<01:43,  1.16s/it]"
     ]
    },
    {
     "name": "stdout",
     "output_type": "stream",
     "text": [
      "Start frame: 86624\tEnd Frame: 86999\n",
      "Computation reduction from downsampling & caching: 0.968000\n"
     ]
    },
    {
     "name": "stderr",
     "output_type": "stream",
     "text": [
      "Processing Frames:  68%|█████████████████████████████████████████████████████████████████████████████▏                                   | 192/281 [03:05<01:57,  1.32s/it]"
     ]
    },
    {
     "name": "stdout",
     "output_type": "stream",
     "text": [
      "Start frame: 86999\tEnd Frame: 87374\n",
      "Computation reduction from downsampling & caching: 0.968000\n"
     ]
    },
    {
     "name": "stderr",
     "output_type": "stream",
     "text": [
      "Processing Frames:  69%|█████████████████████████████████████████████████████████████████████████████▌                                   | 193/281 [03:07<02:05,  1.43s/it]"
     ]
    },
    {
     "name": "stdout",
     "output_type": "stream",
     "text": [
      "Start frame: 87374\tEnd Frame: 87749\n",
      "Computation reduction from downsampling & caching: 0.968000\n"
     ]
    },
    {
     "name": "stderr",
     "output_type": "stream",
     "text": [
      "Processing Frames:  69%|██████████████████████████████████████████████████████████████████████████████                                   | 194/281 [03:09<02:14,  1.55s/it]"
     ]
    },
    {
     "name": "stdout",
     "output_type": "stream",
     "text": [
      "Start frame: 87749\tEnd Frame: 88124\n",
      "Computation reduction from downsampling & caching: 0.968000\n"
     ]
    },
    {
     "name": "stderr",
     "output_type": "stream",
     "text": [
      "Processing Frames:  69%|██████████████████████████████████████████████████████████████████████████████▍                                  | 195/281 [03:10<02:02,  1.43s/it]"
     ]
    },
    {
     "name": "stdout",
     "output_type": "stream",
     "text": [
      "Start frame: 88124\tEnd Frame: 88499\n",
      "No faces detected by index; Skipping scene.\n",
      "Start frame: 88499\tEnd Frame: 88874\n",
      "Computation reduction from downsampling & caching: 0.968000\n"
     ]
    },
    {
     "name": "stderr",
     "output_type": "stream",
     "text": [
      "Processing Frames:  70%|███████████████████████████████████████████████████████████████████████████████▏                                 | 197/281 [03:11<01:30,  1.08s/it]"
     ]
    },
    {
     "name": "stdout",
     "output_type": "stream",
     "text": [
      "Start frame: 88874\tEnd Frame: 89249\n",
      "Computation reduction from downsampling & caching: 0.968000\n"
     ]
    },
    {
     "name": "stderr",
     "output_type": "stream",
     "text": [
      "Processing Frames:  70%|███████████████████████████████████████████████████████████████████████████████▌                                 | 198/281 [03:13<01:40,  1.21s/it]"
     ]
    },
    {
     "name": "stdout",
     "output_type": "stream",
     "text": [
      "Start frame: 89249\tEnd Frame: 89624\n",
      "Computation reduction from downsampling & caching: 0.968000\n"
     ]
    },
    {
     "name": "stderr",
     "output_type": "stream",
     "text": [
      "Processing Frames:  71%|████████████████████████████████████████████████████████████████████████████████                                 | 199/281 [03:15<01:53,  1.39s/it]"
     ]
    },
    {
     "name": "stdout",
     "output_type": "stream",
     "text": [
      "Start frame: 89624\tEnd Frame: 89999\n",
      "Computation reduction from downsampling & caching: 0.968000\n"
     ]
    },
    {
     "name": "stderr",
     "output_type": "stream",
     "text": [
      "Processing Frames:  71%|████████████████████████████████████████████████████████████████████████████████▍                                | 200/281 [03:16<01:58,  1.46s/it]"
     ]
    },
    {
     "name": "stdout",
     "output_type": "stream",
     "text": [
      "Start frame: 89999\tEnd Frame: 90374\n",
      "Computation reduction from downsampling & caching: 0.968000\n"
     ]
    },
    {
     "name": "stderr",
     "output_type": "stream",
     "text": [
      "Processing Frames:  72%|████████████████████████████████████████████████████████████████████████████████▊                                | 201/281 [03:18<02:08,  1.60s/it]"
     ]
    },
    {
     "name": "stdout",
     "output_type": "stream",
     "text": [
      "Start frame: 90374\tEnd Frame: 90749\n",
      "Computation reduction from downsampling & caching: 0.968000\n"
     ]
    },
    {
     "name": "stderr",
     "output_type": "stream",
     "text": [
      "Processing Frames:  72%|█████████████████████████████████████████████████████████████████████████████████▏                               | 202/281 [03:21<02:27,  1.87s/it]"
     ]
    },
    {
     "name": "stdout",
     "output_type": "stream",
     "text": [
      "Start frame: 90749\tEnd Frame: 91124\n",
      "Computation reduction from downsampling & caching: 0.968000\n"
     ]
    },
    {
     "name": "stderr",
     "output_type": "stream",
     "text": [
      "Processing Frames:  72%|█████████████████████████████████████████████████████████████████████████████████▋                               | 203/281 [03:23<02:21,  1.82s/it]"
     ]
    },
    {
     "name": "stdout",
     "output_type": "stream",
     "text": [
      "Start frame: 91124\tEnd Frame: 91499\n",
      "No faces detected by index; Skipping scene.\n",
      "Start frame: 91499\tEnd Frame: 91874\n",
      "Computation reduction from downsampling & caching: 0.968000\n"
     ]
    },
    {
     "name": "stderr",
     "output_type": "stream",
     "text": [
      "Processing Frames:  73%|██████████████████████████████████████████████████████████████████████████████████▍                              | 205/281 [03:25<01:59,  1.57s/it]"
     ]
    },
    {
     "name": "stdout",
     "output_type": "stream",
     "text": [
      "Start frame: 91874\tEnd Frame: 92249\n",
      "Computation reduction from downsampling & caching: 0.968000\n"
     ]
    },
    {
     "name": "stderr",
     "output_type": "stream",
     "text": [
      "Processing Frames:  73%|██████████████████████████████████████████████████████████████████████████████████▊                              | 206/281 [03:27<01:56,  1.56s/it]"
     ]
    },
    {
     "name": "stdout",
     "output_type": "stream",
     "text": [
      "Start frame: 92249\tEnd Frame: 92624\n",
      "Computation reduction from downsampling & caching: 0.968000\n"
     ]
    },
    {
     "name": "stderr",
     "output_type": "stream",
     "text": [
      "Processing Frames:  74%|███████████████████████████████████████████████████████████████████████████████████▏                             | 207/281 [03:28<01:56,  1.57s/it]"
     ]
    },
    {
     "name": "stdout",
     "output_type": "stream",
     "text": [
      "Start frame: 92624\tEnd Frame: 92999\n",
      "Computation reduction from downsampling & caching: 0.968000\n"
     ]
    },
    {
     "name": "stderr",
     "output_type": "stream",
     "text": [
      "Processing Frames:  74%|███████████████████████████████████████████████████████████████████████████████████▋                             | 208/281 [03:30<02:06,  1.74s/it]"
     ]
    },
    {
     "name": "stdout",
     "output_type": "stream",
     "text": [
      "Start frame: 92999\tEnd Frame: 93374\n",
      "Computation reduction from downsampling & caching: 0.968000\n"
     ]
    },
    {
     "name": "stderr",
     "output_type": "stream",
     "text": [
      "Processing Frames:  74%|████████████████████████████████████████████████████████████████████████████████████                             | 209/281 [03:32<02:12,  1.84s/it]"
     ]
    },
    {
     "name": "stdout",
     "output_type": "stream",
     "text": [
      "Start frame: 93374\tEnd Frame: 93749\n",
      "Computation reduction from downsampling & caching: 0.968000\n"
     ]
    },
    {
     "name": "stderr",
     "output_type": "stream",
     "text": [
      "Processing Frames:  75%|████████████████████████████████████████████████████████████████████████████████████▍                            | 210/281 [03:34<02:00,  1.70s/it]"
     ]
    },
    {
     "name": "stdout",
     "output_type": "stream",
     "text": [
      "Start frame: 93749\tEnd Frame: 94124\n",
      "Computation reduction from downsampling & caching: 0.968000\n"
     ]
    },
    {
     "name": "stderr",
     "output_type": "stream",
     "text": [
      "Processing Frames:  75%|████████████████████████████████████████████████████████████████████████████████████▊                            | 211/281 [03:36<02:00,  1.73s/it]"
     ]
    },
    {
     "name": "stdout",
     "output_type": "stream",
     "text": [
      "Start frame: 94124\tEnd Frame: 94499\n",
      "Computation reduction from downsampling & caching: 0.968000\n"
     ]
    },
    {
     "name": "stderr",
     "output_type": "stream",
     "text": [
      "Processing Frames:  75%|█████████████████████████████████████████████████████████████████████████████████████▎                           | 212/281 [03:38<02:11,  1.90s/it]"
     ]
    },
    {
     "name": "stdout",
     "output_type": "stream",
     "text": [
      "Start frame: 94499\tEnd Frame: 94874\n",
      "Computation reduction from downsampling & caching: 0.968000\n"
     ]
    },
    {
     "name": "stderr",
     "output_type": "stream",
     "text": [
      "Processing Frames:  76%|█████████████████████████████████████████████████████████████████████████████████████▋                           | 213/281 [03:40<02:04,  1.84s/it]"
     ]
    },
    {
     "name": "stdout",
     "output_type": "stream",
     "text": [
      "Start frame: 94874\tEnd Frame: 95249\n",
      "Computation reduction from downsampling & caching: 0.968000\n"
     ]
    },
    {
     "name": "stderr",
     "output_type": "stream",
     "text": [
      "Processing Frames:  76%|██████████████████████████████████████████████████████████████████████████████████████                           | 214/281 [03:41<01:50,  1.64s/it]"
     ]
    },
    {
     "name": "stdout",
     "output_type": "stream",
     "text": [
      "Start frame: 95249\tEnd Frame: 95624\n",
      "Computation reduction from downsampling & caching: 0.968000\n"
     ]
    },
    {
     "name": "stderr",
     "output_type": "stream",
     "text": [
      "Processing Frames:  77%|██████████████████████████████████████████████████████████████████████████████████████▍                          | 215/281 [03:43<01:57,  1.77s/it]"
     ]
    },
    {
     "name": "stdout",
     "output_type": "stream",
     "text": [
      "Start frame: 95624\tEnd Frame: 95999\n",
      "Computation reduction from downsampling & caching: 0.968000\n"
     ]
    },
    {
     "name": "stderr",
     "output_type": "stream",
     "text": [
      "Processing Frames:  77%|██████████████████████████████████████████████████████████████████████████████████████▊                          | 216/281 [03:44<01:41,  1.56s/it]"
     ]
    },
    {
     "name": "stdout",
     "output_type": "stream",
     "text": [
      "Start frame: 95999\tEnd Frame: 96374\n",
      "Computation reduction from downsampling & caching: 0.968000\n"
     ]
    },
    {
     "name": "stderr",
     "output_type": "stream",
     "text": [
      "Processing Frames:  77%|███████████████████████████████████████████████████████████████████████████████████████▎                         | 217/281 [03:46<01:42,  1.60s/it]"
     ]
    },
    {
     "name": "stdout",
     "output_type": "stream",
     "text": [
      "Start frame: 96374\tEnd Frame: 96749\n",
      "Computation reduction from downsampling & caching: 0.968000\n"
     ]
    },
    {
     "name": "stderr",
     "output_type": "stream",
     "text": [
      "Processing Frames:  78%|███████████████████████████████████████████████████████████████████████████████████████▋                         | 218/281 [03:47<01:37,  1.54s/it]"
     ]
    },
    {
     "name": "stdout",
     "output_type": "stream",
     "text": [
      "Start frame: 96749\tEnd Frame: 97124\n",
      "Computation reduction from downsampling & caching: 0.968000\n"
     ]
    },
    {
     "name": "stderr",
     "output_type": "stream",
     "text": [
      "Processing Frames:  78%|████████████████████████████████████████████████████████████████████████████████████████                         | 219/281 [03:49<01:40,  1.62s/it]"
     ]
    },
    {
     "name": "stdout",
     "output_type": "stream",
     "text": [
      "Start frame: 97124\tEnd Frame: 97499\n",
      "No faces detected by index; Skipping scene.\n",
      "Start frame: 97499\tEnd Frame: 97874\n",
      "Computation reduction from downsampling & caching: 0.968000\n"
     ]
    },
    {
     "name": "stderr",
     "output_type": "stream",
     "text": [
      "Processing Frames:  79%|████████████████████████████████████████████████████████████████████████████████████████▊                        | 221/281 [03:50<01:06,  1.11s/it]"
     ]
    },
    {
     "name": "stdout",
     "output_type": "stream",
     "text": [
      "Start frame: 97874\tEnd Frame: 98249\n",
      "Computation reduction from downsampling & caching: 0.968000\n"
     ]
    },
    {
     "name": "stderr",
     "output_type": "stream",
     "text": [
      "Processing Frames:  79%|█████████████████████████████████████████████████████████████████████████████████████████▎                       | 222/281 [03:51<01:05,  1.11s/it]"
     ]
    },
    {
     "name": "stdout",
     "output_type": "stream",
     "text": [
      "Start frame: 98249\tEnd Frame: 98624\n",
      "Computation reduction from downsampling & caching: 0.968000\n"
     ]
    },
    {
     "name": "stderr",
     "output_type": "stream",
     "text": [
      "Processing Frames:  79%|█████████████████████████████████████████████████████████████████████████████████████████▋                       | 223/281 [03:52<01:04,  1.11s/it]"
     ]
    },
    {
     "name": "stdout",
     "output_type": "stream",
     "text": [
      "Start frame: 98624\tEnd Frame: 98999\n",
      "Computation reduction from downsampling & caching: 0.968000\n"
     ]
    },
    {
     "name": "stderr",
     "output_type": "stream",
     "text": [
      "Processing Frames:  80%|██████████████████████████████████████████████████████████████████████████████████████████                       | 224/281 [03:53<01:04,  1.13s/it]"
     ]
    },
    {
     "name": "stdout",
     "output_type": "stream",
     "text": [
      "Start frame: 98999\tEnd Frame: 99374\n",
      "No faces detected by index; Skipping scene.\n",
      "Start frame: 99374\tEnd Frame: 99749\n",
      "No faces detected by index; Skipping scene.\n",
      "Start frame: 99749\tEnd Frame: 100124\n",
      "No faces detected by index; Skipping scene.\n",
      "Start frame: 100124\tEnd Frame: 100499\n",
      "No faces detected by index; Skipping scene.\n",
      "Start frame: 100499\tEnd Frame: 100874\n",
      "Computation reduction from downsampling & caching: 0.968000\n"
     ]
    },
    {
     "name": "stderr",
     "output_type": "stream",
     "text": [
      "Processing Frames:  81%|████████████████████████████████████████████████████████████████████████████████████████████                     | 229/281 [03:54<00:26,  1.96it/s]"
     ]
    },
    {
     "name": "stdout",
     "output_type": "stream",
     "text": [
      "Start frame: 100874\tEnd Frame: 101249\n",
      "Computation reduction from downsampling & caching: 0.968000\n"
     ]
    },
    {
     "name": "stderr",
     "output_type": "stream",
     "text": [
      "Processing Frames:  82%|████████████████████████████████████████████████████████████████████████████████████████████▍                    | 230/281 [03:55<00:31,  1.63it/s]"
     ]
    },
    {
     "name": "stdout",
     "output_type": "stream",
     "text": [
      "Start frame: 101249\tEnd Frame: 101624\n",
      "Computation reduction from downsampling & caching: 0.968000\n"
     ]
    },
    {
     "name": "stderr",
     "output_type": "stream",
     "text": [
      "Processing Frames:  82%|████████████████████████████████████████████████████████████████████████████████████████████▉                    | 231/281 [03:57<00:35,  1.41it/s]"
     ]
    },
    {
     "name": "stdout",
     "output_type": "stream",
     "text": [
      "Start frame: 101624\tEnd Frame: 101999\n",
      "No faces detected by index; Skipping scene.\n",
      "Start frame: 101999\tEnd Frame: 102374\n",
      "No faces detected by index; Skipping scene.\n",
      "Start frame: 102374\tEnd Frame: 102749\n",
      "No faces detected by index; Skipping scene.\n",
      "Start frame: 102749\tEnd Frame: 103124\n",
      "No faces detected by index; Skipping scene.\n",
      "Start frame: 103124\tEnd Frame: 103499\n",
      "No faces detected by index; Skipping scene.\n",
      "Start frame: 103499\tEnd Frame: 103874\n",
      "Computation reduction from downsampling & caching: 0.968000\n"
     ]
    },
    {
     "name": "stderr",
     "output_type": "stream",
     "text": [
      "Processing Frames:  84%|███████████████████████████████████████████████████████████████████████████████████████████████▎                 | 237/281 [03:58<00:17,  2.52it/s]"
     ]
    },
    {
     "name": "stdout",
     "output_type": "stream",
     "text": [
      "Start frame: 103874\tEnd Frame: 104249\n",
      "Computation reduction from downsampling & caching: 0.968000\n"
     ]
    },
    {
     "name": "stderr",
     "output_type": "stream",
     "text": [
      "Processing Frames:  85%|███████████████████████████████████████████████████████████████████████████████████████████████▋                 | 238/281 [03:59<00:20,  2.13it/s]"
     ]
    },
    {
     "name": "stdout",
     "output_type": "stream",
     "text": [
      "Start frame: 104249\tEnd Frame: 104624\n",
      "No faces detected by index; Skipping scene.\n",
      "Start frame: 104624\tEnd Frame: 104999\n",
      "Computation reduction from downsampling & caching: 0.968000\n"
     ]
    },
    {
     "name": "stderr",
     "output_type": "stream",
     "text": [
      "Processing Frames:  85%|████████████████████████████████████████████████████████████████████████████████████████████████▌                | 240/281 [04:00<00:19,  2.12it/s]"
     ]
    },
    {
     "name": "stdout",
     "output_type": "stream",
     "text": [
      "Start frame: 104999\tEnd Frame: 105374\n",
      "Computation reduction from downsampling & caching: 0.968000\n"
     ]
    },
    {
     "name": "stderr",
     "output_type": "stream",
     "text": [
      "Processing Frames:  86%|████████████████████████████████████████████████████████████████████████████████████████████████▉                | 241/281 [04:00<00:21,  1.88it/s]"
     ]
    },
    {
     "name": "stdout",
     "output_type": "stream",
     "text": [
      "Start frame: 105374\tEnd Frame: 105749\n",
      "No faces detected by index; Skipping scene.\n",
      "Start frame: 105749\tEnd Frame: 106124\n",
      "Computation reduction from downsampling & caching: 0.968000\n"
     ]
    },
    {
     "name": "stderr",
     "output_type": "stream",
     "text": [
      "Processing Frames:  86%|█████████████████████████████████████████████████████████████████████████████████████████████████▋               | 243/281 [04:01<00:19,  1.90it/s]"
     ]
    },
    {
     "name": "stdout",
     "output_type": "stream",
     "text": [
      "Start frame: 106124\tEnd Frame: 106499\n",
      "Computation reduction from downsampling & caching: 0.968000\n"
     ]
    },
    {
     "name": "stderr",
     "output_type": "stream",
     "text": [
      "Processing Frames:  87%|██████████████████████████████████████████████████████████████████████████████████████████████████               | 244/281 [04:02<00:21,  1.69it/s]"
     ]
    },
    {
     "name": "stdout",
     "output_type": "stream",
     "text": [
      "Start frame: 106499\tEnd Frame: 106874\n",
      "No faces detected by index; Skipping scene.\n",
      "Start frame: 106874\tEnd Frame: 107249\n",
      "No faces detected by index; Skipping scene.\n",
      "Start frame: 107249\tEnd Frame: 107624\n",
      "Computation reduction from downsampling & caching: 0.968000\n"
     ]
    },
    {
     "name": "stderr",
     "output_type": "stream",
     "text": [
      "Processing Frames:  88%|███████████████████████████████████████████████████████████████████████████████████████████████████▎             | 247/281 [04:03<00:16,  2.02it/s]"
     ]
    },
    {
     "name": "stdout",
     "output_type": "stream",
     "text": [
      "Start frame: 107624\tEnd Frame: 107999\n",
      "Computation reduction from downsampling & caching: 0.968000\n"
     ]
    },
    {
     "name": "stderr",
     "output_type": "stream",
     "text": [
      "Processing Frames:  88%|███████████████████████████████████████████████████████████████████████████████████████████████████▋             | 248/281 [04:04<00:19,  1.72it/s]"
     ]
    },
    {
     "name": "stdout",
     "output_type": "stream",
     "text": [
      "Start frame: 107999\tEnd Frame: 108374\n",
      "No faces detected by index; Skipping scene.\n",
      "Start frame: 108374\tEnd Frame: 108749\n",
      "Computation reduction from downsampling & caching: 0.968000\n"
     ]
    },
    {
     "name": "stderr",
     "output_type": "stream",
     "text": [
      "Processing Frames:  89%|████████████████████████████████████████████████████████████████████████████████████████████████████▌            | 250/281 [04:06<00:17,  1.75it/s]"
     ]
    },
    {
     "name": "stdout",
     "output_type": "stream",
     "text": [
      "Start frame: 108749\tEnd Frame: 109124\n",
      "Computation reduction from downsampling & caching: 0.968000\n"
     ]
    },
    {
     "name": "stderr",
     "output_type": "stream",
     "text": [
      "Processing Frames:  89%|████████████████████████████████████████████████████████████████████████████████████████████████████▉            | 251/281 [04:06<00:18,  1.58it/s]"
     ]
    },
    {
     "name": "stdout",
     "output_type": "stream",
     "text": [
      "Start frame: 109124\tEnd Frame: 109499\n",
      "No faces detected by index; Skipping scene.\n",
      "Start frame: 109499\tEnd Frame: 109874\n",
      "No faces detected by index; Skipping scene.\n",
      "Start frame: 109874\tEnd Frame: 110249\n",
      "No faces detected by index; Skipping scene.\n",
      "Start frame: 110249\tEnd Frame: 110624\n",
      "Computation reduction from downsampling & caching: 0.968000\n"
     ]
    },
    {
     "name": "stderr",
     "output_type": "stream",
     "text": [
      "Processing Frames:  91%|██████████████████████████████████████████████████████████████████████████████████████████████████████▌          | 255/281 [04:07<00:10,  2.39it/s]"
     ]
    },
    {
     "name": "stdout",
     "output_type": "stream",
     "text": [
      "Start frame: 110624\tEnd Frame: 110999\n",
      "Computation reduction from downsampling & caching: 0.968000\n"
     ]
    },
    {
     "name": "stderr",
     "output_type": "stream",
     "text": [
      "Processing Frames:  91%|██████████████████████████████████████████████████████████████████████████████████████████████████████▉          | 256/281 [04:08<00:12,  2.07it/s]"
     ]
    },
    {
     "name": "stdout",
     "output_type": "stream",
     "text": [
      "Start frame: 110999\tEnd Frame: 111374\n",
      "Computation reduction from downsampling & caching: 0.968000\n"
     ]
    },
    {
     "name": "stderr",
     "output_type": "stream",
     "text": [
      "Processing Frames:  91%|███████████████████████████████████████████████████████████████████████████████████████████████████████▎         | 257/281 [04:09<00:12,  1.87it/s]"
     ]
    },
    {
     "name": "stdout",
     "output_type": "stream",
     "text": [
      "Start frame: 111374\tEnd Frame: 111749\n",
      "No faces detected by index; Skipping scene.\n",
      "Start frame: 111749\tEnd Frame: 112124\n",
      "Computation reduction from downsampling & caching: 0.968000\n"
     ]
    },
    {
     "name": "stderr",
     "output_type": "stream",
     "text": [
      "Processing Frames:  92%|████████████████████████████████████████████████████████████████████████████████████████████████████████▏        | 259/281 [04:10<00:10,  2.09it/s]"
     ]
    },
    {
     "name": "stdout",
     "output_type": "stream",
     "text": [
      "Start frame: 112124\tEnd Frame: 112499\n",
      "Computation reduction from downsampling & caching: 0.968000\n"
     ]
    },
    {
     "name": "stderr",
     "output_type": "stream",
     "text": [
      "Processing Frames:  93%|████████████████████████████████████████████████████████████████████████████████████████████████████████▌        | 260/281 [04:11<00:12,  1.69it/s]"
     ]
    },
    {
     "name": "stdout",
     "output_type": "stream",
     "text": [
      "Start frame: 112499\tEnd Frame: 112874\n",
      "Computation reduction from downsampling & caching: 0.968000\n"
     ]
    },
    {
     "name": "stderr",
     "output_type": "stream",
     "text": [
      "Processing Frames:  93%|████████████████████████████████████████████████████████████████████████████████████████████████████████▉        | 261/281 [04:12<00:13,  1.51it/s]"
     ]
    },
    {
     "name": "stdout",
     "output_type": "stream",
     "text": [
      "Start frame: 112874\tEnd Frame: 113249\n",
      "Computation reduction from downsampling & caching: 0.968000\n"
     ]
    },
    {
     "name": "stderr",
     "output_type": "stream",
     "text": [
      "Processing Frames:  93%|█████████████████████████████████████████████████████████████████████████████████████████████████████████▎       | 262/281 [04:12<00:13,  1.46it/s]"
     ]
    },
    {
     "name": "stdout",
     "output_type": "stream",
     "text": [
      "Start frame: 113249\tEnd Frame: 113624\n",
      "No faces detected by index; Skipping scene.\n",
      "Start frame: 113624\tEnd Frame: 113999\n",
      "No faces detected by index; Skipping scene.\n",
      "Start frame: 113999\tEnd Frame: 114374\n",
      "Computation reduction from downsampling & caching: 0.968000\n"
     ]
    },
    {
     "name": "stderr",
     "output_type": "stream",
     "text": [
      "Processing Frames:  94%|██████████████████████████████████████████████████████████████████████████████████████████████████████████▌      | 265/281 [04:13<00:07,  2.07it/s]"
     ]
    },
    {
     "name": "stdout",
     "output_type": "stream",
     "text": [
      "Start frame: 114374\tEnd Frame: 114749\n",
      "Computation reduction from downsampling & caching: 0.968000\n"
     ]
    },
    {
     "name": "stderr",
     "output_type": "stream",
     "text": [
      "Processing Frames:  95%|██████████████████████████████████████████████████████████████████████████████████████████████████████████▉      | 266/281 [04:14<00:08,  1.80it/s]"
     ]
    },
    {
     "name": "stdout",
     "output_type": "stream",
     "text": [
      "Start frame: 114749\tEnd Frame: 115124\n",
      "Computation reduction from downsampling & caching: 0.968000\n"
     ]
    },
    {
     "name": "stderr",
     "output_type": "stream",
     "text": [
      "Processing Frames:  95%|███████████████████████████████████████████████████████████████████████████████████████████████████████████▎     | 267/281 [04:15<00:08,  1.65it/s]"
     ]
    },
    {
     "name": "stdout",
     "output_type": "stream",
     "text": [
      "Start frame: 115124\tEnd Frame: 115499\n",
      "Computation reduction from downsampling & caching: 0.968000\n"
     ]
    },
    {
     "name": "stderr",
     "output_type": "stream",
     "text": [
      "Processing Frames:  95%|███████████████████████████████████████████████████████████████████████████████████████████████████████████▊     | 268/281 [04:16<00:08,  1.45it/s]"
     ]
    },
    {
     "name": "stdout",
     "output_type": "stream",
     "text": [
      "Start frame: 115499\tEnd Frame: 115874\n",
      "Computation reduction from downsampling & caching: 0.968000\n"
     ]
    },
    {
     "name": "stderr",
     "output_type": "stream",
     "text": [
      "Processing Frames:  96%|████████████████████████████████████████████████████████████████████████████████████████████████████████████▏    | 269/281 [04:17<00:08,  1.35it/s]"
     ]
    },
    {
     "name": "stdout",
     "output_type": "stream",
     "text": [
      "Start frame: 115874\tEnd Frame: 116249\n",
      "Computation reduction from downsampling & caching: 0.968000\n"
     ]
    },
    {
     "name": "stderr",
     "output_type": "stream",
     "text": [
      "Processing Frames:  96%|████████████████████████████████████████████████████████████████████████████████████████████████████████████▌    | 270/281 [04:18<00:08,  1.31it/s]"
     ]
    },
    {
     "name": "stdout",
     "output_type": "stream",
     "text": [
      "Start frame: 116249\tEnd Frame: 116624\n",
      "No faces detected by index; Skipping scene.\n",
      "Start frame: 116624\tEnd Frame: 116999\n",
      "No faces detected by index; Skipping scene.\n",
      "Start frame: 116999\tEnd Frame: 117374\n",
      "No faces detected by index; Skipping scene.\n",
      "Start frame: 117374\tEnd Frame: 117749\n",
      "No faces detected by index; Skipping scene.\n",
      "Start frame: 117749\tEnd Frame: 118124\n",
      "No faces detected by index; Skipping scene.\n",
      "Start frame: 118124\tEnd Frame: 118499\n",
      "Computation reduction from downsampling & caching: 0.968000\n"
     ]
    },
    {
     "name": "stderr",
     "output_type": "stream",
     "text": [
      "Processing Frames:  98%|██████████████████████████████████████████████████████████████████████████████████████████████████████████████▉  | 276/281 [04:19<00:01,  2.75it/s]"
     ]
    },
    {
     "name": "stdout",
     "output_type": "stream",
     "text": [
      "Start frame: 118499\tEnd Frame: 118874\n",
      "Computation reduction from downsampling & caching: 0.968000\n"
     ]
    },
    {
     "name": "stderr",
     "output_type": "stream",
     "text": [
      "Processing Frames:  99%|███████████████████████████████████████████████████████████████████████████████████████████████████████████████▍ | 277/281 [04:20<00:02,  1.99it/s]"
     ]
    },
    {
     "name": "stdout",
     "output_type": "stream",
     "text": [
      "Start frame: 118874\tEnd Frame: 119249\n",
      "Computation reduction from downsampling & caching: 0.968000\n"
     ]
    },
    {
     "name": "stderr",
     "output_type": "stream",
     "text": [
      "Processing Frames:  99%|███████████████████████████████████████████████████████████████████████████████████████████████████████████████▊ | 278/281 [04:21<00:01,  1.61it/s]"
     ]
    },
    {
     "name": "stdout",
     "output_type": "stream",
     "text": [
      "Start frame: 119249\tEnd Frame: 119624\n",
      "Computation reduction from downsampling & caching: 0.968000\n"
     ]
    },
    {
     "name": "stderr",
     "output_type": "stream",
     "text": [
      "Processing Frames: 100%|█████████████████████████████████████████████████████████████████████████████████████████████████████████████████| 281/281 [04:22<00:00,  1.07it/s]\n"
     ]
    },
    {
     "name": "stdout",
     "output_type": "stream",
     "text": [
      "Start frame: 119624\tEnd Frame: 119999\n",
      "No faces detected by index; Skipping scene.\n",
      "Start frame: 119999\tEnd Frame: 120374\n",
      "No faces detected by index; Skipping scene.\n",
      "Now Processing: The Wolf Man\n",
      "Starting from minute 10, processing up to minute 69.679362\n",
      "Building num_faces index of frames from every 15 seconds\n"
     ]
    },
    {
     "name": "stderr",
     "output_type": "stream",
     "text": [
      "Building Index: 100%|████████████████████████████████████████████████████████████████████████████████████████████████████████████████████| 239/239 [00:22<00:00, 10.49it/s]\n"
     ]
    },
    {
     "name": "stdout",
     "output_type": "stream",
     "text": [
      "Processing facial scenes\n"
     ]
    },
    {
     "name": "stderr",
     "output_type": "stream",
     "text": [
      "Processing Frames:   0%|                                                                                                                           | 0/238 [00:00<?, ?it/s]"
     ]
    },
    {
     "name": "stdout",
     "output_type": "stream",
     "text": [
      "Start frame: 14385\tEnd Frame: 14745\n",
      "Computation reduction from downsampling & caching: 0.969444\n"
     ]
    },
    {
     "name": "stderr",
     "output_type": "stream",
     "text": [
      "Processing Frames:   0%|▍                                                                                                                  | 1/238 [00:01<05:35,  1.42s/it]"
     ]
    },
    {
     "name": "stdout",
     "output_type": "stream",
     "text": [
      "Start frame: 14745\tEnd Frame: 15105\n",
      "Computation reduction from downsampling & caching: 0.969444\n"
     ]
    },
    {
     "name": "stderr",
     "output_type": "stream",
     "text": [
      "Processing Frames:   1%|▉                                                                                                                  | 2/238 [00:02<05:08,  1.31s/it]"
     ]
    },
    {
     "name": "stdout",
     "output_type": "stream",
     "text": [
      "Start frame: 15105\tEnd Frame: 15465\n",
      "Computation reduction from downsampling & caching: 0.969444\n"
     ]
    },
    {
     "name": "stderr",
     "output_type": "stream",
     "text": [
      "Processing Frames:   1%|█▍                                                                                                                 | 3/238 [00:03<04:28,  1.14s/it]"
     ]
    },
    {
     "name": "stdout",
     "output_type": "stream",
     "text": [
      "Start frame: 15465\tEnd Frame: 15825\n",
      "No faces detected by index; Skipping scene.\n",
      "Start frame: 15825\tEnd Frame: 16185\n",
      "Computation reduction from downsampling & caching: 0.969444\n"
     ]
    },
    {
     "name": "stderr",
     "output_type": "stream",
     "text": [
      "Processing Frames:   2%|██▍                                                                                                                | 5/238 [00:04<03:04,  1.26it/s]"
     ]
    },
    {
     "name": "stdout",
     "output_type": "stream",
     "text": [
      "Start frame: 16185\tEnd Frame: 16545\n",
      "Computation reduction from downsampling & caching: 0.969444\n"
     ]
    },
    {
     "name": "stderr",
     "output_type": "stream",
     "text": [
      "Processing Frames:   3%|██▉                                                                                                                | 6/238 [00:05<03:26,  1.12it/s]"
     ]
    },
    {
     "name": "stdout",
     "output_type": "stream",
     "text": [
      "Start frame: 16545\tEnd Frame: 16905\n",
      "Computation reduction from downsampling & caching: 0.969444\n"
     ]
    },
    {
     "name": "stderr",
     "output_type": "stream",
     "text": [
      "Processing Frames:   3%|███▍                                                                                                               | 7/238 [00:06<03:40,  1.05it/s]"
     ]
    },
    {
     "name": "stdout",
     "output_type": "stream",
     "text": [
      "Start frame: 16905\tEnd Frame: 17265\n",
      "Computation reduction from downsampling & caching: 0.969444\n"
     ]
    },
    {
     "name": "stderr",
     "output_type": "stream",
     "text": [
      "Processing Frames:   3%|███▊                                                                                                               | 8/238 [00:08<04:08,  1.08s/it]"
     ]
    },
    {
     "name": "stdout",
     "output_type": "stream",
     "text": [
      "Start frame: 17265\tEnd Frame: 17625\n",
      "Computation reduction from downsampling & caching: 0.969444\n"
     ]
    },
    {
     "name": "stderr",
     "output_type": "stream",
     "text": [
      "Processing Frames:   4%|████▎                                                                                                              | 9/238 [00:09<04:05,  1.07s/it]"
     ]
    },
    {
     "name": "stdout",
     "output_type": "stream",
     "text": [
      "Start frame: 17625\tEnd Frame: 17985\n",
      "Computation reduction from downsampling & caching: 0.969444\n"
     ]
    },
    {
     "name": "stderr",
     "output_type": "stream",
     "text": [
      "Processing Frames:   4%|████▊                                                                                                             | 10/238 [00:10<04:00,  1.06s/it]"
     ]
    },
    {
     "name": "stdout",
     "output_type": "stream",
     "text": [
      "Start frame: 17985\tEnd Frame: 18345\n",
      "Computation reduction from downsampling & caching: 0.969444\n"
     ]
    },
    {
     "name": "stderr",
     "output_type": "stream",
     "text": [
      "Processing Frames:   5%|█████▎                                                                                                            | 11/238 [00:11<04:16,  1.13s/it]"
     ]
    },
    {
     "name": "stdout",
     "output_type": "stream",
     "text": [
      "Start frame: 18345\tEnd Frame: 18705\n",
      "Computation reduction from downsampling & caching: 0.969444\n"
     ]
    },
    {
     "name": "stderr",
     "output_type": "stream",
     "text": [
      "Processing Frames:   5%|█████▋                                                                                                            | 12/238 [00:13<04:33,  1.21s/it]"
     ]
    },
    {
     "name": "stdout",
     "output_type": "stream",
     "text": [
      "Start frame: 18705\tEnd Frame: 19065\n",
      "Computation reduction from downsampling & caching: 0.969444\n"
     ]
    },
    {
     "name": "stderr",
     "output_type": "stream",
     "text": [
      "Processing Frames:   5%|██████▏                                                                                                           | 13/238 [00:14<04:23,  1.17s/it]"
     ]
    },
    {
     "name": "stdout",
     "output_type": "stream",
     "text": [
      "Start frame: 19065\tEnd Frame: 19425\n",
      "Computation reduction from downsampling & caching: 0.969444\n"
     ]
    },
    {
     "name": "stderr",
     "output_type": "stream",
     "text": [
      "Processing Frames:   6%|██████▋                                                                                                           | 14/238 [00:15<04:17,  1.15s/it]"
     ]
    },
    {
     "name": "stdout",
     "output_type": "stream",
     "text": [
      "Start frame: 19425\tEnd Frame: 19785\n",
      "Computation reduction from downsampling & caching: 0.969444\n"
     ]
    },
    {
     "name": "stderr",
     "output_type": "stream",
     "text": [
      "Processing Frames:   6%|███████▏                                                                                                          | 15/238 [00:16<04:19,  1.16s/it]"
     ]
    },
    {
     "name": "stdout",
     "output_type": "stream",
     "text": [
      "Start frame: 19785\tEnd Frame: 20145\n",
      "Computation reduction from downsampling & caching: 0.969444\n"
     ]
    },
    {
     "name": "stderr",
     "output_type": "stream",
     "text": [
      "Processing Frames:   7%|███████▋                                                                                                          | 16/238 [00:17<03:56,  1.07s/it]"
     ]
    },
    {
     "name": "stdout",
     "output_type": "stream",
     "text": [
      "Start frame: 20145\tEnd Frame: 20505\n",
      "Computation reduction from downsampling & caching: 0.969444\n"
     ]
    },
    {
     "name": "stderr",
     "output_type": "stream",
     "text": [
      "Processing Frames:   7%|████████▏                                                                                                         | 17/238 [00:18<03:59,  1.08s/it]"
     ]
    },
    {
     "name": "stdout",
     "output_type": "stream",
     "text": [
      "Start frame: 20505\tEnd Frame: 20865\n",
      "Computation reduction from downsampling & caching: 0.969444\n"
     ]
    },
    {
     "name": "stderr",
     "output_type": "stream",
     "text": [
      "Processing Frames:   8%|████████▌                                                                                                         | 18/238 [00:19<03:56,  1.07s/it]"
     ]
    },
    {
     "name": "stdout",
     "output_type": "stream",
     "text": [
      "Start frame: 20865\tEnd Frame: 21225\n",
      "Computation reduction from downsampling & caching: 0.969444\n"
     ]
    },
    {
     "name": "stderr",
     "output_type": "stream",
     "text": [
      "Processing Frames:   8%|█████████                                                                                                         | 19/238 [00:20<04:14,  1.16s/it]"
     ]
    },
    {
     "name": "stdout",
     "output_type": "stream",
     "text": [
      "Start frame: 21225\tEnd Frame: 21585\n",
      "Computation reduction from downsampling & caching: 0.969444\n"
     ]
    },
    {
     "name": "stderr",
     "output_type": "stream",
     "text": [
      "Processing Frames:   8%|█████████▌                                                                                                        | 20/238 [00:21<03:59,  1.10s/it]"
     ]
    },
    {
     "name": "stdout",
     "output_type": "stream",
     "text": [
      "Start frame: 21585\tEnd Frame: 21945\n",
      "No faces detected by index; Skipping scene.\n",
      "Start frame: 21945\tEnd Frame: 22305\n",
      "Computation reduction from downsampling & caching: 0.969444\n"
     ]
    },
    {
     "name": "stderr",
     "output_type": "stream",
     "text": [
      "Processing Frames:   9%|██████████▌                                                                                                       | 22/238 [00:22<02:56,  1.22it/s]"
     ]
    },
    {
     "name": "stdout",
     "output_type": "stream",
     "text": [
      "Start frame: 22305\tEnd Frame: 22665\n",
      "Computation reduction from downsampling & caching: 0.969444\n"
     ]
    },
    {
     "name": "stderr",
     "output_type": "stream",
     "text": [
      "Processing Frames:  10%|███████████                                                                                                       | 23/238 [00:23<03:09,  1.13it/s]"
     ]
    },
    {
     "name": "stdout",
     "output_type": "stream",
     "text": [
      "Start frame: 22665\tEnd Frame: 23025\n",
      "Computation reduction from downsampling & caching: 0.969444\n"
     ]
    },
    {
     "name": "stderr",
     "output_type": "stream",
     "text": [
      "Processing Frames:  10%|███████████▍                                                                                                      | 24/238 [00:24<03:16,  1.09it/s]"
     ]
    },
    {
     "name": "stdout",
     "output_type": "stream",
     "text": [
      "Start frame: 23025\tEnd Frame: 23385\n",
      "Computation reduction from downsampling & caching: 0.969444\n"
     ]
    },
    {
     "name": "stderr",
     "output_type": "stream",
     "text": [
      "Processing Frames:  11%|███████████▉                                                                                                      | 25/238 [00:26<03:42,  1.05s/it]"
     ]
    },
    {
     "name": "stdout",
     "output_type": "stream",
     "text": [
      "Start frame: 23385\tEnd Frame: 23745\n",
      "Computation reduction from downsampling & caching: 0.969444\n"
     ]
    },
    {
     "name": "stderr",
     "output_type": "stream",
     "text": [
      "Processing Frames:  11%|████████████▍                                                                                                     | 26/238 [00:27<03:35,  1.02s/it]"
     ]
    },
    {
     "name": "stdout",
     "output_type": "stream",
     "text": [
      "Start frame: 23745\tEnd Frame: 24105\n",
      "Computation reduction from downsampling & caching: 0.969444\n"
     ]
    },
    {
     "name": "stderr",
     "output_type": "stream",
     "text": [
      "Processing Frames:  11%|████████████▉                                                                                                     | 27/238 [00:28<03:31,  1.00s/it]"
     ]
    },
    {
     "name": "stdout",
     "output_type": "stream",
     "text": [
      "Start frame: 24105\tEnd Frame: 24465\n",
      "Computation reduction from downsampling & caching: 0.969444\n"
     ]
    },
    {
     "name": "stderr",
     "output_type": "stream",
     "text": [
      "Processing Frames:  12%|█████████████▍                                                                                                    | 28/238 [00:28<03:19,  1.05it/s]"
     ]
    },
    {
     "name": "stdout",
     "output_type": "stream",
     "text": [
      "Start frame: 24465\tEnd Frame: 24825\n",
      "Computation reduction from downsampling & caching: 0.969444\n"
     ]
    },
    {
     "name": "stderr",
     "output_type": "stream",
     "text": [
      "Processing Frames:  12%|█████████████▉                                                                                                    | 29/238 [00:29<03:12,  1.09it/s]"
     ]
    },
    {
     "name": "stdout",
     "output_type": "stream",
     "text": [
      "Start frame: 24825\tEnd Frame: 25185\n",
      "Computation reduction from downsampling & caching: 0.969444\n"
     ]
    },
    {
     "name": "stderr",
     "output_type": "stream",
     "text": [
      "Processing Frames:  13%|██████████████▎                                                                                                   | 30/238 [00:30<03:07,  1.11it/s]"
     ]
    },
    {
     "name": "stdout",
     "output_type": "stream",
     "text": [
      "Start frame: 25185\tEnd Frame: 25545\n",
      "No faces detected by index; Skipping scene.\n",
      "Start frame: 25545\tEnd Frame: 25905\n",
      "No faces detected by index; Skipping scene.\n",
      "Start frame: 25905\tEnd Frame: 26265\n",
      "No faces detected by index; Skipping scene.\n",
      "Start frame: 26265\tEnd Frame: 26625\n",
      "No faces detected by index; Skipping scene.\n",
      "Start frame: 26625\tEnd Frame: 26985\n",
      "No faces detected by index; Skipping scene.\n",
      "Start frame: 26985\tEnd Frame: 27345\n",
      "Computation reduction from downsampling & caching: 0.969444\n"
     ]
    },
    {
     "name": "stderr",
     "output_type": "stream",
     "text": [
      "Processing Frames:  15%|█████████████████▏                                                                                                | 36/238 [00:31<01:12,  2.80it/s]"
     ]
    },
    {
     "name": "stdout",
     "output_type": "stream",
     "text": [
      "Start frame: 27345\tEnd Frame: 27705\n",
      "Computation reduction from downsampling & caching: 0.969444\n"
     ]
    },
    {
     "name": "stderr",
     "output_type": "stream",
     "text": [
      "Processing Frames:  16%|█████████████████▋                                                                                                | 37/238 [00:32<01:27,  2.29it/s]"
     ]
    },
    {
     "name": "stdout",
     "output_type": "stream",
     "text": [
      "Start frame: 27705\tEnd Frame: 28065\n",
      "Computation reduction from downsampling & caching: 0.969444\n"
     ]
    },
    {
     "name": "stderr",
     "output_type": "stream",
     "text": [
      "Processing Frames:  16%|██████████████████▏                                                                                               | 38/238 [00:33<01:55,  1.74it/s]"
     ]
    },
    {
     "name": "stdout",
     "output_type": "stream",
     "text": [
      "Start frame: 28065\tEnd Frame: 28425\n",
      "Computation reduction from downsampling & caching: 0.969444\n"
     ]
    },
    {
     "name": "stderr",
     "output_type": "stream",
     "text": [
      "Processing Frames:  16%|██████████████████▋                                                                                               | 39/238 [00:34<02:06,  1.57it/s]"
     ]
    },
    {
     "name": "stdout",
     "output_type": "stream",
     "text": [
      "Start frame: 28425\tEnd Frame: 28785\n",
      "Computation reduction from downsampling & caching: 0.969444\n"
     ]
    },
    {
     "name": "stderr",
     "output_type": "stream",
     "text": [
      "Processing Frames:  17%|███████████████████▏                                                                                              | 40/238 [00:35<02:23,  1.38it/s]"
     ]
    },
    {
     "name": "stdout",
     "output_type": "stream",
     "text": [
      "Start frame: 28785\tEnd Frame: 29145\n",
      "Computation reduction from downsampling & caching: 0.969444\n"
     ]
    },
    {
     "name": "stderr",
     "output_type": "stream",
     "text": [
      "Processing Frames:  17%|███████████████████▋                                                                                              | 41/238 [00:36<02:40,  1.23it/s]"
     ]
    },
    {
     "name": "stdout",
     "output_type": "stream",
     "text": [
      "Start frame: 29145\tEnd Frame: 29505\n",
      "Computation reduction from downsampling & caching: 0.969444\n"
     ]
    },
    {
     "name": "stderr",
     "output_type": "stream",
     "text": [
      "Processing Frames:  18%|████████████████████                                                                                              | 42/238 [00:37<02:45,  1.19it/s]"
     ]
    },
    {
     "name": "stdout",
     "output_type": "stream",
     "text": [
      "Start frame: 29505\tEnd Frame: 29865\n",
      "Computation reduction from downsampling & caching: 0.969444\n"
     ]
    },
    {
     "name": "stderr",
     "output_type": "stream",
     "text": [
      "Processing Frames:  18%|████████████████████▌                                                                                             | 43/238 [00:38<03:02,  1.07it/s]"
     ]
    },
    {
     "name": "stdout",
     "output_type": "stream",
     "text": [
      "Start frame: 29865\tEnd Frame: 30225\n",
      "No faces detected by index; Skipping scene.\n",
      "Start frame: 30225\tEnd Frame: 30585\n",
      "No faces detected by index; Skipping scene.\n",
      "Start frame: 30585\tEnd Frame: 30945\n",
      "Computation reduction from downsampling & caching: 0.969444\n"
     ]
    },
    {
     "name": "stderr",
     "output_type": "stream",
     "text": [
      "Processing Frames:  19%|██████████████████████                                                                                            | 46/238 [00:39<02:03,  1.56it/s]"
     ]
    },
    {
     "name": "stdout",
     "output_type": "stream",
     "text": [
      "Start frame: 30945\tEnd Frame: 31305\n",
      "Computation reduction from downsampling & caching: 0.969444\n"
     ]
    },
    {
     "name": "stderr",
     "output_type": "stream",
     "text": [
      "Processing Frames:  20%|██████████████████████▌                                                                                           | 47/238 [00:41<02:21,  1.35it/s]"
     ]
    },
    {
     "name": "stdout",
     "output_type": "stream",
     "text": [
      "Start frame: 31305\tEnd Frame: 31665\n",
      "No faces detected by index; Skipping scene.\n",
      "Start frame: 31665\tEnd Frame: 32025\n",
      "No faces detected by index; Skipping scene.\n",
      "Start frame: 32025\tEnd Frame: 32385\n",
      "Computation reduction from downsampling & caching: 0.969444\n"
     ]
    },
    {
     "name": "stderr",
     "output_type": "stream",
     "text": [
      "Processing Frames:  21%|███████████████████████▉                                                                                          | 50/238 [00:42<02:00,  1.56it/s]"
     ]
    },
    {
     "name": "stdout",
     "output_type": "stream",
     "text": [
      "Start frame: 32385\tEnd Frame: 32745\n",
      "Computation reduction from downsampling & caching: 0.969444\n"
     ]
    },
    {
     "name": "stderr",
     "output_type": "stream",
     "text": [
      "Processing Frames:  21%|████████████████████████▍                                                                                         | 51/238 [00:44<02:35,  1.20it/s]"
     ]
    },
    {
     "name": "stdout",
     "output_type": "stream",
     "text": [
      "Start frame: 32745\tEnd Frame: 33105\n",
      "Computation reduction from downsampling & caching: 0.969444\n"
     ]
    },
    {
     "name": "stderr",
     "output_type": "stream",
     "text": [
      "Processing Frames:  22%|████████████████████████▉                                                                                         | 52/238 [00:46<03:06,  1.00s/it]"
     ]
    },
    {
     "name": "stdout",
     "output_type": "stream",
     "text": [
      "Start frame: 33105\tEnd Frame: 33465\n",
      "Computation reduction from downsampling & caching: 0.969444\n"
     ]
    },
    {
     "name": "stderr",
     "output_type": "stream",
     "text": [
      "Processing Frames:  22%|█████████████████████████▍                                                                                        | 53/238 [00:47<03:21,  1.09s/it]"
     ]
    },
    {
     "name": "stdout",
     "output_type": "stream",
     "text": [
      "Start frame: 33465\tEnd Frame: 33825\n",
      "Computation reduction from downsampling & caching: 0.969444\n"
     ]
    },
    {
     "name": "stderr",
     "output_type": "stream",
     "text": [
      "Processing Frames:  23%|█████████████████████████▊                                                                                        | 54/238 [00:48<03:29,  1.14s/it]"
     ]
    },
    {
     "name": "stdout",
     "output_type": "stream",
     "text": [
      "Start frame: 33825\tEnd Frame: 34185\n",
      "Computation reduction from downsampling & caching: 0.969444\n"
     ]
    },
    {
     "name": "stderr",
     "output_type": "stream",
     "text": [
      "Processing Frames:  23%|██████████████████████████▎                                                                                       | 55/238 [00:50<03:39,  1.20s/it]"
     ]
    },
    {
     "name": "stdout",
     "output_type": "stream",
     "text": [
      "Start frame: 34185\tEnd Frame: 34545\n",
      "No faces detected by index; Skipping scene.\n",
      "Start frame: 34545\tEnd Frame: 34905\n",
      "Computation reduction from downsampling & caching: 0.969444\n"
     ]
    },
    {
     "name": "stderr",
     "output_type": "stream",
     "text": [
      "Processing Frames:  24%|███████████████████████████▎                                                                                      | 57/238 [00:51<02:43,  1.11it/s]"
     ]
    },
    {
     "name": "stdout",
     "output_type": "stream",
     "text": [
      "Start frame: 34905\tEnd Frame: 35265\n",
      "Computation reduction from downsampling & caching: 0.969444\n"
     ]
    },
    {
     "name": "stderr",
     "output_type": "stream",
     "text": [
      "Processing Frames:  24%|███████████████████████████▊                                                                                      | 58/238 [00:52<02:58,  1.01it/s]"
     ]
    },
    {
     "name": "stdout",
     "output_type": "stream",
     "text": [
      "Start frame: 35265\tEnd Frame: 35625\n",
      "Computation reduction from downsampling & caching: 0.969444\n"
     ]
    },
    {
     "name": "stderr",
     "output_type": "stream",
     "text": [
      "Processing Frames:  25%|████████████████████████████▎                                                                                     | 59/238 [00:53<03:15,  1.09s/it]"
     ]
    },
    {
     "name": "stdout",
     "output_type": "stream",
     "text": [
      "Start frame: 35625\tEnd Frame: 35985\n",
      "Computation reduction from downsampling & caching: 0.969444\n"
     ]
    },
    {
     "name": "stderr",
     "output_type": "stream",
     "text": [
      "Processing Frames:  25%|████████████████████████████▋                                                                                     | 60/238 [00:55<03:27,  1.17s/it]"
     ]
    },
    {
     "name": "stdout",
     "output_type": "stream",
     "text": [
      "Start frame: 35985\tEnd Frame: 36345\n",
      "No faces detected by index; Skipping scene.\n",
      "Start frame: 36345\tEnd Frame: 36705\n",
      "No faces detected by index; Skipping scene.\n",
      "Start frame: 36705\tEnd Frame: 37065\n",
      "No faces detected by index; Skipping scene.\n",
      "Start frame: 37065\tEnd Frame: 37425\n",
      "No faces detected by index; Skipping scene.\n",
      "Start frame: 37425\tEnd Frame: 37785\n",
      "No faces detected by index; Skipping scene.\n",
      "Start frame: 37785\tEnd Frame: 38145\n",
      "No faces detected by index; Skipping scene.\n",
      "Start frame: 38145\tEnd Frame: 38505\n",
      "No faces detected by index; Skipping scene.\n",
      "Start frame: 38505\tEnd Frame: 38865\n",
      "Computation reduction from downsampling & caching: 0.969444\n"
     ]
    },
    {
     "name": "stderr",
     "output_type": "stream",
     "text": [
      "Processing Frames:  29%|████████████████████████████████▌                                                                                 | 68/238 [00:56<01:05,  2.60it/s]"
     ]
    },
    {
     "name": "stdout",
     "output_type": "stream",
     "text": [
      "Start frame: 38865\tEnd Frame: 39225\n",
      "Computation reduction from downsampling & caching: 0.969444\n"
     ]
    },
    {
     "name": "stderr",
     "output_type": "stream",
     "text": [
      "Processing Frames:  29%|█████████████████████████████████                                                                                 | 69/238 [00:57<01:21,  2.07it/s]"
     ]
    },
    {
     "name": "stdout",
     "output_type": "stream",
     "text": [
      "Start frame: 39225\tEnd Frame: 39585\n",
      "Computation reduction from downsampling & caching: 0.969444\n"
     ]
    },
    {
     "name": "stderr",
     "output_type": "stream",
     "text": [
      "Processing Frames:  29%|█████████████████████████████████▌                                                                                | 70/238 [00:58<01:31,  1.84it/s]"
     ]
    },
    {
     "name": "stdout",
     "output_type": "stream",
     "text": [
      "Start frame: 39585\tEnd Frame: 39945\n",
      "Computation reduction from downsampling & caching: 0.969444\n"
     ]
    },
    {
     "name": "stderr",
     "output_type": "stream",
     "text": [
      "Processing Frames:  30%|██████████████████████████████████                                                                                | 71/238 [00:59<01:52,  1.48it/s]"
     ]
    },
    {
     "name": "stdout",
     "output_type": "stream",
     "text": [
      "Start frame: 39945\tEnd Frame: 40305\n",
      "Computation reduction from downsampling & caching: 0.969444\n"
     ]
    },
    {
     "name": "stderr",
     "output_type": "stream",
     "text": [
      "Processing Frames:  30%|██████████████████████████████████▍                                                                               | 72/238 [01:00<02:14,  1.24it/s]"
     ]
    },
    {
     "name": "stdout",
     "output_type": "stream",
     "text": [
      "Start frame: 40305\tEnd Frame: 40665\n",
      "Computation reduction from downsampling & caching: 0.969444\n"
     ]
    },
    {
     "name": "stderr",
     "output_type": "stream",
     "text": [
      "Processing Frames:  31%|██████████████████████████████████▉                                                                               | 73/238 [01:01<02:18,  1.20it/s]"
     ]
    },
    {
     "name": "stdout",
     "output_type": "stream",
     "text": [
      "Start frame: 40665\tEnd Frame: 41025\n",
      "Computation reduction from downsampling & caching: 0.969444\n"
     ]
    },
    {
     "name": "stderr",
     "output_type": "stream",
     "text": [
      "Processing Frames:  31%|███████████████████████████████████▍                                                                              | 74/238 [01:02<02:20,  1.17it/s]"
     ]
    },
    {
     "name": "stdout",
     "output_type": "stream",
     "text": [
      "Start frame: 41025\tEnd Frame: 41385\n",
      "Computation reduction from downsampling & caching: 0.969444\n"
     ]
    },
    {
     "name": "stderr",
     "output_type": "stream",
     "text": [
      "Processing Frames:  32%|███████████████████████████████████▉                                                                              | 75/238 [01:03<02:21,  1.15it/s]"
     ]
    },
    {
     "name": "stdout",
     "output_type": "stream",
     "text": [
      "Start frame: 41385\tEnd Frame: 41745\n",
      "No faces detected by index; Skipping scene.\n",
      "Start frame: 41745\tEnd Frame: 42105\n",
      "Computation reduction from downsampling & caching: 0.969444\n"
     ]
    },
    {
     "name": "stderr",
     "output_type": "stream",
     "text": [
      "Processing Frames:  32%|████████████████████████████████████▉                                                                             | 77/238 [01:04<01:53,  1.42it/s]"
     ]
    },
    {
     "name": "stdout",
     "output_type": "stream",
     "text": [
      "Start frame: 42105\tEnd Frame: 42465\n",
      "Computation reduction from downsampling & caching: 0.969444\n"
     ]
    },
    {
     "name": "stderr",
     "output_type": "stream",
     "text": [
      "Processing Frames:  33%|█████████████████████████████████████▎                                                                            | 78/238 [01:05<02:16,  1.17it/s]"
     ]
    },
    {
     "name": "stdout",
     "output_type": "stream",
     "text": [
      "Start frame: 42465\tEnd Frame: 42825\n",
      "Computation reduction from downsampling & caching: 0.969444\n"
     ]
    },
    {
     "name": "stderr",
     "output_type": "stream",
     "text": [
      "Processing Frames:  33%|█████████████████████████████████████▊                                                                            | 79/238 [01:06<02:21,  1.12it/s]"
     ]
    },
    {
     "name": "stdout",
     "output_type": "stream",
     "text": [
      "Start frame: 42825\tEnd Frame: 43185\n",
      "Computation reduction from downsampling & caching: 0.969444\n"
     ]
    },
    {
     "name": "stderr",
     "output_type": "stream",
     "text": [
      "Processing Frames:  34%|██████████████████████████████████████▎                                                                           | 80/238 [01:08<02:32,  1.04it/s]"
     ]
    },
    {
     "name": "stdout",
     "output_type": "stream",
     "text": [
      "Start frame: 43185\tEnd Frame: 43545\n",
      "Computation reduction from downsampling & caching: 0.969444\n"
     ]
    },
    {
     "name": "stderr",
     "output_type": "stream",
     "text": [
      "Processing Frames:  34%|██████████████████████████████████████▊                                                                           | 81/238 [01:09<02:35,  1.01it/s]"
     ]
    },
    {
     "name": "stdout",
     "output_type": "stream",
     "text": [
      "Start frame: 43545\tEnd Frame: 43905\n",
      "Computation reduction from downsampling & caching: 0.969444\n"
     ]
    },
    {
     "name": "stderr",
     "output_type": "stream",
     "text": [
      "Processing Frames:  34%|███████████████████████████████████████▎                                                                          | 82/238 [01:10<02:40,  1.03s/it]"
     ]
    },
    {
     "name": "stdout",
     "output_type": "stream",
     "text": [
      "Start frame: 43905\tEnd Frame: 44265\n",
      "Computation reduction from downsampling & caching: 0.969444\n"
     ]
    },
    {
     "name": "stderr",
     "output_type": "stream",
     "text": [
      "Processing Frames:  35%|███████████████████████████████████████▊                                                                          | 83/238 [01:11<02:40,  1.04s/it]"
     ]
    },
    {
     "name": "stdout",
     "output_type": "stream",
     "text": [
      "Start frame: 44265\tEnd Frame: 44625\n",
      "Computation reduction from downsampling & caching: 0.969444\n"
     ]
    },
    {
     "name": "stderr",
     "output_type": "stream",
     "text": [
      "Processing Frames:  35%|████████████████████████████████████████▏                                                                         | 84/238 [01:12<02:38,  1.03s/it]"
     ]
    },
    {
     "name": "stdout",
     "output_type": "stream",
     "text": [
      "Start frame: 44625\tEnd Frame: 44985\n",
      "Computation reduction from downsampling & caching: 0.969444\n"
     ]
    },
    {
     "name": "stderr",
     "output_type": "stream",
     "text": [
      "Processing Frames:  36%|████████████████████████████████████████▋                                                                         | 85/238 [01:13<02:53,  1.14s/it]"
     ]
    },
    {
     "name": "stdout",
     "output_type": "stream",
     "text": [
      "Start frame: 44985\tEnd Frame: 45345\n",
      "Computation reduction from downsampling & caching: 0.969444\n"
     ]
    },
    {
     "name": "stderr",
     "output_type": "stream",
     "text": [
      "Processing Frames:  36%|█████████████████████████████████████████▏                                                                        | 86/238 [01:14<02:49,  1.12s/it]"
     ]
    },
    {
     "name": "stdout",
     "output_type": "stream",
     "text": [
      "Start frame: 45345\tEnd Frame: 45705\n",
      "Computation reduction from downsampling & caching: 0.969444\n"
     ]
    },
    {
     "name": "stderr",
     "output_type": "stream",
     "text": [
      "Processing Frames:  37%|█████████████████████████████████████████▋                                                                        | 87/238 [01:15<02:44,  1.09s/it]"
     ]
    },
    {
     "name": "stdout",
     "output_type": "stream",
     "text": [
      "Start frame: 45705\tEnd Frame: 46065\n",
      "Computation reduction from downsampling & caching: 0.969444\n"
     ]
    },
    {
     "name": "stderr",
     "output_type": "stream",
     "text": [
      "Processing Frames:  37%|██████████████████████████████████████████▏                                                                       | 88/238 [01:16<02:38,  1.05s/it]"
     ]
    },
    {
     "name": "stdout",
     "output_type": "stream",
     "text": [
      "Start frame: 46065\tEnd Frame: 46425\n",
      "Computation reduction from downsampling & caching: 0.969444\n"
     ]
    },
    {
     "name": "stderr",
     "output_type": "stream",
     "text": [
      "Processing Frames:  37%|██████████████████████████████████████████▋                                                                       | 89/238 [01:18<02:56,  1.18s/it]"
     ]
    },
    {
     "name": "stdout",
     "output_type": "stream",
     "text": [
      "Start frame: 46425\tEnd Frame: 46785\n",
      "Computation reduction from downsampling & caching: 0.969444\n"
     ]
    },
    {
     "name": "stderr",
     "output_type": "stream",
     "text": [
      "Processing Frames:  38%|███████████████████████████████████████████                                                                       | 90/238 [01:19<03:07,  1.26s/it]"
     ]
    },
    {
     "name": "stdout",
     "output_type": "stream",
     "text": [
      "Start frame: 46785\tEnd Frame: 47145\n",
      "Computation reduction from downsampling & caching: 0.969444\n"
     ]
    },
    {
     "name": "stderr",
     "output_type": "stream",
     "text": [
      "Processing Frames:  38%|███████████████████████████████████████████▌                                                                      | 91/238 [01:21<03:05,  1.26s/it]"
     ]
    },
    {
     "name": "stdout",
     "output_type": "stream",
     "text": [
      "Start frame: 47145\tEnd Frame: 47505\n",
      "Computation reduction from downsampling & caching: 0.969444\n"
     ]
    },
    {
     "name": "stderr",
     "output_type": "stream",
     "text": [
      "Processing Frames:  39%|████████████████████████████████████████████                                                                      | 92/238 [01:21<02:47,  1.15s/it]"
     ]
    },
    {
     "name": "stdout",
     "output_type": "stream",
     "text": [
      "Start frame: 47505\tEnd Frame: 47865\n",
      "Computation reduction from downsampling & caching: 0.969444\n"
     ]
    },
    {
     "name": "stderr",
     "output_type": "stream",
     "text": [
      "Processing Frames:  39%|████████████████████████████████████████████▌                                                                     | 93/238 [01:23<02:54,  1.20s/it]"
     ]
    },
    {
     "name": "stdout",
     "output_type": "stream",
     "text": [
      "Start frame: 47865\tEnd Frame: 48225\n",
      "Computation reduction from downsampling & caching: 0.969444\n"
     ]
    },
    {
     "name": "stderr",
     "output_type": "stream",
     "text": [
      "Processing Frames:  39%|█████████████████████████████████████████████                                                                     | 94/238 [01:24<03:09,  1.31s/it]"
     ]
    },
    {
     "name": "stdout",
     "output_type": "stream",
     "text": [
      "Start frame: 48225\tEnd Frame: 48585\n",
      "Computation reduction from downsampling & caching: 0.969444\n"
     ]
    },
    {
     "name": "stderr",
     "output_type": "stream",
     "text": [
      "Processing Frames:  40%|█████████████████████████████████████████████▌                                                                    | 95/238 [01:26<03:24,  1.43s/it]"
     ]
    },
    {
     "name": "stdout",
     "output_type": "stream",
     "text": [
      "Start frame: 48585\tEnd Frame: 48945\n",
      "Computation reduction from downsampling & caching: 0.969444\n"
     ]
    },
    {
     "name": "stderr",
     "output_type": "stream",
     "text": [
      "Processing Frames:  40%|█████████████████████████████████████████████▉                                                                    | 96/238 [01:27<03:21,  1.42s/it]"
     ]
    },
    {
     "name": "stdout",
     "output_type": "stream",
     "text": [
      "Start frame: 48945\tEnd Frame: 49305\n",
      "Computation reduction from downsampling & caching: 0.969444\n"
     ]
    },
    {
     "name": "stderr",
     "output_type": "stream",
     "text": [
      "Processing Frames:  41%|██████████████████████████████████████████████▍                                                                   | 97/238 [01:28<03:02,  1.29s/it]"
     ]
    },
    {
     "name": "stdout",
     "output_type": "stream",
     "text": [
      "Start frame: 49305\tEnd Frame: 49665\n",
      "No faces detected by index; Skipping scene.\n",
      "Start frame: 49665\tEnd Frame: 50025\n",
      "Computation reduction from downsampling & caching: 0.969444\n"
     ]
    },
    {
     "name": "stderr",
     "output_type": "stream",
     "text": [
      "Processing Frames:  42%|███████████████████████████████████████████████▍                                                                  | 99/238 [01:29<02:08,  1.08it/s]"
     ]
    },
    {
     "name": "stdout",
     "output_type": "stream",
     "text": [
      "Start frame: 50025\tEnd Frame: 50385\n",
      "Computation reduction from downsampling & caching: 0.969444\n"
     ]
    },
    {
     "name": "stderr",
     "output_type": "stream",
     "text": [
      "Processing Frames:  42%|███████████████████████████████████████████████▍                                                                 | 100/238 [01:31<02:19,  1.01s/it]"
     ]
    },
    {
     "name": "stdout",
     "output_type": "stream",
     "text": [
      "Start frame: 50385\tEnd Frame: 50745\n",
      "Computation reduction from downsampling & caching: 0.969444\n"
     ]
    },
    {
     "name": "stderr",
     "output_type": "stream",
     "text": [
      "Processing Frames:  42%|███████████████████████████████████████████████▉                                                                 | 101/238 [01:32<02:32,  1.11s/it]"
     ]
    },
    {
     "name": "stdout",
     "output_type": "stream",
     "text": [
      "Start frame: 50745\tEnd Frame: 51105\n",
      "No faces detected by index; Skipping scene.\n",
      "Start frame: 51105\tEnd Frame: 51465\n",
      "No faces detected by index; Skipping scene.\n",
      "Start frame: 51465\tEnd Frame: 51825\n",
      "Computation reduction from downsampling & caching: 0.969444\n"
     ]
    },
    {
     "name": "stderr",
     "output_type": "stream",
     "text": [
      "Processing Frames:  44%|█████████████████████████████████████████████████▍                                                               | 104/238 [01:33<01:42,  1.31it/s]"
     ]
    },
    {
     "name": "stdout",
     "output_type": "stream",
     "text": [
      "Start frame: 51825\tEnd Frame: 52185\n",
      "Computation reduction from downsampling & caching: 0.969444\n"
     ]
    },
    {
     "name": "stderr",
     "output_type": "stream",
     "text": [
      "Processing Frames:  44%|█████████████████████████████████████████████████▊                                                               | 105/238 [01:34<01:49,  1.21it/s]"
     ]
    },
    {
     "name": "stdout",
     "output_type": "stream",
     "text": [
      "Start frame: 52185\tEnd Frame: 52545\n",
      "Computation reduction from downsampling & caching: 0.969444\n"
     ]
    },
    {
     "name": "stderr",
     "output_type": "stream",
     "text": [
      "Processing Frames:  45%|██████████████████████████████████████████████████▎                                                              | 106/238 [01:36<02:06,  1.05it/s]"
     ]
    },
    {
     "name": "stdout",
     "output_type": "stream",
     "text": [
      "Start frame: 52545\tEnd Frame: 52905\n",
      "Computation reduction from downsampling & caching: 0.969444\n"
     ]
    },
    {
     "name": "stderr",
     "output_type": "stream",
     "text": [
      "Processing Frames:  45%|██████████████████████████████████████████████████▊                                                              | 107/238 [01:37<02:21,  1.08s/it]"
     ]
    },
    {
     "name": "stdout",
     "output_type": "stream",
     "text": [
      "Start frame: 52905\tEnd Frame: 53265\n",
      "Computation reduction from downsampling & caching: 0.969444\n"
     ]
    },
    {
     "name": "stderr",
     "output_type": "stream",
     "text": [
      "Processing Frames:  45%|███████████████████████████████████████████████████▎                                                             | 108/238 [01:39<02:26,  1.12s/it]"
     ]
    },
    {
     "name": "stdout",
     "output_type": "stream",
     "text": [
      "Start frame: 53265\tEnd Frame: 53625\n",
      "Computation reduction from downsampling & caching: 0.969444\n"
     ]
    },
    {
     "name": "stderr",
     "output_type": "stream",
     "text": [
      "Processing Frames:  46%|███████████████████████████████████████████████████▊                                                             | 109/238 [01:40<02:24,  1.12s/it]"
     ]
    },
    {
     "name": "stdout",
     "output_type": "stream",
     "text": [
      "Start frame: 53625\tEnd Frame: 53985\n",
      "Computation reduction from downsampling & caching: 0.969444\n"
     ]
    },
    {
     "name": "stderr",
     "output_type": "stream",
     "text": [
      "Processing Frames:  46%|████████████████████████████████████████████████████▏                                                            | 110/238 [01:41<02:14,  1.05s/it]"
     ]
    },
    {
     "name": "stdout",
     "output_type": "stream",
     "text": [
      "Start frame: 53985\tEnd Frame: 54345\n",
      "No faces detected by index; Skipping scene.\n",
      "Start frame: 54345\tEnd Frame: 54705\n",
      "Computation reduction from downsampling & caching: 0.969444\n"
     ]
    },
    {
     "name": "stderr",
     "output_type": "stream",
     "text": [
      "Processing Frames:  47%|█████████████████████████████████████████████████████▏                                                           | 112/238 [01:42<01:41,  1.24it/s]"
     ]
    },
    {
     "name": "stdout",
     "output_type": "stream",
     "text": [
      "Start frame: 54705\tEnd Frame: 55065\n",
      "Computation reduction from downsampling & caching: 0.969444\n"
     ]
    },
    {
     "name": "stderr",
     "output_type": "stream",
     "text": [
      "Processing Frames:  47%|█████████████████████████████████████████████████████▋                                                           | 113/238 [01:43<01:53,  1.10it/s]"
     ]
    },
    {
     "name": "stdout",
     "output_type": "stream",
     "text": [
      "Start frame: 55065\tEnd Frame: 55425\n",
      "Computation reduction from downsampling & caching: 0.969444\n"
     ]
    },
    {
     "name": "stderr",
     "output_type": "stream",
     "text": [
      "Processing Frames:  48%|██████████████████████████████████████████████████████▏                                                          | 114/238 [01:44<02:02,  1.01it/s]"
     ]
    },
    {
     "name": "stdout",
     "output_type": "stream",
     "text": [
      "Start frame: 55425\tEnd Frame: 55785\n",
      "Computation reduction from downsampling & caching: 0.969444\n"
     ]
    },
    {
     "name": "stderr",
     "output_type": "stream",
     "text": [
      "Processing Frames:  48%|██████████████████████████████████████████████████████▌                                                          | 115/238 [01:45<02:11,  1.07s/it]"
     ]
    },
    {
     "name": "stdout",
     "output_type": "stream",
     "text": [
      "Start frame: 55785\tEnd Frame: 56145\n",
      "Computation reduction from downsampling & caching: 0.969444\n"
     ]
    },
    {
     "name": "stderr",
     "output_type": "stream",
     "text": [
      "Processing Frames:  49%|███████████████████████████████████████████████████████                                                          | 116/238 [01:47<02:14,  1.10s/it]"
     ]
    },
    {
     "name": "stdout",
     "output_type": "stream",
     "text": [
      "Start frame: 56145\tEnd Frame: 56505\n",
      "Computation reduction from downsampling & caching: 0.969444\n"
     ]
    },
    {
     "name": "stderr",
     "output_type": "stream",
     "text": [
      "Processing Frames:  49%|███████████████████████████████████████████████████████▌                                                         | 117/238 [01:48<02:14,  1.12s/it]"
     ]
    },
    {
     "name": "stdout",
     "output_type": "stream",
     "text": [
      "Start frame: 56505\tEnd Frame: 56865\n",
      "Computation reduction from downsampling & caching: 0.969444\n"
     ]
    },
    {
     "name": "stderr",
     "output_type": "stream",
     "text": [
      "Processing Frames:  50%|████████████████████████████████████████████████████████                                                         | 118/238 [01:49<02:10,  1.09s/it]"
     ]
    },
    {
     "name": "stdout",
     "output_type": "stream",
     "text": [
      "Start frame: 56865\tEnd Frame: 57225\n",
      "No faces detected by index; Skipping scene.\n",
      "Start frame: 57225\tEnd Frame: 57585\n",
      "No faces detected by index; Skipping scene.\n",
      "Start frame: 57585\tEnd Frame: 57945\n",
      "Computation reduction from downsampling & caching: 0.969444\n"
     ]
    },
    {
     "name": "stderr",
     "output_type": "stream",
     "text": [
      "Processing Frames:  51%|█████████████████████████████████████████████████████████▍                                                       | 121/238 [01:50<01:14,  1.58it/s]"
     ]
    },
    {
     "name": "stdout",
     "output_type": "stream",
     "text": [
      "Start frame: 57945\tEnd Frame: 58305\n",
      "Computation reduction from downsampling & caching: 0.969444\n"
     ]
    },
    {
     "name": "stderr",
     "output_type": "stream",
     "text": [
      "Processing Frames:  51%|█████████████████████████████████████████████████████████▉                                                       | 122/238 [01:50<01:18,  1.48it/s]"
     ]
    },
    {
     "name": "stdout",
     "output_type": "stream",
     "text": [
      "Start frame: 58305\tEnd Frame: 58665\n",
      "No faces detected by index; Skipping scene.\n",
      "Start frame: 58665\tEnd Frame: 59025\n",
      "No faces detected by index; Skipping scene.\n",
      "Start frame: 59025\tEnd Frame: 59385\n",
      "No faces detected by index; Skipping scene.\n",
      "Start frame: 59385\tEnd Frame: 59745\n",
      "Computation reduction from downsampling & caching: 0.969444\n"
     ]
    },
    {
     "name": "stderr",
     "output_type": "stream",
     "text": [
      "Processing Frames:  53%|███████████████████████████████████████████████████████████▊                                                     | 126/238 [01:51<00:51,  2.18it/s]"
     ]
    },
    {
     "name": "stdout",
     "output_type": "stream",
     "text": [
      "Start frame: 59745\tEnd Frame: 60105\n",
      "Computation reduction from downsampling & caching: 0.969444\n"
     ]
    },
    {
     "name": "stderr",
     "output_type": "stream",
     "text": [
      "Processing Frames:  53%|████████████████████████████████████████████████████████████▎                                                    | 127/238 [01:52<01:00,  1.83it/s]"
     ]
    },
    {
     "name": "stdout",
     "output_type": "stream",
     "text": [
      "Start frame: 60105\tEnd Frame: 60465\n",
      "No faces detected by index; Skipping scene.\n",
      "Start frame: 60465\tEnd Frame: 60825\n",
      "No faces detected by index; Skipping scene.\n",
      "Start frame: 60825\tEnd Frame: 61185\n",
      "No faces detected by index; Skipping scene.\n",
      "Start frame: 61185\tEnd Frame: 61545\n",
      "No faces detected by index; Skipping scene.\n",
      "Start frame: 61545\tEnd Frame: 61905\n",
      "Computation reduction from downsampling & caching: 0.969444\n"
     ]
    },
    {
     "name": "stderr",
     "output_type": "stream",
     "text": [
      "Processing Frames:  55%|██████████████████████████████████████████████████████████████▋                                                  | 132/238 [01:53<00:36,  2.88it/s]"
     ]
    },
    {
     "name": "stdout",
     "output_type": "stream",
     "text": [
      "Start frame: 61905\tEnd Frame: 62265\n",
      "Computation reduction from downsampling & caching: 0.969444\n"
     ]
    },
    {
     "name": "stderr",
     "output_type": "stream",
     "text": [
      "Processing Frames:  56%|███████████████████████████████████████████████████████████████▏                                                 | 133/238 [01:54<00:42,  2.46it/s]"
     ]
    },
    {
     "name": "stdout",
     "output_type": "stream",
     "text": [
      "Start frame: 62265\tEnd Frame: 62625\n",
      "No faces detected by index; Skipping scene.\n",
      "Start frame: 62625\tEnd Frame: 62985\n",
      "No faces detected by index; Skipping scene.\n",
      "Start frame: 62985\tEnd Frame: 63345\n",
      "No faces detected by index; Skipping scene.\n",
      "Start frame: 63345\tEnd Frame: 63705\n",
      "Computation reduction from downsampling & caching: 0.969444\n"
     ]
    },
    {
     "name": "stderr",
     "output_type": "stream",
     "text": [
      "Processing Frames:  58%|█████████████████████████████████████████████████████████████████                                                | 137/238 [01:55<00:32,  3.13it/s]"
     ]
    },
    {
     "name": "stdout",
     "output_type": "stream",
     "text": [
      "Start frame: 63705\tEnd Frame: 64065\n",
      "Computation reduction from downsampling & caching: 0.969444\n"
     ]
    },
    {
     "name": "stderr",
     "output_type": "stream",
     "text": [
      "Processing Frames:  58%|█████████████████████████████████████████████████████████████████▌                                               | 138/238 [01:56<00:40,  2.45it/s]"
     ]
    },
    {
     "name": "stdout",
     "output_type": "stream",
     "text": [
      "Start frame: 64065\tEnd Frame: 64425\n",
      "No faces detected by index; Skipping scene.\n",
      "Start frame: 64425\tEnd Frame: 64785\n",
      "No faces detected by index; Skipping scene.\n",
      "Start frame: 64785\tEnd Frame: 65145\n",
      "Computation reduction from downsampling & caching: 0.969444\n"
     ]
    },
    {
     "name": "stderr",
     "output_type": "stream",
     "text": [
      "Processing Frames:  59%|██████████████████████████████████████████████████████████████████▉                                              | 141/238 [01:57<00:37,  2.59it/s]"
     ]
    },
    {
     "name": "stdout",
     "output_type": "stream",
     "text": [
      "Start frame: 65145\tEnd Frame: 65505\n",
      "Computation reduction from downsampling & caching: 0.969444\n"
     ]
    },
    {
     "name": "stderr",
     "output_type": "stream",
     "text": [
      "Processing Frames:  60%|███████████████████████████████████████████████████████████████████▍                                             | 142/238 [01:58<00:45,  2.12it/s]"
     ]
    },
    {
     "name": "stdout",
     "output_type": "stream",
     "text": [
      "Start frame: 65505\tEnd Frame: 65865\n",
      "No faces detected by index; Skipping scene.\n",
      "Start frame: 65865\tEnd Frame: 66225\n",
      "No faces detected by index; Skipping scene.\n",
      "Start frame: 66225\tEnd Frame: 66585\n",
      "No faces detected by index; Skipping scene.\n",
      "Start frame: 66585\tEnd Frame: 66945\n",
      "Computation reduction from downsampling & caching: 0.969444\n"
     ]
    },
    {
     "name": "stderr",
     "output_type": "stream",
     "text": [
      "Processing Frames:  61%|█████████████████████████████████████████████████████████████████████▎                                           | 146/238 [01:59<00:33,  2.71it/s]"
     ]
    },
    {
     "name": "stdout",
     "output_type": "stream",
     "text": [
      "Start frame: 66945\tEnd Frame: 67305\n",
      "Computation reduction from downsampling & caching: 0.969444\n"
     ]
    },
    {
     "name": "stderr",
     "output_type": "stream",
     "text": [
      "Processing Frames:  62%|█████████████████████████████████████████████████████████████████████▊                                           | 147/238 [02:00<00:41,  2.18it/s]"
     ]
    },
    {
     "name": "stdout",
     "output_type": "stream",
     "text": [
      "Start frame: 67305\tEnd Frame: 67665\n",
      "Computation reduction from downsampling & caching: 0.969444\n"
     ]
    },
    {
     "name": "stderr",
     "output_type": "stream",
     "text": [
      "Processing Frames:  62%|██████████████████████████████████████████████████████████████████████▎                                          | 148/238 [02:01<00:51,  1.75it/s]"
     ]
    },
    {
     "name": "stdout",
     "output_type": "stream",
     "text": [
      "Start frame: 67665\tEnd Frame: 68025\n",
      "Computation reduction from downsampling & caching: 0.969444\n"
     ]
    },
    {
     "name": "stderr",
     "output_type": "stream",
     "text": [
      "Processing Frames:  63%|██████████████████████████████████████████████████████████████████████▋                                          | 149/238 [02:02<01:02,  1.42it/s]"
     ]
    },
    {
     "name": "stdout",
     "output_type": "stream",
     "text": [
      "Start frame: 68025\tEnd Frame: 68385\n",
      "Computation reduction from downsampling & caching: 0.969444\n"
     ]
    },
    {
     "name": "stderr",
     "output_type": "stream",
     "text": [
      "Processing Frames:  63%|███████████████████████████████████████████████████████████████████████▏                                         | 150/238 [02:03<01:08,  1.28it/s]"
     ]
    },
    {
     "name": "stdout",
     "output_type": "stream",
     "text": [
      "Start frame: 68385\tEnd Frame: 68745\n",
      "Computation reduction from downsampling & caching: 0.969444\n"
     ]
    },
    {
     "name": "stderr",
     "output_type": "stream",
     "text": [
      "Processing Frames:  63%|███████████████████████████████████████████████████████████████████████▋                                         | 151/238 [02:04<01:10,  1.23it/s]"
     ]
    },
    {
     "name": "stdout",
     "output_type": "stream",
     "text": [
      "Start frame: 68745\tEnd Frame: 69105\n",
      "Computation reduction from downsampling & caching: 0.969444\n"
     ]
    },
    {
     "name": "stderr",
     "output_type": "stream",
     "text": [
      "Processing Frames:  64%|████████████████████████████████████████████████████████████████████████▏                                        | 152/238 [02:05<01:15,  1.15it/s]"
     ]
    },
    {
     "name": "stdout",
     "output_type": "stream",
     "text": [
      "Start frame: 69105\tEnd Frame: 69465\n",
      "Computation reduction from downsampling & caching: 0.969444\n"
     ]
    },
    {
     "name": "stderr",
     "output_type": "stream",
     "text": [
      "Processing Frames:  64%|████████████████████████████████████████████████████████████████████████▋                                        | 153/238 [02:06<01:20,  1.06it/s]"
     ]
    },
    {
     "name": "stdout",
     "output_type": "stream",
     "text": [
      "Start frame: 69465\tEnd Frame: 69825\n",
      "Computation reduction from downsampling & caching: 0.969444\n"
     ]
    },
    {
     "name": "stderr",
     "output_type": "stream",
     "text": [
      "Processing Frames:  65%|█████████████████████████████████████████████████████████████████████████                                        | 154/238 [02:07<01:21,  1.03it/s]"
     ]
    },
    {
     "name": "stdout",
     "output_type": "stream",
     "text": [
      "Start frame: 69825\tEnd Frame: 70185\n",
      "Computation reduction from downsampling & caching: 0.969444\n"
     ]
    },
    {
     "name": "stderr",
     "output_type": "stream",
     "text": [
      "Processing Frames:  65%|█████████████████████████████████████████████████████████████████████████▌                                       | 155/238 [02:09<01:25,  1.02s/it]"
     ]
    },
    {
     "name": "stdout",
     "output_type": "stream",
     "text": [
      "Start frame: 70185\tEnd Frame: 70545\n",
      "Computation reduction from downsampling & caching: 0.969444\n"
     ]
    },
    {
     "name": "stderr",
     "output_type": "stream",
     "text": [
      "Processing Frames:  66%|██████████████████████████████████████████████████████████████████████████                                       | 156/238 [02:10<01:23,  1.02s/it]"
     ]
    },
    {
     "name": "stdout",
     "output_type": "stream",
     "text": [
      "Start frame: 70545\tEnd Frame: 70905\n",
      "Computation reduction from downsampling & caching: 0.969444\n"
     ]
    },
    {
     "name": "stderr",
     "output_type": "stream",
     "text": [
      "Processing Frames:  66%|██████████████████████████████████████████████████████████████████████████▌                                      | 157/238 [02:11<01:26,  1.07s/it]"
     ]
    },
    {
     "name": "stdout",
     "output_type": "stream",
     "text": [
      "Start frame: 70905\tEnd Frame: 71265\n",
      "Computation reduction from downsampling & caching: 0.969444\n"
     ]
    },
    {
     "name": "stderr",
     "output_type": "stream",
     "text": [
      "Processing Frames:  66%|███████████████████████████████████████████████████████████████████████████                                      | 158/238 [02:12<01:29,  1.12s/it]"
     ]
    },
    {
     "name": "stdout",
     "output_type": "stream",
     "text": [
      "Start frame: 71265\tEnd Frame: 71625\n",
      "No faces detected by index; Skipping scene.\n",
      "Start frame: 71625\tEnd Frame: 71985\n",
      "No faces detected by index; Skipping scene.\n",
      "Start frame: 71985\tEnd Frame: 72345\n",
      "Computation reduction from downsampling & caching: 0.969444\n"
     ]
    },
    {
     "name": "stderr",
     "output_type": "stream",
     "text": [
      "Processing Frames:  68%|████████████████████████████████████████████████████████████████████████████▍                                    | 161/238 [02:13<00:57,  1.35it/s]"
     ]
    },
    {
     "name": "stdout",
     "output_type": "stream",
     "text": [
      "Start frame: 72345\tEnd Frame: 72705\n",
      "Computation reduction from downsampling & caching: 0.969444\n"
     ]
    },
    {
     "name": "stderr",
     "output_type": "stream",
     "text": [
      "Processing Frames:  68%|████████████████████████████████████████████████████████████████████████████▉                                    | 162/238 [02:15<01:06,  1.14it/s]"
     ]
    },
    {
     "name": "stdout",
     "output_type": "stream",
     "text": [
      "Start frame: 72705\tEnd Frame: 73065\n",
      "Computation reduction from downsampling & caching: 0.969444\n"
     ]
    },
    {
     "name": "stderr",
     "output_type": "stream",
     "text": [
      "Processing Frames:  68%|█████████████████████████████████████████████████████████████████████████████▍                                   | 163/238 [02:16<01:07,  1.11it/s]"
     ]
    },
    {
     "name": "stdout",
     "output_type": "stream",
     "text": [
      "Start frame: 73065\tEnd Frame: 73425\n",
      "Computation reduction from downsampling & caching: 0.969444\n"
     ]
    },
    {
     "name": "stderr",
     "output_type": "stream",
     "text": [
      "Processing Frames:  69%|█████████████████████████████████████████████████████████████████████████████▊                                   | 164/238 [02:17<01:15,  1.02s/it]"
     ]
    },
    {
     "name": "stdout",
     "output_type": "stream",
     "text": [
      "Start frame: 73425\tEnd Frame: 73785\n",
      "Computation reduction from downsampling & caching: 0.969444\n"
     ]
    },
    {
     "name": "stderr",
     "output_type": "stream",
     "text": [
      "Processing Frames:  69%|██████████████████████████████████████████████████████████████████████████████▎                                  | 165/238 [02:19<01:22,  1.13s/it]"
     ]
    },
    {
     "name": "stdout",
     "output_type": "stream",
     "text": [
      "Start frame: 73785\tEnd Frame: 74145\n",
      "Computation reduction from downsampling & caching: 0.969444\n"
     ]
    },
    {
     "name": "stderr",
     "output_type": "stream",
     "text": [
      "Processing Frames:  70%|██████████████████████████████████████████████████████████████████████████████▊                                  | 166/238 [02:20<01:26,  1.19s/it]"
     ]
    },
    {
     "name": "stdout",
     "output_type": "stream",
     "text": [
      "Start frame: 74145\tEnd Frame: 74505\n",
      "Computation reduction from downsampling & caching: 0.969444\n"
     ]
    },
    {
     "name": "stderr",
     "output_type": "stream",
     "text": [
      "Processing Frames:  70%|███████████████████████████████████████████████████████████████████████████████▎                                 | 167/238 [02:21<01:30,  1.28s/it]"
     ]
    },
    {
     "name": "stdout",
     "output_type": "stream",
     "text": [
      "Start frame: 74505\tEnd Frame: 74865\n",
      "Computation reduction from downsampling & caching: 0.969444\n"
     ]
    },
    {
     "name": "stderr",
     "output_type": "stream",
     "text": [
      "Processing Frames:  71%|███████████████████████████████████████████████████████████████████████████████▊                                 | 168/238 [02:23<01:31,  1.31s/it]"
     ]
    },
    {
     "name": "stdout",
     "output_type": "stream",
     "text": [
      "Start frame: 74865\tEnd Frame: 75225\n",
      "Computation reduction from downsampling & caching: 0.969444\n"
     ]
    },
    {
     "name": "stderr",
     "output_type": "stream",
     "text": [
      "Processing Frames:  71%|████████████████████████████████████████████████████████████████████████████████▏                                | 169/238 [02:24<01:35,  1.38s/it]"
     ]
    },
    {
     "name": "stdout",
     "output_type": "stream",
     "text": [
      "Start frame: 75225\tEnd Frame: 75585\n",
      "Computation reduction from downsampling & caching: 0.969444\n"
     ]
    },
    {
     "name": "stderr",
     "output_type": "stream",
     "text": [
      "Processing Frames:  71%|████████████████████████████████████████████████████████████████████████████████▋                                | 170/238 [02:26<01:35,  1.41s/it]"
     ]
    },
    {
     "name": "stdout",
     "output_type": "stream",
     "text": [
      "Start frame: 75585\tEnd Frame: 75945\n",
      "Computation reduction from downsampling & caching: 0.969444\n"
     ]
    },
    {
     "name": "stderr",
     "output_type": "stream",
     "text": [
      "Processing Frames:  72%|█████████████████████████████████████████████████████████████████████████████████▏                               | 171/238 [02:28<01:40,  1.50s/it]"
     ]
    },
    {
     "name": "stdout",
     "output_type": "stream",
     "text": [
      "Start frame: 75945\tEnd Frame: 76305\n",
      "Computation reduction from downsampling & caching: 0.969444\n"
     ]
    },
    {
     "name": "stderr",
     "output_type": "stream",
     "text": [
      "Processing Frames:  72%|█████████████████████████████████████████████████████████████████████████████████▋                               | 172/238 [02:29<01:37,  1.48s/it]"
     ]
    },
    {
     "name": "stdout",
     "output_type": "stream",
     "text": [
      "Start frame: 76305\tEnd Frame: 76665\n",
      "Computation reduction from downsampling & caching: 0.969444\n"
     ]
    },
    {
     "name": "stderr",
     "output_type": "stream",
     "text": [
      "Processing Frames:  73%|██████████████████████████████████████████████████████████████████████████████████▏                              | 173/238 [02:31<01:36,  1.48s/it]"
     ]
    },
    {
     "name": "stdout",
     "output_type": "stream",
     "text": [
      "Start frame: 76665\tEnd Frame: 77025\n",
      "Computation reduction from downsampling & caching: 0.969444\n"
     ]
    },
    {
     "name": "stderr",
     "output_type": "stream",
     "text": [
      "Processing Frames:  73%|██████████████████████████████████████████████████████████████████████████████████▌                              | 174/238 [02:32<01:34,  1.48s/it]"
     ]
    },
    {
     "name": "stdout",
     "output_type": "stream",
     "text": [
      "Start frame: 77025\tEnd Frame: 77385\n",
      "Computation reduction from downsampling & caching: 0.969444\n"
     ]
    },
    {
     "name": "stderr",
     "output_type": "stream",
     "text": [
      "Processing Frames:  74%|███████████████████████████████████████████████████████████████████████████████████                              | 175/238 [02:33<01:27,  1.38s/it]"
     ]
    },
    {
     "name": "stdout",
     "output_type": "stream",
     "text": [
      "Start frame: 77385\tEnd Frame: 77745\n",
      "Computation reduction from downsampling & caching: 0.969444\n"
     ]
    },
    {
     "name": "stderr",
     "output_type": "stream",
     "text": [
      "Processing Frames:  74%|███████████████████████████████████████████████████████████████████████████████████▌                             | 176/238 [02:34<01:19,  1.28s/it]"
     ]
    },
    {
     "name": "stdout",
     "output_type": "stream",
     "text": [
      "Start frame: 77745\tEnd Frame: 78105\n",
      "Computation reduction from downsampling & caching: 0.969444\n"
     ]
    },
    {
     "name": "stderr",
     "output_type": "stream",
     "text": [
      "Processing Frames:  74%|████████████████████████████████████████████████████████████████████████████████████                             | 177/238 [02:35<01:12,  1.19s/it]"
     ]
    },
    {
     "name": "stdout",
     "output_type": "stream",
     "text": [
      "Start frame: 78105\tEnd Frame: 78465\n",
      "No faces detected by index; Skipping scene.\n",
      "Start frame: 78465\tEnd Frame: 78825\n",
      "No faces detected by index; Skipping scene.\n",
      "Start frame: 78825\tEnd Frame: 79185\n",
      "No faces detected by index; Skipping scene.\n",
      "Start frame: 79185\tEnd Frame: 79545\n",
      "No faces detected by index; Skipping scene.\n",
      "Start frame: 79545\tEnd Frame: 79905\n",
      "No faces detected by index; Skipping scene.\n",
      "Start frame: 79905\tEnd Frame: 80265\n",
      "Computation reduction from downsampling & caching: 0.969444\n"
     ]
    },
    {
     "name": "stderr",
     "output_type": "stream",
     "text": [
      "Processing Frames:  77%|██████████████████████████████████████████████████████████████████████████████████████▉                          | 183/238 [02:36<00:23,  2.32it/s]"
     ]
    },
    {
     "name": "stdout",
     "output_type": "stream",
     "text": [
      "Start frame: 80265\tEnd Frame: 80625\n",
      "Computation reduction from downsampling & caching: 0.969444\n"
     ]
    },
    {
     "name": "stderr",
     "output_type": "stream",
     "text": [
      "Processing Frames:  77%|███████████████████████████████████████████████████████████████████████████████████████▎                         | 184/238 [02:37<00:28,  1.90it/s]"
     ]
    },
    {
     "name": "stdout",
     "output_type": "stream",
     "text": [
      "Start frame: 80625\tEnd Frame: 80985\n",
      "Computation reduction from downsampling & caching: 0.969444\n"
     ]
    },
    {
     "name": "stderr",
     "output_type": "stream",
     "text": [
      "Processing Frames:  78%|███████████████████████████████████████████████████████████████████████████████████████▊                         | 185/238 [02:38<00:30,  1.75it/s]"
     ]
    },
    {
     "name": "stdout",
     "output_type": "stream",
     "text": [
      "Start frame: 80985\tEnd Frame: 81345\n",
      "Computation reduction from downsampling & caching: 0.969444\n"
     ]
    },
    {
     "name": "stderr",
     "output_type": "stream",
     "text": [
      "Processing Frames:  78%|████████████████████████████████████████████████████████████████████████████████████████▎                        | 186/238 [02:39<00:33,  1.54it/s]"
     ]
    },
    {
     "name": "stdout",
     "output_type": "stream",
     "text": [
      "Start frame: 81345\tEnd Frame: 81705\n",
      "Computation reduction from downsampling & caching: 0.969444\n"
     ]
    },
    {
     "name": "stderr",
     "output_type": "stream",
     "text": [
      "Processing Frames:  79%|████████████████████████████████████████████████████████████████████████████████████████▊                        | 187/238 [02:40<00:35,  1.42it/s]"
     ]
    },
    {
     "name": "stdout",
     "output_type": "stream",
     "text": [
      "Start frame: 81705\tEnd Frame: 82065\n",
      "Computation reduction from downsampling & caching: 0.969444\n"
     ]
    },
    {
     "name": "stderr",
     "output_type": "stream",
     "text": [
      "Processing Frames:  79%|█████████████████████████████████████████████████████████████████████████████████████████▎                       | 188/238 [02:41<00:36,  1.37it/s]"
     ]
    },
    {
     "name": "stdout",
     "output_type": "stream",
     "text": [
      "Start frame: 82065\tEnd Frame: 82425\n",
      "Computation reduction from downsampling & caching: 0.969444\n"
     ]
    },
    {
     "name": "stderr",
     "output_type": "stream",
     "text": [
      "Processing Frames:  79%|█████████████████████████████████████████████████████████████████████████████████████████▋                       | 189/238 [02:41<00:37,  1.30it/s]"
     ]
    },
    {
     "name": "stdout",
     "output_type": "stream",
     "text": [
      "Start frame: 82425\tEnd Frame: 82785\n",
      "Computation reduction from downsampling & caching: 0.969444\n"
     ]
    },
    {
     "name": "stderr",
     "output_type": "stream",
     "text": [
      "Processing Frames:  80%|██████████████████████████████████████████████████████████████████████████████████████████▏                      | 190/238 [02:42<00:38,  1.25it/s]"
     ]
    },
    {
     "name": "stdout",
     "output_type": "stream",
     "text": [
      "Start frame: 82785\tEnd Frame: 83145\n",
      "Computation reduction from downsampling & caching: 0.969444\n"
     ]
    },
    {
     "name": "stderr",
     "output_type": "stream",
     "text": [
      "Processing Frames:  80%|██████████████████████████████████████████████████████████████████████████████████████████▋                      | 191/238 [02:43<00:38,  1.22it/s]"
     ]
    },
    {
     "name": "stdout",
     "output_type": "stream",
     "text": [
      "Start frame: 83145\tEnd Frame: 83505\n",
      "No faces detected by index; Skipping scene.\n",
      "Start frame: 83505\tEnd Frame: 83865\n",
      "No faces detected by index; Skipping scene.\n",
      "Start frame: 83865\tEnd Frame: 84225\n",
      "No faces detected by index; Skipping scene.\n",
      "Start frame: 84225\tEnd Frame: 84585\n",
      "No faces detected by index; Skipping scene.\n",
      "Start frame: 84585\tEnd Frame: 84945\n",
      "No faces detected by index; Skipping scene.\n",
      "Start frame: 84945\tEnd Frame: 85305\n",
      "Computation reduction from downsampling & caching: 0.969444\n"
     ]
    },
    {
     "name": "stderr",
     "output_type": "stream",
     "text": [
      "Processing Frames:  83%|█████████████████████████████████████████████████████████████████████████████████████████████▌                   | 197/238 [02:44<00:14,  2.82it/s]"
     ]
    },
    {
     "name": "stdout",
     "output_type": "stream",
     "text": [
      "Start frame: 85305\tEnd Frame: 85665\n",
      "Computation reduction from downsampling & caching: 0.969444\n"
     ]
    },
    {
     "name": "stderr",
     "output_type": "stream",
     "text": [
      "Processing Frames:  83%|██████████████████████████████████████████████████████████████████████████████████████████████                   | 198/238 [02:45<00:19,  2.01it/s]"
     ]
    },
    {
     "name": "stdout",
     "output_type": "stream",
     "text": [
      "Start frame: 85665\tEnd Frame: 86025\n",
      "Computation reduction from downsampling & caching: 0.969444\n"
     ]
    },
    {
     "name": "stderr",
     "output_type": "stream",
     "text": [
      "Processing Frames:  84%|██████████████████████████████████████████████████████████████████████████████████████████████▍                  | 199/238 [02:47<00:23,  1.66it/s]"
     ]
    },
    {
     "name": "stdout",
     "output_type": "stream",
     "text": [
      "Start frame: 86025\tEnd Frame: 86385\n",
      "Computation reduction from downsampling & caching: 0.969444\n"
     ]
    },
    {
     "name": "stderr",
     "output_type": "stream",
     "text": [
      "Processing Frames:  84%|██████████████████████████████████████████████████████████████████████████████████████████████▉                  | 200/238 [02:48<00:26,  1.41it/s]"
     ]
    },
    {
     "name": "stdout",
     "output_type": "stream",
     "text": [
      "Start frame: 86385\tEnd Frame: 86745\n",
      "Computation reduction from downsampling & caching: 0.969444\n"
     ]
    },
    {
     "name": "stderr",
     "output_type": "stream",
     "text": [
      "Processing Frames:  84%|███████████████████████████████████████████████████████████████████████████████████████████████▍                 | 201/238 [02:49<00:28,  1.32it/s]"
     ]
    },
    {
     "name": "stdout",
     "output_type": "stream",
     "text": [
      "Start frame: 86745\tEnd Frame: 87105\n",
      "Computation reduction from downsampling & caching: 0.969444\n"
     ]
    },
    {
     "name": "stderr",
     "output_type": "stream",
     "text": [
      "Processing Frames:  85%|███████████████████████████████████████████████████████████████████████████████████████████████▉                 | 202/238 [02:50<00:30,  1.17it/s]"
     ]
    },
    {
     "name": "stdout",
     "output_type": "stream",
     "text": [
      "Start frame: 87105\tEnd Frame: 87465\n",
      "Computation reduction from downsampling & caching: 0.969444\n"
     ]
    },
    {
     "name": "stderr",
     "output_type": "stream",
     "text": [
      "Processing Frames:  85%|████████████████████████████████████████████████████████████████████████████████████████████████▍                | 203/238 [02:51<00:31,  1.12it/s]"
     ]
    },
    {
     "name": "stdout",
     "output_type": "stream",
     "text": [
      "Start frame: 87465\tEnd Frame: 87825\n",
      "Computation reduction from downsampling & caching: 0.969444\n"
     ]
    },
    {
     "name": "stderr",
     "output_type": "stream",
     "text": [
      "Processing Frames:  86%|████████████████████████████████████████████████████████████████████████████████████████████████▊                | 204/238 [02:52<00:32,  1.04it/s]"
     ]
    },
    {
     "name": "stdout",
     "output_type": "stream",
     "text": [
      "Start frame: 87825\tEnd Frame: 88185\n",
      "Computation reduction from downsampling & caching: 0.969444\n"
     ]
    },
    {
     "name": "stderr",
     "output_type": "stream",
     "text": [
      "Processing Frames:  86%|█████████████████████████████████████████████████████████████████████████████████████████████████▎               | 205/238 [02:53<00:32,  1.00it/s]"
     ]
    },
    {
     "name": "stdout",
     "output_type": "stream",
     "text": [
      "Start frame: 88185\tEnd Frame: 88545\n",
      "Computation reduction from downsampling & caching: 0.969444\n"
     ]
    },
    {
     "name": "stderr",
     "output_type": "stream",
     "text": [
      "Processing Frames:  87%|█████████████████████████████████████████████████████████████████████████████████████████████████▊               | 206/238 [02:55<00:36,  1.14s/it]"
     ]
    },
    {
     "name": "stdout",
     "output_type": "stream",
     "text": [
      "Start frame: 88545\tEnd Frame: 88905\n",
      "Computation reduction from downsampling & caching: 0.969444\n"
     ]
    },
    {
     "name": "stderr",
     "output_type": "stream",
     "text": [
      "Processing Frames:  87%|██████████████████████████████████████████████████████████████████████████████████████████████████▎              | 207/238 [02:56<00:35,  1.15s/it]"
     ]
    },
    {
     "name": "stdout",
     "output_type": "stream",
     "text": [
      "Start frame: 88905\tEnd Frame: 89265\n",
      "Computation reduction from downsampling & caching: 0.969444\n"
     ]
    },
    {
     "name": "stderr",
     "output_type": "stream",
     "text": [
      "Processing Frames:  87%|██████████████████████████████████████████████████████████████████████████████████████████████████▊              | 208/238 [02:57<00:35,  1.17s/it]"
     ]
    },
    {
     "name": "stdout",
     "output_type": "stream",
     "text": [
      "Start frame: 89265\tEnd Frame: 89625\n",
      "Computation reduction from downsampling & caching: 0.969444\n"
     ]
    },
    {
     "name": "stderr",
     "output_type": "stream",
     "text": [
      "Processing Frames:  88%|███████████████████████████████████████████████████████████████████████████████████████████████████▏             | 209/238 [02:58<00:34,  1.17s/it]"
     ]
    },
    {
     "name": "stdout",
     "output_type": "stream",
     "text": [
      "Start frame: 89625\tEnd Frame: 89985\n",
      "Computation reduction from downsampling & caching: 0.969444\n"
     ]
    },
    {
     "name": "stderr",
     "output_type": "stream",
     "text": [
      "Processing Frames:  88%|███████████████████████████████████████████████████████████████████████████████████████████████████▋             | 210/238 [02:59<00:31,  1.12s/it]"
     ]
    },
    {
     "name": "stdout",
     "output_type": "stream",
     "text": [
      "Start frame: 89985\tEnd Frame: 90345\n",
      "Computation reduction from downsampling & caching: 0.969444\n"
     ]
    },
    {
     "name": "stderr",
     "output_type": "stream",
     "text": [
      "Processing Frames:  89%|████████████████████████████████████████████████████████████████████████████████████████████████████▏            | 211/238 [03:00<00:29,  1.10s/it]"
     ]
    },
    {
     "name": "stdout",
     "output_type": "stream",
     "text": [
      "Start frame: 90345\tEnd Frame: 90705\n",
      "Computation reduction from downsampling & caching: 0.969444\n"
     ]
    },
    {
     "name": "stderr",
     "output_type": "stream",
     "text": [
      "Processing Frames:  89%|████████████████████████████████████████████████████████████████████████████████████████████████████▋            | 212/238 [03:01<00:28,  1.10s/it]"
     ]
    },
    {
     "name": "stdout",
     "output_type": "stream",
     "text": [
      "Start frame: 90705\tEnd Frame: 91065\n",
      "No faces detected by index; Skipping scene.\n",
      "Start frame: 91065\tEnd Frame: 91425\n",
      "No faces detected by index; Skipping scene.\n",
      "Start frame: 91425\tEnd Frame: 91785\n",
      "Computation reduction from downsampling & caching: 0.969444\n"
     ]
    },
    {
     "name": "stderr",
     "output_type": "stream",
     "text": [
      "Processing Frames:  90%|██████████████████████████████████████████████████████████████████████████████████████████████████████           | 215/238 [03:02<00:15,  1.50it/s]"
     ]
    },
    {
     "name": "stdout",
     "output_type": "stream",
     "text": [
      "Start frame: 91785\tEnd Frame: 92145\n",
      "Computation reduction from downsampling & caching: 0.969444\n"
     ]
    },
    {
     "name": "stderr",
     "output_type": "stream",
     "text": [
      "Processing Frames:  91%|██████████████████████████████████████████████████████████████████████████████████████████████████████▌          | 216/238 [03:03<00:16,  1.35it/s]"
     ]
    },
    {
     "name": "stdout",
     "output_type": "stream",
     "text": [
      "Start frame: 92145\tEnd Frame: 92505\n",
      "No faces detected by index; Skipping scene.\n",
      "Start frame: 92505\tEnd Frame: 92865\n",
      "No faces detected by index; Skipping scene.\n",
      "Start frame: 92865\tEnd Frame: 93225\n",
      "No faces detected by index; Skipping scene.\n",
      "Start frame: 93225\tEnd Frame: 93585\n",
      "Computation reduction from downsampling & caching: 0.969444\n"
     ]
    },
    {
     "name": "stderr",
     "output_type": "stream",
     "text": [
      "Processing Frames:  92%|████████████████████████████████████████████████████████████████████████████████████████████████████████▍        | 220/238 [03:04<00:08,  2.07it/s]"
     ]
    },
    {
     "name": "stdout",
     "output_type": "stream",
     "text": [
      "Start frame: 93585\tEnd Frame: 93945\n",
      "Computation reduction from downsampling & caching: 0.969444\n"
     ]
    },
    {
     "name": "stderr",
     "output_type": "stream",
     "text": [
      "Processing Frames:  93%|████████████████████████████████████████████████████████████████████████████████████████████████████████▉        | 221/238 [03:05<00:09,  1.80it/s]"
     ]
    },
    {
     "name": "stdout",
     "output_type": "stream",
     "text": [
      "Start frame: 93945\tEnd Frame: 94305\n",
      "No faces detected by index; Skipping scene.\n",
      "Start frame: 94305\tEnd Frame: 94665\n",
      "Computation reduction from downsampling & caching: 0.969444\n"
     ]
    },
    {
     "name": "stderr",
     "output_type": "stream",
     "text": [
      "Processing Frames:  94%|█████████████████████████████████████████████████████████████████████████████████████████████████████████▉       | 223/238 [03:06<00:07,  1.89it/s]"
     ]
    },
    {
     "name": "stdout",
     "output_type": "stream",
     "text": [
      "Start frame: 94665\tEnd Frame: 95025\n",
      "Computation reduction from downsampling & caching: 0.969444\n"
     ]
    },
    {
     "name": "stderr",
     "output_type": "stream",
     "text": [
      "Processing Frames:  94%|██████████████████████████████████████████████████████████████████████████████████████████████████████████▎      | 224/238 [03:07<00:08,  1.61it/s]"
     ]
    },
    {
     "name": "stdout",
     "output_type": "stream",
     "text": [
      "Start frame: 95025\tEnd Frame: 95385\n",
      "No faces detected by index; Skipping scene.\n",
      "Start frame: 95385\tEnd Frame: 95745\n",
      "Computation reduction from downsampling & caching: 0.969444\n"
     ]
    },
    {
     "name": "stderr",
     "output_type": "stream",
     "text": [
      "Processing Frames:  95%|███████████████████████████████████████████████████████████████████████████████████████████████████████████▎     | 226/238 [03:08<00:06,  1.82it/s]"
     ]
    },
    {
     "name": "stdout",
     "output_type": "stream",
     "text": [
      "Start frame: 95745\tEnd Frame: 96105\n",
      "Computation reduction from downsampling & caching: 0.969444\n"
     ]
    },
    {
     "name": "stderr",
     "output_type": "stream",
     "text": [
      "Processing Frames:  95%|███████████████████████████████████████████████████████████████████████████████████████████████████████████▊     | 227/238 [03:09<00:06,  1.66it/s]"
     ]
    },
    {
     "name": "stdout",
     "output_type": "stream",
     "text": [
      "Start frame: 96105\tEnd Frame: 96465\n",
      "No faces detected by index; Skipping scene.\n",
      "Start frame: 96465\tEnd Frame: 96825\n",
      "No faces detected by index; Skipping scene.\n",
      "Start frame: 96825\tEnd Frame: 97185\n",
      "No faces detected by index; Skipping scene.\n",
      "Start frame: 97185\tEnd Frame: 97545\n",
      "Computation reduction from downsampling & caching: 0.969444\n"
     ]
    },
    {
     "name": "stderr",
     "output_type": "stream",
     "text": [
      "Processing Frames:  97%|█████████████████████████████████████████████████████████████████████████████████████████████████████████████▋   | 231/238 [03:10<00:02,  2.51it/s]"
     ]
    },
    {
     "name": "stdout",
     "output_type": "stream",
     "text": [
      "Start frame: 97545\tEnd Frame: 97905\n",
      "Computation reduction from downsampling & caching: 0.969444\n"
     ]
    },
    {
     "name": "stderr",
     "output_type": "stream",
     "text": [
      "Processing Frames:  97%|██████████████████████████████████████████████████████████████████████████████████████████████████████████████▏  | 232/238 [03:11<00:02,  2.02it/s]"
     ]
    },
    {
     "name": "stdout",
     "output_type": "stream",
     "text": [
      "Start frame: 97905\tEnd Frame: 98265\n",
      "Computation reduction from downsampling & caching: 0.969444\n"
     ]
    },
    {
     "name": "stderr",
     "output_type": "stream",
     "text": [
      "Processing Frames:  98%|██████████████████████████████████████████████████████████████████████████████████████████████████████████████▋  | 233/238 [03:12<00:02,  1.67it/s]"
     ]
    },
    {
     "name": "stdout",
     "output_type": "stream",
     "text": [
      "Start frame: 98265\tEnd Frame: 98625\n",
      "Computation reduction from downsampling & caching: 0.969444\n"
     ]
    },
    {
     "name": "stderr",
     "output_type": "stream",
     "text": [
      "Processing Frames:  98%|███████████████████████████████████████████████████████████████████████████████████████████████████████████████  | 234/238 [03:13<00:02,  1.50it/s]"
     ]
    },
    {
     "name": "stdout",
     "output_type": "stream",
     "text": [
      "Start frame: 98625\tEnd Frame: 98985\n",
      "No faces detected by index; Skipping scene.\n",
      "Start frame: 98985\tEnd Frame: 99345\n",
      "Computation reduction from downsampling & caching: 0.969444\n"
     ]
    },
    {
     "name": "stderr",
     "output_type": "stream",
     "text": [
      "Processing Frames:  99%|████████████████████████████████████████████████████████████████████████████████████████████████████████████████ | 236/238 [03:14<00:01,  1.58it/s]"
     ]
    },
    {
     "name": "stdout",
     "output_type": "stream",
     "text": [
      "Start frame: 99345\tEnd Frame: 99705\n",
      "Computation reduction from downsampling & caching: 0.969444\n"
     ]
    },
    {
     "name": "stderr",
     "output_type": "stream",
     "text": [
      "Processing Frames: 100%|█████████████████████████████████████████████████████████████████████████████████████████████████████████████████| 238/238 [03:15<00:00,  1.22it/s]\n"
     ]
    },
    {
     "name": "stdout",
     "output_type": "stream",
     "text": [
      "Start frame: 99705\tEnd Frame: 100065\n",
      "No faces detected by index; Skipping scene.\n",
      "Now Processing: Dracula\n",
      "Starting from minute 10, processing up to minute 74.463312\n",
      "Building num_faces index of frames from every 15 seconds\n"
     ]
    },
    {
     "name": "stderr",
     "output_type": "stream",
     "text": [
      "Building Index: 100%|████████████████████████████████████████████████████████████████████████████████████████████████████████████████████| 258/258 [00:26<00:00,  9.69it/s]\n"
     ]
    },
    {
     "name": "stdout",
     "output_type": "stream",
     "text": [
      "Processing facial scenes\n"
     ]
    },
    {
     "name": "stderr",
     "output_type": "stream",
     "text": [
      "Processing Frames:   0%|                                                                                                                           | 0/257 [00:00<?, ?it/s]"
     ]
    },
    {
     "name": "stdout",
     "output_type": "stream",
     "text": [
      "Start frame: 14385\tEnd Frame: 14745\n",
      "Computation reduction from downsampling & caching: 0.969444\n"
     ]
    },
    {
     "name": "stderr",
     "output_type": "stream",
     "text": [
      "Processing Frames:   0%|▍                                                                                                                  | 1/257 [00:01<04:25,  1.04s/it]"
     ]
    },
    {
     "name": "stdout",
     "output_type": "stream",
     "text": [
      "Start frame: 14745\tEnd Frame: 15105\n",
      "Computation reduction from downsampling & caching: 0.969444\n"
     ]
    },
    {
     "name": "stderr",
     "output_type": "stream",
     "text": [
      "Processing Frames:   1%|▉                                                                                                                  | 2/257 [00:02<04:45,  1.12s/it]"
     ]
    },
    {
     "name": "stdout",
     "output_type": "stream",
     "text": [
      "Start frame: 15105\tEnd Frame: 15465\n",
      "Computation reduction from downsampling & caching: 0.969444\n"
     ]
    },
    {
     "name": "stderr",
     "output_type": "stream",
     "text": [
      "Processing Frames:   1%|█▎                                                                                                                 | 3/257 [00:03<04:24,  1.04s/it]"
     ]
    },
    {
     "name": "stdout",
     "output_type": "stream",
     "text": [
      "Start frame: 15465\tEnd Frame: 15825\n",
      "Computation reduction from downsampling & caching: 0.969444\n"
     ]
    },
    {
     "name": "stderr",
     "output_type": "stream",
     "text": [
      "Processing Frames:   2%|█▊                                                                                                                 | 4/257 [00:04<04:28,  1.06s/it]"
     ]
    },
    {
     "name": "stdout",
     "output_type": "stream",
     "text": [
      "Start frame: 15825\tEnd Frame: 16185\n",
      "No faces detected by index; Skipping scene.\n",
      "Start frame: 16185\tEnd Frame: 16545\n",
      "No faces detected by index; Skipping scene.\n",
      "Start frame: 16545\tEnd Frame: 16905\n",
      "Computation reduction from downsampling & caching: 0.969444\n"
     ]
    },
    {
     "name": "stderr",
     "output_type": "stream",
     "text": [
      "Processing Frames:   3%|███▏                                                                                                               | 7/257 [00:05<02:31,  1.65it/s]"
     ]
    },
    {
     "name": "stdout",
     "output_type": "stream",
     "text": [
      "Start frame: 16905\tEnd Frame: 17265\n",
      "Computation reduction from downsampling & caching: 0.969444\n"
     ]
    },
    {
     "name": "stderr",
     "output_type": "stream",
     "text": [
      "Processing Frames:   3%|███▌                                                                                                               | 8/257 [00:06<02:53,  1.44it/s]"
     ]
    },
    {
     "name": "stdout",
     "output_type": "stream",
     "text": [
      "Start frame: 17265\tEnd Frame: 17625\n",
      "No faces detected by index; Skipping scene.\n",
      "Start frame: 17625\tEnd Frame: 17985\n",
      "No faces detected by index; Skipping scene.\n",
      "Start frame: 17985\tEnd Frame: 18345\n",
      "No faces detected by index; Skipping scene.\n",
      "Start frame: 18345\tEnd Frame: 18705\n",
      "No faces detected by index; Skipping scene.\n",
      "Start frame: 18705\tEnd Frame: 19065\n",
      "Computation reduction from downsampling & caching: 0.969444\n"
     ]
    },
    {
     "name": "stderr",
     "output_type": "stream",
     "text": [
      "Processing Frames:   5%|█████▊                                                                                                            | 13/257 [00:07<01:36,  2.53it/s]"
     ]
    },
    {
     "name": "stdout",
     "output_type": "stream",
     "text": [
      "Start frame: 19065\tEnd Frame: 19425\n",
      "Computation reduction from downsampling & caching: 0.969444\n"
     ]
    },
    {
     "name": "stderr",
     "output_type": "stream",
     "text": [
      "Processing Frames:   5%|██████▏                                                                                                           | 14/257 [00:08<01:59,  2.04it/s]"
     ]
    },
    {
     "name": "stdout",
     "output_type": "stream",
     "text": [
      "Start frame: 19425\tEnd Frame: 19785\n",
      "Computation reduction from downsampling & caching: 0.969444\n"
     ]
    },
    {
     "name": "stderr",
     "output_type": "stream",
     "text": [
      "Processing Frames:   6%|██████▋                                                                                                           | 15/257 [00:09<02:27,  1.64it/s]"
     ]
    },
    {
     "name": "stdout",
     "output_type": "stream",
     "text": [
      "Start frame: 19785\tEnd Frame: 20145\n",
      "Computation reduction from downsampling & caching: 0.969444\n"
     ]
    },
    {
     "name": "stderr",
     "output_type": "stream",
     "text": [
      "Processing Frames:   6%|███████                                                                                                           | 16/257 [00:10<02:48,  1.43it/s]"
     ]
    },
    {
     "name": "stdout",
     "output_type": "stream",
     "text": [
      "Start frame: 20145\tEnd Frame: 20505\n",
      "Computation reduction from downsampling & caching: 0.969444\n"
     ]
    },
    {
     "name": "stderr",
     "output_type": "stream",
     "text": [
      "Processing Frames:   7%|███████▌                                                                                                          | 17/257 [00:11<03:11,  1.25it/s]"
     ]
    },
    {
     "name": "stdout",
     "output_type": "stream",
     "text": [
      "Start frame: 20505\tEnd Frame: 20865\n",
      "Computation reduction from downsampling & caching: 0.969444\n"
     ]
    },
    {
     "name": "stderr",
     "output_type": "stream",
     "text": [
      "Processing Frames:   7%|███████▉                                                                                                          | 18/257 [00:12<03:30,  1.14it/s]"
     ]
    },
    {
     "name": "stdout",
     "output_type": "stream",
     "text": [
      "Start frame: 20865\tEnd Frame: 21225\n",
      "Computation reduction from downsampling & caching: 0.969444\n"
     ]
    },
    {
     "name": "stderr",
     "output_type": "stream",
     "text": [
      "Processing Frames:   7%|████████▍                                                                                                         | 19/257 [00:13<03:37,  1.09it/s]"
     ]
    },
    {
     "name": "stdout",
     "output_type": "stream",
     "text": [
      "Start frame: 21225\tEnd Frame: 21585\n",
      "Computation reduction from downsampling & caching: 0.969444\n"
     ]
    },
    {
     "name": "stderr",
     "output_type": "stream",
     "text": [
      "Processing Frames:   8%|████████▊                                                                                                         | 20/257 [00:14<03:40,  1.07it/s]"
     ]
    },
    {
     "name": "stdout",
     "output_type": "stream",
     "text": [
      "Start frame: 21585\tEnd Frame: 21945\n",
      "Computation reduction from downsampling & caching: 0.969444\n"
     ]
    },
    {
     "name": "stderr",
     "output_type": "stream",
     "text": [
      "Processing Frames:   8%|█████████▎                                                                                                        | 21/257 [00:15<03:33,  1.10it/s]"
     ]
    },
    {
     "name": "stdout",
     "output_type": "stream",
     "text": [
      "Start frame: 21945\tEnd Frame: 22305\n",
      "Computation reduction from downsampling & caching: 0.969444\n"
     ]
    },
    {
     "name": "stderr",
     "output_type": "stream",
     "text": [
      "Processing Frames:   9%|█████████▊                                                                                                        | 22/257 [00:16<03:42,  1.06it/s]"
     ]
    },
    {
     "name": "stdout",
     "output_type": "stream",
     "text": [
      "Start frame: 22305\tEnd Frame: 22665\n",
      "Computation reduction from downsampling & caching: 0.969444\n"
     ]
    },
    {
     "name": "stderr",
     "output_type": "stream",
     "text": [
      "Processing Frames:   9%|██████████▏                                                                                                       | 23/257 [00:17<03:55,  1.01s/it]"
     ]
    },
    {
     "name": "stdout",
     "output_type": "stream",
     "text": [
      "Start frame: 22665\tEnd Frame: 23025\n",
      "Computation reduction from downsampling & caching: 0.969444\n"
     ]
    },
    {
     "name": "stderr",
     "output_type": "stream",
     "text": [
      "Processing Frames:   9%|██████████▋                                                                                                       | 24/257 [00:19<04:03,  1.05s/it]"
     ]
    },
    {
     "name": "stdout",
     "output_type": "stream",
     "text": [
      "Start frame: 23025\tEnd Frame: 23385\n",
      "Computation reduction from downsampling & caching: 0.969444\n"
     ]
    },
    {
     "name": "stderr",
     "output_type": "stream",
     "text": [
      "Processing Frames:  10%|███████████                                                                                                       | 25/257 [00:20<04:14,  1.10s/it]"
     ]
    },
    {
     "name": "stdout",
     "output_type": "stream",
     "text": [
      "Start frame: 23385\tEnd Frame: 23745\n",
      "Computation reduction from downsampling & caching: 0.969444\n"
     ]
    },
    {
     "name": "stderr",
     "output_type": "stream",
     "text": [
      "Processing Frames:  10%|███████████▌                                                                                                      | 26/257 [00:21<04:09,  1.08s/it]"
     ]
    },
    {
     "name": "stdout",
     "output_type": "stream",
     "text": [
      "Start frame: 23745\tEnd Frame: 24105\n",
      "Computation reduction from downsampling & caching: 0.969444\n"
     ]
    },
    {
     "name": "stderr",
     "output_type": "stream",
     "text": [
      "Processing Frames:  11%|███████████▉                                                                                                      | 27/257 [00:22<04:09,  1.08s/it]"
     ]
    },
    {
     "name": "stdout",
     "output_type": "stream",
     "text": [
      "Start frame: 24105\tEnd Frame: 24465\n",
      "Computation reduction from downsampling & caching: 0.969444\n"
     ]
    },
    {
     "name": "stderr",
     "output_type": "stream",
     "text": [
      "Processing Frames:  11%|████████████▍                                                                                                     | 28/257 [00:23<03:56,  1.03s/it]"
     ]
    },
    {
     "name": "stdout",
     "output_type": "stream",
     "text": [
      "Start frame: 24465\tEnd Frame: 24825\n",
      "Computation reduction from downsampling & caching: 0.969444\n"
     ]
    },
    {
     "name": "stderr",
     "output_type": "stream",
     "text": [
      "Processing Frames:  11%|████████████▊                                                                                                     | 29/257 [00:24<03:42,  1.02it/s]"
     ]
    },
    {
     "name": "stdout",
     "output_type": "stream",
     "text": [
      "Start frame: 24825\tEnd Frame: 25185\n",
      "No faces detected by index; Skipping scene.\n",
      "Start frame: 25185\tEnd Frame: 25545\n",
      "No faces detected by index; Skipping scene.\n",
      "Start frame: 25545\tEnd Frame: 25905\n",
      "No faces detected by index; Skipping scene.\n",
      "Start frame: 25905\tEnd Frame: 26265\n",
      "No faces detected by index; Skipping scene.\n",
      "Start frame: 26265\tEnd Frame: 26625\n",
      "No faces detected by index; Skipping scene.\n",
      "Start frame: 26625\tEnd Frame: 26985\n",
      "No faces detected by index; Skipping scene.\n",
      "Start frame: 26985\tEnd Frame: 27345\n",
      "No faces detected by index; Skipping scene.\n",
      "Start frame: 27345\tEnd Frame: 27705\n",
      "No faces detected by index; Skipping scene.\n",
      "Start frame: 27705\tEnd Frame: 28065\n",
      "No faces detected by index; Skipping scene.\n",
      "Start frame: 28065\tEnd Frame: 28425\n",
      "No faces detected by index; Skipping scene.\n",
      "Start frame: 28425\tEnd Frame: 28785\n",
      "No faces detected by index; Skipping scene.\n",
      "Start frame: 28785\tEnd Frame: 29145\n",
      "Computation reduction from downsampling & caching: 0.969444\n"
     ]
    },
    {
     "name": "stderr",
     "output_type": "stream",
     "text": [
      "Processing Frames:  16%|██████████████████▏                                                                                               | 41/257 [00:25<00:49,  4.35it/s]"
     ]
    },
    {
     "name": "stdout",
     "output_type": "stream",
     "text": [
      "Start frame: 29145\tEnd Frame: 29505\n",
      "Computation reduction from downsampling & caching: 0.969444\n"
     ]
    },
    {
     "name": "stderr",
     "output_type": "stream",
     "text": [
      "Processing Frames:  16%|██████████████████▋                                                                                               | 42/257 [00:25<01:01,  3.49it/s]"
     ]
    },
    {
     "name": "stdout",
     "output_type": "stream",
     "text": [
      "Start frame: 29505\tEnd Frame: 29865\n",
      "Computation reduction from downsampling & caching: 0.969444\n"
     ]
    },
    {
     "name": "stderr",
     "output_type": "stream",
     "text": [
      "Processing Frames:  17%|███████████████████                                                                                               | 43/257 [00:26<01:16,  2.81it/s]"
     ]
    },
    {
     "name": "stdout",
     "output_type": "stream",
     "text": [
      "Start frame: 29865\tEnd Frame: 30225\n",
      "Computation reduction from downsampling & caching: 0.969444\n"
     ]
    },
    {
     "name": "stderr",
     "output_type": "stream",
     "text": [
      "Processing Frames:  17%|███████████████████▌                                                                                              | 44/257 [00:27<01:36,  2.20it/s]"
     ]
    },
    {
     "name": "stdout",
     "output_type": "stream",
     "text": [
      "Start frame: 30225\tEnd Frame: 30585\n",
      "No faces detected by index; Skipping scene.\n",
      "Start frame: 30585\tEnd Frame: 30945\n",
      "No faces detected by index; Skipping scene.\n",
      "Start frame: 30945\tEnd Frame: 31305\n",
      "No faces detected by index; Skipping scene.\n",
      "Start frame: 31305\tEnd Frame: 31665\n",
      "No faces detected by index; Skipping scene.\n",
      "Start frame: 31665\tEnd Frame: 32025\n",
      "No faces detected by index; Skipping scene.\n",
      "Start frame: 32025\tEnd Frame: 32385\n",
      "No faces detected by index; Skipping scene.\n",
      "Start frame: 32385\tEnd Frame: 32745\n",
      "Computation reduction from downsampling & caching: 0.969444\n"
     ]
    },
    {
     "name": "stderr",
     "output_type": "stream",
     "text": [
      "Processing Frames:  20%|██████████████████████▌                                                                                           | 51/257 [00:28<00:52,  3.90it/s]"
     ]
    },
    {
     "name": "stdout",
     "output_type": "stream",
     "text": [
      "Start frame: 32745\tEnd Frame: 33105\n",
      "Computation reduction from downsampling & caching: 0.969444\n"
     ]
    },
    {
     "name": "stderr",
     "output_type": "stream",
     "text": [
      "Processing Frames:  20%|███████████████████████                                                                                           | 52/257 [00:29<01:06,  3.07it/s]"
     ]
    },
    {
     "name": "stdout",
     "output_type": "stream",
     "text": [
      "Start frame: 33105\tEnd Frame: 33465\n",
      "Computation reduction from downsampling & caching: 0.969444\n"
     ]
    },
    {
     "name": "stderr",
     "output_type": "stream",
     "text": [
      "Processing Frames:  21%|███████████████████████▌                                                                                          | 53/257 [00:30<01:24,  2.43it/s]"
     ]
    },
    {
     "name": "stdout",
     "output_type": "stream",
     "text": [
      "Start frame: 33465\tEnd Frame: 33825\n",
      "Computation reduction from downsampling & caching: 0.969444\n"
     ]
    },
    {
     "name": "stderr",
     "output_type": "stream",
     "text": [
      "Processing Frames:  21%|███████████████████████▉                                                                                          | 54/257 [00:31<01:46,  1.90it/s]"
     ]
    },
    {
     "name": "stdout",
     "output_type": "stream",
     "text": [
      "Start frame: 33825\tEnd Frame: 34185\n",
      "Computation reduction from downsampling & caching: 0.969444\n"
     ]
    },
    {
     "name": "stderr",
     "output_type": "stream",
     "text": [
      "Processing Frames:  21%|████████████████████████▍                                                                                         | 55/257 [00:33<02:19,  1.45it/s]"
     ]
    },
    {
     "name": "stdout",
     "output_type": "stream",
     "text": [
      "Start frame: 34185\tEnd Frame: 34545\n",
      "Computation reduction from downsampling & caching: 0.969444\n"
     ]
    },
    {
     "name": "stderr",
     "output_type": "stream",
     "text": [
      "Processing Frames:  22%|████████████████████████▊                                                                                         | 56/257 [00:34<02:35,  1.29it/s]"
     ]
    },
    {
     "name": "stdout",
     "output_type": "stream",
     "text": [
      "Start frame: 34545\tEnd Frame: 34905\n",
      "Computation reduction from downsampling & caching: 0.969444\n"
     ]
    },
    {
     "name": "stderr",
     "output_type": "stream",
     "text": [
      "Processing Frames:  22%|█████████████████████████▎                                                                                        | 57/257 [00:35<03:05,  1.08it/s]"
     ]
    },
    {
     "name": "stdout",
     "output_type": "stream",
     "text": [
      "Start frame: 34905\tEnd Frame: 35265\n",
      "Computation reduction from downsampling & caching: 0.969444\n"
     ]
    },
    {
     "name": "stderr",
     "output_type": "stream",
     "text": [
      "Processing Frames:  23%|█████████████████████████▋                                                                                        | 58/257 [00:36<03:21,  1.01s/it]"
     ]
    },
    {
     "name": "stdout",
     "output_type": "stream",
     "text": [
      "Start frame: 35265\tEnd Frame: 35625\n",
      "Computation reduction from downsampling & caching: 0.969444\n"
     ]
    },
    {
     "name": "stderr",
     "output_type": "stream",
     "text": [
      "Processing Frames:  23%|██████████████████████████▏                                                                                       | 59/257 [00:38<03:58,  1.20s/it]"
     ]
    },
    {
     "name": "stdout",
     "output_type": "stream",
     "text": [
      "Start frame: 35625\tEnd Frame: 35985\n",
      "Computation reduction from downsampling & caching: 0.969444\n"
     ]
    },
    {
     "name": "stderr",
     "output_type": "stream",
     "text": [
      "Processing Frames:  23%|██████████████████████████▌                                                                                       | 60/257 [00:39<03:56,  1.20s/it]"
     ]
    },
    {
     "name": "stdout",
     "output_type": "stream",
     "text": [
      "Start frame: 35985\tEnd Frame: 36345\n",
      "Computation reduction from downsampling & caching: 0.969444\n"
     ]
    },
    {
     "name": "stderr",
     "output_type": "stream",
     "text": [
      "Processing Frames:  24%|███████████████████████████                                                                                       | 61/257 [00:41<04:23,  1.35s/it]"
     ]
    },
    {
     "name": "stdout",
     "output_type": "stream",
     "text": [
      "Start frame: 36345\tEnd Frame: 36705\n",
      "Computation reduction from downsampling & caching: 0.969444\n"
     ]
    },
    {
     "name": "stderr",
     "output_type": "stream",
     "text": [
      "Processing Frames:  24%|███████████████████████████▌                                                                                      | 62/257 [00:43<04:32,  1.40s/it]"
     ]
    },
    {
     "name": "stdout",
     "output_type": "stream",
     "text": [
      "Start frame: 36705\tEnd Frame: 37065\n",
      "Computation reduction from downsampling & caching: 0.969444\n"
     ]
    },
    {
     "name": "stderr",
     "output_type": "stream",
     "text": [
      "Processing Frames:  25%|███████████████████████████▉                                                                                      | 63/257 [00:44<04:23,  1.36s/it]"
     ]
    },
    {
     "name": "stdout",
     "output_type": "stream",
     "text": [
      "Start frame: 37065\tEnd Frame: 37425\n",
      "Computation reduction from downsampling & caching: 0.969444\n"
     ]
    },
    {
     "name": "stderr",
     "output_type": "stream",
     "text": [
      "Processing Frames:  25%|████████████████████████████▍                                                                                     | 64/257 [00:45<04:21,  1.36s/it]"
     ]
    },
    {
     "name": "stdout",
     "output_type": "stream",
     "text": [
      "Start frame: 37425\tEnd Frame: 37785\n",
      "Computation reduction from downsampling & caching: 0.969444\n"
     ]
    },
    {
     "name": "stderr",
     "output_type": "stream",
     "text": [
      "Processing Frames:  25%|████████████████████████████▊                                                                                     | 65/257 [00:47<04:13,  1.32s/it]"
     ]
    },
    {
     "name": "stdout",
     "output_type": "stream",
     "text": [
      "Start frame: 37785\tEnd Frame: 38145\n",
      "Computation reduction from downsampling & caching: 0.969444\n"
     ]
    },
    {
     "name": "stderr",
     "output_type": "stream",
     "text": [
      "Processing Frames:  26%|█████████████████████████████▎                                                                                    | 66/257 [00:48<03:55,  1.24s/it]"
     ]
    },
    {
     "name": "stdout",
     "output_type": "stream",
     "text": [
      "Start frame: 38145\tEnd Frame: 38505\n",
      "Computation reduction from downsampling & caching: 0.969444\n"
     ]
    },
    {
     "name": "stderr",
     "output_type": "stream",
     "text": [
      "Processing Frames:  26%|█████████████████████████████▋                                                                                    | 67/257 [00:49<03:39,  1.16s/it]"
     ]
    },
    {
     "name": "stdout",
     "output_type": "stream",
     "text": [
      "Start frame: 38505\tEnd Frame: 38865\n",
      "Computation reduction from downsampling & caching: 0.969444\n"
     ]
    },
    {
     "name": "stderr",
     "output_type": "stream",
     "text": [
      "Processing Frames:  26%|██████████████████████████████▏                                                                                   | 68/257 [00:50<03:50,  1.22s/it]"
     ]
    },
    {
     "name": "stdout",
     "output_type": "stream",
     "text": [
      "Start frame: 38865\tEnd Frame: 39225\n",
      "Computation reduction from downsampling & caching: 0.969444\n"
     ]
    },
    {
     "name": "stderr",
     "output_type": "stream",
     "text": [
      "Processing Frames:  27%|██████████████████████████████▌                                                                                   | 69/257 [00:51<04:01,  1.28s/it]"
     ]
    },
    {
     "name": "stdout",
     "output_type": "stream",
     "text": [
      "Start frame: 39225\tEnd Frame: 39585\n",
      "Computation reduction from downsampling & caching: 0.969444\n"
     ]
    },
    {
     "name": "stderr",
     "output_type": "stream",
     "text": [
      "Processing Frames:  27%|███████████████████████████████                                                                                   | 70/257 [00:53<03:55,  1.26s/it]"
     ]
    },
    {
     "name": "stdout",
     "output_type": "stream",
     "text": [
      "Start frame: 39585\tEnd Frame: 39945\n",
      "No faces detected by index; Skipping scene.\n",
      "Start frame: 39945\tEnd Frame: 40305\n",
      "No faces detected by index; Skipping scene.\n",
      "Start frame: 40305\tEnd Frame: 40665\n",
      "Computation reduction from downsampling & caching: 0.969444\n"
     ]
    },
    {
     "name": "stderr",
     "output_type": "stream",
     "text": [
      "Processing Frames:  28%|████████████████████████████████▍                                                                                 | 73/257 [00:54<02:15,  1.36it/s]"
     ]
    },
    {
     "name": "stdout",
     "output_type": "stream",
     "text": [
      "Start frame: 40665\tEnd Frame: 41025\n",
      "Computation reduction from downsampling & caching: 0.969444\n"
     ]
    },
    {
     "name": "stderr",
     "output_type": "stream",
     "text": [
      "Processing Frames:  29%|████████████████████████████████▊                                                                                 | 74/257 [00:55<02:26,  1.25it/s]"
     ]
    },
    {
     "name": "stdout",
     "output_type": "stream",
     "text": [
      "Start frame: 41025\tEnd Frame: 41385\n",
      "Computation reduction from downsampling & caching: 0.969444\n"
     ]
    },
    {
     "name": "stderr",
     "output_type": "stream",
     "text": [
      "Processing Frames:  29%|█████████████████████████████████▎                                                                                | 75/257 [00:55<02:31,  1.20it/s]"
     ]
    },
    {
     "name": "stdout",
     "output_type": "stream",
     "text": [
      "Start frame: 41385\tEnd Frame: 41745\n",
      "Computation reduction from downsampling & caching: 0.969444\n"
     ]
    },
    {
     "name": "stderr",
     "output_type": "stream",
     "text": [
      "Processing Frames:  30%|█████████████████████████████████▋                                                                                | 76/257 [00:56<02:38,  1.14it/s]"
     ]
    },
    {
     "name": "stdout",
     "output_type": "stream",
     "text": [
      "Start frame: 41745\tEnd Frame: 42105\n",
      "No faces detected by index; Skipping scene.\n",
      "Start frame: 42105\tEnd Frame: 42465\n",
      "No faces detected by index; Skipping scene.\n",
      "Start frame: 42465\tEnd Frame: 42825\n",
      "No faces detected by index; Skipping scene.\n",
      "Start frame: 42825\tEnd Frame: 43185\n",
      "No faces detected by index; Skipping scene.\n",
      "Start frame: 43185\tEnd Frame: 43545\n",
      "Computation reduction from downsampling & caching: 0.969444\n"
     ]
    },
    {
     "name": "stderr",
     "output_type": "stream",
     "text": [
      "Processing Frames:  32%|███████████████████████████████████▉                                                                              | 81/257 [00:58<01:20,  2.18it/s]"
     ]
    },
    {
     "name": "stdout",
     "output_type": "stream",
     "text": [
      "Start frame: 43545\tEnd Frame: 43905\n",
      "Computation reduction from downsampling & caching: 0.969444\n"
     ]
    },
    {
     "name": "stderr",
     "output_type": "stream",
     "text": [
      "Processing Frames:  32%|████████████████████████████████████▎                                                                             | 82/257 [00:58<01:31,  1.91it/s]"
     ]
    },
    {
     "name": "stdout",
     "output_type": "stream",
     "text": [
      "Start frame: 43905\tEnd Frame: 44265\n",
      "Computation reduction from downsampling & caching: 0.969444\n"
     ]
    },
    {
     "name": "stderr",
     "output_type": "stream",
     "text": [
      "Processing Frames:  32%|████████████████████████████████████▊                                                                             | 83/257 [01:00<02:00,  1.45it/s]"
     ]
    },
    {
     "name": "stdout",
     "output_type": "stream",
     "text": [
      "Start frame: 44265\tEnd Frame: 44625\n",
      "Computation reduction from downsampling & caching: 0.969444\n"
     ]
    },
    {
     "name": "stderr",
     "output_type": "stream",
     "text": [
      "Processing Frames:  33%|█████████████████████████████████████▎                                                                            | 84/257 [01:01<02:18,  1.24it/s]"
     ]
    },
    {
     "name": "stdout",
     "output_type": "stream",
     "text": [
      "Start frame: 44625\tEnd Frame: 44985\n",
      "Computation reduction from downsampling & caching: 0.969444\n"
     ]
    },
    {
     "name": "stderr",
     "output_type": "stream",
     "text": [
      "Processing Frames:  33%|█████████████████████████████████████▋                                                                            | 85/257 [01:02<02:26,  1.18it/s]"
     ]
    },
    {
     "name": "stdout",
     "output_type": "stream",
     "text": [
      "Start frame: 44985\tEnd Frame: 45345\n",
      "Computation reduction from downsampling & caching: 0.969444\n"
     ]
    },
    {
     "name": "stderr",
     "output_type": "stream",
     "text": [
      "Processing Frames:  33%|██████████████████████████████████████▏                                                                           | 86/257 [01:03<02:36,  1.10it/s]"
     ]
    },
    {
     "name": "stdout",
     "output_type": "stream",
     "text": [
      "Start frame: 45345\tEnd Frame: 45705\n",
      "Computation reduction from downsampling & caching: 0.969444\n"
     ]
    },
    {
     "name": "stderr",
     "output_type": "stream",
     "text": [
      "Processing Frames:  34%|██████████████████████████████████████▌                                                                           | 87/257 [01:04<02:48,  1.01it/s]"
     ]
    },
    {
     "name": "stdout",
     "output_type": "stream",
     "text": [
      "Start frame: 45705\tEnd Frame: 46065\n",
      "Computation reduction from downsampling & caching: 0.969444\n"
     ]
    },
    {
     "name": "stderr",
     "output_type": "stream",
     "text": [
      "Processing Frames:  34%|███████████████████████████████████████                                                                           | 88/257 [01:06<02:57,  1.05s/it]"
     ]
    },
    {
     "name": "stdout",
     "output_type": "stream",
     "text": [
      "Start frame: 46065\tEnd Frame: 46425\n",
      "Computation reduction from downsampling & caching: 0.969444\n"
     ]
    },
    {
     "name": "stderr",
     "output_type": "stream",
     "text": [
      "Processing Frames:  35%|███████████████████████████████████████▍                                                                          | 89/257 [01:07<03:03,  1.09s/it]"
     ]
    },
    {
     "name": "stdout",
     "output_type": "stream",
     "text": [
      "Start frame: 46425\tEnd Frame: 46785\n",
      "Computation reduction from downsampling & caching: 0.969444\n"
     ]
    },
    {
     "name": "stderr",
     "output_type": "stream",
     "text": [
      "Processing Frames:  35%|███████████████████████████████████████▉                                                                          | 90/257 [01:08<03:08,  1.13s/it]"
     ]
    },
    {
     "name": "stdout",
     "output_type": "stream",
     "text": [
      "Start frame: 46785\tEnd Frame: 47145\n",
      "Computation reduction from downsampling & caching: 0.969444\n"
     ]
    },
    {
     "name": "stderr",
     "output_type": "stream",
     "text": [
      "Processing Frames:  35%|████████████████████████████████████████▎                                                                         | 91/257 [01:09<03:14,  1.17s/it]"
     ]
    },
    {
     "name": "stdout",
     "output_type": "stream",
     "text": [
      "Start frame: 47145\tEnd Frame: 47505\n",
      "Computation reduction from downsampling & caching: 0.969444\n"
     ]
    },
    {
     "name": "stderr",
     "output_type": "stream",
     "text": [
      "Processing Frames:  36%|████████████████████████████████████████▊                                                                         | 92/257 [01:10<03:03,  1.11s/it]"
     ]
    },
    {
     "name": "stdout",
     "output_type": "stream",
     "text": [
      "Start frame: 47505\tEnd Frame: 47865\n",
      "Computation reduction from downsampling & caching: 0.969444\n"
     ]
    },
    {
     "name": "stderr",
     "output_type": "stream",
     "text": [
      "Processing Frames:  36%|█████████████████████████████████████████▎                                                                        | 93/257 [01:11<02:59,  1.09s/it]"
     ]
    },
    {
     "name": "stdout",
     "output_type": "stream",
     "text": [
      "Start frame: 47865\tEnd Frame: 48225\n",
      "Computation reduction from downsampling & caching: 0.969444\n"
     ]
    },
    {
     "name": "stderr",
     "output_type": "stream",
     "text": [
      "Processing Frames:  37%|█████████████████████████████████████████▋                                                                        | 94/257 [01:12<02:49,  1.04s/it]"
     ]
    },
    {
     "name": "stdout",
     "output_type": "stream",
     "text": [
      "Start frame: 48225\tEnd Frame: 48585\n",
      "Computation reduction from downsampling & caching: 0.969444\n"
     ]
    },
    {
     "name": "stderr",
     "output_type": "stream",
     "text": [
      "Processing Frames:  37%|██████████████████████████████████████████▏                                                                       | 95/257 [01:14<03:05,  1.14s/it]"
     ]
    },
    {
     "name": "stdout",
     "output_type": "stream",
     "text": [
      "Start frame: 48585\tEnd Frame: 48945\n",
      "Computation reduction from downsampling & caching: 0.969444\n"
     ]
    },
    {
     "name": "stderr",
     "output_type": "stream",
     "text": [
      "Processing Frames:  37%|██████████████████████████████████████████▌                                                                       | 96/257 [01:15<03:22,  1.26s/it]"
     ]
    },
    {
     "name": "stdout",
     "output_type": "stream",
     "text": [
      "Start frame: 48945\tEnd Frame: 49305\n",
      "Computation reduction from downsampling & caching: 0.969444\n"
     ]
    },
    {
     "name": "stderr",
     "output_type": "stream",
     "text": [
      "Processing Frames:  38%|███████████████████████████████████████████                                                                       | 97/257 [01:17<03:30,  1.31s/it]"
     ]
    },
    {
     "name": "stdout",
     "output_type": "stream",
     "text": [
      "Start frame: 49305\tEnd Frame: 49665\n",
      "Computation reduction from downsampling & caching: 0.969444\n"
     ]
    },
    {
     "name": "stderr",
     "output_type": "stream",
     "text": [
      "Processing Frames:  38%|███████████████████████████████████████████▍                                                                      | 98/257 [01:18<03:13,  1.22s/it]"
     ]
    },
    {
     "name": "stdout",
     "output_type": "stream",
     "text": [
      "Start frame: 49665\tEnd Frame: 50025\n",
      "No faces detected by index; Skipping scene.\n",
      "Start frame: 50025\tEnd Frame: 50385\n",
      "Computation reduction from downsampling & caching: 0.969444\n"
     ]
    },
    {
     "name": "stderr",
     "output_type": "stream",
     "text": [
      "Processing Frames:  39%|███████████████████████████████████████████▉                                                                     | 100/257 [01:19<02:27,  1.06it/s]"
     ]
    },
    {
     "name": "stdout",
     "output_type": "stream",
     "text": [
      "Start frame: 50385\tEnd Frame: 50745\n",
      "Computation reduction from downsampling & caching: 0.969444\n"
     ]
    },
    {
     "name": "stderr",
     "output_type": "stream",
     "text": [
      "Processing Frames:  39%|████████████████████████████████████████████▍                                                                    | 101/257 [01:20<02:45,  1.06s/it]"
     ]
    },
    {
     "name": "stdout",
     "output_type": "stream",
     "text": [
      "Start frame: 50745\tEnd Frame: 51105\n",
      "Computation reduction from downsampling & caching: 0.969444\n"
     ]
    },
    {
     "name": "stderr",
     "output_type": "stream",
     "text": [
      "Processing Frames:  40%|████████████████████████████████████████████▊                                                                    | 102/257 [01:22<03:00,  1.16s/it]"
     ]
    },
    {
     "name": "stdout",
     "output_type": "stream",
     "text": [
      "Start frame: 51105\tEnd Frame: 51465\n",
      "Computation reduction from downsampling & caching: 0.969444\n"
     ]
    },
    {
     "name": "stderr",
     "output_type": "stream",
     "text": [
      "Processing Frames:  40%|█████████████████████████████████████████████▎                                                                   | 103/257 [01:23<03:10,  1.24s/it]"
     ]
    },
    {
     "name": "stdout",
     "output_type": "stream",
     "text": [
      "Start frame: 51465\tEnd Frame: 51825\n",
      "Computation reduction from downsampling & caching: 0.969444\n"
     ]
    },
    {
     "name": "stderr",
     "output_type": "stream",
     "text": [
      "Processing Frames:  40%|█████████████████████████████████████████████▋                                                                   | 104/257 [01:24<03:07,  1.22s/it]"
     ]
    },
    {
     "name": "stdout",
     "output_type": "stream",
     "text": [
      "Start frame: 51825\tEnd Frame: 52185\n",
      "Computation reduction from downsampling & caching: 0.969444\n"
     ]
    },
    {
     "name": "stderr",
     "output_type": "stream",
     "text": [
      "Processing Frames:  41%|██████████████████████████████████████████████▏                                                                  | 105/257 [01:26<03:10,  1.25s/it]"
     ]
    },
    {
     "name": "stdout",
     "output_type": "stream",
     "text": [
      "Start frame: 52185\tEnd Frame: 52545\n",
      "Computation reduction from downsampling & caching: 0.969444\n"
     ]
    },
    {
     "name": "stderr",
     "output_type": "stream",
     "text": [
      "Processing Frames:  41%|██████████████████████████████████████████████▌                                                                  | 106/257 [01:27<03:06,  1.23s/it]"
     ]
    },
    {
     "name": "stdout",
     "output_type": "stream",
     "text": [
      "Start frame: 52545\tEnd Frame: 52905\n",
      "Computation reduction from downsampling & caching: 0.969444\n"
     ]
    },
    {
     "name": "stderr",
     "output_type": "stream",
     "text": [
      "Processing Frames:  42%|███████████████████████████████████████████████                                                                  | 107/257 [01:28<03:01,  1.21s/it]"
     ]
    },
    {
     "name": "stdout",
     "output_type": "stream",
     "text": [
      "Start frame: 52905\tEnd Frame: 53265\n",
      "Computation reduction from downsampling & caching: 0.969444\n"
     ]
    },
    {
     "name": "stderr",
     "output_type": "stream",
     "text": [
      "Processing Frames:  42%|███████████████████████████████████████████████▍                                                                 | 108/257 [01:29<02:53,  1.16s/it]"
     ]
    },
    {
     "name": "stdout",
     "output_type": "stream",
     "text": [
      "Start frame: 53265\tEnd Frame: 53625\n",
      "Computation reduction from downsampling & caching: 0.969444\n"
     ]
    },
    {
     "name": "stderr",
     "output_type": "stream",
     "text": [
      "Processing Frames:  42%|███████████████████████████████████████████████▉                                                                 | 109/257 [01:30<02:50,  1.15s/it]"
     ]
    },
    {
     "name": "stdout",
     "output_type": "stream",
     "text": [
      "Start frame: 53625\tEnd Frame: 53985\n",
      "Computation reduction from downsampling & caching: 0.969444\n"
     ]
    },
    {
     "name": "stderr",
     "output_type": "stream",
     "text": [
      "Processing Frames:  43%|████████████████████████████████████████████████▎                                                                | 110/257 [01:31<02:39,  1.09s/it]"
     ]
    },
    {
     "name": "stdout",
     "output_type": "stream",
     "text": [
      "Start frame: 53985\tEnd Frame: 54345\n",
      "Computation reduction from downsampling & caching: 0.969444\n"
     ]
    },
    {
     "name": "stderr",
     "output_type": "stream",
     "text": [
      "Processing Frames:  43%|████████████████████████████████████████████████▊                                                                | 111/257 [01:32<02:34,  1.06s/it]"
     ]
    },
    {
     "name": "stdout",
     "output_type": "stream",
     "text": [
      "Start frame: 54345\tEnd Frame: 54705\n",
      "Computation reduction from downsampling & caching: 0.969444\n"
     ]
    },
    {
     "name": "stderr",
     "output_type": "stream",
     "text": [
      "Processing Frames:  44%|█████████████████████████████████████████████████▏                                                               | 112/257 [01:33<02:32,  1.05s/it]"
     ]
    },
    {
     "name": "stdout",
     "output_type": "stream",
     "text": [
      "Start frame: 54705\tEnd Frame: 55065\n",
      "Computation reduction from downsampling & caching: 0.969444\n"
     ]
    },
    {
     "name": "stderr",
     "output_type": "stream",
     "text": [
      "Processing Frames:  44%|█████████████████████████████████████████████████▋                                                               | 113/257 [01:34<02:29,  1.04s/it]"
     ]
    },
    {
     "name": "stdout",
     "output_type": "stream",
     "text": [
      "Start frame: 55065\tEnd Frame: 55425\n",
      "Computation reduction from downsampling & caching: 0.969444\n"
     ]
    },
    {
     "name": "stderr",
     "output_type": "stream",
     "text": [
      "Processing Frames:  44%|██████████████████████████████████████████████████                                                               | 114/257 [01:35<02:33,  1.07s/it]"
     ]
    },
    {
     "name": "stdout",
     "output_type": "stream",
     "text": [
      "Start frame: 55425\tEnd Frame: 55785\n",
      "Computation reduction from downsampling & caching: 0.969444\n"
     ]
    },
    {
     "name": "stderr",
     "output_type": "stream",
     "text": [
      "Processing Frames:  45%|██████████████████████████████████████████████████▌                                                              | 115/257 [01:37<02:34,  1.09s/it]"
     ]
    },
    {
     "name": "stdout",
     "output_type": "stream",
     "text": [
      "Start frame: 55785\tEnd Frame: 56145\n",
      "Computation reduction from downsampling & caching: 0.969444\n"
     ]
    },
    {
     "name": "stderr",
     "output_type": "stream",
     "text": [
      "Processing Frames:  45%|███████████████████████████████████████████████████                                                              | 116/257 [01:38<02:38,  1.12s/it]"
     ]
    },
    {
     "name": "stdout",
     "output_type": "stream",
     "text": [
      "Start frame: 56145\tEnd Frame: 56505\n",
      "Computation reduction from downsampling & caching: 0.969444\n"
     ]
    },
    {
     "name": "stderr",
     "output_type": "stream",
     "text": [
      "Processing Frames:  46%|███████████████████████████████████████████████████▍                                                             | 117/257 [01:39<02:33,  1.10s/it]"
     ]
    },
    {
     "name": "stdout",
     "output_type": "stream",
     "text": [
      "Start frame: 56505\tEnd Frame: 56865\n",
      "Computation reduction from downsampling & caching: 0.969444\n"
     ]
    },
    {
     "name": "stderr",
     "output_type": "stream",
     "text": [
      "Processing Frames:  46%|███████████████████████████████████████████████████▉                                                             | 118/257 [01:40<02:32,  1.10s/it]"
     ]
    },
    {
     "name": "stdout",
     "output_type": "stream",
     "text": [
      "Start frame: 56865\tEnd Frame: 57225\n",
      "Computation reduction from downsampling & caching: 0.969444\n"
     ]
    },
    {
     "name": "stderr",
     "output_type": "stream",
     "text": [
      "Processing Frames:  46%|████████████████████████████████████████████████████▎                                                            | 119/257 [01:41<02:34,  1.12s/it]"
     ]
    },
    {
     "name": "stdout",
     "output_type": "stream",
     "text": [
      "Start frame: 57225\tEnd Frame: 57585\n",
      "Computation reduction from downsampling & caching: 0.969444\n"
     ]
    },
    {
     "name": "stderr",
     "output_type": "stream",
     "text": [
      "Processing Frames:  47%|████████████████████████████████████████████████████▊                                                            | 120/257 [01:42<02:26,  1.07s/it]"
     ]
    },
    {
     "name": "stdout",
     "output_type": "stream",
     "text": [
      "Start frame: 57585\tEnd Frame: 57945\n",
      "Computation reduction from downsampling & caching: 0.969444\n"
     ]
    },
    {
     "name": "stderr",
     "output_type": "stream",
     "text": [
      "Processing Frames:  47%|█████████████████████████████████████████████████████▏                                                           | 121/257 [01:43<02:36,  1.15s/it]"
     ]
    },
    {
     "name": "stdout",
     "output_type": "stream",
     "text": [
      "Start frame: 57945\tEnd Frame: 58305\n",
      "Computation reduction from downsampling & caching: 0.969444\n"
     ]
    },
    {
     "name": "stderr",
     "output_type": "stream",
     "text": [
      "Processing Frames:  47%|█████████████████████████████████████████████████████▋                                                           | 122/257 [01:45<02:40,  1.19s/it]"
     ]
    },
    {
     "name": "stdout",
     "output_type": "stream",
     "text": [
      "Start frame: 58305\tEnd Frame: 58665\n",
      "Computation reduction from downsampling & caching: 0.969444\n"
     ]
    },
    {
     "name": "stderr",
     "output_type": "stream",
     "text": [
      "Processing Frames:  48%|██████████████████████████████████████████████████████                                                           | 123/257 [01:46<02:38,  1.18s/it]"
     ]
    },
    {
     "name": "stdout",
     "output_type": "stream",
     "text": [
      "Start frame: 58665\tEnd Frame: 59025\n",
      "Computation reduction from downsampling & caching: 0.969444\n"
     ]
    },
    {
     "name": "stderr",
     "output_type": "stream",
     "text": [
      "Processing Frames:  48%|██████████████████████████████████████████████████████▌                                                          | 124/257 [01:47<02:38,  1.19s/it]"
     ]
    },
    {
     "name": "stdout",
     "output_type": "stream",
     "text": [
      "Start frame: 59025\tEnd Frame: 59385\n",
      "Computation reduction from downsampling & caching: 0.969444\n"
     ]
    },
    {
     "name": "stderr",
     "output_type": "stream",
     "text": [
      "Processing Frames:  49%|██████████████████████████████████████████████████████▉                                                          | 125/257 [01:48<02:34,  1.17s/it]"
     ]
    },
    {
     "name": "stdout",
     "output_type": "stream",
     "text": [
      "Start frame: 59385\tEnd Frame: 59745\n",
      "Computation reduction from downsampling & caching: 0.969444\n"
     ]
    },
    {
     "name": "stderr",
     "output_type": "stream",
     "text": [
      "Processing Frames:  49%|███████████████████████████████████████████████████████▍                                                         | 126/257 [01:49<02:35,  1.19s/it]"
     ]
    },
    {
     "name": "stdout",
     "output_type": "stream",
     "text": [
      "Start frame: 59745\tEnd Frame: 60105\n",
      "Computation reduction from downsampling & caching: 0.969444\n"
     ]
    },
    {
     "name": "stderr",
     "output_type": "stream",
     "text": [
      "Processing Frames:  49%|███████████████████████████████████████████████████████▊                                                         | 127/257 [01:51<02:40,  1.23s/it]"
     ]
    },
    {
     "name": "stdout",
     "output_type": "stream",
     "text": [
      "Start frame: 60105\tEnd Frame: 60465\n",
      "Computation reduction from downsampling & caching: 0.969444\n"
     ]
    },
    {
     "name": "stderr",
     "output_type": "stream",
     "text": [
      "Processing Frames:  50%|████████████████████████████████████████████████████████▎                                                        | 128/257 [01:52<02:38,  1.23s/it]"
     ]
    },
    {
     "name": "stdout",
     "output_type": "stream",
     "text": [
      "Start frame: 60465\tEnd Frame: 60825\n",
      "Computation reduction from downsampling & caching: 0.969444\n"
     ]
    },
    {
     "name": "stderr",
     "output_type": "stream",
     "text": [
      "Processing Frames:  50%|████████████████████████████████████████████████████████▋                                                        | 129/257 [01:53<02:30,  1.18s/it]"
     ]
    },
    {
     "name": "stdout",
     "output_type": "stream",
     "text": [
      "Start frame: 60825\tEnd Frame: 61185\n",
      "Computation reduction from downsampling & caching: 0.969444\n"
     ]
    },
    {
     "name": "stderr",
     "output_type": "stream",
     "text": [
      "Processing Frames:  51%|█████████████████████████████████████████████████████████▏                                                       | 130/257 [01:54<02:26,  1.16s/it]"
     ]
    },
    {
     "name": "stdout",
     "output_type": "stream",
     "text": [
      "Start frame: 61185\tEnd Frame: 61545\n",
      "Computation reduction from downsampling & caching: 0.969444\n"
     ]
    },
    {
     "name": "stderr",
     "output_type": "stream",
     "text": [
      "Processing Frames:  51%|█████████████████████████████████████████████████████████▌                                                       | 131/257 [01:55<02:14,  1.07s/it]"
     ]
    },
    {
     "name": "stdout",
     "output_type": "stream",
     "text": [
      "Start frame: 61545\tEnd Frame: 61905\n",
      "Computation reduction from downsampling & caching: 0.969444\n"
     ]
    },
    {
     "name": "stderr",
     "output_type": "stream",
     "text": [
      "Processing Frames:  51%|██████████████████████████████████████████████████████████                                                       | 132/257 [01:56<02:11,  1.05s/it]"
     ]
    },
    {
     "name": "stdout",
     "output_type": "stream",
     "text": [
      "Start frame: 61905\tEnd Frame: 62265\n",
      "Computation reduction from downsampling & caching: 0.969444\n"
     ]
    },
    {
     "name": "stderr",
     "output_type": "stream",
     "text": [
      "Processing Frames:  52%|██████████████████████████████████████████████████████████▍                                                      | 133/257 [01:57<02:17,  1.11s/it]"
     ]
    },
    {
     "name": "stdout",
     "output_type": "stream",
     "text": [
      "Start frame: 62265\tEnd Frame: 62625\n",
      "Computation reduction from downsampling & caching: 0.969444\n"
     ]
    },
    {
     "name": "stderr",
     "output_type": "stream",
     "text": [
      "Processing Frames:  52%|██████████████████████████████████████████████████████████▉                                                      | 134/257 [01:58<02:13,  1.09s/it]"
     ]
    },
    {
     "name": "stdout",
     "output_type": "stream",
     "text": [
      "Start frame: 62625\tEnd Frame: 62985\n",
      "Computation reduction from downsampling & caching: 0.969444\n"
     ]
    },
    {
     "name": "stderr",
     "output_type": "stream",
     "text": [
      "Processing Frames:  53%|███████████████████████████████████████████████████████████▎                                                     | 135/257 [01:59<02:14,  1.11s/it]"
     ]
    },
    {
     "name": "stdout",
     "output_type": "stream",
     "text": [
      "Start frame: 62985\tEnd Frame: 63345\n",
      "Computation reduction from downsampling & caching: 0.969444\n"
     ]
    },
    {
     "name": "stderr",
     "output_type": "stream",
     "text": [
      "Processing Frames:  53%|███████████████████████████████████████████████████████████▊                                                     | 136/257 [02:00<02:14,  1.11s/it]"
     ]
    },
    {
     "name": "stdout",
     "output_type": "stream",
     "text": [
      "Start frame: 63345\tEnd Frame: 63705\n",
      "Computation reduction from downsampling & caching: 0.969444\n"
     ]
    },
    {
     "name": "stderr",
     "output_type": "stream",
     "text": [
      "Processing Frames:  53%|████████████████████████████████████████████████████████████▏                                                    | 137/257 [02:02<02:11,  1.09s/it]"
     ]
    },
    {
     "name": "stdout",
     "output_type": "stream",
     "text": [
      "Start frame: 63705\tEnd Frame: 64065\n",
      "Computation reduction from downsampling & caching: 0.969444\n"
     ]
    },
    {
     "name": "stderr",
     "output_type": "stream",
     "text": [
      "Processing Frames:  54%|████████████████████████████████████████████████████████████▋                                                    | 138/257 [02:03<02:10,  1.09s/it]"
     ]
    },
    {
     "name": "stdout",
     "output_type": "stream",
     "text": [
      "Start frame: 64065\tEnd Frame: 64425\n",
      "Computation reduction from downsampling & caching: 0.969444\n"
     ]
    },
    {
     "name": "stderr",
     "output_type": "stream",
     "text": [
      "Processing Frames:  54%|█████████████████████████████████████████████████████████████                                                    | 139/257 [02:04<02:13,  1.13s/it]"
     ]
    },
    {
     "name": "stdout",
     "output_type": "stream",
     "text": [
      "Start frame: 64425\tEnd Frame: 64785\n",
      "Computation reduction from downsampling & caching: 0.969444\n"
     ]
    },
    {
     "name": "stderr",
     "output_type": "stream",
     "text": [
      "Processing Frames:  54%|█████████████████████████████████████████████████████████████▌                                                   | 140/257 [02:05<02:11,  1.12s/it]"
     ]
    },
    {
     "name": "stdout",
     "output_type": "stream",
     "text": [
      "Start frame: 64785\tEnd Frame: 65145\n",
      "Computation reduction from downsampling & caching: 0.969444\n"
     ]
    },
    {
     "name": "stderr",
     "output_type": "stream",
     "text": [
      "Processing Frames:  55%|█████████████████████████████████████████████████████████████▉                                                   | 141/257 [02:06<02:09,  1.12s/it]"
     ]
    },
    {
     "name": "stdout",
     "output_type": "stream",
     "text": [
      "Start frame: 65145\tEnd Frame: 65505\n",
      "Computation reduction from downsampling & caching: 0.969444\n"
     ]
    },
    {
     "name": "stderr",
     "output_type": "stream",
     "text": [
      "Processing Frames:  55%|██████████████████████████████████████████████████████████████▍                                                  | 142/257 [02:07<02:13,  1.16s/it]"
     ]
    },
    {
     "name": "stdout",
     "output_type": "stream",
     "text": [
      "Start frame: 65505\tEnd Frame: 65865\n",
      "Computation reduction from downsampling & caching: 0.969444\n"
     ]
    },
    {
     "name": "stderr",
     "output_type": "stream",
     "text": [
      "Processing Frames:  56%|██████████████████████████████████████████████████████████████▉                                                  | 143/257 [02:08<02:07,  1.12s/it]"
     ]
    },
    {
     "name": "stdout",
     "output_type": "stream",
     "text": [
      "Start frame: 65865\tEnd Frame: 66225\n",
      "Computation reduction from downsampling & caching: 0.969444\n"
     ]
    },
    {
     "name": "stderr",
     "output_type": "stream",
     "text": [
      "Processing Frames:  56%|███████████████████████████████████████████████████████████████▎                                                 | 144/257 [02:09<01:58,  1.05s/it]"
     ]
    },
    {
     "name": "stdout",
     "output_type": "stream",
     "text": [
      "Start frame: 66225\tEnd Frame: 66585\n",
      "Computation reduction from downsampling & caching: 0.969444\n"
     ]
    },
    {
     "name": "stderr",
     "output_type": "stream",
     "text": [
      "Processing Frames:  56%|███████████████████████████████████████████████████████████████▊                                                 | 145/257 [02:10<01:57,  1.05s/it]"
     ]
    },
    {
     "name": "stdout",
     "output_type": "stream",
     "text": [
      "Start frame: 66585\tEnd Frame: 66945\n",
      "Computation reduction from downsampling & caching: 0.969444\n"
     ]
    },
    {
     "name": "stderr",
     "output_type": "stream",
     "text": [
      "Processing Frames:  57%|████████████████████████████████████████████████████████████████▏                                                | 146/257 [02:12<02:02,  1.11s/it]"
     ]
    },
    {
     "name": "stdout",
     "output_type": "stream",
     "text": [
      "Start frame: 66945\tEnd Frame: 67305\n",
      "Computation reduction from downsampling & caching: 0.969444\n"
     ]
    },
    {
     "name": "stderr",
     "output_type": "stream",
     "text": [
      "Processing Frames:  57%|████████████████████████████████████████████████████████████████▋                                                | 147/257 [02:13<02:02,  1.12s/it]"
     ]
    },
    {
     "name": "stdout",
     "output_type": "stream",
     "text": [
      "Start frame: 67305\tEnd Frame: 67665\n",
      "Computation reduction from downsampling & caching: 0.969444\n"
     ]
    },
    {
     "name": "stderr",
     "output_type": "stream",
     "text": [
      "Processing Frames:  58%|█████████████████████████████████████████████████████████████████                                                | 148/257 [02:14<02:02,  1.12s/it]"
     ]
    },
    {
     "name": "stdout",
     "output_type": "stream",
     "text": [
      "Start frame: 67665\tEnd Frame: 68025\n",
      "Computation reduction from downsampling & caching: 0.969444\n"
     ]
    },
    {
     "name": "stderr",
     "output_type": "stream",
     "text": [
      "Processing Frames:  58%|█████████████████████████████████████████████████████████████████▌                                               | 149/257 [02:15<02:09,  1.20s/it]"
     ]
    },
    {
     "name": "stdout",
     "output_type": "stream",
     "text": [
      "Start frame: 68025\tEnd Frame: 68385\n",
      "Computation reduction from downsampling & caching: 0.969444\n"
     ]
    },
    {
     "name": "stderr",
     "output_type": "stream",
     "text": [
      "Processing Frames:  58%|█████████████████████████████████████████████████████████████████▉                                               | 150/257 [02:17<02:14,  1.25s/it]"
     ]
    },
    {
     "name": "stdout",
     "output_type": "stream",
     "text": [
      "Start frame: 68385\tEnd Frame: 68745\n",
      "Computation reduction from downsampling & caching: 0.969444\n"
     ]
    },
    {
     "name": "stderr",
     "output_type": "stream",
     "text": [
      "Processing Frames:  59%|██████████████████████████████████████████████████████████████████▍                                              | 151/257 [02:18<02:06,  1.19s/it]"
     ]
    },
    {
     "name": "stdout",
     "output_type": "stream",
     "text": [
      "Start frame: 68745\tEnd Frame: 69105\n",
      "Computation reduction from downsampling & caching: 0.969444\n"
     ]
    },
    {
     "name": "stderr",
     "output_type": "stream",
     "text": [
      "Processing Frames:  59%|██████████████████████████████████████████████████████████████████▊                                              | 152/257 [02:19<02:01,  1.15s/it]"
     ]
    },
    {
     "name": "stdout",
     "output_type": "stream",
     "text": [
      "Start frame: 69105\tEnd Frame: 69465\n",
      "Computation reduction from downsampling & caching: 0.969444\n"
     ]
    },
    {
     "name": "stderr",
     "output_type": "stream",
     "text": [
      "Processing Frames:  60%|███████████████████████████████████████████████████████████████████▎                                             | 153/257 [02:20<01:51,  1.07s/it]"
     ]
    },
    {
     "name": "stdout",
     "output_type": "stream",
     "text": [
      "Start frame: 69465\tEnd Frame: 69825\n",
      "No faces detected by index; Skipping scene.\n",
      "Start frame: 69825\tEnd Frame: 70185\n",
      "No faces detected by index; Skipping scene.\n",
      "Start frame: 70185\tEnd Frame: 70545\n",
      "No faces detected by index; Skipping scene.\n",
      "Start frame: 70545\tEnd Frame: 70905\n",
      "Computation reduction from downsampling & caching: 0.969444\n"
     ]
    },
    {
     "name": "stderr",
     "output_type": "stream",
     "text": [
      "Processing Frames:  61%|█████████████████████████████████████████████████████████████████████                                            | 157/257 [02:20<00:52,  1.90it/s]"
     ]
    },
    {
     "name": "stdout",
     "output_type": "stream",
     "text": [
      "Start frame: 70905\tEnd Frame: 71265\n",
      "Computation reduction from downsampling & caching: 0.969444\n"
     ]
    },
    {
     "name": "stderr",
     "output_type": "stream",
     "text": [
      "Processing Frames:  61%|█████████████████████████████████████████████████████████████████████▍                                           | 158/257 [02:21<00:57,  1.74it/s]"
     ]
    },
    {
     "name": "stdout",
     "output_type": "stream",
     "text": [
      "Start frame: 71265\tEnd Frame: 71625\n",
      "Computation reduction from downsampling & caching: 0.969444\n"
     ]
    },
    {
     "name": "stderr",
     "output_type": "stream",
     "text": [
      "Processing Frames:  62%|█████████████████████████████████████████████████████████████████████▉                                           | 159/257 [02:22<01:03,  1.55it/s]"
     ]
    },
    {
     "name": "stdout",
     "output_type": "stream",
     "text": [
      "Start frame: 71625\tEnd Frame: 71985\n",
      "Computation reduction from downsampling & caching: 0.969444\n"
     ]
    },
    {
     "name": "stderr",
     "output_type": "stream",
     "text": [
      "Processing Frames:  62%|██████████████████████████████████████████████████████████████████████▎                                          | 160/257 [02:23<01:16,  1.28it/s]"
     ]
    },
    {
     "name": "stdout",
     "output_type": "stream",
     "text": [
      "Start frame: 71985\tEnd Frame: 72345\n",
      "Computation reduction from downsampling & caching: 0.969444\n"
     ]
    },
    {
     "name": "stderr",
     "output_type": "stream",
     "text": [
      "Processing Frames:  63%|██████████████████████████████████████████████████████████████████████▊                                          | 161/257 [02:25<01:32,  1.03it/s]"
     ]
    },
    {
     "name": "stdout",
     "output_type": "stream",
     "text": [
      "Start frame: 72345\tEnd Frame: 72705\n",
      "Computation reduction from downsampling & caching: 0.969444\n"
     ]
    },
    {
     "name": "stderr",
     "output_type": "stream",
     "text": [
      "Processing Frames:  63%|███████████████████████████████████████████████████████████████████████▏                                         | 162/257 [02:26<01:35,  1.00s/it]"
     ]
    },
    {
     "name": "stdout",
     "output_type": "stream",
     "text": [
      "Start frame: 72705\tEnd Frame: 73065\n",
      "Computation reduction from downsampling & caching: 0.969444\n"
     ]
    },
    {
     "name": "stderr",
     "output_type": "stream",
     "text": [
      "Processing Frames:  63%|███████████████████████████████████████████████████████████████████████▋                                         | 163/257 [02:27<01:42,  1.09s/it]"
     ]
    },
    {
     "name": "stdout",
     "output_type": "stream",
     "text": [
      "Start frame: 73065\tEnd Frame: 73425\n",
      "Computation reduction from downsampling & caching: 0.969444\n"
     ]
    },
    {
     "name": "stderr",
     "output_type": "stream",
     "text": [
      "Processing Frames:  64%|████████████████████████████████████████████████████████████████████████                                         | 164/257 [02:28<01:43,  1.11s/it]"
     ]
    },
    {
     "name": "stdout",
     "output_type": "stream",
     "text": [
      "Start frame: 73425\tEnd Frame: 73785\n",
      "Computation reduction from downsampling & caching: 0.969444\n"
     ]
    },
    {
     "name": "stderr",
     "output_type": "stream",
     "text": [
      "Processing Frames:  64%|████████████████████████████████████████████████████████████████████████▌                                        | 165/257 [02:30<01:42,  1.12s/it]"
     ]
    },
    {
     "name": "stdout",
     "output_type": "stream",
     "text": [
      "Start frame: 73785\tEnd Frame: 74145\n",
      "Computation reduction from downsampling & caching: 0.969444\n"
     ]
    },
    {
     "name": "stderr",
     "output_type": "stream",
     "text": [
      "Processing Frames:  65%|████████████████████████████████████████████████████████████████████████▉                                        | 166/257 [02:31<01:40,  1.11s/it]"
     ]
    },
    {
     "name": "stdout",
     "output_type": "stream",
     "text": [
      "Start frame: 74145\tEnd Frame: 74505\n",
      "Computation reduction from downsampling & caching: 0.969444\n"
     ]
    },
    {
     "name": "stderr",
     "output_type": "stream",
     "text": [
      "Processing Frames:  65%|█████████████████████████████████████████████████████████████████████████▍                                       | 167/257 [02:32<01:43,  1.15s/it]"
     ]
    },
    {
     "name": "stdout",
     "output_type": "stream",
     "text": [
      "Start frame: 74505\tEnd Frame: 74865\n",
      "No faces detected by index; Skipping scene.\n",
      "Start frame: 74865\tEnd Frame: 75225\n",
      "Computation reduction from downsampling & caching: 0.969444\n"
     ]
    },
    {
     "name": "stderr",
     "output_type": "stream",
     "text": [
      "Processing Frames:  66%|██████████████████████████████████████████████████████████████████████████▎                                      | 169/257 [02:33<01:18,  1.13it/s]"
     ]
    },
    {
     "name": "stdout",
     "output_type": "stream",
     "text": [
      "Start frame: 75225\tEnd Frame: 75585\n",
      "Computation reduction from downsampling & caching: 0.969444\n"
     ]
    },
    {
     "name": "stderr",
     "output_type": "stream",
     "text": [
      "Processing Frames:  66%|██████████████████████████████████████████████████████████████████████████▋                                      | 170/257 [02:34<01:21,  1.07it/s]"
     ]
    },
    {
     "name": "stdout",
     "output_type": "stream",
     "text": [
      "Start frame: 75585\tEnd Frame: 75945\n",
      "Computation reduction from downsampling & caching: 0.969444\n"
     ]
    },
    {
     "name": "stderr",
     "output_type": "stream",
     "text": [
      "Processing Frames:  67%|███████████████████████████████████████████████████████████████████████████▏                                     | 171/257 [02:35<01:27,  1.02s/it]"
     ]
    },
    {
     "name": "stdout",
     "output_type": "stream",
     "text": [
      "Start frame: 75945\tEnd Frame: 76305\n",
      "Computation reduction from downsampling & caching: 0.969444\n"
     ]
    },
    {
     "name": "stderr",
     "output_type": "stream",
     "text": [
      "Processing Frames:  67%|███████████████████████████████████████████████████████████████████████████▋                                     | 172/257 [02:37<01:33,  1.10s/it]"
     ]
    },
    {
     "name": "stdout",
     "output_type": "stream",
     "text": [
      "Start frame: 76305\tEnd Frame: 76665\n",
      "Computation reduction from downsampling & caching: 0.969444\n"
     ]
    },
    {
     "name": "stderr",
     "output_type": "stream",
     "text": [
      "Processing Frames:  67%|████████████████████████████████████████████████████████████████████████████                                     | 173/257 [02:38<01:35,  1.14s/it]"
     ]
    },
    {
     "name": "stdout",
     "output_type": "stream",
     "text": [
      "Start frame: 76665\tEnd Frame: 77025\n",
      "Computation reduction from downsampling & caching: 0.969444\n"
     ]
    },
    {
     "name": "stderr",
     "output_type": "stream",
     "text": [
      "Processing Frames:  68%|████████████████████████████████████████████████████████████████████████████▌                                    | 174/257 [02:39<01:29,  1.07s/it]"
     ]
    },
    {
     "name": "stdout",
     "output_type": "stream",
     "text": [
      "Start frame: 77025\tEnd Frame: 77385\n",
      "No faces detected by index; Skipping scene.\n",
      "Start frame: 77385\tEnd Frame: 77745\n",
      "No faces detected by index; Skipping scene.\n",
      "Start frame: 77745\tEnd Frame: 78105\n",
      "No faces detected by index; Skipping scene.\n",
      "Start frame: 78105\tEnd Frame: 78465\n",
      "Computation reduction from downsampling & caching: 0.969444\n"
     ]
    },
    {
     "name": "stderr",
     "output_type": "stream",
     "text": [
      "Processing Frames:  69%|██████████████████████████████████████████████████████████████████████████████▎                                  | 178/257 [02:40<00:44,  1.77it/s]"
     ]
    },
    {
     "name": "stdout",
     "output_type": "stream",
     "text": [
      "Start frame: 78465\tEnd Frame: 78825\n",
      "Computation reduction from downsampling & caching: 0.969444\n"
     ]
    },
    {
     "name": "stderr",
     "output_type": "stream",
     "text": [
      "Processing Frames:  70%|██████████████████████████████████████████████████████████████████████████████▋                                  | 179/257 [02:41<00:53,  1.45it/s]"
     ]
    },
    {
     "name": "stdout",
     "output_type": "stream",
     "text": [
      "Start frame: 78825\tEnd Frame: 79185\n",
      "Computation reduction from downsampling & caching: 0.969444\n"
     ]
    },
    {
     "name": "stderr",
     "output_type": "stream",
     "text": [
      "Processing Frames:  70%|███████████████████████████████████████████████████████████████████████████████▏                                 | 180/257 [02:42<01:02,  1.23it/s]"
     ]
    },
    {
     "name": "stdout",
     "output_type": "stream",
     "text": [
      "Start frame: 79185\tEnd Frame: 79545\n",
      "Computation reduction from downsampling & caching: 0.969444\n"
     ]
    },
    {
     "name": "stderr",
     "output_type": "stream",
     "text": [
      "Processing Frames:  70%|███████████████████████████████████████████████████████████████████████████████▌                                 | 181/257 [02:43<01:05,  1.16it/s]"
     ]
    },
    {
     "name": "stdout",
     "output_type": "stream",
     "text": [
      "Start frame: 79545\tEnd Frame: 79905\n",
      "Computation reduction from downsampling & caching: 0.969444\n"
     ]
    },
    {
     "name": "stderr",
     "output_type": "stream",
     "text": [
      "Processing Frames:  71%|████████████████████████████████████████████████████████████████████████████████                                 | 182/257 [02:45<01:13,  1.02it/s]"
     ]
    },
    {
     "name": "stdout",
     "output_type": "stream",
     "text": [
      "Start frame: 79905\tEnd Frame: 80265\n",
      "Computation reduction from downsampling & caching: 0.969444\n"
     ]
    },
    {
     "name": "stderr",
     "output_type": "stream",
     "text": [
      "Processing Frames:  71%|████████████████████████████████████████████████████████████████████████████████▍                                | 183/257 [02:46<01:16,  1.04s/it]"
     ]
    },
    {
     "name": "stdout",
     "output_type": "stream",
     "text": [
      "Start frame: 80265\tEnd Frame: 80625\n",
      "Computation reduction from downsampling & caching: 0.969444\n"
     ]
    },
    {
     "name": "stderr",
     "output_type": "stream",
     "text": [
      "Processing Frames:  72%|████████████████████████████████████████████████████████████████████████████████▉                                | 184/257 [02:47<01:16,  1.05s/it]"
     ]
    },
    {
     "name": "stdout",
     "output_type": "stream",
     "text": [
      "Start frame: 80625\tEnd Frame: 80985\n",
      "Computation reduction from downsampling & caching: 0.969444\n"
     ]
    },
    {
     "name": "stderr",
     "output_type": "stream",
     "text": [
      "Processing Frames:  72%|█████████████████████████████████████████████████████████████████████████████████▎                               | 185/257 [02:48<01:17,  1.08s/it]"
     ]
    },
    {
     "name": "stdout",
     "output_type": "stream",
     "text": [
      "Start frame: 80985\tEnd Frame: 81345\n",
      "Computation reduction from downsampling & caching: 0.969444\n"
     ]
    },
    {
     "name": "stderr",
     "output_type": "stream",
     "text": [
      "Processing Frames:  72%|█████████████████████████████████████████████████████████████████████████████████▊                               | 186/257 [02:49<01:19,  1.11s/it]"
     ]
    },
    {
     "name": "stdout",
     "output_type": "stream",
     "text": [
      "Start frame: 81345\tEnd Frame: 81705\n",
      "Computation reduction from downsampling & caching: 0.969444\n"
     ]
    },
    {
     "name": "stderr",
     "output_type": "stream",
     "text": [
      "Processing Frames:  73%|██████████████████████████████████████████████████████████████████████████████████▏                              | 187/257 [02:51<01:19,  1.13s/it]"
     ]
    },
    {
     "name": "stdout",
     "output_type": "stream",
     "text": [
      "Start frame: 81705\tEnd Frame: 82065\n",
      "Computation reduction from downsampling & caching: 0.969444\n"
     ]
    },
    {
     "name": "stderr",
     "output_type": "stream",
     "text": [
      "Processing Frames:  73%|██████████████████████████████████████████████████████████████████████████████████▋                              | 188/257 [02:52<01:24,  1.23s/it]"
     ]
    },
    {
     "name": "stdout",
     "output_type": "stream",
     "text": [
      "Start frame: 82065\tEnd Frame: 82425\n",
      "Computation reduction from downsampling & caching: 0.969444\n"
     ]
    },
    {
     "name": "stderr",
     "output_type": "stream",
     "text": [
      "Processing Frames:  74%|███████████████████████████████████████████████████████████████████████████████████                              | 189/257 [02:53<01:25,  1.25s/it]"
     ]
    },
    {
     "name": "stdout",
     "output_type": "stream",
     "text": [
      "Start frame: 82425\tEnd Frame: 82785\n",
      "Computation reduction from downsampling & caching: 0.969444\n"
     ]
    },
    {
     "name": "stderr",
     "output_type": "stream",
     "text": [
      "Processing Frames:  74%|███████████████████████████████████████████████████████████████████████████████████▌                             | 190/257 [02:55<01:31,  1.36s/it]"
     ]
    },
    {
     "name": "stdout",
     "output_type": "stream",
     "text": [
      "Start frame: 82785\tEnd Frame: 83145\n",
      "Computation reduction from downsampling & caching: 0.969444\n"
     ]
    },
    {
     "name": "stderr",
     "output_type": "stream",
     "text": [
      "Processing Frames:  74%|███████████████████████████████████████████████████████████████████████████████████▉                             | 191/257 [02:56<01:26,  1.31s/it]"
     ]
    },
    {
     "name": "stdout",
     "output_type": "stream",
     "text": [
      "Start frame: 83145\tEnd Frame: 83505\n",
      "Computation reduction from downsampling & caching: 0.969444\n"
     ]
    },
    {
     "name": "stderr",
     "output_type": "stream",
     "text": [
      "Processing Frames:  75%|████████████████████████████████████████████████████████████████████████████████████▍                            | 192/257 [02:58<01:29,  1.37s/it]"
     ]
    },
    {
     "name": "stdout",
     "output_type": "stream",
     "text": [
      "Start frame: 83505\tEnd Frame: 83865\n",
      "Computation reduction from downsampling & caching: 0.969444\n"
     ]
    },
    {
     "name": "stderr",
     "output_type": "stream",
     "text": [
      "Processing Frames:  75%|████████████████████████████████████████████████████████████████████████████████████▊                            | 193/257 [02:59<01:21,  1.27s/it]"
     ]
    },
    {
     "name": "stdout",
     "output_type": "stream",
     "text": [
      "Start frame: 83865\tEnd Frame: 84225\n",
      "Computation reduction from downsampling & caching: 0.969444\n"
     ]
    },
    {
     "name": "stderr",
     "output_type": "stream",
     "text": [
      "Processing Frames:  75%|█████████████████████████████████████████████████████████████████████████████████████▎                           | 194/257 [03:00<01:13,  1.17s/it]"
     ]
    },
    {
     "name": "stdout",
     "output_type": "stream",
     "text": [
      "Start frame: 84225\tEnd Frame: 84585\n",
      "Computation reduction from downsampling & caching: 0.969444\n"
     ]
    },
    {
     "name": "stderr",
     "output_type": "stream",
     "text": [
      "Processing Frames:  76%|█████████████████████████████████████████████████████████████████████████████████████▋                           | 195/257 [03:01<01:10,  1.14s/it]"
     ]
    },
    {
     "name": "stdout",
     "output_type": "stream",
     "text": [
      "Start frame: 84585\tEnd Frame: 84945\n",
      "Computation reduction from downsampling & caching: 0.969444\n"
     ]
    },
    {
     "name": "stderr",
     "output_type": "stream",
     "text": [
      "Processing Frames:  76%|██████████████████████████████████████████████████████████████████████████████████████▏                          | 196/257 [03:02<01:07,  1.10s/it]"
     ]
    },
    {
     "name": "stdout",
     "output_type": "stream",
     "text": [
      "Start frame: 84945\tEnd Frame: 85305\n",
      "Computation reduction from downsampling & caching: 0.969444\n"
     ]
    },
    {
     "name": "stderr",
     "output_type": "stream",
     "text": [
      "Processing Frames:  77%|██████████████████████████████████████████████████████████████████████████████████████▌                          | 197/257 [03:03<01:05,  1.10s/it]"
     ]
    },
    {
     "name": "stdout",
     "output_type": "stream",
     "text": [
      "Start frame: 85305\tEnd Frame: 85665\n",
      "Computation reduction from downsampling & caching: 0.969444\n"
     ]
    },
    {
     "name": "stderr",
     "output_type": "stream",
     "text": [
      "Processing Frames:  77%|███████████████████████████████████████████████████████████████████████████████████████                          | 198/257 [03:04<01:04,  1.09s/it]"
     ]
    },
    {
     "name": "stdout",
     "output_type": "stream",
     "text": [
      "Start frame: 85665\tEnd Frame: 86025\n",
      "Computation reduction from downsampling & caching: 0.969444\n"
     ]
    },
    {
     "name": "stderr",
     "output_type": "stream",
     "text": [
      "Processing Frames:  77%|███████████████████████████████████████████████████████████████████████████████████████▍                         | 199/257 [03:05<01:03,  1.09s/it]"
     ]
    },
    {
     "name": "stdout",
     "output_type": "stream",
     "text": [
      "Start frame: 86025\tEnd Frame: 86385\n",
      "Computation reduction from downsampling & caching: 0.969444\n"
     ]
    },
    {
     "name": "stderr",
     "output_type": "stream",
     "text": [
      "Processing Frames:  78%|███████████████████████████████████████████████████████████████████████████████████████▉                         | 200/257 [03:06<01:02,  1.09s/it]"
     ]
    },
    {
     "name": "stdout",
     "output_type": "stream",
     "text": [
      "Start frame: 86385\tEnd Frame: 86745\n",
      "Computation reduction from downsampling & caching: 0.969444\n"
     ]
    },
    {
     "name": "stderr",
     "output_type": "stream",
     "text": [
      "Processing Frames:  78%|████████████████████████████████████████████████████████████████████████████████████████▍                        | 201/257 [03:07<01:01,  1.10s/it]"
     ]
    },
    {
     "name": "stdout",
     "output_type": "stream",
     "text": [
      "Start frame: 86745\tEnd Frame: 87105\n",
      "Computation reduction from downsampling & caching: 0.969444\n"
     ]
    },
    {
     "name": "stderr",
     "output_type": "stream",
     "text": [
      "Processing Frames:  79%|████████████████████████████████████████████████████████████████████████████████████████▊                        | 202/257 [03:08<00:58,  1.06s/it]"
     ]
    },
    {
     "name": "stdout",
     "output_type": "stream",
     "text": [
      "Start frame: 87105\tEnd Frame: 87465\n",
      "Computation reduction from downsampling & caching: 0.969444\n"
     ]
    },
    {
     "name": "stderr",
     "output_type": "stream",
     "text": [
      "Processing Frames:  79%|█████████████████████████████████████████████████████████████████████████████████████████▎                       | 203/257 [03:09<00:56,  1.04s/it]"
     ]
    },
    {
     "name": "stdout",
     "output_type": "stream",
     "text": [
      "Start frame: 87465\tEnd Frame: 87825\n",
      "Computation reduction from downsampling & caching: 0.969444\n"
     ]
    },
    {
     "name": "stderr",
     "output_type": "stream",
     "text": [
      "Processing Frames:  79%|█████████████████████████████████████████████████████████████████████████████████████████▋                       | 204/257 [03:10<00:56,  1.06s/it]"
     ]
    },
    {
     "name": "stdout",
     "output_type": "stream",
     "text": [
      "Start frame: 87825\tEnd Frame: 88185\n",
      "Computation reduction from downsampling & caching: 0.969444\n"
     ]
    },
    {
     "name": "stderr",
     "output_type": "stream",
     "text": [
      "Processing Frames:  80%|██████████████████████████████████████████████████████████████████████████████████████████▏                      | 205/257 [03:11<00:57,  1.10s/it]"
     ]
    },
    {
     "name": "stdout",
     "output_type": "stream",
     "text": [
      "Start frame: 88185\tEnd Frame: 88545\n",
      "Computation reduction from downsampling & caching: 0.969444\n"
     ]
    },
    {
     "name": "stderr",
     "output_type": "stream",
     "text": [
      "Processing Frames:  80%|██████████████████████████████████████████████████████████████████████████████████████████▌                      | 206/257 [03:13<00:58,  1.14s/it]"
     ]
    },
    {
     "name": "stdout",
     "output_type": "stream",
     "text": [
      "Start frame: 88545\tEnd Frame: 88905\n",
      "Computation reduction from downsampling & caching: 0.969444\n"
     ]
    },
    {
     "name": "stderr",
     "output_type": "stream",
     "text": [
      "Processing Frames:  81%|███████████████████████████████████████████████████████████████████████████████████████████                      | 207/257 [03:14<00:55,  1.11s/it]"
     ]
    },
    {
     "name": "stdout",
     "output_type": "stream",
     "text": [
      "Start frame: 88905\tEnd Frame: 89265\n",
      "Computation reduction from downsampling & caching: 0.969444\n"
     ]
    },
    {
     "name": "stderr",
     "output_type": "stream",
     "text": [
      "Processing Frames:  81%|███████████████████████████████████████████████████████████████████████████████████████████▍                     | 208/257 [03:15<00:54,  1.12s/it]"
     ]
    },
    {
     "name": "stdout",
     "output_type": "stream",
     "text": [
      "Start frame: 89265\tEnd Frame: 89625\n",
      "Computation reduction from downsampling & caching: 0.969444\n"
     ]
    },
    {
     "name": "stderr",
     "output_type": "stream",
     "text": [
      "Processing Frames:  81%|███████████████████████████████████████████████████████████████████████████████████████████▉                     | 209/257 [03:16<00:55,  1.16s/it]"
     ]
    },
    {
     "name": "stdout",
     "output_type": "stream",
     "text": [
      "Start frame: 89625\tEnd Frame: 89985\n",
      "Computation reduction from downsampling & caching: 0.969444\n"
     ]
    },
    {
     "name": "stderr",
     "output_type": "stream",
     "text": [
      "Processing Frames:  82%|████████████████████████████████████████████████████████████████████████████████████████████▎                    | 210/257 [03:17<00:55,  1.17s/it]"
     ]
    },
    {
     "name": "stdout",
     "output_type": "stream",
     "text": [
      "Start frame: 89985\tEnd Frame: 90345\n",
      "Computation reduction from downsampling & caching: 0.969444\n"
     ]
    },
    {
     "name": "stderr",
     "output_type": "stream",
     "text": [
      "Processing Frames:  82%|████████████████████████████████████████████████████████████████████████████████████████████▊                    | 211/257 [03:18<00:52,  1.15s/it]"
     ]
    },
    {
     "name": "stdout",
     "output_type": "stream",
     "text": [
      "Start frame: 90345\tEnd Frame: 90705\n",
      "Computation reduction from downsampling & caching: 0.969444\n"
     ]
    },
    {
     "name": "stderr",
     "output_type": "stream",
     "text": [
      "Processing Frames:  82%|█████████████████████████████████████████████████████████████████████████████████████████████▏                   | 212/257 [03:19<00:49,  1.10s/it]"
     ]
    },
    {
     "name": "stdout",
     "output_type": "stream",
     "text": [
      "Start frame: 90705\tEnd Frame: 91065\n",
      "Computation reduction from downsampling & caching: 0.969444\n"
     ]
    },
    {
     "name": "stderr",
     "output_type": "stream",
     "text": [
      "Processing Frames:  83%|█████████████████████████████████████████████████████████████████████████████████████████████▋                   | 213/257 [03:21<00:48,  1.11s/it]"
     ]
    },
    {
     "name": "stdout",
     "output_type": "stream",
     "text": [
      "Start frame: 91065\tEnd Frame: 91425\n",
      "Computation reduction from downsampling & caching: 0.969444\n"
     ]
    },
    {
     "name": "stderr",
     "output_type": "stream",
     "text": [
      "Processing Frames:  83%|██████████████████████████████████████████████████████████████████████████████████████████████                   | 214/257 [03:22<00:46,  1.09s/it]"
     ]
    },
    {
     "name": "stdout",
     "output_type": "stream",
     "text": [
      "Start frame: 91425\tEnd Frame: 91785\n",
      "Computation reduction from downsampling & caching: 0.969444\n"
     ]
    },
    {
     "name": "stderr",
     "output_type": "stream",
     "text": [
      "Processing Frames:  84%|██████████████████████████████████████████████████████████████████████████████████████████████▌                  | 215/257 [03:23<00:46,  1.12s/it]"
     ]
    },
    {
     "name": "stdout",
     "output_type": "stream",
     "text": [
      "Start frame: 91785\tEnd Frame: 92145\n",
      "Computation reduction from downsampling & caching: 0.969444\n"
     ]
    },
    {
     "name": "stderr",
     "output_type": "stream",
     "text": [
      "Processing Frames:  84%|██████████████████████████████████████████████████████████████████████████████████████████████▉                  | 216/257 [03:24<00:47,  1.15s/it]"
     ]
    },
    {
     "name": "stdout",
     "output_type": "stream",
     "text": [
      "Start frame: 92145\tEnd Frame: 92505\n",
      "Computation reduction from downsampling & caching: 0.969444\n"
     ]
    },
    {
     "name": "stderr",
     "output_type": "stream",
     "text": [
      "Processing Frames:  84%|███████████████████████████████████████████████████████████████████████████████████████████████▍                 | 217/257 [03:25<00:46,  1.17s/it]"
     ]
    },
    {
     "name": "stdout",
     "output_type": "stream",
     "text": [
      "Start frame: 92505\tEnd Frame: 92865\n",
      "Computation reduction from downsampling & caching: 0.969444\n"
     ]
    },
    {
     "name": "stderr",
     "output_type": "stream",
     "text": [
      "Processing Frames:  85%|███████████████████████████████████████████████████████████████████████████████████████████████▊                 | 218/257 [03:26<00:46,  1.18s/it]"
     ]
    },
    {
     "name": "stdout",
     "output_type": "stream",
     "text": [
      "Start frame: 92865\tEnd Frame: 93225\n",
      "Computation reduction from downsampling & caching: 0.969444\n"
     ]
    },
    {
     "name": "stderr",
     "output_type": "stream",
     "text": [
      "Processing Frames:  85%|████████████████████████████████████████████████████████████████████████████████████████████████▎                | 219/257 [03:28<00:44,  1.18s/it]"
     ]
    },
    {
     "name": "stdout",
     "output_type": "stream",
     "text": [
      "Start frame: 93225\tEnd Frame: 93585\n",
      "No faces detected by index; Skipping scene.\n",
      "Start frame: 93585\tEnd Frame: 93945\n",
      "Computation reduction from downsampling & caching: 0.969444\n"
     ]
    },
    {
     "name": "stderr",
     "output_type": "stream",
     "text": [
      "Processing Frames:  86%|█████████████████████████████████████████████████████████████████████████████████████████████████▏               | 221/257 [03:29<00:33,  1.07it/s]"
     ]
    },
    {
     "name": "stdout",
     "output_type": "stream",
     "text": [
      "Start frame: 93945\tEnd Frame: 94305\n",
      "Computation reduction from downsampling & caching: 0.969444\n"
     ]
    },
    {
     "name": "stderr",
     "output_type": "stream",
     "text": [
      "Processing Frames:  86%|█████████████████████████████████████████████████████████████████████████████████████████████████▌               | 222/257 [03:30<00:35,  1.03s/it]"
     ]
    },
    {
     "name": "stdout",
     "output_type": "stream",
     "text": [
      "Start frame: 94305\tEnd Frame: 94665\n",
      "Computation reduction from downsampling & caching: 0.969444\n"
     ]
    },
    {
     "name": "stderr",
     "output_type": "stream",
     "text": [
      "Processing Frames:  87%|██████████████████████████████████████████████████████████████████████████████████████████████████               | 223/257 [03:31<00:36,  1.08s/it]"
     ]
    },
    {
     "name": "stdout",
     "output_type": "stream",
     "text": [
      "Start frame: 94665\tEnd Frame: 95025\n",
      "Computation reduction from downsampling & caching: 0.969444\n"
     ]
    },
    {
     "name": "stderr",
     "output_type": "stream",
     "text": [
      "Processing Frames:  87%|██████████████████████████████████████████████████████████████████████████████████████████████████▍              | 224/257 [03:33<00:37,  1.13s/it]"
     ]
    },
    {
     "name": "stdout",
     "output_type": "stream",
     "text": [
      "Start frame: 95025\tEnd Frame: 95385\n",
      "Computation reduction from downsampling & caching: 0.969444\n"
     ]
    },
    {
     "name": "stderr",
     "output_type": "stream",
     "text": [
      "Processing Frames:  88%|██████████████████████████████████████████████████████████████████████████████████████████████████▉              | 225/257 [03:34<00:36,  1.13s/it]"
     ]
    },
    {
     "name": "stdout",
     "output_type": "stream",
     "text": [
      "Start frame: 95385\tEnd Frame: 95745\n",
      "No faces detected by index; Skipping scene.\n",
      "Start frame: 95745\tEnd Frame: 96105\n",
      "Computation reduction from downsampling & caching: 0.969444\n"
     ]
    },
    {
     "name": "stderr",
     "output_type": "stream",
     "text": [
      "Processing Frames:  88%|███████████████████████████████████████████████████████████████████████████████████████████████████▊             | 227/257 [03:35<00:26,  1.15it/s]"
     ]
    },
    {
     "name": "stdout",
     "output_type": "stream",
     "text": [
      "Start frame: 96105\tEnd Frame: 96465\n",
      "Computation reduction from downsampling & caching: 0.969444\n"
     ]
    },
    {
     "name": "stderr",
     "output_type": "stream",
     "text": [
      "Processing Frames:  89%|████████████████████████████████████████████████████████████████████████████████████████████████████▏            | 228/257 [03:36<00:25,  1.13it/s]"
     ]
    },
    {
     "name": "stdout",
     "output_type": "stream",
     "text": [
      "Start frame: 96465\tEnd Frame: 96825\n",
      "Computation reduction from downsampling & caching: 0.969444\n"
     ]
    },
    {
     "name": "stderr",
     "output_type": "stream",
     "text": [
      "Processing Frames:  89%|████████████████████████████████████████████████████████████████████████████████████████████████████▋            | 229/257 [03:37<00:24,  1.13it/s]"
     ]
    },
    {
     "name": "stdout",
     "output_type": "stream",
     "text": [
      "Start frame: 96825\tEnd Frame: 97185\n",
      "No faces detected by index; Skipping scene.\n",
      "Start frame: 97185\tEnd Frame: 97545\n",
      "Computation reduction from downsampling & caching: 0.969444\n"
     ]
    },
    {
     "name": "stderr",
     "output_type": "stream",
     "text": [
      "Processing Frames:  90%|█████████████████████████████████████████████████████████████████████████████████████████████████████▌           | 231/257 [03:38<00:19,  1.37it/s]"
     ]
    },
    {
     "name": "stdout",
     "output_type": "stream",
     "text": [
      "Start frame: 97545\tEnd Frame: 97905\n",
      "Computation reduction from downsampling & caching: 0.969444\n"
     ]
    },
    {
     "name": "stderr",
     "output_type": "stream",
     "text": [
      "Processing Frames:  90%|██████████████████████████████████████████████████████████████████████████████████████████████████████           | 232/257 [03:39<00:18,  1.35it/s]"
     ]
    },
    {
     "name": "stdout",
     "output_type": "stream",
     "text": [
      "Start frame: 97905\tEnd Frame: 98265\n",
      "Computation reduction from downsampling & caching: 0.969444\n"
     ]
    },
    {
     "name": "stderr",
     "output_type": "stream",
     "text": [
      "Processing Frames:  91%|██████████████████████████████████████████████████████████████████████████████████████████████████████▍          | 233/257 [03:40<00:19,  1.23it/s]"
     ]
    },
    {
     "name": "stdout",
     "output_type": "stream",
     "text": [
      "Start frame: 98265\tEnd Frame: 98625\n",
      "Computation reduction from downsampling & caching: 0.969444\n"
     ]
    },
    {
     "name": "stderr",
     "output_type": "stream",
     "text": [
      "Processing Frames:  91%|██████████████████████████████████████████████████████████████████████████████████████████████████████▉          | 234/257 [03:40<00:19,  1.20it/s]"
     ]
    },
    {
     "name": "stdout",
     "output_type": "stream",
     "text": [
      "Start frame: 98625\tEnd Frame: 98985\n",
      "No faces detected by index; Skipping scene.\n",
      "Start frame: 98985\tEnd Frame: 99345\n",
      "Computation reduction from downsampling & caching: 0.969444\n"
     ]
    },
    {
     "name": "stderr",
     "output_type": "stream",
     "text": [
      "Processing Frames:  92%|███████████████████████████████████████████████████████████████████████████████████████████████████████▊         | 236/257 [03:42<00:14,  1.43it/s]"
     ]
    },
    {
     "name": "stdout",
     "output_type": "stream",
     "text": [
      "Start frame: 99345\tEnd Frame: 99705\n",
      "Computation reduction from downsampling & caching: 0.969444\n"
     ]
    },
    {
     "name": "stderr",
     "output_type": "stream",
     "text": [
      "Processing Frames:  92%|████████████████████████████████████████████████████████████████████████████████████████████████████████▏        | 237/257 [03:43<00:15,  1.30it/s]"
     ]
    },
    {
     "name": "stdout",
     "output_type": "stream",
     "text": [
      "Start frame: 99705\tEnd Frame: 100065\n",
      "No faces detected by index; Skipping scene.\n",
      "Start frame: 100065\tEnd Frame: 100425\n",
      "No faces detected by index; Skipping scene.\n",
      "Start frame: 100425\tEnd Frame: 100785\n",
      "No faces detected by index; Skipping scene.\n",
      "Start frame: 100785\tEnd Frame: 101145\n",
      "No faces detected by index; Skipping scene.\n",
      "Start frame: 101145\tEnd Frame: 101505\n",
      "No faces detected by index; Skipping scene.\n",
      "Start frame: 101505\tEnd Frame: 101865\n",
      "No faces detected by index; Skipping scene.\n",
      "Start frame: 101865\tEnd Frame: 102225\n",
      "No faces detected by index; Skipping scene.\n",
      "Start frame: 102225\tEnd Frame: 102585\n",
      "No faces detected by index; Skipping scene.\n",
      "Start frame: 102585\tEnd Frame: 102945\n",
      "No faces detected by index; Skipping scene.\n",
      "Start frame: 102945\tEnd Frame: 103305\n",
      "No faces detected by index; Skipping scene.\n",
      "Start frame: 103305\tEnd Frame: 103665\n",
      "No faces detected by index; Skipping scene.\n",
      "Start frame: 103665\tEnd Frame: 104025\n",
      "No faces detected by index; Skipping scene.\n",
      "Start frame: 104025\tEnd Frame: 104385\n",
      "No faces detected by index; Skipping scene.\n",
      "Start frame: 104385\tEnd Frame: 104745\n",
      "No faces detected by index; Skipping scene.\n",
      "Start frame: 104745\tEnd Frame: 105105\n",
      "Computation reduction from downsampling & caching: 0.969444\n"
     ]
    },
    {
     "name": "stderr",
     "output_type": "stream",
     "text": [
      "Processing Frames:  98%|██████████████████████████████████████████████████████████████████████████████████████████████████████████████▊  | 252/257 [03:43<00:00,  5.69it/s]"
     ]
    },
    {
     "name": "stdout",
     "output_type": "stream",
     "text": [
      "Start frame: 105105\tEnd Frame: 105465\n",
      "Computation reduction from downsampling & caching: 0.969444\n"
     ]
    },
    {
     "name": "stderr",
     "output_type": "stream",
     "text": [
      "Processing Frames:  98%|███████████████████████████████████████████████████████████████████████████████████████████████████████████████▏ | 253/257 [03:45<00:00,  4.02it/s]"
     ]
    },
    {
     "name": "stdout",
     "output_type": "stream",
     "text": [
      "Start frame: 105465\tEnd Frame: 105825\n",
      "Computation reduction from downsampling & caching: 0.969444\n"
     ]
    },
    {
     "name": "stderr",
     "output_type": "stream",
     "text": [
      "Processing Frames:  99%|███████████████████████████████████████████████████████████████████████████████████████████████████████████████▋ | 254/257 [03:46<00:00,  3.17it/s]"
     ]
    },
    {
     "name": "stdout",
     "output_type": "stream",
     "text": [
      "Start frame: 105825\tEnd Frame: 106185\n",
      "Computation reduction from downsampling & caching: 0.969444\n"
     ]
    },
    {
     "name": "stderr",
     "output_type": "stream",
     "text": [
      "Processing Frames:  99%|████████████████████████████████████████████████████████████████████████████████████████████████████████████████ | 255/257 [03:47<00:00,  2.50it/s]"
     ]
    },
    {
     "name": "stdout",
     "output_type": "stream",
     "text": [
      "Start frame: 106185\tEnd Frame: 106545\n",
      "Computation reduction from downsampling & caching: 0.969444\n"
     ]
    },
    {
     "name": "stderr",
     "output_type": "stream",
     "text": [
      "Processing Frames: 100%|█████████████████████████████████████████████████████████████████████████████████████████████████████████████████| 257/257 [03:48<00:00,  1.13it/s]\n"
     ]
    },
    {
     "name": "stdout",
     "output_type": "stream",
     "text": [
      "Start frame: 106545\tEnd Frame: 106905\n",
      "No faces detected by index; Skipping scene.\n",
      "Now Processing: Taxi Driver\n",
      "Starting from minute 10, processing up to minute 59.059000\n",
      "Building num_faces index of frames from every 15 seconds\n"
     ]
    },
    {
     "name": "stderr",
     "output_type": "stream",
     "text": [
      "Building Index: 100%|████████████████████████████████████████████████████████████████████████████████████████████████████████████████████| 197/197 [00:11<00:00, 16.44it/s]\n"
     ]
    },
    {
     "name": "stdout",
     "output_type": "stream",
     "text": [
      "Processing facial scenes\n"
     ]
    },
    {
     "name": "stderr",
     "output_type": "stream",
     "text": [
      "Processing Frames:   0%|                                                                                                                           | 0/196 [00:00<?, ?it/s]"
     ]
    },
    {
     "name": "stdout",
     "output_type": "stream",
     "text": [
      "Start frame: 14385\tEnd Frame: 14745\n",
      "Computation reduction from downsampling & caching: 0.969444\n"
     ]
    },
    {
     "name": "stderr",
     "output_type": "stream",
     "text": [
      "Processing Frames:   1%|▌                                                                                                                  | 1/196 [00:00<02:32,  1.28it/s]"
     ]
    },
    {
     "name": "stdout",
     "output_type": "stream",
     "text": [
      "Start frame: 14745\tEnd Frame: 15105\n",
      "No faces detected by index; Skipping scene.\n",
      "Start frame: 15105\tEnd Frame: 15465\n",
      "Computation reduction from downsampling & caching: 0.969444\n"
     ]
    },
    {
     "name": "stderr",
     "output_type": "stream",
     "text": [
      "Processing Frames:   2%|█▊                                                                                                                 | 3/196 [00:01<01:24,  2.28it/s]"
     ]
    },
    {
     "name": "stdout",
     "output_type": "stream",
     "text": [
      "Start frame: 15465\tEnd Frame: 15825\n",
      "Computation reduction from downsampling & caching: 0.969444\n"
     ]
    },
    {
     "name": "stderr",
     "output_type": "stream",
     "text": [
      "Processing Frames:   2%|██▎                                                                                                                | 4/196 [00:01<01:31,  2.11it/s]"
     ]
    },
    {
     "name": "stdout",
     "output_type": "stream",
     "text": [
      "Start frame: 15825\tEnd Frame: 16185\n",
      "Computation reduction from downsampling & caching: 0.969444\n"
     ]
    },
    {
     "name": "stderr",
     "output_type": "stream",
     "text": [
      "Processing Frames:   3%|██▉                                                                                                                | 5/196 [00:02<01:54,  1.67it/s]"
     ]
    },
    {
     "name": "stdout",
     "output_type": "stream",
     "text": [
      "Start frame: 16185\tEnd Frame: 16545\n",
      "Computation reduction from downsampling & caching: 0.969444\n"
     ]
    },
    {
     "name": "stderr",
     "output_type": "stream",
     "text": [
      "Processing Frames:   3%|███▌                                                                                                               | 6/196 [00:03<02:11,  1.44it/s]"
     ]
    },
    {
     "name": "stdout",
     "output_type": "stream",
     "text": [
      "Start frame: 16545\tEnd Frame: 16905\n",
      "Computation reduction from downsampling & caching: 0.969444\n"
     ]
    },
    {
     "name": "stderr",
     "output_type": "stream",
     "text": [
      "Processing Frames:   4%|████                                                                                                               | 7/196 [00:04<02:09,  1.46it/s]"
     ]
    },
    {
     "name": "stdout",
     "output_type": "stream",
     "text": [
      "Start frame: 16905\tEnd Frame: 17265\n",
      "Computation reduction from downsampling & caching: 0.969444\n"
     ]
    },
    {
     "name": "stderr",
     "output_type": "stream",
     "text": [
      "Processing Frames:   4%|████▋                                                                                                              | 8/196 [00:04<02:02,  1.53it/s]"
     ]
    },
    {
     "name": "stdout",
     "output_type": "stream",
     "text": [
      "Start frame: 17265\tEnd Frame: 17625\n",
      "Computation reduction from downsampling & caching: 0.969444\n"
     ]
    },
    {
     "name": "stderr",
     "output_type": "stream",
     "text": [
      "Processing Frames:   5%|█████▎                                                                                                             | 9/196 [00:05<02:09,  1.45it/s]"
     ]
    },
    {
     "name": "stdout",
     "output_type": "stream",
     "text": [
      "Start frame: 17625\tEnd Frame: 17985\n",
      "Computation reduction from downsampling & caching: 0.969444\n"
     ]
    },
    {
     "name": "stderr",
     "output_type": "stream",
     "text": [
      "Processing Frames:   5%|█████▊                                                                                                            | 10/196 [00:06<02:16,  1.37it/s]"
     ]
    },
    {
     "name": "stdout",
     "output_type": "stream",
     "text": [
      "Start frame: 17985\tEnd Frame: 18345\n",
      "Computation reduction from downsampling & caching: 0.969444\n"
     ]
    },
    {
     "name": "stderr",
     "output_type": "stream",
     "text": [
      "Processing Frames:   6%|██████▍                                                                                                           | 11/196 [00:07<02:13,  1.38it/s]"
     ]
    },
    {
     "name": "stdout",
     "output_type": "stream",
     "text": [
      "Start frame: 18345\tEnd Frame: 18705\n",
      "No faces detected by index; Skipping scene.\n",
      "Start frame: 18705\tEnd Frame: 19065\n",
      "No faces detected by index; Skipping scene.\n",
      "Start frame: 19065\tEnd Frame: 19425\n",
      "No faces detected by index; Skipping scene.\n",
      "Start frame: 19425\tEnd Frame: 19785\n",
      "No faces detected by index; Skipping scene.\n",
      "Start frame: 19785\tEnd Frame: 20145\n",
      "No faces detected by index; Skipping scene.\n",
      "Start frame: 20145\tEnd Frame: 20505\n",
      "Computation reduction from downsampling & caching: 0.969444\n"
     ]
    },
    {
     "name": "stderr",
     "output_type": "stream",
     "text": [
      "Processing Frames:   9%|█████████▉                                                                                                        | 17/196 [00:07<00:51,  3.51it/s]"
     ]
    },
    {
     "name": "stdout",
     "output_type": "stream",
     "text": [
      "Start frame: 20505\tEnd Frame: 20865\n",
      "Computation reduction from downsampling & caching: 0.969444\n"
     ]
    },
    {
     "name": "stderr",
     "output_type": "stream",
     "text": [
      "Processing Frames:   9%|██████████▍                                                                                                       | 18/196 [00:08<00:57,  3.07it/s]"
     ]
    },
    {
     "name": "stdout",
     "output_type": "stream",
     "text": [
      "Start frame: 20865\tEnd Frame: 21225\n",
      "No faces detected by index; Skipping scene.\n",
      "Start frame: 21225\tEnd Frame: 21585\n",
      "No faces detected by index; Skipping scene.\n",
      "Start frame: 21585\tEnd Frame: 21945\n",
      "No faces detected by index; Skipping scene.\n",
      "Start frame: 21945\tEnd Frame: 22305\n",
      "Computation reduction from downsampling & caching: 0.969444\n"
     ]
    },
    {
     "name": "stderr",
     "output_type": "stream",
     "text": [
      "Processing Frames:  11%|████████████▊                                                                                                     | 22/196 [00:09<00:42,  4.08it/s]"
     ]
    },
    {
     "name": "stdout",
     "output_type": "stream",
     "text": [
      "Start frame: 22305\tEnd Frame: 22665\n",
      "Computation reduction from downsampling & caching: 0.969444\n"
     ]
    },
    {
     "name": "stderr",
     "output_type": "stream",
     "text": [
      "Processing Frames:  12%|█████████████▍                                                                                                    | 23/196 [00:10<00:59,  2.93it/s]"
     ]
    },
    {
     "name": "stdout",
     "output_type": "stream",
     "text": [
      "Start frame: 22665\tEnd Frame: 23025\n",
      "Computation reduction from downsampling & caching: 0.969444\n"
     ]
    },
    {
     "name": "stderr",
     "output_type": "stream",
     "text": [
      "Processing Frames:  12%|█████████████▉                                                                                                    | 24/196 [00:10<01:14,  2.32it/s]"
     ]
    },
    {
     "name": "stdout",
     "output_type": "stream",
     "text": [
      "Start frame: 23025\tEnd Frame: 23385\n",
      "Computation reduction from downsampling & caching: 0.969444\n"
     ]
    },
    {
     "name": "stderr",
     "output_type": "stream",
     "text": [
      "Processing Frames:  13%|██████████████▌                                                                                                   | 25/196 [00:11<01:24,  2.02it/s]"
     ]
    },
    {
     "name": "stdout",
     "output_type": "stream",
     "text": [
      "Start frame: 23385\tEnd Frame: 23745\n",
      "Computation reduction from downsampling & caching: 0.969444\n"
     ]
    },
    {
     "name": "stderr",
     "output_type": "stream",
     "text": [
      "Processing Frames:  13%|███████████████                                                                                                   | 26/196 [00:12<01:33,  1.81it/s]"
     ]
    },
    {
     "name": "stdout",
     "output_type": "stream",
     "text": [
      "Start frame: 23745\tEnd Frame: 24105\n",
      "Computation reduction from downsampling & caching: 0.969444\n"
     ]
    },
    {
     "name": "stderr",
     "output_type": "stream",
     "text": [
      "Processing Frames:  14%|███████████████▋                                                                                                  | 27/196 [00:13<01:41,  1.67it/s]"
     ]
    },
    {
     "name": "stdout",
     "output_type": "stream",
     "text": [
      "Start frame: 24105\tEnd Frame: 24465\n",
      "Computation reduction from downsampling & caching: 0.969444\n"
     ]
    },
    {
     "name": "stderr",
     "output_type": "stream",
     "text": [
      "Processing Frames:  14%|████████████████▎                                                                                                 | 28/196 [00:13<01:43,  1.62it/s]"
     ]
    },
    {
     "name": "stdout",
     "output_type": "stream",
     "text": [
      "Start frame: 24465\tEnd Frame: 24825\n",
      "Computation reduction from downsampling & caching: 0.969444\n"
     ]
    },
    {
     "name": "stderr",
     "output_type": "stream",
     "text": [
      "Processing Frames:  15%|████████████████▊                                                                                                 | 29/196 [00:14<01:59,  1.39it/s]"
     ]
    },
    {
     "name": "stdout",
     "output_type": "stream",
     "text": [
      "Start frame: 24825\tEnd Frame: 25185\n",
      "No faces detected by index; Skipping scene.\n",
      "Start frame: 25185\tEnd Frame: 25545\n",
      "No faces detected by index; Skipping scene.\n",
      "Start frame: 25545\tEnd Frame: 25905\n",
      "No faces detected by index; Skipping scene.\n",
      "Start frame: 25905\tEnd Frame: 26265\n",
      "No faces detected by index; Skipping scene.\n",
      "Start frame: 26265\tEnd Frame: 26625\n",
      "Computation reduction from downsampling & caching: 0.969444\n"
     ]
    },
    {
     "name": "stderr",
     "output_type": "stream",
     "text": [
      "Processing Frames:  17%|███████████████████▊                                                                                              | 34/196 [00:15<00:53,  3.02it/s]"
     ]
    },
    {
     "name": "stdout",
     "output_type": "stream",
     "text": [
      "Start frame: 26625\tEnd Frame: 26985\n",
      "Computation reduction from downsampling & caching: 0.969444\n"
     ]
    },
    {
     "name": "stderr",
     "output_type": "stream",
     "text": [
      "Processing Frames:  18%|████████████████████▎                                                                                             | 35/196 [00:16<01:03,  2.54it/s]"
     ]
    },
    {
     "name": "stdout",
     "output_type": "stream",
     "text": [
      "Start frame: 26985\tEnd Frame: 27345\n",
      "Computation reduction from downsampling & caching: 0.969444\n"
     ]
    },
    {
     "name": "stderr",
     "output_type": "stream",
     "text": [
      "Processing Frames:  18%|████████████████████▉                                                                                             | 36/196 [00:17<01:16,  2.10it/s]"
     ]
    },
    {
     "name": "stdout",
     "output_type": "stream",
     "text": [
      "Start frame: 27345\tEnd Frame: 27705\n",
      "Computation reduction from downsampling & caching: 0.969444\n"
     ]
    },
    {
     "name": "stderr",
     "output_type": "stream",
     "text": [
      "Processing Frames:  19%|█████████████████████▌                                                                                            | 37/196 [00:17<01:26,  1.84it/s]"
     ]
    },
    {
     "name": "stdout",
     "output_type": "stream",
     "text": [
      "Start frame: 27705\tEnd Frame: 28065\n",
      "Computation reduction from downsampling & caching: 0.969444\n"
     ]
    },
    {
     "name": "stderr",
     "output_type": "stream",
     "text": [
      "Processing Frames:  19%|██████████████████████                                                                                            | 38/196 [00:18<01:36,  1.64it/s]"
     ]
    },
    {
     "name": "stdout",
     "output_type": "stream",
     "text": [
      "Start frame: 28065\tEnd Frame: 28425\n",
      "Computation reduction from downsampling & caching: 0.969444\n"
     ]
    },
    {
     "name": "stderr",
     "output_type": "stream",
     "text": [
      "Processing Frames:  20%|██████████████████████▋                                                                                           | 39/196 [00:19<01:42,  1.53it/s]"
     ]
    },
    {
     "name": "stdout",
     "output_type": "stream",
     "text": [
      "Start frame: 28425\tEnd Frame: 28785\n",
      "Computation reduction from downsampling & caching: 0.969444\n"
     ]
    },
    {
     "name": "stderr",
     "output_type": "stream",
     "text": [
      "Processing Frames:  20%|███████████████████████▎                                                                                          | 40/196 [00:20<01:46,  1.47it/s]"
     ]
    },
    {
     "name": "stdout",
     "output_type": "stream",
     "text": [
      "Start frame: 28785\tEnd Frame: 29145\n",
      "Computation reduction from downsampling & caching: 0.969444\n"
     ]
    },
    {
     "name": "stderr",
     "output_type": "stream",
     "text": [
      "Processing Frames:  21%|███████████████████████▊                                                                                          | 41/196 [00:20<01:43,  1.50it/s]"
     ]
    },
    {
     "name": "stdout",
     "output_type": "stream",
     "text": [
      "Start frame: 29145\tEnd Frame: 29505\n",
      "Computation reduction from downsampling & caching: 0.969444\n"
     ]
    },
    {
     "name": "stderr",
     "output_type": "stream",
     "text": [
      "Processing Frames:  21%|████████████████████████▍                                                                                         | 42/196 [00:21<01:48,  1.41it/s]"
     ]
    },
    {
     "name": "stdout",
     "output_type": "stream",
     "text": [
      "Start frame: 29505\tEnd Frame: 29865\n",
      "Computation reduction from downsampling & caching: 0.969444\n"
     ]
    },
    {
     "name": "stderr",
     "output_type": "stream",
     "text": [
      "Processing Frames:  22%|█████████████████████████                                                                                         | 43/196 [00:22<01:46,  1.44it/s]"
     ]
    },
    {
     "name": "stdout",
     "output_type": "stream",
     "text": [
      "Start frame: 29865\tEnd Frame: 30225\n",
      "Computation reduction from downsampling & caching: 0.969444\n"
     ]
    },
    {
     "name": "stderr",
     "output_type": "stream",
     "text": [
      "Processing Frames:  22%|█████████████████████████▌                                                                                        | 44/196 [00:23<01:49,  1.39it/s]"
     ]
    },
    {
     "name": "stdout",
     "output_type": "stream",
     "text": [
      "Start frame: 30225\tEnd Frame: 30585\n",
      "Computation reduction from downsampling & caching: 0.969444\n"
     ]
    },
    {
     "name": "stderr",
     "output_type": "stream",
     "text": [
      "Processing Frames:  23%|██████████████████████████▏                                                                                       | 45/196 [00:23<01:54,  1.32it/s]"
     ]
    },
    {
     "name": "stdout",
     "output_type": "stream",
     "text": [
      "Start frame: 30585\tEnd Frame: 30945\n",
      "Computation reduction from downsampling & caching: 0.969444\n"
     ]
    },
    {
     "name": "stderr",
     "output_type": "stream",
     "text": [
      "Processing Frames:  23%|██████████████████████████▊                                                                                       | 46/196 [00:24<01:54,  1.31it/s]"
     ]
    },
    {
     "name": "stdout",
     "output_type": "stream",
     "text": [
      "Start frame: 30945\tEnd Frame: 31305\n",
      "Computation reduction from downsampling & caching: 0.969444\n"
     ]
    },
    {
     "name": "stderr",
     "output_type": "stream",
     "text": [
      "Processing Frames:  24%|███████████████████████████▎                                                                                      | 47/196 [00:25<01:53,  1.31it/s]"
     ]
    },
    {
     "name": "stdout",
     "output_type": "stream",
     "text": [
      "Start frame: 31305\tEnd Frame: 31665\n",
      "Computation reduction from downsampling & caching: 0.969444\n"
     ]
    },
    {
     "name": "stderr",
     "output_type": "stream",
     "text": [
      "Processing Frames:  24%|███████████████████████████▉                                                                                      | 48/196 [00:26<01:50,  1.34it/s]"
     ]
    },
    {
     "name": "stdout",
     "output_type": "stream",
     "text": [
      "Start frame: 31665\tEnd Frame: 32025\n",
      "Computation reduction from downsampling & caching: 0.969444\n"
     ]
    },
    {
     "name": "stderr",
     "output_type": "stream",
     "text": [
      "Processing Frames:  25%|████████████████████████████▌                                                                                     | 49/196 [00:26<01:48,  1.35it/s]"
     ]
    },
    {
     "name": "stdout",
     "output_type": "stream",
     "text": [
      "Start frame: 32025\tEnd Frame: 32385\n",
      "Computation reduction from downsampling & caching: 0.969444\n"
     ]
    },
    {
     "name": "stderr",
     "output_type": "stream",
     "text": [
      "Processing Frames:  26%|█████████████████████████████                                                                                     | 50/196 [00:27<01:53,  1.28it/s]"
     ]
    },
    {
     "name": "stdout",
     "output_type": "stream",
     "text": [
      "Start frame: 32385\tEnd Frame: 32745\n",
      "Computation reduction from downsampling & caching: 0.969444\n"
     ]
    },
    {
     "name": "stderr",
     "output_type": "stream",
     "text": [
      "Processing Frames:  26%|█████████████████████████████▋                                                                                    | 51/196 [00:28<01:52,  1.29it/s]"
     ]
    },
    {
     "name": "stdout",
     "output_type": "stream",
     "text": [
      "Start frame: 32745\tEnd Frame: 33105\n",
      "Computation reduction from downsampling & caching: 0.969444\n"
     ]
    },
    {
     "name": "stderr",
     "output_type": "stream",
     "text": [
      "Processing Frames:  27%|██████████████████████████████▏                                                                                   | 52/196 [00:29<01:53,  1.27it/s]"
     ]
    },
    {
     "name": "stdout",
     "output_type": "stream",
     "text": [
      "Start frame: 33105\tEnd Frame: 33465\n",
      "Computation reduction from downsampling & caching: 0.969444\n"
     ]
    },
    {
     "name": "stderr",
     "output_type": "stream",
     "text": [
      "Processing Frames:  27%|██████████████████████████████▊                                                                                   | 53/196 [00:30<01:51,  1.28it/s]"
     ]
    },
    {
     "name": "stdout",
     "output_type": "stream",
     "text": [
      "Start frame: 33465\tEnd Frame: 33825\n",
      "Computation reduction from downsampling & caching: 0.969444\n"
     ]
    },
    {
     "name": "stderr",
     "output_type": "stream",
     "text": [
      "Processing Frames:  28%|███████████████████████████████▍                                                                                  | 54/196 [00:30<01:46,  1.33it/s]"
     ]
    },
    {
     "name": "stdout",
     "output_type": "stream",
     "text": [
      "Start frame: 33825\tEnd Frame: 34185\n",
      "No faces detected by index; Skipping scene.\n",
      "Start frame: 34185\tEnd Frame: 34545\n",
      "Computation reduction from downsampling & caching: 0.969444\n"
     ]
    },
    {
     "name": "stderr",
     "output_type": "stream",
     "text": [
      "Processing Frames:  29%|████████████████████████████████▌                                                                                 | 56/196 [00:31<01:17,  1.80it/s]"
     ]
    },
    {
     "name": "stdout",
     "output_type": "stream",
     "text": [
      "Start frame: 34545\tEnd Frame: 34905\n",
      "Computation reduction from downsampling & caching: 0.969444\n"
     ]
    },
    {
     "name": "stderr",
     "output_type": "stream",
     "text": [
      "Processing Frames:  29%|█████████████████████████████████▏                                                                                | 57/196 [00:32<01:28,  1.58it/s]"
     ]
    },
    {
     "name": "stdout",
     "output_type": "stream",
     "text": [
      "Start frame: 34905\tEnd Frame: 35265\n",
      "Computation reduction from downsampling & caching: 0.969444\n"
     ]
    },
    {
     "name": "stderr",
     "output_type": "stream",
     "text": [
      "Processing Frames:  30%|█████████████████████████████████▋                                                                                | 58/196 [00:33<01:37,  1.42it/s]"
     ]
    },
    {
     "name": "stdout",
     "output_type": "stream",
     "text": [
      "Start frame: 35265\tEnd Frame: 35625\n",
      "Computation reduction from downsampling & caching: 0.969444\n"
     ]
    },
    {
     "name": "stderr",
     "output_type": "stream",
     "text": [
      "Processing Frames:  30%|██████████████████████████████████▎                                                                               | 59/196 [00:34<01:42,  1.33it/s]"
     ]
    },
    {
     "name": "stdout",
     "output_type": "stream",
     "text": [
      "Start frame: 35625\tEnd Frame: 35985\n",
      "Computation reduction from downsampling & caching: 0.969444\n"
     ]
    },
    {
     "name": "stderr",
     "output_type": "stream",
     "text": [
      "Processing Frames:  31%|██████████████████████████████████▉                                                                               | 60/196 [00:35<01:45,  1.29it/s]"
     ]
    },
    {
     "name": "stdout",
     "output_type": "stream",
     "text": [
      "Start frame: 35985\tEnd Frame: 36345\n",
      "Computation reduction from downsampling & caching: 0.969444\n"
     ]
    },
    {
     "name": "stderr",
     "output_type": "stream",
     "text": [
      "Processing Frames:  31%|███████████████████████████████████▍                                                                              | 61/196 [00:35<01:45,  1.28it/s]"
     ]
    },
    {
     "name": "stdout",
     "output_type": "stream",
     "text": [
      "Start frame: 36345\tEnd Frame: 36705\n",
      "Computation reduction from downsampling & caching: 0.969444\n"
     ]
    },
    {
     "name": "stderr",
     "output_type": "stream",
     "text": [
      "Processing Frames:  32%|████████████████████████████████████                                                                              | 62/196 [00:36<01:50,  1.22it/s]"
     ]
    },
    {
     "name": "stdout",
     "output_type": "stream",
     "text": [
      "Start frame: 36705\tEnd Frame: 37065\n",
      "Computation reduction from downsampling & caching: 0.969444\n"
     ]
    },
    {
     "name": "stderr",
     "output_type": "stream",
     "text": [
      "Processing Frames:  32%|████████████████████████████████████▋                                                                             | 63/196 [00:37<01:52,  1.18it/s]"
     ]
    },
    {
     "name": "stdout",
     "output_type": "stream",
     "text": [
      "Start frame: 37065\tEnd Frame: 37425\n",
      "Computation reduction from downsampling & caching: 0.969444\n"
     ]
    },
    {
     "name": "stderr",
     "output_type": "stream",
     "text": [
      "Processing Frames:  33%|█████████████████████████████████████▏                                                                            | 64/196 [00:38<01:53,  1.16it/s]"
     ]
    },
    {
     "name": "stdout",
     "output_type": "stream",
     "text": [
      "Start frame: 37425\tEnd Frame: 37785\n",
      "Computation reduction from downsampling & caching: 0.969444\n"
     ]
    },
    {
     "name": "stderr",
     "output_type": "stream",
     "text": [
      "Processing Frames:  33%|█████████████████████████████████████▊                                                                            | 65/196 [00:39<01:53,  1.15it/s]"
     ]
    },
    {
     "name": "stdout",
     "output_type": "stream",
     "text": [
      "Start frame: 37785\tEnd Frame: 38145\n",
      "Computation reduction from downsampling & caching: 0.969444\n"
     ]
    },
    {
     "name": "stderr",
     "output_type": "stream",
     "text": [
      "Processing Frames:  34%|██████████████████████████████████████▍                                                                           | 66/196 [00:40<02:01,  1.07it/s]"
     ]
    },
    {
     "name": "stdout",
     "output_type": "stream",
     "text": [
      "Start frame: 38145\tEnd Frame: 38505\n",
      "Computation reduction from downsampling & caching: 0.969444\n"
     ]
    },
    {
     "name": "stderr",
     "output_type": "stream",
     "text": [
      "Processing Frames:  34%|██████████████████████████████████████▉                                                                           | 67/196 [00:41<02:04,  1.04it/s]"
     ]
    },
    {
     "name": "stdout",
     "output_type": "stream",
     "text": [
      "Start frame: 38505\tEnd Frame: 38865\n",
      "Computation reduction from downsampling & caching: 0.969444\n"
     ]
    },
    {
     "name": "stderr",
     "output_type": "stream",
     "text": [
      "Processing Frames:  35%|███████████████████████████████████████▌                                                                          | 68/196 [00:42<01:56,  1.10it/s]"
     ]
    },
    {
     "name": "stdout",
     "output_type": "stream",
     "text": [
      "Start frame: 38865\tEnd Frame: 39225\n",
      "Computation reduction from downsampling & caching: 0.969444\n"
     ]
    },
    {
     "name": "stderr",
     "output_type": "stream",
     "text": [
      "Processing Frames:  35%|████████████████████████████████████████▏                                                                         | 69/196 [00:43<01:52,  1.13it/s]"
     ]
    },
    {
     "name": "stdout",
     "output_type": "stream",
     "text": [
      "Start frame: 39225\tEnd Frame: 39585\n",
      "Computation reduction from downsampling & caching: 0.969444\n"
     ]
    },
    {
     "name": "stderr",
     "output_type": "stream",
     "text": [
      "Processing Frames:  36%|████████████████████████████████████████▋                                                                         | 70/196 [00:43<01:37,  1.29it/s]"
     ]
    },
    {
     "name": "stdout",
     "output_type": "stream",
     "text": [
      "Start frame: 39585\tEnd Frame: 39945\n",
      "No faces detected by index; Skipping scene.\n",
      "Start frame: 39945\tEnd Frame: 40305\n",
      "No faces detected by index; Skipping scene.\n",
      "Start frame: 40305\tEnd Frame: 40665\n",
      "No faces detected by index; Skipping scene.\n",
      "Start frame: 40665\tEnd Frame: 41025\n",
      "No faces detected by index; Skipping scene.\n",
      "Start frame: 41025\tEnd Frame: 41385\n",
      "Computation reduction from downsampling & caching: 0.969444\n"
     ]
    },
    {
     "name": "stderr",
     "output_type": "stream",
     "text": [
      "Processing Frames:  38%|███████████████████████████████████████████▌                                                                      | 75/196 [00:44<00:40,  2.96it/s]"
     ]
    },
    {
     "name": "stdout",
     "output_type": "stream",
     "text": [
      "Start frame: 41385\tEnd Frame: 41745\n",
      "Computation reduction from downsampling & caching: 0.969444\n"
     ]
    },
    {
     "name": "stderr",
     "output_type": "stream",
     "text": [
      "Processing Frames:  39%|████████████████████████████████████████████▏                                                                     | 76/196 [00:45<00:49,  2.44it/s]"
     ]
    },
    {
     "name": "stdout",
     "output_type": "stream",
     "text": [
      "Start frame: 41745\tEnd Frame: 42105\n",
      "Computation reduction from downsampling & caching: 0.969444\n"
     ]
    },
    {
     "name": "stderr",
     "output_type": "stream",
     "text": [
      "Processing Frames:  39%|████████████████████████████████████████████▊                                                                     | 77/196 [00:46<01:00,  1.97it/s]"
     ]
    },
    {
     "name": "stdout",
     "output_type": "stream",
     "text": [
      "Start frame: 42105\tEnd Frame: 42465\n",
      "Computation reduction from downsampling & caching: 0.969444\n"
     ]
    },
    {
     "name": "stderr",
     "output_type": "stream",
     "text": [
      "Processing Frames:  40%|█████████████████████████████████████████████▎                                                                    | 78/196 [00:46<01:08,  1.73it/s]"
     ]
    },
    {
     "name": "stdout",
     "output_type": "stream",
     "text": [
      "Start frame: 42465\tEnd Frame: 42825\n",
      "Computation reduction from downsampling & caching: 0.969444\n"
     ]
    },
    {
     "name": "stderr",
     "output_type": "stream",
     "text": [
      "Processing Frames:  40%|█████████████████████████████████████████████▉                                                                    | 79/196 [00:47<01:15,  1.56it/s]"
     ]
    },
    {
     "name": "stdout",
     "output_type": "stream",
     "text": [
      "Start frame: 42825\tEnd Frame: 43185\n",
      "Computation reduction from downsampling & caching: 0.969444\n"
     ]
    },
    {
     "name": "stderr",
     "output_type": "stream",
     "text": [
      "Processing Frames:  41%|██████████████████████████████████████████████▌                                                                   | 80/196 [00:48<01:22,  1.40it/s]"
     ]
    },
    {
     "name": "stdout",
     "output_type": "stream",
     "text": [
      "Start frame: 43185\tEnd Frame: 43545\n",
      "Computation reduction from downsampling & caching: 0.969444\n"
     ]
    },
    {
     "name": "stderr",
     "output_type": "stream",
     "text": [
      "Processing Frames:  41%|███████████████████████████████████████████████                                                                   | 81/196 [00:49<01:25,  1.35it/s]"
     ]
    },
    {
     "name": "stdout",
     "output_type": "stream",
     "text": [
      "Start frame: 43545\tEnd Frame: 43905\n",
      "No faces detected by index; Skipping scene.\n",
      "Start frame: 43905\tEnd Frame: 44265\n",
      "No faces detected by index; Skipping scene.\n",
      "Start frame: 44265\tEnd Frame: 44625\n",
      "No faces detected by index; Skipping scene.\n",
      "Start frame: 44625\tEnd Frame: 44985\n",
      "No faces detected by index; Skipping scene.\n",
      "Start frame: 44985\tEnd Frame: 45345\n",
      "No faces detected by index; Skipping scene.\n",
      "Start frame: 45345\tEnd Frame: 45705\n",
      "No faces detected by index; Skipping scene.\n",
      "Start frame: 45705\tEnd Frame: 46065\n",
      "No faces detected by index; Skipping scene.\n",
      "Start frame: 46065\tEnd Frame: 46425\n",
      "No faces detected by index; Skipping scene.\n",
      "Start frame: 46425\tEnd Frame: 46785\n",
      "No faces detected by index; Skipping scene.\n",
      "Start frame: 46785\tEnd Frame: 47145\n",
      "No faces detected by index; Skipping scene.\n",
      "Start frame: 47145\tEnd Frame: 47505\n",
      "No faces detected by index; Skipping scene.\n",
      "Start frame: 47505\tEnd Frame: 47865\n",
      "No faces detected by index; Skipping scene.\n",
      "Start frame: 47865\tEnd Frame: 48225\n",
      "Computation reduction from downsampling & caching: 0.969444\n"
     ]
    },
    {
     "name": "stderr",
     "output_type": "stream",
     "text": [
      "Processing Frames:  48%|██████████████████████████████████████████████████████▋                                                           | 94/196 [00:50<00:18,  5.58it/s]"
     ]
    },
    {
     "name": "stdout",
     "output_type": "stream",
     "text": [
      "Start frame: 48225\tEnd Frame: 48585\n",
      "Computation reduction from downsampling & caching: 0.969444\n"
     ]
    },
    {
     "name": "stderr",
     "output_type": "stream",
     "text": [
      "Processing Frames:  48%|███████████████████████████████████████████████████████▎                                                          | 95/196 [00:50<00:22,  4.59it/s]"
     ]
    },
    {
     "name": "stdout",
     "output_type": "stream",
     "text": [
      "Start frame: 48585\tEnd Frame: 48945\n",
      "Computation reduction from downsampling & caching: 0.969444\n"
     ]
    },
    {
     "name": "stderr",
     "output_type": "stream",
     "text": [
      "Processing Frames:  49%|███████████████████████████████████████████████████████▊                                                          | 96/196 [00:51<00:25,  3.92it/s]"
     ]
    },
    {
     "name": "stdout",
     "output_type": "stream",
     "text": [
      "Start frame: 48945\tEnd Frame: 49305\n",
      "Computation reduction from downsampling & caching: 0.969444\n"
     ]
    },
    {
     "name": "stderr",
     "output_type": "stream",
     "text": [
      "Processing Frames:  49%|████████████████████████████████████████████████████████▍                                                         | 97/196 [00:52<00:33,  2.97it/s]"
     ]
    },
    {
     "name": "stdout",
     "output_type": "stream",
     "text": [
      "Start frame: 49305\tEnd Frame: 49665\n",
      "Computation reduction from downsampling & caching: 0.969444\n"
     ]
    },
    {
     "name": "stderr",
     "output_type": "stream",
     "text": [
      "Processing Frames:  50%|█████████████████████████████████████████████████████████                                                         | 98/196 [00:53<00:37,  2.61it/s]"
     ]
    },
    {
     "name": "stdout",
     "output_type": "stream",
     "text": [
      "Start frame: 49665\tEnd Frame: 50025\n",
      "Computation reduction from downsampling & caching: 0.969444\n"
     ]
    },
    {
     "name": "stderr",
     "output_type": "stream",
     "text": [
      "Processing Frames:  51%|█████████████████████████████████████████████████████████▌                                                        | 99/196 [00:53<00:40,  2.40it/s]"
     ]
    },
    {
     "name": "stdout",
     "output_type": "stream",
     "text": [
      "Start frame: 50025\tEnd Frame: 50385\n",
      "Computation reduction from downsampling & caching: 0.969444\n"
     ]
    },
    {
     "name": "stderr",
     "output_type": "stream",
     "text": [
      "Processing Frames:  51%|█████████████████████████████████████████████████████████▋                                                       | 100/196 [00:54<00:45,  2.11it/s]"
     ]
    },
    {
     "name": "stdout",
     "output_type": "stream",
     "text": [
      "Start frame: 50385\tEnd Frame: 50745\n",
      "Computation reduction from downsampling & caching: 0.969444\n"
     ]
    },
    {
     "name": "stderr",
     "output_type": "stream",
     "text": [
      "Processing Frames:  52%|██████████████████████████████████████████████████████████▏                                                      | 101/196 [00:55<00:51,  1.83it/s]"
     ]
    },
    {
     "name": "stdout",
     "output_type": "stream",
     "text": [
      "Start frame: 50745\tEnd Frame: 51105\n",
      "Computation reduction from downsampling & caching: 0.969444\n"
     ]
    },
    {
     "name": "stderr",
     "output_type": "stream",
     "text": [
      "Processing Frames:  52%|██████████████████████████████████████████████████████████▊                                                      | 102/196 [00:55<00:51,  1.83it/s]"
     ]
    },
    {
     "name": "stdout",
     "output_type": "stream",
     "text": [
      "Start frame: 51105\tEnd Frame: 51465\n",
      "Computation reduction from downsampling & caching: 0.969444\n"
     ]
    },
    {
     "name": "stderr",
     "output_type": "stream",
     "text": [
      "Processing Frames:  53%|███████████████████████████████████████████████████████████▍                                                     | 103/196 [00:56<00:49,  1.86it/s]"
     ]
    },
    {
     "name": "stdout",
     "output_type": "stream",
     "text": [
      "Start frame: 51465\tEnd Frame: 51825\n",
      "No faces detected by index; Skipping scene.\n",
      "Start frame: 51825\tEnd Frame: 52185\n",
      "Computation reduction from downsampling & caching: 0.969444\n"
     ]
    },
    {
     "name": "stderr",
     "output_type": "stream",
     "text": [
      "Processing Frames:  54%|████████████████████████████████████████████████████████████▌                                                    | 105/196 [00:56<00:40,  2.27it/s]"
     ]
    },
    {
     "name": "stdout",
     "output_type": "stream",
     "text": [
      "Start frame: 52185\tEnd Frame: 52545\n",
      "Computation reduction from downsampling & caching: 0.969444\n"
     ]
    },
    {
     "name": "stderr",
     "output_type": "stream",
     "text": [
      "Processing Frames:  54%|█████████████████████████████████████████████████████████████                                                    | 106/196 [00:57<00:48,  1.87it/s]"
     ]
    },
    {
     "name": "stdout",
     "output_type": "stream",
     "text": [
      "Start frame: 52545\tEnd Frame: 52905\n",
      "No faces detected by index; Skipping scene.\n",
      "Start frame: 52905\tEnd Frame: 53265\n",
      "No faces detected by index; Skipping scene.\n",
      "Start frame: 53265\tEnd Frame: 53625\n",
      "No faces detected by index; Skipping scene.\n",
      "Start frame: 53625\tEnd Frame: 53985\n",
      "No faces detected by index; Skipping scene.\n",
      "Start frame: 53985\tEnd Frame: 54345\n",
      "No faces detected by index; Skipping scene.\n",
      "Start frame: 54345\tEnd Frame: 54705\n",
      "No faces detected by index; Skipping scene.\n",
      "Start frame: 54705\tEnd Frame: 55065\n",
      "No faces detected by index; Skipping scene.\n",
      "Start frame: 55065\tEnd Frame: 55425\n",
      "No faces detected by index; Skipping scene.\n",
      "Start frame: 55425\tEnd Frame: 55785\n",
      "No faces detected by index; Skipping scene.\n",
      "Start frame: 55785\tEnd Frame: 56145\n",
      "No faces detected by index; Skipping scene.\n",
      "Start frame: 56145\tEnd Frame: 56505\n",
      "Computation reduction from downsampling & caching: 0.969444\n"
     ]
    },
    {
     "name": "stderr",
     "output_type": "stream",
     "text": [
      "Processing Frames:  60%|███████████████████████████████████████████████████████████████████▍                                             | 117/196 [00:58<00:13,  5.88it/s]"
     ]
    },
    {
     "name": "stdout",
     "output_type": "stream",
     "text": [
      "Start frame: 56505\tEnd Frame: 56865\n",
      "Computation reduction from downsampling & caching: 0.969444\n"
     ]
    },
    {
     "name": "stderr",
     "output_type": "stream",
     "text": [
      "Processing Frames:  60%|████████████████████████████████████████████████████████████████████                                             | 118/196 [00:59<00:16,  4.65it/s]"
     ]
    },
    {
     "name": "stdout",
     "output_type": "stream",
     "text": [
      "Start frame: 56865\tEnd Frame: 57225\n",
      "Computation reduction from downsampling & caching: 0.969444\n"
     ]
    },
    {
     "name": "stderr",
     "output_type": "stream",
     "text": [
      "Processing Frames:  61%|████████████████████████████████████████████████████████████████████▌                                            | 119/196 [00:59<00:20,  3.83it/s]"
     ]
    },
    {
     "name": "stdout",
     "output_type": "stream",
     "text": [
      "Start frame: 57225\tEnd Frame: 57585\n",
      "Computation reduction from downsampling & caching: 0.969444\n"
     ]
    },
    {
     "name": "stderr",
     "output_type": "stream",
     "text": [
      "Processing Frames:  61%|█████████████████████████████████████████████████████████████████████▏                                           | 120/196 [01:00<00:23,  3.19it/s]"
     ]
    },
    {
     "name": "stdout",
     "output_type": "stream",
     "text": [
      "Start frame: 57585\tEnd Frame: 57945\n",
      "No faces detected by index; Skipping scene.\n",
      "Start frame: 57945\tEnd Frame: 58305\n",
      "No faces detected by index; Skipping scene.\n",
      "Start frame: 58305\tEnd Frame: 58665\n",
      "No faces detected by index; Skipping scene.\n",
      "Start frame: 58665\tEnd Frame: 59025\n",
      "No faces detected by index; Skipping scene.\n",
      "Start frame: 59025\tEnd Frame: 59385\n",
      "No faces detected by index; Skipping scene.\n",
      "Start frame: 59385\tEnd Frame: 59745\n",
      "No faces detected by index; Skipping scene.\n",
      "Start frame: 59745\tEnd Frame: 60105\n",
      "No faces detected by index; Skipping scene.\n",
      "Start frame: 60105\tEnd Frame: 60465\n",
      "No faces detected by index; Skipping scene.\n",
      "Start frame: 60465\tEnd Frame: 60825\n",
      "Computation reduction from downsampling & caching: 0.969444\n"
     ]
    },
    {
     "name": "stderr",
     "output_type": "stream",
     "text": [
      "Processing Frames:  66%|██████████████████████████████████████████████████████████████████████████▎                                      | 129/196 [01:00<00:10,  6.54it/s]"
     ]
    },
    {
     "name": "stdout",
     "output_type": "stream",
     "text": [
      "Start frame: 60825\tEnd Frame: 61185\n",
      "Computation reduction from downsampling & caching: 0.969444\n"
     ]
    },
    {
     "name": "stderr",
     "output_type": "stream",
     "text": [
      "Processing Frames:  66%|██████████████████████████████████████████████████████████████████████████▉                                      | 130/196 [01:01<00:13,  4.92it/s]"
     ]
    },
    {
     "name": "stdout",
     "output_type": "stream",
     "text": [
      "Start frame: 61185\tEnd Frame: 61545\n",
      "Computation reduction from downsampling & caching: 0.969444\n"
     ]
    },
    {
     "name": "stderr",
     "output_type": "stream",
     "text": [
      "Processing Frames:  67%|███████████████████████████████████████████████████████████████████████████▌                                     | 131/196 [01:02<00:17,  3.82it/s]"
     ]
    },
    {
     "name": "stdout",
     "output_type": "stream",
     "text": [
      "Start frame: 61545\tEnd Frame: 61905\n",
      "Computation reduction from downsampling & caching: 0.969444\n"
     ]
    },
    {
     "name": "stderr",
     "output_type": "stream",
     "text": [
      "Processing Frames:  67%|████████████████████████████████████████████████████████████████████████████                                     | 132/196 [01:02<00:19,  3.25it/s]"
     ]
    },
    {
     "name": "stdout",
     "output_type": "stream",
     "text": [
      "Start frame: 61905\tEnd Frame: 62265\n",
      "Computation reduction from downsampling & caching: 0.969444\n"
     ]
    },
    {
     "name": "stderr",
     "output_type": "stream",
     "text": [
      "Processing Frames:  68%|████████████████████████████████████████████████████████████████████████████▋                                    | 133/196 [01:03<00:25,  2.52it/s]"
     ]
    },
    {
     "name": "stdout",
     "output_type": "stream",
     "text": [
      "Start frame: 62265\tEnd Frame: 62625\n",
      "No faces detected by index; Skipping scene.\n",
      "Start frame: 62625\tEnd Frame: 62985\n",
      "Computation reduction from downsampling & caching: 0.969444\n"
     ]
    },
    {
     "name": "stderr",
     "output_type": "stream",
     "text": [
      "Processing Frames:  69%|█████████████████████████████████████████████████████████████████████████████▊                                   | 135/196 [01:04<00:23,  2.63it/s]"
     ]
    },
    {
     "name": "stdout",
     "output_type": "stream",
     "text": [
      "Start frame: 62985\tEnd Frame: 63345\n",
      "Computation reduction from downsampling & caching: 0.969444\n"
     ]
    },
    {
     "name": "stderr",
     "output_type": "stream",
     "text": [
      "Processing Frames:  69%|██████████████████████████████████████████████████████████████████████████████▍                                  | 136/196 [01:04<00:24,  2.44it/s]"
     ]
    },
    {
     "name": "stdout",
     "output_type": "stream",
     "text": [
      "Start frame: 63345\tEnd Frame: 63705\n",
      "No faces detected by index; Skipping scene.\n",
      "Start frame: 63705\tEnd Frame: 64065\n",
      "No faces detected by index; Skipping scene.\n",
      "Start frame: 64065\tEnd Frame: 64425\n",
      "Computation reduction from downsampling & caching: 0.969444\n"
     ]
    },
    {
     "name": "stderr",
     "output_type": "stream",
     "text": [
      "Processing Frames:  71%|████████████████████████████████████████████████████████████████████████████████▏                                | 139/196 [01:05<00:20,  2.74it/s]"
     ]
    },
    {
     "name": "stdout",
     "output_type": "stream",
     "text": [
      "Start frame: 64425\tEnd Frame: 64785\n",
      "Computation reduction from downsampling & caching: 0.969444\n"
     ]
    },
    {
     "name": "stderr",
     "output_type": "stream",
     "text": [
      "Processing Frames:  71%|████████████████████████████████████████████████████████████████████████████████▋                                | 140/196 [01:06<00:27,  2.05it/s]"
     ]
    },
    {
     "name": "stdout",
     "output_type": "stream",
     "text": [
      "Start frame: 64785\tEnd Frame: 65145\n",
      "Computation reduction from downsampling & caching: 0.969444\n"
     ]
    },
    {
     "name": "stderr",
     "output_type": "stream",
     "text": [
      "Processing Frames:  72%|█████████████████████████████████████████████████████████████████████████████████▎                               | 141/196 [01:07<00:30,  1.81it/s]"
     ]
    },
    {
     "name": "stdout",
     "output_type": "stream",
     "text": [
      "Start frame: 65145\tEnd Frame: 65505\n",
      "Computation reduction from downsampling & caching: 0.969444\n"
     ]
    },
    {
     "name": "stderr",
     "output_type": "stream",
     "text": [
      "Processing Frames:  72%|█████████████████████████████████████████████████████████████████████████████████▊                               | 142/196 [01:08<00:32,  1.67it/s]"
     ]
    },
    {
     "name": "stdout",
     "output_type": "stream",
     "text": [
      "Start frame: 65505\tEnd Frame: 65865\n",
      "Computation reduction from downsampling & caching: 0.969444\n"
     ]
    },
    {
     "name": "stderr",
     "output_type": "stream",
     "text": [
      "Processing Frames:  73%|██████████████████████████████████████████████████████████████████████████████████▍                              | 143/196 [01:09<00:34,  1.55it/s]"
     ]
    },
    {
     "name": "stdout",
     "output_type": "stream",
     "text": [
      "Start frame: 65865\tEnd Frame: 66225\n",
      "Computation reduction from downsampling & caching: 0.969444\n"
     ]
    },
    {
     "name": "stderr",
     "output_type": "stream",
     "text": [
      "Processing Frames:  73%|███████████████████████████████████████████████████████████████████████████████████                              | 144/196 [01:09<00:34,  1.53it/s]"
     ]
    },
    {
     "name": "stdout",
     "output_type": "stream",
     "text": [
      "Start frame: 66225\tEnd Frame: 66585\n",
      "No faces detected by index; Skipping scene.\n",
      "Start frame: 66585\tEnd Frame: 66945\n",
      "No faces detected by index; Skipping scene.\n",
      "Start frame: 66945\tEnd Frame: 67305\n",
      "No faces detected by index; Skipping scene.\n",
      "Start frame: 67305\tEnd Frame: 67665\n",
      "No faces detected by index; Skipping scene.\n",
      "Start frame: 67665\tEnd Frame: 68025\n",
      "Computation reduction from downsampling & caching: 0.969444\n"
     ]
    },
    {
     "name": "stderr",
     "output_type": "stream",
     "text": [
      "Processing Frames:  76%|█████████████████████████████████████████████████████████████████████████████████████▉                           | 149/196 [01:10<00:15,  2.97it/s]"
     ]
    },
    {
     "name": "stdout",
     "output_type": "stream",
     "text": [
      "Start frame: 68025\tEnd Frame: 68385\n",
      "Computation reduction from downsampling & caching: 0.969444\n"
     ]
    },
    {
     "name": "stderr",
     "output_type": "stream",
     "text": [
      "Processing Frames:  77%|██████████████████████████████████████████████████████████████████████████████████████▍                          | 150/196 [01:11<00:19,  2.41it/s]"
     ]
    },
    {
     "name": "stdout",
     "output_type": "stream",
     "text": [
      "Start frame: 68385\tEnd Frame: 68745\n",
      "Computation reduction from downsampling & caching: 0.969444\n"
     ]
    },
    {
     "name": "stderr",
     "output_type": "stream",
     "text": [
      "Processing Frames:  77%|███████████████████████████████████████████████████████████████████████████████████████                          | 151/196 [01:12<00:20,  2.23it/s]"
     ]
    },
    {
     "name": "stdout",
     "output_type": "stream",
     "text": [
      "Start frame: 68745\tEnd Frame: 69105\n",
      "No faces detected by index; Skipping scene.\n",
      "Start frame: 69105\tEnd Frame: 69465\n",
      "No faces detected by index; Skipping scene.\n",
      "Start frame: 69465\tEnd Frame: 69825\n",
      "Computation reduction from downsampling & caching: 0.969444\n"
     ]
    },
    {
     "name": "stderr",
     "output_type": "stream",
     "text": [
      "Processing Frames:  79%|████████████████████████████████████████████████████████████████████████████████████████▊                        | 154/196 [01:12<00:14,  2.94it/s]"
     ]
    },
    {
     "name": "stdout",
     "output_type": "stream",
     "text": [
      "Start frame: 69825\tEnd Frame: 70185\n",
      "Computation reduction from downsampling & caching: 0.969444\n"
     ]
    },
    {
     "name": "stderr",
     "output_type": "stream",
     "text": [
      "Processing Frames:  79%|█████████████████████████████████████████████████████████████████████████████████████████▎                       | 155/196 [01:13<00:16,  2.43it/s]"
     ]
    },
    {
     "name": "stdout",
     "output_type": "stream",
     "text": [
      "Start frame: 70185\tEnd Frame: 70545\n",
      "Computation reduction from downsampling & caching: 0.969444\n"
     ]
    },
    {
     "name": "stderr",
     "output_type": "stream",
     "text": [
      "Processing Frames:  80%|█████████████████████████████████████████████████████████████████████████████████████████▉                       | 156/196 [01:14<00:18,  2.14it/s]"
     ]
    },
    {
     "name": "stdout",
     "output_type": "stream",
     "text": [
      "Start frame: 70545\tEnd Frame: 70905\n",
      "Computation reduction from downsampling & caching: 0.969444\n"
     ]
    },
    {
     "name": "stderr",
     "output_type": "stream",
     "text": [
      "Processing Frames:  80%|██████████████████████████████████████████████████████████████████████████████████████████▌                      | 157/196 [01:14<00:19,  2.00it/s]"
     ]
    },
    {
     "name": "stdout",
     "output_type": "stream",
     "text": [
      "Start frame: 70905\tEnd Frame: 71265\n",
      "No faces detected by index; Skipping scene.\n",
      "Start frame: 71265\tEnd Frame: 71625\n",
      "Computation reduction from downsampling & caching: 0.969444\n"
     ]
    },
    {
     "name": "stderr",
     "output_type": "stream",
     "text": [
      "Processing Frames:  81%|███████████████████████████████████████████████████████████████████████████████████████████▋                     | 159/196 [01:15<00:15,  2.42it/s]"
     ]
    },
    {
     "name": "stdout",
     "output_type": "stream",
     "text": [
      "Start frame: 71625\tEnd Frame: 71985\n",
      "Computation reduction from downsampling & caching: 0.969444\n"
     ]
    },
    {
     "name": "stderr",
     "output_type": "stream",
     "text": [
      "Processing Frames:  82%|████████████████████████████████████████████████████████████████████████████████████████████▏                    | 160/196 [01:16<00:16,  2.15it/s]"
     ]
    },
    {
     "name": "stdout",
     "output_type": "stream",
     "text": [
      "Start frame: 71985\tEnd Frame: 72345\n",
      "No faces detected by index; Skipping scene.\n",
      "Start frame: 72345\tEnd Frame: 72705\n",
      "No faces detected by index; Skipping scene.\n",
      "Start frame: 72705\tEnd Frame: 73065\n",
      "No faces detected by index; Skipping scene.\n",
      "Start frame: 73065\tEnd Frame: 73425\n",
      "No faces detected by index; Skipping scene.\n",
      "Start frame: 73425\tEnd Frame: 73785\n",
      "No faces detected by index; Skipping scene.\n",
      "Start frame: 73785\tEnd Frame: 74145\n",
      "No faces detected by index; Skipping scene.\n",
      "Start frame: 74145\tEnd Frame: 74505\n",
      "No faces detected by index; Skipping scene.\n",
      "Start frame: 74505\tEnd Frame: 74865\n",
      "No faces detected by index; Skipping scene.\n",
      "Start frame: 74865\tEnd Frame: 75225\n",
      "No faces detected by index; Skipping scene.\n",
      "Start frame: 75225\tEnd Frame: 75585\n",
      "No faces detected by index; Skipping scene.\n",
      "Start frame: 75585\tEnd Frame: 75945\n",
      "No faces detected by index; Skipping scene.\n",
      "Start frame: 75945\tEnd Frame: 76305\n",
      "Computation reduction from downsampling & caching: 0.969444\n"
     ]
    },
    {
     "name": "stderr",
     "output_type": "stream",
     "text": [
      "Processing Frames:  88%|███████████████████████████████████████████████████████████████████████████████████████████████████▏             | 172/196 [01:16<00:03,  7.25it/s]"
     ]
    },
    {
     "name": "stdout",
     "output_type": "stream",
     "text": [
      "Start frame: 76305\tEnd Frame: 76665\n",
      "Computation reduction from downsampling & caching: 0.969444\n"
     ]
    },
    {
     "name": "stderr",
     "output_type": "stream",
     "text": [
      "Processing Frames:  88%|███████████████████████████████████████████████████████████████████████████████████████████████████▋             | 173/196 [01:17<00:03,  5.81it/s]"
     ]
    },
    {
     "name": "stdout",
     "output_type": "stream",
     "text": [
      "Start frame: 76665\tEnd Frame: 77025\n",
      "Computation reduction from downsampling & caching: 0.969444\n"
     ]
    },
    {
     "name": "stderr",
     "output_type": "stream",
     "text": [
      "Processing Frames:  89%|████████████████████████████████████████████████████████████████████████████████████████████████████▎            | 174/196 [01:17<00:04,  4.42it/s]"
     ]
    },
    {
     "name": "stdout",
     "output_type": "stream",
     "text": [
      "Start frame: 77025\tEnd Frame: 77385\n",
      "Computation reduction from downsampling & caching: 0.969444\n"
     ]
    },
    {
     "name": "stderr",
     "output_type": "stream",
     "text": [
      "Processing Frames:  89%|████████████████████████████████████████████████████████████████████████████████████████████████████▉            | 175/196 [01:18<00:06,  3.29it/s]"
     ]
    },
    {
     "name": "stdout",
     "output_type": "stream",
     "text": [
      "Start frame: 77385\tEnd Frame: 77745\n",
      "No faces detected by index; Skipping scene.\n",
      "Start frame: 77745\tEnd Frame: 78105\n",
      "No faces detected by index; Skipping scene.\n",
      "Start frame: 78105\tEnd Frame: 78465\n",
      "No faces detected by index; Skipping scene.\n",
      "Start frame: 78465\tEnd Frame: 78825\n",
      "No faces detected by index; Skipping scene.\n",
      "Start frame: 78825\tEnd Frame: 79185\n",
      "No faces detected by index; Skipping scene.\n",
      "Start frame: 79185\tEnd Frame: 79545\n",
      "No faces detected by index; Skipping scene.\n",
      "Start frame: 79545\tEnd Frame: 79905\n",
      "No faces detected by index; Skipping scene.\n",
      "Start frame: 79905\tEnd Frame: 80265\n",
      "Computation reduction from downsampling & caching: 0.969444\n"
     ]
    },
    {
     "name": "stderr",
     "output_type": "stream",
     "text": [
      "Processing Frames:  93%|█████████████████████████████████████████████████████████████████████████████████████████████████████████▌       | 183/196 [01:19<00:02,  5.18it/s]"
     ]
    },
    {
     "name": "stdout",
     "output_type": "stream",
     "text": [
      "Start frame: 80265\tEnd Frame: 80625\n",
      "Computation reduction from downsampling & caching: 0.969444\n"
     ]
    },
    {
     "name": "stderr",
     "output_type": "stream",
     "text": [
      "Processing Frames:  94%|██████████████████████████████████████████████████████████████████████████████████████████████████████████       | 184/196 [01:20<00:02,  4.34it/s]"
     ]
    },
    {
     "name": "stdout",
     "output_type": "stream",
     "text": [
      "Start frame: 80625\tEnd Frame: 80985\n",
      "Computation reduction from downsampling & caching: 0.969444\n"
     ]
    },
    {
     "name": "stderr",
     "output_type": "stream",
     "text": [
      "Processing Frames:  94%|██████████████████████████████████████████████████████████████████████████████████████████████████████████▋      | 185/196 [01:20<00:03,  3.64it/s]"
     ]
    },
    {
     "name": "stdout",
     "output_type": "stream",
     "text": [
      "Start frame: 80985\tEnd Frame: 81345\n",
      "Computation reduction from downsampling & caching: 0.969444\n"
     ]
    },
    {
     "name": "stderr",
     "output_type": "stream",
     "text": [
      "Processing Frames:  95%|███████████████████████████████████████████████████████████████████████████████████████████████████████████▏     | 186/196 [01:21<00:03,  2.84it/s]"
     ]
    },
    {
     "name": "stdout",
     "output_type": "stream",
     "text": [
      "Start frame: 81345\tEnd Frame: 81705\n",
      "Computation reduction from downsampling & caching: 0.969444\n"
     ]
    },
    {
     "name": "stderr",
     "output_type": "stream",
     "text": [
      "Processing Frames:  95%|███████████████████████████████████████████████████████████████████████████████████████████████████████████▊     | 187/196 [01:22<00:03,  2.26it/s]"
     ]
    },
    {
     "name": "stdout",
     "output_type": "stream",
     "text": [
      "Start frame: 81705\tEnd Frame: 82065\n",
      "Computation reduction from downsampling & caching: 0.969444\n"
     ]
    },
    {
     "name": "stderr",
     "output_type": "stream",
     "text": [
      "Processing Frames:  96%|████████████████████████████████████████████████████████████████████████████████████████████████████████████▍    | 188/196 [01:23<00:03,  2.07it/s]"
     ]
    },
    {
     "name": "stdout",
     "output_type": "stream",
     "text": [
      "Start frame: 82065\tEnd Frame: 82425\n",
      "No faces detected by index; Skipping scene.\n",
      "Start frame: 82425\tEnd Frame: 82785\n",
      "No faces detected by index; Skipping scene.\n",
      "Start frame: 82785\tEnd Frame: 83145\n",
      "Computation reduction from downsampling & caching: 0.969444\n"
     ]
    },
    {
     "name": "stderr",
     "output_type": "stream",
     "text": [
      "Processing Frames:  97%|██████████████████████████████████████████████████████████████████████████████████████████████████████████████   | 191/196 [01:23<00:01,  2.67it/s]"
     ]
    },
    {
     "name": "stdout",
     "output_type": "stream",
     "text": [
      "Start frame: 83145\tEnd Frame: 83505\n",
      "Computation reduction from downsampling & caching: 0.969444\n"
     ]
    },
    {
     "name": "stderr",
     "output_type": "stream",
     "text": [
      "Processing Frames:  98%|██████████████████████████████████████████████████████████████████████████████████████████████████████████████▋  | 192/196 [01:24<00:01,  2.48it/s]"
     ]
    },
    {
     "name": "stdout",
     "output_type": "stream",
     "text": [
      "Start frame: 83505\tEnd Frame: 83865\n",
      "Computation reduction from downsampling & caching: 0.969444\n"
     ]
    },
    {
     "name": "stderr",
     "output_type": "stream",
     "text": [
      "Processing Frames:  98%|███████████████████████████████████████████████████████████████████████████████████████████████████████████████▎ | 193/196 [01:25<00:01,  2.03it/s]"
     ]
    },
    {
     "name": "stdout",
     "output_type": "stream",
     "text": [
      "Start frame: 83865\tEnd Frame: 84225\n",
      "Computation reduction from downsampling & caching: 0.969444\n"
     ]
    },
    {
     "name": "stderr",
     "output_type": "stream",
     "text": [
      "Processing Frames:  99%|███████████████████████████████████████████████████████████████████████████████████████████████████████████████▊ | 194/196 [01:25<00:01,  1.88it/s]"
     ]
    },
    {
     "name": "stdout",
     "output_type": "stream",
     "text": [
      "Start frame: 84225\tEnd Frame: 84585\n",
      "Computation reduction from downsampling & caching: 0.969444\n"
     ]
    },
    {
     "name": "stderr",
     "output_type": "stream",
     "text": [
      "Processing Frames:  99%|████████████████████████████████████████████████████████████████████████████████████████████████████████████████▍| 195/196 [01:26<00:00,  1.77it/s]"
     ]
    },
    {
     "name": "stdout",
     "output_type": "stream",
     "text": [
      "Start frame: 84585\tEnd Frame: 84945\n",
      "Computation reduction from downsampling & caching: 0.969444\n"
     ]
    },
    {
     "name": "stderr",
     "output_type": "stream",
     "text": [
      "Processing Frames: 100%|█████████████████████████████████████████████████████████████████████████████████████████████████████████████████| 196/196 [01:27<00:00,  2.24it/s]\n"
     ]
    },
    {
     "name": "stdout",
     "output_type": "stream",
     "text": [
      "Now Processing: Natural Born Killers\n",
      "Starting from minute 10, processing up to minute 57.180040\n",
      "Building num_faces index of frames from every 15 seconds\n"
     ]
    },
    {
     "name": "stderr",
     "output_type": "stream",
     "text": [
      "Building Index: 100%|████████████████████████████████████████████████████████████████████████████████████████████████████████████████████| 189/189 [00:09<00:00, 20.16it/s]\n"
     ]
    },
    {
     "name": "stdout",
     "output_type": "stream",
     "text": [
      "Processing facial scenes\n"
     ]
    },
    {
     "name": "stderr",
     "output_type": "stream",
     "text": [
      "Processing Frames:   0%|                                                                                                                           | 0/188 [00:00<?, ?it/s]"
     ]
    },
    {
     "name": "stdout",
     "output_type": "stream",
     "text": [
      "Start frame: 14385\tEnd Frame: 14745\n",
      "Computation reduction from downsampling & caching: 0.969444\n"
     ]
    },
    {
     "name": "stderr",
     "output_type": "stream",
     "text": [
      "Processing Frames:   1%|▌                                                                                                                  | 1/188 [00:00<02:25,  1.29it/s]"
     ]
    },
    {
     "name": "stdout",
     "output_type": "stream",
     "text": [
      "Start frame: 14745\tEnd Frame: 15105\n",
      "Computation reduction from downsampling & caching: 0.969444\n"
     ]
    },
    {
     "name": "stderr",
     "output_type": "stream",
     "text": [
      "Processing Frames:   1%|█▏                                                                                                                 | 2/188 [00:01<02:15,  1.37it/s]"
     ]
    },
    {
     "name": "stdout",
     "output_type": "stream",
     "text": [
      "Start frame: 15105\tEnd Frame: 15465\n",
      "Computation reduction from downsampling & caching: 0.969444\n"
     ]
    },
    {
     "name": "stderr",
     "output_type": "stream",
     "text": [
      "Processing Frames:   2%|█▊                                                                                                                 | 3/188 [00:02<02:17,  1.34it/s]"
     ]
    },
    {
     "name": "stdout",
     "output_type": "stream",
     "text": [
      "Start frame: 15465\tEnd Frame: 15825\n",
      "Computation reduction from downsampling & caching: 0.969444\n"
     ]
    },
    {
     "name": "stderr",
     "output_type": "stream",
     "text": [
      "Processing Frames:   2%|██▍                                                                                                                | 4/188 [00:02<02:15,  1.36it/s]"
     ]
    },
    {
     "name": "stdout",
     "output_type": "stream",
     "text": [
      "Start frame: 15825\tEnd Frame: 16185\n",
      "No faces detected by index; Skipping scene.\n",
      "Start frame: 16185\tEnd Frame: 16545\n",
      "Computation reduction from downsampling & caching: 0.969444\n"
     ]
    },
    {
     "name": "stderr",
     "output_type": "stream",
     "text": [
      "Processing Frames:   3%|███▋                                                                                                               | 6/188 [00:03<01:32,  1.98it/s]"
     ]
    },
    {
     "name": "stdout",
     "output_type": "stream",
     "text": [
      "Start frame: 16545\tEnd Frame: 16905\n",
      "Computation reduction from downsampling & caching: 0.969444\n"
     ]
    },
    {
     "name": "stderr",
     "output_type": "stream",
     "text": [
      "Processing Frames:   4%|████▎                                                                                                              | 7/188 [00:04<01:47,  1.68it/s]"
     ]
    },
    {
     "name": "stdout",
     "output_type": "stream",
     "text": [
      "Start frame: 16905\tEnd Frame: 17265\n",
      "Computation reduction from downsampling & caching: 0.969444\n"
     ]
    },
    {
     "name": "stderr",
     "output_type": "stream",
     "text": [
      "Processing Frames:   4%|████▉                                                                                                              | 8/188 [00:05<01:50,  1.63it/s]"
     ]
    },
    {
     "name": "stdout",
     "output_type": "stream",
     "text": [
      "Start frame: 17265\tEnd Frame: 17625\n",
      "Computation reduction from downsampling & caching: 0.969444\n"
     ]
    },
    {
     "name": "stderr",
     "output_type": "stream",
     "text": [
      "Processing Frames:   5%|█████▌                                                                                                             | 9/188 [00:05<01:52,  1.58it/s]"
     ]
    },
    {
     "name": "stdout",
     "output_type": "stream",
     "text": [
      "Start frame: 17625\tEnd Frame: 17985\n",
      "Computation reduction from downsampling & caching: 0.969444\n"
     ]
    },
    {
     "name": "stderr",
     "output_type": "stream",
     "text": [
      "Processing Frames:   5%|██████                                                                                                            | 10/188 [00:06<02:08,  1.38it/s]"
     ]
    },
    {
     "name": "stdout",
     "output_type": "stream",
     "text": [
      "Start frame: 17985\tEnd Frame: 18345\n",
      "No faces detected by index; Skipping scene.\n",
      "Start frame: 18345\tEnd Frame: 18705\n",
      "Computation reduction from downsampling & caching: 0.969444\n"
     ]
    },
    {
     "name": "stderr",
     "output_type": "stream",
     "text": [
      "Processing Frames:   6%|███████▎                                                                                                          | 12/188 [00:07<01:34,  1.86it/s]"
     ]
    },
    {
     "name": "stdout",
     "output_type": "stream",
     "text": [
      "Start frame: 18705\tEnd Frame: 19065\n",
      "Computation reduction from downsampling & caching: 0.969444\n"
     ]
    },
    {
     "name": "stderr",
     "output_type": "stream",
     "text": [
      "Processing Frames:   7%|███████▉                                                                                                          | 13/188 [00:08<01:41,  1.72it/s]"
     ]
    },
    {
     "name": "stdout",
     "output_type": "stream",
     "text": [
      "Start frame: 19065\tEnd Frame: 19425\n",
      "No faces detected by index; Skipping scene.\n",
      "Start frame: 19425\tEnd Frame: 19785\n",
      "Computation reduction from downsampling & caching: 0.969444\n"
     ]
    },
    {
     "name": "stderr",
     "output_type": "stream",
     "text": [
      "Processing Frames:   8%|█████████                                                                                                         | 15/188 [00:08<01:26,  2.01it/s]"
     ]
    },
    {
     "name": "stdout",
     "output_type": "stream",
     "text": [
      "Start frame: 19785\tEnd Frame: 20145\n",
      "Computation reduction from downsampling & caching: 0.969444\n"
     ]
    },
    {
     "name": "stderr",
     "output_type": "stream",
     "text": [
      "Processing Frames:   9%|█████████▋                                                                                                        | 16/188 [00:09<01:32,  1.87it/s]"
     ]
    },
    {
     "name": "stdout",
     "output_type": "stream",
     "text": [
      "Start frame: 20145\tEnd Frame: 20505\n",
      "No faces detected by index; Skipping scene.\n",
      "Start frame: 20505\tEnd Frame: 20865\n",
      "No faces detected by index; Skipping scene.\n",
      "Start frame: 20865\tEnd Frame: 21225\n",
      "Computation reduction from downsampling & caching: 0.969444\n"
     ]
    },
    {
     "name": "stderr",
     "output_type": "stream",
     "text": [
      "Processing Frames:  10%|███████████▌                                                                                                      | 19/188 [00:10<01:01,  2.73it/s]"
     ]
    },
    {
     "name": "stdout",
     "output_type": "stream",
     "text": [
      "Start frame: 21225\tEnd Frame: 21585\n",
      "Computation reduction from downsampling & caching: 0.969444\n"
     ]
    },
    {
     "name": "stderr",
     "output_type": "stream",
     "text": [
      "Processing Frames:  11%|████████████▏                                                                                                     | 20/188 [00:10<01:10,  2.38it/s]"
     ]
    },
    {
     "name": "stdout",
     "output_type": "stream",
     "text": [
      "Start frame: 21585\tEnd Frame: 21945\n",
      "No faces detected by index; Skipping scene.\n",
      "Start frame: 21945\tEnd Frame: 22305\n",
      "No faces detected by index; Skipping scene.\n",
      "Start frame: 22305\tEnd Frame: 22665\n",
      "No faces detected by index; Skipping scene.\n",
      "Start frame: 22665\tEnd Frame: 23025\n",
      "No faces detected by index; Skipping scene.\n",
      "Start frame: 23025\tEnd Frame: 23385\n",
      "No faces detected by index; Skipping scene.\n",
      "Start frame: 23385\tEnd Frame: 23745\n",
      "No faces detected by index; Skipping scene.\n",
      "Start frame: 23745\tEnd Frame: 24105\n",
      "No faces detected by index; Skipping scene.\n",
      "Start frame: 24105\tEnd Frame: 24465\n",
      "No faces detected by index; Skipping scene.\n",
      "Start frame: 24465\tEnd Frame: 24825\n",
      "No faces detected by index; Skipping scene.\n",
      "Start frame: 24825\tEnd Frame: 25185\n",
      "No faces detected by index; Skipping scene.\n",
      "Start frame: 25185\tEnd Frame: 25545\n",
      "No faces detected by index; Skipping scene.\n",
      "Start frame: 25545\tEnd Frame: 25905\n",
      "No faces detected by index; Skipping scene.\n",
      "Start frame: 25905\tEnd Frame: 26265\n",
      "No faces detected by index; Skipping scene.\n",
      "Start frame: 26265\tEnd Frame: 26625\n",
      "No faces detected by index; Skipping scene.\n",
      "Start frame: 26625\tEnd Frame: 26985\n",
      "No faces detected by index; Skipping scene.\n",
      "Start frame: 26985\tEnd Frame: 27345\n",
      "No faces detected by index; Skipping scene.\n",
      "Start frame: 27345\tEnd Frame: 27705\n",
      "No faces detected by index; Skipping scene.\n",
      "Start frame: 27705\tEnd Frame: 28065\n",
      "Computation reduction from downsampling & caching: 0.969444\n"
     ]
    },
    {
     "name": "stderr",
     "output_type": "stream",
     "text": [
      "Processing Frames:  20%|███████████████████████                                                                                           | 38/188 [00:11<00:14, 10.08it/s]"
     ]
    },
    {
     "name": "stdout",
     "output_type": "stream",
     "text": [
      "Start frame: 28065\tEnd Frame: 28425\n",
      "Computation reduction from downsampling & caching: 0.969444\n"
     ]
    },
    {
     "name": "stderr",
     "output_type": "stream",
     "text": [
      "Processing Frames:  21%|████████████████████████▎                                                                                         | 40/188 [00:11<00:17,  8.47it/s]"
     ]
    },
    {
     "name": "stdout",
     "output_type": "stream",
     "text": [
      "Start frame: 28425\tEnd Frame: 28785\n",
      "No faces detected by index; Skipping scene.\n",
      "Start frame: 28785\tEnd Frame: 29145\n",
      "No faces detected by index; Skipping scene.\n",
      "Start frame: 29145\tEnd Frame: 29505\n",
      "No faces detected by index; Skipping scene.\n",
      "Start frame: 29505\tEnd Frame: 29865\n",
      "No faces detected by index; Skipping scene.\n",
      "Start frame: 29865\tEnd Frame: 30225\n",
      "No faces detected by index; Skipping scene.\n",
      "Start frame: 30225\tEnd Frame: 30585\n",
      "No faces detected by index; Skipping scene.\n",
      "Start frame: 30585\tEnd Frame: 30945\n",
      "No faces detected by index; Skipping scene.\n",
      "Start frame: 30945\tEnd Frame: 31305\n",
      "No faces detected by index; Skipping scene.\n",
      "Start frame: 31305\tEnd Frame: 31665\n",
      "No faces detected by index; Skipping scene.\n",
      "Start frame: 31665\tEnd Frame: 32025\n",
      "No faces detected by index; Skipping scene.\n",
      "Start frame: 32025\tEnd Frame: 32385\n",
      "No faces detected by index; Skipping scene.\n",
      "Start frame: 32385\tEnd Frame: 32745\n",
      "Computation reduction from downsampling & caching: 0.969444\n"
     ]
    },
    {
     "name": "stderr",
     "output_type": "stream",
     "text": [
      "Processing Frames:  27%|██████████████████████████████▉                                                                                   | 51/188 [00:12<00:12, 11.15it/s]"
     ]
    },
    {
     "name": "stdout",
     "output_type": "stream",
     "text": [
      "Start frame: 32745\tEnd Frame: 33105\n",
      "Computation reduction from downsampling & caching: 0.969444\n"
     ]
    },
    {
     "name": "stderr",
     "output_type": "stream",
     "text": [
      "Processing Frames:  28%|████████████████████████████████▏                                                                                 | 53/188 [00:13<00:16,  8.03it/s]"
     ]
    },
    {
     "name": "stdout",
     "output_type": "stream",
     "text": [
      "Start frame: 33105\tEnd Frame: 33465\n",
      "No faces detected by index; Skipping scene.\n",
      "Start frame: 33465\tEnd Frame: 33825\n",
      "No faces detected by index; Skipping scene.\n",
      "Start frame: 33825\tEnd Frame: 34185\n",
      "No faces detected by index; Skipping scene.\n",
      "Start frame: 34185\tEnd Frame: 34545\n",
      "Computation reduction from downsampling & caching: 0.969444\n"
     ]
    },
    {
     "name": "stderr",
     "output_type": "stream",
     "text": [
      "Processing Frames:  30%|█████████████████████████████████▉                                                                                | 56/188 [00:13<00:17,  7.36it/s]"
     ]
    },
    {
     "name": "stdout",
     "output_type": "stream",
     "text": [
      "Start frame: 34545\tEnd Frame: 34905\n",
      "Computation reduction from downsampling & caching: 0.969444\n"
     ]
    },
    {
     "name": "stderr",
     "output_type": "stream",
     "text": [
      "Processing Frames:  30%|██████████████████████████████████▌                                                                               | 57/188 [00:14<00:25,  5.12it/s]"
     ]
    },
    {
     "name": "stdout",
     "output_type": "stream",
     "text": [
      "Start frame: 34905\tEnd Frame: 35265\n",
      "Computation reduction from downsampling & caching: 0.969444\n"
     ]
    },
    {
     "name": "stderr",
     "output_type": "stream",
     "text": [
      "Processing Frames:  31%|███████████████████████████████████▏                                                                              | 58/188 [00:15<00:30,  4.29it/s]"
     ]
    },
    {
     "name": "stdout",
     "output_type": "stream",
     "text": [
      "Start frame: 35265\tEnd Frame: 35625\n",
      "Computation reduction from downsampling & caching: 0.969444\n"
     ]
    },
    {
     "name": "stderr",
     "output_type": "stream",
     "text": [
      "Processing Frames:  31%|███████████████████████████████████▊                                                                              | 59/188 [00:15<00:37,  3.48it/s]"
     ]
    },
    {
     "name": "stdout",
     "output_type": "stream",
     "text": [
      "Start frame: 35625\tEnd Frame: 35985\n",
      "No faces detected by index; Skipping scene.\n",
      "Start frame: 35985\tEnd Frame: 36345\n",
      "No faces detected by index; Skipping scene.\n",
      "Start frame: 36345\tEnd Frame: 36705\n",
      "No faces detected by index; Skipping scene.\n",
      "Start frame: 36705\tEnd Frame: 37065\n",
      "No faces detected by index; Skipping scene.\n",
      "Start frame: 37065\tEnd Frame: 37425\n",
      "Computation reduction from downsampling & caching: 0.969444\n"
     ]
    },
    {
     "name": "stderr",
     "output_type": "stream",
     "text": [
      "Processing Frames:  34%|██████████████████████████████████████▊                                                                           | 64/188 [00:16<00:24,  4.99it/s]"
     ]
    },
    {
     "name": "stdout",
     "output_type": "stream",
     "text": [
      "Start frame: 37425\tEnd Frame: 37785\n",
      "Computation reduction from downsampling & caching: 0.969444\n"
     ]
    },
    {
     "name": "stderr",
     "output_type": "stream",
     "text": [
      "Processing Frames:  35%|███████████████████████████████████████▍                                                                          | 65/188 [00:17<00:31,  3.91it/s]"
     ]
    },
    {
     "name": "stdout",
     "output_type": "stream",
     "text": [
      "Start frame: 37785\tEnd Frame: 38145\n",
      "Computation reduction from downsampling & caching: 0.969444\n"
     ]
    },
    {
     "name": "stderr",
     "output_type": "stream",
     "text": [
      "Processing Frames:  35%|████████████████████████████████████████                                                                          | 66/188 [00:17<00:38,  3.19it/s]"
     ]
    },
    {
     "name": "stdout",
     "output_type": "stream",
     "text": [
      "Start frame: 38145\tEnd Frame: 38505\n",
      "Computation reduction from downsampling & caching: 0.969444\n"
     ]
    },
    {
     "name": "stderr",
     "output_type": "stream",
     "text": [
      "Processing Frames:  36%|████████████████████████████████████████▋                                                                         | 67/188 [00:18<00:46,  2.60it/s]"
     ]
    },
    {
     "name": "stdout",
     "output_type": "stream",
     "text": [
      "Start frame: 38505\tEnd Frame: 38865\n",
      "Computation reduction from downsampling & caching: 0.969444\n"
     ]
    },
    {
     "name": "stderr",
     "output_type": "stream",
     "text": [
      "Processing Frames:  36%|█████████████████████████████████████████▏                                                                        | 68/188 [00:19<00:58,  2.06it/s]"
     ]
    },
    {
     "name": "stdout",
     "output_type": "stream",
     "text": [
      "Start frame: 38865\tEnd Frame: 39225\n",
      "Computation reduction from downsampling & caching: 0.969444\n"
     ]
    },
    {
     "name": "stderr",
     "output_type": "stream",
     "text": [
      "Processing Frames:  37%|█████████████████████████████████████████▊                                                                        | 69/188 [00:20<01:05,  1.83it/s]"
     ]
    },
    {
     "name": "stdout",
     "output_type": "stream",
     "text": [
      "Start frame: 39225\tEnd Frame: 39585\n",
      "Computation reduction from downsampling & caching: 0.969444\n"
     ]
    },
    {
     "name": "stderr",
     "output_type": "stream",
     "text": [
      "Processing Frames:  37%|██████████████████████████████████████████▍                                                                       | 70/188 [00:20<01:04,  1.82it/s]"
     ]
    },
    {
     "name": "stdout",
     "output_type": "stream",
     "text": [
      "Start frame: 39585\tEnd Frame: 39945\n",
      "Computation reduction from downsampling & caching: 0.969444\n"
     ]
    },
    {
     "name": "stderr",
     "output_type": "stream",
     "text": [
      "Processing Frames:  38%|███████████████████████████████████████████                                                                       | 71/188 [00:21<01:06,  1.75it/s]"
     ]
    },
    {
     "name": "stdout",
     "output_type": "stream",
     "text": [
      "Start frame: 39945\tEnd Frame: 40305\n",
      "No faces detected by index; Skipping scene.\n",
      "Start frame: 40305\tEnd Frame: 40665\n",
      "No faces detected by index; Skipping scene.\n",
      "Start frame: 40665\tEnd Frame: 41025\n",
      "No faces detected by index; Skipping scene.\n",
      "Start frame: 41025\tEnd Frame: 41385\n",
      "No faces detected by index; Skipping scene.\n",
      "Start frame: 41385\tEnd Frame: 41745\n",
      "No faces detected by index; Skipping scene.\n",
      "Start frame: 41745\tEnd Frame: 42105\n",
      "No faces detected by index; Skipping scene.\n",
      "Start frame: 42105\tEnd Frame: 42465\n",
      "No faces detected by index; Skipping scene.\n",
      "Start frame: 42465\tEnd Frame: 42825\n",
      "No faces detected by index; Skipping scene.\n",
      "Start frame: 42825\tEnd Frame: 43185\n",
      "No faces detected by index; Skipping scene.\n",
      "Start frame: 43185\tEnd Frame: 43545\n",
      "No faces detected by index; Skipping scene.\n",
      "Start frame: 43545\tEnd Frame: 43905\n",
      "Computation reduction from downsampling & caching: 0.969444\n"
     ]
    },
    {
     "name": "stderr",
     "output_type": "stream",
     "text": [
      "Processing Frames:  44%|█████████████████████████████████████████████████▋                                                                | 82/188 [00:21<00:16,  6.24it/s]"
     ]
    },
    {
     "name": "stdout",
     "output_type": "stream",
     "text": [
      "Start frame: 43905\tEnd Frame: 44265\n",
      "Computation reduction from downsampling & caching: 0.969444\n"
     ]
    },
    {
     "name": "stderr",
     "output_type": "stream",
     "text": [
      "Processing Frames:  44%|██████████████████████████████████████████████████▎                                                               | 83/188 [00:22<00:21,  4.91it/s]"
     ]
    },
    {
     "name": "stdout",
     "output_type": "stream",
     "text": [
      "Start frame: 44265\tEnd Frame: 44625\n",
      "No faces detected by index; Skipping scene.\n",
      "Start frame: 44625\tEnd Frame: 44985\n",
      "No faces detected by index; Skipping scene.\n",
      "Start frame: 44985\tEnd Frame: 45345\n",
      "Computation reduction from downsampling & caching: 0.969444\n"
     ]
    },
    {
     "name": "stderr",
     "output_type": "stream",
     "text": [
      "Processing Frames:  46%|████████████████████████████████████████████████████▏                                                             | 86/188 [00:23<00:19,  5.16it/s]"
     ]
    },
    {
     "name": "stdout",
     "output_type": "stream",
     "text": [
      "Start frame: 45345\tEnd Frame: 45705\n",
      "Computation reduction from downsampling & caching: 0.969444\n"
     ]
    },
    {
     "name": "stderr",
     "output_type": "stream",
     "text": [
      "Processing Frames:  46%|████████████████████████████████████████████████████▊                                                             | 87/188 [00:23<00:23,  4.23it/s]"
     ]
    },
    {
     "name": "stdout",
     "output_type": "stream",
     "text": [
      "Start frame: 45705\tEnd Frame: 46065\n",
      "No faces detected by index; Skipping scene.\n",
      "Start frame: 46065\tEnd Frame: 46425\n",
      "Computation reduction from downsampling & caching: 0.969444\n"
     ]
    },
    {
     "name": "stderr",
     "output_type": "stream",
     "text": [
      "Processing Frames:  47%|█████████████████████████████████████████████████████▉                                                            | 89/188 [00:24<00:23,  4.19it/s]"
     ]
    },
    {
     "name": "stdout",
     "output_type": "stream",
     "text": [
      "Start frame: 46425\tEnd Frame: 46785\n",
      "Computation reduction from downsampling & caching: 0.969444\n"
     ]
    },
    {
     "name": "stderr",
     "output_type": "stream",
     "text": [
      "Processing Frames:  48%|██████████████████████████████████████████████████████▌                                                           | 90/188 [00:24<00:27,  3.53it/s]"
     ]
    },
    {
     "name": "stdout",
     "output_type": "stream",
     "text": [
      "Start frame: 46785\tEnd Frame: 47145\n",
      "No faces detected by index; Skipping scene.\n",
      "Start frame: 47145\tEnd Frame: 47505\n",
      "No faces detected by index; Skipping scene.\n",
      "Start frame: 47505\tEnd Frame: 47865\n",
      "No faces detected by index; Skipping scene.\n",
      "Start frame: 47865\tEnd Frame: 48225\n",
      "No faces detected by index; Skipping scene.\n",
      "Start frame: 48225\tEnd Frame: 48585\n",
      "No faces detected by index; Skipping scene.\n",
      "Start frame: 48585\tEnd Frame: 48945\n",
      "Computation reduction from downsampling & caching: 0.969444\n"
     ]
    },
    {
     "name": "stderr",
     "output_type": "stream",
     "text": [
      "Processing Frames:  51%|██████████████████████████████████████████████████████████▏                                                       | 96/188 [00:25<00:17,  5.36it/s]"
     ]
    },
    {
     "name": "stdout",
     "output_type": "stream",
     "text": [
      "Start frame: 48945\tEnd Frame: 49305\n",
      "Computation reduction from downsampling & caching: 0.969444\n"
     ]
    },
    {
     "name": "stderr",
     "output_type": "stream",
     "text": [
      "Processing Frames:  52%|██████████████████████████████████████████████████████████▊                                                       | 97/188 [00:25<00:21,  4.28it/s]"
     ]
    },
    {
     "name": "stdout",
     "output_type": "stream",
     "text": [
      "Start frame: 49305\tEnd Frame: 49665\n",
      "No faces detected by index; Skipping scene.\n",
      "Start frame: 49665\tEnd Frame: 50025\n",
      "No faces detected by index; Skipping scene.\n",
      "Start frame: 50025\tEnd Frame: 50385\n",
      "No faces detected by index; Skipping scene.\n",
      "Start frame: 50385\tEnd Frame: 50745\n",
      "No faces detected by index; Skipping scene.\n",
      "Start frame: 50745\tEnd Frame: 51105\n",
      "Computation reduction from downsampling & caching: 0.969444\n"
     ]
    },
    {
     "name": "stderr",
     "output_type": "stream",
     "text": [
      "Processing Frames:  54%|█████████████████████████████████████████████████████████████▎                                                   | 102/188 [00:26<00:15,  5.59it/s]"
     ]
    },
    {
     "name": "stdout",
     "output_type": "stream",
     "text": [
      "Start frame: 51105\tEnd Frame: 51465\n",
      "Computation reduction from downsampling & caching: 0.969444\n"
     ]
    },
    {
     "name": "stderr",
     "output_type": "stream",
     "text": [
      "Processing Frames:  55%|█████████████████████████████████████████████████████████████▉                                                   | 103/188 [00:26<00:18,  4.57it/s]"
     ]
    },
    {
     "name": "stdout",
     "output_type": "stream",
     "text": [
      "Start frame: 51465\tEnd Frame: 51825\n",
      "No faces detected by index; Skipping scene.\n",
      "Start frame: 51825\tEnd Frame: 52185\n",
      "Computation reduction from downsampling & caching: 0.969444\n"
     ]
    },
    {
     "name": "stderr",
     "output_type": "stream",
     "text": [
      "Processing Frames:  56%|███████████████████████████████████████████████████████████████                                                  | 105/188 [00:27<00:19,  4.26it/s]"
     ]
    },
    {
     "name": "stdout",
     "output_type": "stream",
     "text": [
      "Start frame: 52185\tEnd Frame: 52545\n",
      "Computation reduction from downsampling & caching: 0.969444\n"
     ]
    },
    {
     "name": "stderr",
     "output_type": "stream",
     "text": [
      "Processing Frames:  56%|███████████████████████████████████████████████████████████████▋                                                 | 106/188 [00:28<00:24,  3.32it/s]"
     ]
    },
    {
     "name": "stdout",
     "output_type": "stream",
     "text": [
      "Start frame: 52545\tEnd Frame: 52905\n",
      "Computation reduction from downsampling & caching: 0.969444\n"
     ]
    },
    {
     "name": "stderr",
     "output_type": "stream",
     "text": [
      "Processing Frames:  57%|████████████████████████████████████████████████████████████████▎                                                | 107/188 [00:28<00:27,  2.90it/s]"
     ]
    },
    {
     "name": "stdout",
     "output_type": "stream",
     "text": [
      "Start frame: 52905\tEnd Frame: 53265\n",
      "Computation reduction from downsampling & caching: 0.969444\n"
     ]
    },
    {
     "name": "stderr",
     "output_type": "stream",
     "text": [
      "Processing Frames:  57%|████████████████████████████████████████████████████████████████▉                                                | 108/188 [00:29<00:30,  2.64it/s]"
     ]
    },
    {
     "name": "stdout",
     "output_type": "stream",
     "text": [
      "Start frame: 53265\tEnd Frame: 53625\n",
      "Computation reduction from downsampling & caching: 0.969444\n"
     ]
    },
    {
     "name": "stderr",
     "output_type": "stream",
     "text": [
      "Processing Frames:  58%|█████████████████████████████████████████████████████████████████▌                                               | 109/188 [00:29<00:31,  2.49it/s]"
     ]
    },
    {
     "name": "stdout",
     "output_type": "stream",
     "text": [
      "Start frame: 53625\tEnd Frame: 53985\n",
      "No faces detected by index; Skipping scene.\n",
      "Start frame: 53985\tEnd Frame: 54345\n",
      "No faces detected by index; Skipping scene.\n",
      "Start frame: 54345\tEnd Frame: 54705\n",
      "No faces detected by index; Skipping scene.\n",
      "Start frame: 54705\tEnd Frame: 55065\n",
      "No faces detected by index; Skipping scene.\n",
      "Start frame: 55065\tEnd Frame: 55425\n",
      "No faces detected by index; Skipping scene.\n",
      "Start frame: 55425\tEnd Frame: 55785\n",
      "No faces detected by index; Skipping scene.\n",
      "Start frame: 55785\tEnd Frame: 56145\n",
      "No faces detected by index; Skipping scene.\n",
      "Start frame: 56145\tEnd Frame: 56505\n",
      "No faces detected by index; Skipping scene.\n",
      "Start frame: 56505\tEnd Frame: 56865\n",
      "No faces detected by index; Skipping scene.\n",
      "Start frame: 56865\tEnd Frame: 57225\n",
      "No faces detected by index; Skipping scene.\n",
      "Start frame: 57225\tEnd Frame: 57585\n",
      "Computation reduction from downsampling & caching: 0.969444\n"
     ]
    },
    {
     "name": "stderr",
     "output_type": "stream",
     "text": [
      "Processing Frames:  64%|████████████████████████████████████████████████████████████████████████▏                                        | 120/188 [00:30<00:08,  7.65it/s]"
     ]
    },
    {
     "name": "stdout",
     "output_type": "stream",
     "text": [
      "Start frame: 57585\tEnd Frame: 57945\n",
      "Computation reduction from downsampling & caching: 0.969444\n"
     ]
    },
    {
     "name": "stderr",
     "output_type": "stream",
     "text": [
      "Processing Frames:  64%|████████████████████████████████████████████████████████████████████████▋                                        | 121/188 [00:30<00:11,  5.76it/s]"
     ]
    },
    {
     "name": "stdout",
     "output_type": "stream",
     "text": [
      "Start frame: 57945\tEnd Frame: 58305\n",
      "Computation reduction from downsampling & caching: 0.969444\n"
     ]
    },
    {
     "name": "stderr",
     "output_type": "stream",
     "text": [
      "Processing Frames:  65%|█████████████████████████████████████████████████████████████████████████▎                                       | 122/188 [00:31<00:13,  4.75it/s]"
     ]
    },
    {
     "name": "stdout",
     "output_type": "stream",
     "text": [
      "Start frame: 58305\tEnd Frame: 58665\n",
      "Computation reduction from downsampling & caching: 0.969444\n"
     ]
    },
    {
     "name": "stderr",
     "output_type": "stream",
     "text": [
      "Processing Frames:  65%|█████████████████████████████████████████████████████████████████████████▉                                       | 123/188 [00:31<00:16,  3.91it/s]"
     ]
    },
    {
     "name": "stdout",
     "output_type": "stream",
     "text": [
      "Start frame: 58665\tEnd Frame: 59025\n",
      "No faces detected by index; Skipping scene.\n",
      "Start frame: 59025\tEnd Frame: 59385\n",
      "No faces detected by index; Skipping scene.\n",
      "Start frame: 59385\tEnd Frame: 59745\n",
      "No faces detected by index; Skipping scene.\n",
      "Start frame: 59745\tEnd Frame: 60105\n",
      "No faces detected by index; Skipping scene.\n",
      "Start frame: 60105\tEnd Frame: 60465\n",
      "No faces detected by index; Skipping scene.\n",
      "Start frame: 60465\tEnd Frame: 60825\n",
      "No faces detected by index; Skipping scene.\n",
      "Start frame: 60825\tEnd Frame: 61185\n",
      "No faces detected by index; Skipping scene.\n",
      "Start frame: 61185\tEnd Frame: 61545\n",
      "No faces detected by index; Skipping scene.\n",
      "Start frame: 61545\tEnd Frame: 61905\n",
      "No faces detected by index; Skipping scene.\n",
      "Start frame: 61905\tEnd Frame: 62265\n",
      "No faces detected by index; Skipping scene.\n",
      "Start frame: 62265\tEnd Frame: 62625\n",
      "No faces detected by index; Skipping scene.\n",
      "Start frame: 62625\tEnd Frame: 62985\n",
      "No faces detected by index; Skipping scene.\n",
      "Start frame: 62985\tEnd Frame: 63345\n",
      "No faces detected by index; Skipping scene.\n",
      "Start frame: 63345\tEnd Frame: 63705\n",
      "No faces detected by index; Skipping scene.\n",
      "Start frame: 63705\tEnd Frame: 64065\n",
      "No faces detected by index; Skipping scene.\n",
      "Start frame: 64065\tEnd Frame: 64425\n",
      "No faces detected by index; Skipping scene.\n",
      "Start frame: 64425\tEnd Frame: 64785\n",
      "No faces detected by index; Skipping scene.\n",
      "Start frame: 64785\tEnd Frame: 65145\n",
      "Computation reduction from downsampling & caching: 0.969444\n"
     ]
    },
    {
     "name": "stderr",
     "output_type": "stream",
     "text": [
      "Processing Frames:  75%|████████████████████████████████████████████████████████████████████████████████████▊                            | 141/188 [00:32<00:03, 12.22it/s]"
     ]
    },
    {
     "name": "stdout",
     "output_type": "stream",
     "text": [
      "Start frame: 65145\tEnd Frame: 65505\n",
      "Computation reduction from downsampling & caching: 0.969444\n"
     ]
    },
    {
     "name": "stderr",
     "output_type": "stream",
     "text": [
      "Processing Frames:  76%|█████████████████████████████████████████████████████████████████████████████████████▉                           | 143/188 [00:33<00:04,  9.48it/s]"
     ]
    },
    {
     "name": "stdout",
     "output_type": "stream",
     "text": [
      "Start frame: 65505\tEnd Frame: 65865\n",
      "No faces detected by index; Skipping scene.\n",
      "Start frame: 65865\tEnd Frame: 66225\n",
      "No faces detected by index; Skipping scene.\n",
      "Start frame: 66225\tEnd Frame: 66585\n",
      "No faces detected by index; Skipping scene.\n",
      "Start frame: 66585\tEnd Frame: 66945\n",
      "No faces detected by index; Skipping scene.\n",
      "Start frame: 66945\tEnd Frame: 67305\n",
      "No faces detected by index; Skipping scene.\n",
      "Start frame: 67305\tEnd Frame: 67665\n",
      "No faces detected by index; Skipping scene.\n",
      "Start frame: 67665\tEnd Frame: 68025\n",
      "No faces detected by index; Skipping scene.\n",
      "Start frame: 68025\tEnd Frame: 68385\n",
      "No faces detected by index; Skipping scene.\n",
      "Start frame: 68385\tEnd Frame: 68745\n",
      "No faces detected by index; Skipping scene.\n",
      "Start frame: 68745\tEnd Frame: 69105\n",
      "No faces detected by index; Skipping scene.\n",
      "Start frame: 69105\tEnd Frame: 69465\n",
      "No faces detected by index; Skipping scene.\n",
      "Start frame: 69465\tEnd Frame: 69825\n",
      "No faces detected by index; Skipping scene.\n",
      "Start frame: 69825\tEnd Frame: 70185\n",
      "No faces detected by index; Skipping scene.\n",
      "Start frame: 70185\tEnd Frame: 70545\n",
      "No faces detected by index; Skipping scene.\n",
      "Start frame: 70545\tEnd Frame: 70905\n",
      "No faces detected by index; Skipping scene.\n",
      "Start frame: 70905\tEnd Frame: 71265\n",
      "No faces detected by index; Skipping scene.\n",
      "Start frame: 71265\tEnd Frame: 71625\n",
      "No faces detected by index; Skipping scene.\n",
      "Start frame: 71625\tEnd Frame: 71985\n",
      "No faces detected by index; Skipping scene.\n",
      "Start frame: 71985\tEnd Frame: 72345\n",
      "No faces detected by index; Skipping scene.\n",
      "Start frame: 72345\tEnd Frame: 72705\n",
      "No faces detected by index; Skipping scene.\n",
      "Start frame: 72705\tEnd Frame: 73065\n",
      "No faces detected by index; Skipping scene.\n",
      "Start frame: 73065\tEnd Frame: 73425\n",
      "Computation reduction from downsampling & caching: 0.969444\n"
     ]
    },
    {
     "name": "stderr",
     "output_type": "stream",
     "text": [
      "Processing Frames:  87%|██████████████████████████████████████████████████████████████████████████████████████████████████▌              | 164/188 [00:33<00:01, 17.16it/s]"
     ]
    },
    {
     "name": "stdout",
     "output_type": "stream",
     "text": [
      "Start frame: 73425\tEnd Frame: 73785\n",
      "Computation reduction from downsampling & caching: 0.969444\n"
     ]
    },
    {
     "name": "stderr",
     "output_type": "stream",
     "text": [
      "Processing Frames:  88%|███████████████████████████████████████████████████████████████████████████████████████████████████▊             | 166/188 [00:34<00:01, 13.62it/s]"
     ]
    },
    {
     "name": "stdout",
     "output_type": "stream",
     "text": [
      "Start frame: 73785\tEnd Frame: 74145\n",
      "No faces detected by index; Skipping scene.\n",
      "Start frame: 74145\tEnd Frame: 74505\n",
      "No faces detected by index; Skipping scene.\n",
      "Start frame: 74505\tEnd Frame: 74865\n",
      "No faces detected by index; Skipping scene.\n",
      "Start frame: 74865\tEnd Frame: 75225\n",
      "No faces detected by index; Skipping scene.\n",
      "Start frame: 75225\tEnd Frame: 75585\n",
      "No faces detected by index; Skipping scene.\n",
      "Start frame: 75585\tEnd Frame: 75945\n",
      "No faces detected by index; Skipping scene.\n",
      "Start frame: 75945\tEnd Frame: 76305\n",
      "No faces detected by index; Skipping scene.\n",
      "Start frame: 76305\tEnd Frame: 76665\n",
      "No faces detected by index; Skipping scene.\n",
      "Start frame: 76665\tEnd Frame: 77025\n",
      "No faces detected by index; Skipping scene.\n",
      "Start frame: 77025\tEnd Frame: 77385\n",
      "Computation reduction from downsampling & caching: 0.969444\n"
     ]
    },
    {
     "name": "stderr",
     "output_type": "stream",
     "text": [
      "Processing Frames:  93%|█████████████████████████████████████████████████████████████████████████████████████████████████████████▏       | 175/188 [00:34<00:00, 14.64it/s]"
     ]
    },
    {
     "name": "stdout",
     "output_type": "stream",
     "text": [
      "Start frame: 77385\tEnd Frame: 77745\n",
      "Computation reduction from downsampling & caching: 0.969444\n"
     ]
    },
    {
     "name": "stderr",
     "output_type": "stream",
     "text": [
      "Processing Frames: 100%|█████████████████████████████████████████████████████████████████████████████████████████████████████████████████| 188/188 [00:35<00:00,  5.33it/s]\n"
     ]
    },
    {
     "name": "stdout",
     "output_type": "stream",
     "text": [
      "Start frame: 77745\tEnd Frame: 78105\n",
      "No faces detected by index; Skipping scene.\n",
      "Start frame: 78105\tEnd Frame: 78465\n",
      "No faces detected by index; Skipping scene.\n",
      "Start frame: 78465\tEnd Frame: 78825\n",
      "No faces detected by index; Skipping scene.\n",
      "Start frame: 78825\tEnd Frame: 79185\n",
      "No faces detected by index; Skipping scene.\n",
      "Start frame: 79185\tEnd Frame: 79545\n",
      "No faces detected by index; Skipping scene.\n",
      "Start frame: 79545\tEnd Frame: 79905\n",
      "No faces detected by index; Skipping scene.\n",
      "Start frame: 79905\tEnd Frame: 80265\n",
      "No faces detected by index; Skipping scene.\n",
      "Start frame: 80265\tEnd Frame: 80625\n",
      "No faces detected by index; Skipping scene.\n",
      "Start frame: 80625\tEnd Frame: 80985\n",
      "No faces detected by index; Skipping scene.\n",
      "Start frame: 80985\tEnd Frame: 81345\n",
      "No faces detected by index; Skipping scene.\n",
      "Start frame: 81345\tEnd Frame: 81705\n",
      "No faces detected by index; Skipping scene.\n",
      "Start frame: 81705\tEnd Frame: 82065\n",
      "No faces detected by index; Skipping scene.\n",
      "Now Processing: The Bishop's Wife\n",
      "Starting from minute 10, processing up to minute 110.096760\n",
      "Building num_faces index of frames from every 15 seconds\n"
     ]
    },
    {
     "name": "stderr",
     "output_type": "stream",
     "text": [
      "Building Index: 100%|████████████████████████████████████████████████████████████████████████████████████████████████████████████████████| 400/400 [00:41<00:00,  9.75it/s]\n"
     ]
    },
    {
     "name": "stdout",
     "output_type": "stream",
     "text": [
      "Processing facial scenes\n"
     ]
    },
    {
     "name": "stderr",
     "output_type": "stream",
     "text": [
      "Processing Frames:   0%|                                                                                                                           | 0/399 [00:00<?, ?it/s]"
     ]
    },
    {
     "name": "stdout",
     "output_type": "stream",
     "text": [
      "Start frame: 17981\tEnd Frame: 18431\n",
      "Computation reduction from downsampling & caching: 0.968889\n"
     ]
    },
    {
     "name": "stderr",
     "output_type": "stream",
     "text": [
      "Processing Frames:   0%|▎                                                                                                                  | 1/399 [00:01<09:23,  1.42s/it]"
     ]
    },
    {
     "name": "stdout",
     "output_type": "stream",
     "text": [
      "Start frame: 18431\tEnd Frame: 18881\n",
      "Computation reduction from downsampling & caching: 0.968889\n"
     ]
    },
    {
     "name": "stderr",
     "output_type": "stream",
     "text": [
      "Processing Frames:   1%|▌                                                                                                                  | 2/399 [00:02<08:46,  1.33s/it]"
     ]
    },
    {
     "name": "stdout",
     "output_type": "stream",
     "text": [
      "Start frame: 18881\tEnd Frame: 19331\n",
      "Computation reduction from downsampling & caching: 0.968889\n"
     ]
    },
    {
     "name": "stderr",
     "output_type": "stream",
     "text": [
      "Processing Frames:   1%|▊                                                                                                                  | 3/399 [00:04<10:05,  1.53s/it]"
     ]
    },
    {
     "name": "stdout",
     "output_type": "stream",
     "text": [
      "Start frame: 19331\tEnd Frame: 19781\n",
      "Computation reduction from downsampling & caching: 0.968889\n"
     ]
    },
    {
     "name": "stderr",
     "output_type": "stream",
     "text": [
      "Processing Frames:   1%|█▏                                                                                                                 | 4/399 [00:06<10:50,  1.65s/it]"
     ]
    },
    {
     "name": "stdout",
     "output_type": "stream",
     "text": [
      "Start frame: 19781\tEnd Frame: 20231\n",
      "Computation reduction from downsampling & caching: 0.968889\n"
     ]
    },
    {
     "name": "stderr",
     "output_type": "stream",
     "text": [
      "Processing Frames:   1%|█▍                                                                                                                 | 5/399 [00:07<10:22,  1.58s/it]"
     ]
    },
    {
     "name": "stdout",
     "output_type": "stream",
     "text": [
      "Start frame: 20231\tEnd Frame: 20681\n",
      "Computation reduction from downsampling & caching: 0.968889\n"
     ]
    },
    {
     "name": "stderr",
     "output_type": "stream",
     "text": [
      "Processing Frames:   2%|█▋                                                                                                                 | 6/399 [00:09<10:55,  1.67s/it]"
     ]
    },
    {
     "name": "stdout",
     "output_type": "stream",
     "text": [
      "Start frame: 20681\tEnd Frame: 21131\n",
      "Computation reduction from downsampling & caching: 0.968889\n"
     ]
    },
    {
     "name": "stderr",
     "output_type": "stream",
     "text": [
      "Processing Frames:   2%|██                                                                                                                 | 7/399 [00:11<11:04,  1.69s/it]"
     ]
    },
    {
     "name": "stdout",
     "output_type": "stream",
     "text": [
      "Start frame: 21131\tEnd Frame: 21581\n",
      "Computation reduction from downsampling & caching: 0.968889\n"
     ]
    },
    {
     "name": "stderr",
     "output_type": "stream",
     "text": [
      "Processing Frames:   2%|██▎                                                                                                                | 8/399 [00:12<10:21,  1.59s/it]"
     ]
    },
    {
     "name": "stdout",
     "output_type": "stream",
     "text": [
      "Start frame: 21581\tEnd Frame: 22031\n",
      "Computation reduction from downsampling & caching: 0.968889\n"
     ]
    },
    {
     "name": "stderr",
     "output_type": "stream",
     "text": [
      "Processing Frames:   2%|██▌                                                                                                                | 9/399 [00:14<09:51,  1.52s/it]"
     ]
    },
    {
     "name": "stdout",
     "output_type": "stream",
     "text": [
      "Start frame: 22031\tEnd Frame: 22481\n",
      "Computation reduction from downsampling & caching: 0.968889\n"
     ]
    },
    {
     "name": "stderr",
     "output_type": "stream",
     "text": [
      "Processing Frames:   3%|██▊                                                                                                               | 10/399 [00:15<09:37,  1.48s/it]"
     ]
    },
    {
     "name": "stdout",
     "output_type": "stream",
     "text": [
      "Start frame: 22481\tEnd Frame: 22931\n",
      "Computation reduction from downsampling & caching: 0.968889\n"
     ]
    },
    {
     "name": "stderr",
     "output_type": "stream",
     "text": [
      "Processing Frames:   3%|███▏                                                                                                              | 11/399 [00:16<09:29,  1.47s/it]"
     ]
    },
    {
     "name": "stdout",
     "output_type": "stream",
     "text": [
      "Start frame: 22931\tEnd Frame: 23381\n",
      "Computation reduction from downsampling & caching: 0.968889\n"
     ]
    },
    {
     "name": "stderr",
     "output_type": "stream",
     "text": [
      "Processing Frames:   3%|███▍                                                                                                              | 12/399 [00:18<09:34,  1.48s/it]"
     ]
    },
    {
     "name": "stdout",
     "output_type": "stream",
     "text": [
      "Start frame: 23381\tEnd Frame: 23831\n",
      "Computation reduction from downsampling & caching: 0.968889\n"
     ]
    },
    {
     "name": "stderr",
     "output_type": "stream",
     "text": [
      "Processing Frames:   3%|███▋                                                                                                              | 13/399 [00:20<09:58,  1.55s/it]"
     ]
    },
    {
     "name": "stdout",
     "output_type": "stream",
     "text": [
      "Start frame: 23831\tEnd Frame: 24281\n",
      "Computation reduction from downsampling & caching: 0.968889\n"
     ]
    },
    {
     "name": "stderr",
     "output_type": "stream",
     "text": [
      "Processing Frames:   4%|████                                                                                                              | 14/399 [00:21<09:49,  1.53s/it]"
     ]
    },
    {
     "name": "stdout",
     "output_type": "stream",
     "text": [
      "Start frame: 24281\tEnd Frame: 24731\n",
      "Computation reduction from downsampling & caching: 0.968889\n"
     ]
    },
    {
     "name": "stderr",
     "output_type": "stream",
     "text": [
      "Processing Frames:   4%|████▎                                                                                                             | 15/399 [00:22<09:31,  1.49s/it]"
     ]
    },
    {
     "name": "stdout",
     "output_type": "stream",
     "text": [
      "Start frame: 24731\tEnd Frame: 25181\n",
      "Computation reduction from downsampling & caching: 0.968889\n"
     ]
    },
    {
     "name": "stderr",
     "output_type": "stream",
     "text": [
      "Processing Frames:   4%|████▌                                                                                                             | 16/399 [00:24<09:14,  1.45s/it]"
     ]
    },
    {
     "name": "stdout",
     "output_type": "stream",
     "text": [
      "Start frame: 25181\tEnd Frame: 25631\n",
      "Computation reduction from downsampling & caching: 0.968889\n"
     ]
    },
    {
     "name": "stderr",
     "output_type": "stream",
     "text": [
      "Processing Frames:   4%|████▊                                                                                                             | 17/399 [00:25<09:18,  1.46s/it]"
     ]
    },
    {
     "name": "stdout",
     "output_type": "stream",
     "text": [
      "Start frame: 25631\tEnd Frame: 26081\n",
      "Computation reduction from downsampling & caching: 0.968889\n"
     ]
    },
    {
     "name": "stderr",
     "output_type": "stream",
     "text": [
      "Processing Frames:   5%|█████▏                                                                                                            | 18/399 [00:27<09:48,  1.54s/it]"
     ]
    },
    {
     "name": "stdout",
     "output_type": "stream",
     "text": [
      "Start frame: 26081\tEnd Frame: 26531\n",
      "Computation reduction from downsampling & caching: 0.968889\n"
     ]
    },
    {
     "name": "stderr",
     "output_type": "stream",
     "text": [
      "Processing Frames:   5%|█████▍                                                                                                            | 19/399 [00:28<09:10,  1.45s/it]"
     ]
    },
    {
     "name": "stdout",
     "output_type": "stream",
     "text": [
      "Start frame: 26531\tEnd Frame: 26981\n",
      "Computation reduction from downsampling & caching: 0.968889\n"
     ]
    },
    {
     "name": "stderr",
     "output_type": "stream",
     "text": [
      "Processing Frames:   5%|█████▋                                                                                                            | 20/399 [00:29<08:29,  1.34s/it]"
     ]
    },
    {
     "name": "stdout",
     "output_type": "stream",
     "text": [
      "Start frame: 26981\tEnd Frame: 27431\n",
      "Computation reduction from downsampling & caching: 0.968889\n"
     ]
    },
    {
     "name": "stderr",
     "output_type": "stream",
     "text": [
      "Processing Frames:   5%|██████                                                                                                            | 21/399 [00:31<08:32,  1.36s/it]"
     ]
    },
    {
     "name": "stdout",
     "output_type": "stream",
     "text": [
      "Start frame: 27431\tEnd Frame: 27881\n",
      "No faces detected by index; Skipping scene.\n",
      "Start frame: 27881\tEnd Frame: 28331\n",
      "Computation reduction from downsampling & caching: 0.968889\n"
     ]
    },
    {
     "name": "stderr",
     "output_type": "stream",
     "text": [
      "Processing Frames:   6%|██████▌                                                                                                           | 23/399 [00:32<06:35,  1.05s/it]"
     ]
    },
    {
     "name": "stdout",
     "output_type": "stream",
     "text": [
      "Start frame: 28331\tEnd Frame: 28781\n",
      "Computation reduction from downsampling & caching: 0.968889\n"
     ]
    },
    {
     "name": "stderr",
     "output_type": "stream",
     "text": [
      "Processing Frames:   6%|██████▊                                                                                                           | 24/399 [00:34<07:08,  1.14s/it]"
     ]
    },
    {
     "name": "stdout",
     "output_type": "stream",
     "text": [
      "Start frame: 28781\tEnd Frame: 29231\n",
      "Computation reduction from downsampling & caching: 0.968889\n"
     ]
    },
    {
     "name": "stderr",
     "output_type": "stream",
     "text": [
      "Processing Frames:   6%|███████▏                                                                                                          | 25/399 [00:35<07:35,  1.22s/it]"
     ]
    },
    {
     "name": "stdout",
     "output_type": "stream",
     "text": [
      "Start frame: 29231\tEnd Frame: 29681\n",
      "Computation reduction from downsampling & caching: 0.968889\n"
     ]
    },
    {
     "name": "stderr",
     "output_type": "stream",
     "text": [
      "Processing Frames:   7%|███████▍                                                                                                          | 26/399 [00:37<08:18,  1.34s/it]"
     ]
    },
    {
     "name": "stdout",
     "output_type": "stream",
     "text": [
      "Start frame: 29681\tEnd Frame: 30131\n",
      "Computation reduction from downsampling & caching: 0.968889\n"
     ]
    },
    {
     "name": "stderr",
     "output_type": "stream",
     "text": [
      "Processing Frames:   7%|███████▋                                                                                                          | 27/399 [00:38<08:46,  1.42s/it]"
     ]
    },
    {
     "name": "stdout",
     "output_type": "stream",
     "text": [
      "Start frame: 30131\tEnd Frame: 30581\n",
      "Computation reduction from downsampling & caching: 0.968889\n"
     ]
    },
    {
     "name": "stderr",
     "output_type": "stream",
     "text": [
      "Processing Frames:   7%|████████                                                                                                          | 28/399 [00:40<08:24,  1.36s/it]"
     ]
    },
    {
     "name": "stdout",
     "output_type": "stream",
     "text": [
      "Start frame: 30581\tEnd Frame: 31031\n",
      "No faces detected by index; Skipping scene.\n",
      "Start frame: 31031\tEnd Frame: 31481\n",
      "Computation reduction from downsampling & caching: 0.968889\n"
     ]
    },
    {
     "name": "stderr",
     "output_type": "stream",
     "text": [
      "Processing Frames:   8%|████████▌                                                                                                         | 30/399 [00:41<06:18,  1.03s/it]"
     ]
    },
    {
     "name": "stdout",
     "output_type": "stream",
     "text": [
      "Start frame: 31481\tEnd Frame: 31931\n",
      "Computation reduction from downsampling & caching: 0.968889\n"
     ]
    },
    {
     "name": "stderr",
     "output_type": "stream",
     "text": [
      "Processing Frames:   8%|████████▊                                                                                                         | 31/399 [00:42<06:32,  1.07s/it]"
     ]
    },
    {
     "name": "stdout",
     "output_type": "stream",
     "text": [
      "Start frame: 31931\tEnd Frame: 32381\n",
      "No faces detected by index; Skipping scene.\n",
      "Start frame: 32381\tEnd Frame: 32831\n",
      "Computation reduction from downsampling & caching: 0.968889\n"
     ]
    },
    {
     "name": "stderr",
     "output_type": "stream",
     "text": [
      "Processing Frames:   8%|█████████▍                                                                                                        | 33/399 [00:43<05:33,  1.10it/s]"
     ]
    },
    {
     "name": "stdout",
     "output_type": "stream",
     "text": [
      "Start frame: 32831\tEnd Frame: 33281\n",
      "Computation reduction from downsampling & caching: 0.968889\n"
     ]
    },
    {
     "name": "stderr",
     "output_type": "stream",
     "text": [
      "Processing Frames:   9%|█████████▋                                                                                                        | 34/399 [00:45<06:11,  1.02s/it]"
     ]
    },
    {
     "name": "stdout",
     "output_type": "stream",
     "text": [
      "Start frame: 33281\tEnd Frame: 33731\n",
      "Computation reduction from downsampling & caching: 0.968889\n"
     ]
    },
    {
     "name": "stderr",
     "output_type": "stream",
     "text": [
      "Processing Frames:   9%|██████████                                                                                                        | 35/399 [00:46<06:40,  1.10s/it]"
     ]
    },
    {
     "name": "stdout",
     "output_type": "stream",
     "text": [
      "Start frame: 33731\tEnd Frame: 34181\n",
      "Computation reduction from downsampling & caching: 0.968889\n"
     ]
    },
    {
     "name": "stderr",
     "output_type": "stream",
     "text": [
      "Processing Frames:   9%|██████████▎                                                                                                       | 36/399 [00:47<06:58,  1.15s/it]"
     ]
    },
    {
     "name": "stdout",
     "output_type": "stream",
     "text": [
      "Start frame: 34181\tEnd Frame: 34631\n",
      "Computation reduction from downsampling & caching: 0.968889\n"
     ]
    },
    {
     "name": "stderr",
     "output_type": "stream",
     "text": [
      "Processing Frames:   9%|██████████▌                                                                                                       | 37/399 [00:49<07:20,  1.22s/it]"
     ]
    },
    {
     "name": "stdout",
     "output_type": "stream",
     "text": [
      "Start frame: 34631\tEnd Frame: 35081\n",
      "Computation reduction from downsampling & caching: 0.968889\n"
     ]
    },
    {
     "name": "stderr",
     "output_type": "stream",
     "text": [
      "Processing Frames:  10%|██████████▊                                                                                                       | 38/399 [00:50<07:40,  1.28s/it]"
     ]
    },
    {
     "name": "stdout",
     "output_type": "stream",
     "text": [
      "Start frame: 35081\tEnd Frame: 35531\n",
      "Computation reduction from downsampling & caching: 0.968889\n"
     ]
    },
    {
     "name": "stderr",
     "output_type": "stream",
     "text": [
      "Processing Frames:  10%|███████████▏                                                                                                      | 39/399 [00:51<07:43,  1.29s/it]"
     ]
    },
    {
     "name": "stdout",
     "output_type": "stream",
     "text": [
      "Start frame: 35531\tEnd Frame: 35981\n",
      "Computation reduction from downsampling & caching: 0.968889\n"
     ]
    },
    {
     "name": "stderr",
     "output_type": "stream",
     "text": [
      "Processing Frames:  10%|███████████▍                                                                                                      | 40/399 [00:53<07:54,  1.32s/it]"
     ]
    },
    {
     "name": "stdout",
     "output_type": "stream",
     "text": [
      "Start frame: 35981\tEnd Frame: 36431\n",
      "Computation reduction from downsampling & caching: 0.968889\n"
     ]
    },
    {
     "name": "stderr",
     "output_type": "stream",
     "text": [
      "Processing Frames:  10%|███████████▋                                                                                                      | 41/399 [00:54<07:59,  1.34s/it]"
     ]
    },
    {
     "name": "stdout",
     "output_type": "stream",
     "text": [
      "Start frame: 36431\tEnd Frame: 36881\n",
      "Computation reduction from downsampling & caching: 0.968889\n"
     ]
    },
    {
     "name": "stderr",
     "output_type": "stream",
     "text": [
      "Processing Frames:  11%|████████████                                                                                                      | 42/399 [00:56<08:33,  1.44s/it]"
     ]
    },
    {
     "name": "stdout",
     "output_type": "stream",
     "text": [
      "Start frame: 36881\tEnd Frame: 37331\n",
      "Computation reduction from downsampling & caching: 0.968889\n"
     ]
    },
    {
     "name": "stderr",
     "output_type": "stream",
     "text": [
      "Processing Frames:  11%|████████████▎                                                                                                     | 43/399 [00:58<09:06,  1.53s/it]"
     ]
    },
    {
     "name": "stdout",
     "output_type": "stream",
     "text": [
      "Start frame: 37331\tEnd Frame: 37781\n",
      "Computation reduction from downsampling & caching: 0.968889\n"
     ]
    },
    {
     "name": "stderr",
     "output_type": "stream",
     "text": [
      "Processing Frames:  11%|████████████▌                                                                                                     | 44/399 [00:59<09:21,  1.58s/it]"
     ]
    },
    {
     "name": "stdout",
     "output_type": "stream",
     "text": [
      "Start frame: 37781\tEnd Frame: 38231\n",
      "Computation reduction from downsampling & caching: 0.968889\n"
     ]
    },
    {
     "name": "stderr",
     "output_type": "stream",
     "text": [
      "Processing Frames:  11%|████████████▊                                                                                                     | 45/399 [01:01<09:42,  1.65s/it]"
     ]
    },
    {
     "name": "stdout",
     "output_type": "stream",
     "text": [
      "Start frame: 38231\tEnd Frame: 38681\n",
      "Computation reduction from downsampling & caching: 0.968889\n"
     ]
    },
    {
     "name": "stderr",
     "output_type": "stream",
     "text": [
      "Processing Frames:  12%|█████████████▏                                                                                                    | 46/399 [01:03<09:14,  1.57s/it]"
     ]
    },
    {
     "name": "stdout",
     "output_type": "stream",
     "text": [
      "Start frame: 38681\tEnd Frame: 39131\n",
      "Computation reduction from downsampling & caching: 0.968889\n"
     ]
    },
    {
     "name": "stderr",
     "output_type": "stream",
     "text": [
      "Processing Frames:  12%|█████████████▍                                                                                                    | 47/399 [01:04<08:57,  1.53s/it]"
     ]
    },
    {
     "name": "stdout",
     "output_type": "stream",
     "text": [
      "Start frame: 39131\tEnd Frame: 39581\n",
      "Computation reduction from downsampling & caching: 0.968889\n"
     ]
    },
    {
     "name": "stderr",
     "output_type": "stream",
     "text": [
      "Processing Frames:  12%|█████████████▋                                                                                                    | 48/399 [01:05<08:16,  1.41s/it]"
     ]
    },
    {
     "name": "stdout",
     "output_type": "stream",
     "text": [
      "Start frame: 39581\tEnd Frame: 40031\n",
      "No faces detected by index; Skipping scene.\n",
      "Start frame: 40031\tEnd Frame: 40481\n",
      "Computation reduction from downsampling & caching: 0.968889\n"
     ]
    },
    {
     "name": "stderr",
     "output_type": "stream",
     "text": [
      "Processing Frames:  13%|██████████████▎                                                                                                   | 50/399 [01:06<06:02,  1.04s/it]"
     ]
    },
    {
     "name": "stdout",
     "output_type": "stream",
     "text": [
      "Start frame: 40481\tEnd Frame: 40931\n",
      "Computation reduction from downsampling & caching: 0.968889\n"
     ]
    },
    {
     "name": "stderr",
     "output_type": "stream",
     "text": [
      "Processing Frames:  13%|██████████████▌                                                                                                   | 51/399 [01:08<06:37,  1.14s/it]"
     ]
    },
    {
     "name": "stdout",
     "output_type": "stream",
     "text": [
      "Start frame: 40931\tEnd Frame: 41381\n",
      "Computation reduction from downsampling & caching: 0.968889\n"
     ]
    },
    {
     "name": "stderr",
     "output_type": "stream",
     "text": [
      "Processing Frames:  13%|██████████████▊                                                                                                   | 52/399 [01:09<07:04,  1.22s/it]"
     ]
    },
    {
     "name": "stdout",
     "output_type": "stream",
     "text": [
      "Start frame: 41381\tEnd Frame: 41831\n",
      "Computation reduction from downsampling & caching: 0.968889\n"
     ]
    },
    {
     "name": "stderr",
     "output_type": "stream",
     "text": [
      "Processing Frames:  13%|███████████████▏                                                                                                  | 53/399 [01:11<07:19,  1.27s/it]"
     ]
    },
    {
     "name": "stdout",
     "output_type": "stream",
     "text": [
      "Start frame: 41831\tEnd Frame: 42281\n",
      "No faces detected by index; Skipping scene.\n",
      "Start frame: 42281\tEnd Frame: 42731\n",
      "No faces detected by index; Skipping scene.\n",
      "Start frame: 42731\tEnd Frame: 43181\n",
      "Computation reduction from downsampling & caching: 0.968889\n"
     ]
    },
    {
     "name": "stderr",
     "output_type": "stream",
     "text": [
      "Processing Frames:  14%|████████████████                                                                                                  | 56/399 [01:12<04:42,  1.22it/s]"
     ]
    },
    {
     "name": "stdout",
     "output_type": "stream",
     "text": [
      "Start frame: 43181\tEnd Frame: 43631\n",
      "Computation reduction from downsampling & caching: 0.968889\n"
     ]
    },
    {
     "name": "stderr",
     "output_type": "stream",
     "text": [
      "Processing Frames:  14%|████████████████▎                                                                                                 | 57/399 [01:13<05:13,  1.09it/s]"
     ]
    },
    {
     "name": "stdout",
     "output_type": "stream",
     "text": [
      "Start frame: 43631\tEnd Frame: 44081\n",
      "Computation reduction from downsampling & caching: 0.968889\n"
     ]
    },
    {
     "name": "stderr",
     "output_type": "stream",
     "text": [
      "Processing Frames:  15%|████████████████▌                                                                                                 | 58/399 [01:14<05:28,  1.04it/s]"
     ]
    },
    {
     "name": "stdout",
     "output_type": "stream",
     "text": [
      "Start frame: 44081\tEnd Frame: 44531\n",
      "Computation reduction from downsampling & caching: 0.968889\n"
     ]
    },
    {
     "name": "stderr",
     "output_type": "stream",
     "text": [
      "Processing Frames:  15%|████████████████▊                                                                                                 | 59/399 [01:16<05:42,  1.01s/it]"
     ]
    },
    {
     "name": "stdout",
     "output_type": "stream",
     "text": [
      "Start frame: 44531\tEnd Frame: 44981\n",
      "Computation reduction from downsampling & caching: 0.968889\n"
     ]
    },
    {
     "name": "stderr",
     "output_type": "stream",
     "text": [
      "Processing Frames:  15%|█████████████████▏                                                                                                | 60/399 [01:17<06:20,  1.12s/it]"
     ]
    },
    {
     "name": "stdout",
     "output_type": "stream",
     "text": [
      "Start frame: 44981\tEnd Frame: 45431\n",
      "Computation reduction from downsampling & caching: 0.968889\n"
     ]
    },
    {
     "name": "stderr",
     "output_type": "stream",
     "text": [
      "Processing Frames:  15%|█████████████████▍                                                                                                | 61/399 [01:18<06:47,  1.21s/it]"
     ]
    },
    {
     "name": "stdout",
     "output_type": "stream",
     "text": [
      "Start frame: 45431\tEnd Frame: 45881\n",
      "Computation reduction from downsampling & caching: 0.968889\n"
     ]
    },
    {
     "name": "stderr",
     "output_type": "stream",
     "text": [
      "Processing Frames:  16%|█████████████████▋                                                                                                | 62/399 [01:20<06:55,  1.23s/it]"
     ]
    },
    {
     "name": "stdout",
     "output_type": "stream",
     "text": [
      "Start frame: 45881\tEnd Frame: 46331\n",
      "Computation reduction from downsampling & caching: 0.968889\n"
     ]
    },
    {
     "name": "stderr",
     "output_type": "stream",
     "text": [
      "Processing Frames:  16%|██████████████████                                                                                                | 63/399 [01:21<07:05,  1.27s/it]"
     ]
    },
    {
     "name": "stdout",
     "output_type": "stream",
     "text": [
      "Start frame: 46331\tEnd Frame: 46781\n",
      "Computation reduction from downsampling & caching: 0.968889\n"
     ]
    },
    {
     "name": "stderr",
     "output_type": "stream",
     "text": [
      "Processing Frames:  16%|██████████████████▎                                                                                               | 64/399 [01:23<07:36,  1.36s/it]"
     ]
    },
    {
     "name": "stdout",
     "output_type": "stream",
     "text": [
      "Start frame: 46781\tEnd Frame: 47231\n",
      "Computation reduction from downsampling & caching: 0.968889\n"
     ]
    },
    {
     "name": "stderr",
     "output_type": "stream",
     "text": [
      "Processing Frames:  16%|██████████████████▌                                                                                               | 65/399 [01:24<08:15,  1.48s/it]"
     ]
    },
    {
     "name": "stdout",
     "output_type": "stream",
     "text": [
      "Start frame: 47231\tEnd Frame: 47681\n",
      "Computation reduction from downsampling & caching: 0.968889\n"
     ]
    },
    {
     "name": "stderr",
     "output_type": "stream",
     "text": [
      "Processing Frames:  17%|██████████████████▊                                                                                               | 66/399 [01:26<08:37,  1.56s/it]"
     ]
    },
    {
     "name": "stdout",
     "output_type": "stream",
     "text": [
      "Start frame: 47681\tEnd Frame: 48131\n",
      "Computation reduction from downsampling & caching: 0.968889\n"
     ]
    },
    {
     "name": "stderr",
     "output_type": "stream",
     "text": [
      "Processing Frames:  17%|███████████████████▏                                                                                              | 67/399 [01:28<08:42,  1.57s/it]"
     ]
    },
    {
     "name": "stdout",
     "output_type": "stream",
     "text": [
      "Start frame: 48131\tEnd Frame: 48581\n",
      "Computation reduction from downsampling & caching: 0.968889\n"
     ]
    },
    {
     "name": "stderr",
     "output_type": "stream",
     "text": [
      "Processing Frames:  17%|███████████████████▍                                                                                              | 68/399 [01:29<08:22,  1.52s/it]"
     ]
    },
    {
     "name": "stdout",
     "output_type": "stream",
     "text": [
      "Start frame: 48581\tEnd Frame: 49031\n",
      "Computation reduction from downsampling & caching: 0.968889\n"
     ]
    },
    {
     "name": "stderr",
     "output_type": "stream",
     "text": [
      "Processing Frames:  17%|███████████████████▋                                                                                              | 69/399 [01:31<08:24,  1.53s/it]"
     ]
    },
    {
     "name": "stdout",
     "output_type": "stream",
     "text": [
      "Start frame: 49031\tEnd Frame: 49481\n",
      "Computation reduction from downsampling & caching: 0.968889\n"
     ]
    },
    {
     "name": "stderr",
     "output_type": "stream",
     "text": [
      "Processing Frames:  18%|████████████████████                                                                                              | 70/399 [01:32<08:39,  1.58s/it]"
     ]
    },
    {
     "name": "stdout",
     "output_type": "stream",
     "text": [
      "Start frame: 49481\tEnd Frame: 49931\n",
      "Computation reduction from downsampling & caching: 0.968889\n"
     ]
    },
    {
     "name": "stderr",
     "output_type": "stream",
     "text": [
      "Processing Frames:  18%|████████████████████▎                                                                                             | 71/399 [01:34<08:05,  1.48s/it]"
     ]
    },
    {
     "name": "stdout",
     "output_type": "stream",
     "text": [
      "Start frame: 49931\tEnd Frame: 50381\n",
      "Computation reduction from downsampling & caching: 0.968889\n"
     ]
    },
    {
     "name": "stderr",
     "output_type": "stream",
     "text": [
      "Processing Frames:  18%|████████████████████▌                                                                                             | 72/399 [01:35<07:58,  1.46s/it]"
     ]
    },
    {
     "name": "stdout",
     "output_type": "stream",
     "text": [
      "Start frame: 50381\tEnd Frame: 50831\n",
      "Computation reduction from downsampling & caching: 0.968889\n"
     ]
    },
    {
     "name": "stderr",
     "output_type": "stream",
     "text": [
      "Processing Frames:  18%|████████████████████▊                                                                                             | 73/399 [01:36<07:41,  1.42s/it]"
     ]
    },
    {
     "name": "stdout",
     "output_type": "stream",
     "text": [
      "Start frame: 50831\tEnd Frame: 51281\n",
      "Computation reduction from downsampling & caching: 0.968889\n"
     ]
    },
    {
     "name": "stderr",
     "output_type": "stream",
     "text": [
      "Processing Frames:  19%|█████████████████████▏                                                                                            | 74/399 [01:38<07:24,  1.37s/it]"
     ]
    },
    {
     "name": "stdout",
     "output_type": "stream",
     "text": [
      "Start frame: 51281\tEnd Frame: 51731\n",
      "Computation reduction from downsampling & caching: 0.968889\n"
     ]
    },
    {
     "name": "stderr",
     "output_type": "stream",
     "text": [
      "Processing Frames:  19%|█████████████████████▍                                                                                            | 75/399 [01:39<07:11,  1.33s/it]"
     ]
    },
    {
     "name": "stdout",
     "output_type": "stream",
     "text": [
      "Start frame: 51731\tEnd Frame: 52181\n",
      "Computation reduction from downsampling & caching: 0.968889\n"
     ]
    },
    {
     "name": "stderr",
     "output_type": "stream",
     "text": [
      "Processing Frames:  19%|█████████████████████▋                                                                                            | 76/399 [01:40<06:57,  1.29s/it]"
     ]
    },
    {
     "name": "stdout",
     "output_type": "stream",
     "text": [
      "Start frame: 52181\tEnd Frame: 52631\n",
      "Computation reduction from downsampling & caching: 0.968889\n"
     ]
    },
    {
     "name": "stderr",
     "output_type": "stream",
     "text": [
      "Processing Frames:  19%|██████████████████████                                                                                            | 77/399 [01:41<06:52,  1.28s/it]"
     ]
    },
    {
     "name": "stdout",
     "output_type": "stream",
     "text": [
      "Start frame: 52631\tEnd Frame: 53081\n",
      "Computation reduction from downsampling & caching: 0.968889\n"
     ]
    },
    {
     "name": "stderr",
     "output_type": "stream",
     "text": [
      "Processing Frames:  20%|██████████████████████▎                                                                                           | 78/399 [01:43<07:02,  1.32s/it]"
     ]
    },
    {
     "name": "stdout",
     "output_type": "stream",
     "text": [
      "Start frame: 53081\tEnd Frame: 53531\n",
      "Computation reduction from downsampling & caching: 0.968889\n"
     ]
    },
    {
     "name": "stderr",
     "output_type": "stream",
     "text": [
      "Processing Frames:  20%|██████████████████████▌                                                                                           | 79/399 [01:44<06:50,  1.28s/it]"
     ]
    },
    {
     "name": "stdout",
     "output_type": "stream",
     "text": [
      "Start frame: 53531\tEnd Frame: 53981\n",
      "Computation reduction from downsampling & caching: 0.968889\n"
     ]
    },
    {
     "name": "stderr",
     "output_type": "stream",
     "text": [
      "Processing Frames:  20%|██████████████████████▊                                                                                           | 80/399 [01:45<07:04,  1.33s/it]"
     ]
    },
    {
     "name": "stdout",
     "output_type": "stream",
     "text": [
      "Start frame: 53981\tEnd Frame: 54431\n",
      "Computation reduction from downsampling & caching: 0.968889\n"
     ]
    },
    {
     "name": "stderr",
     "output_type": "stream",
     "text": [
      "Processing Frames:  20%|███████████████████████▏                                                                                          | 81/399 [01:47<06:50,  1.29s/it]"
     ]
    },
    {
     "name": "stdout",
     "output_type": "stream",
     "text": [
      "Start frame: 54431\tEnd Frame: 54881\n",
      "Computation reduction from downsampling & caching: 0.968889\n"
     ]
    },
    {
     "name": "stderr",
     "output_type": "stream",
     "text": [
      "Processing Frames:  21%|███████████████████████▍                                                                                          | 82/399 [01:48<07:00,  1.33s/it]"
     ]
    },
    {
     "name": "stdout",
     "output_type": "stream",
     "text": [
      "Start frame: 54881\tEnd Frame: 55331\n",
      "Computation reduction from downsampling & caching: 0.968889\n"
     ]
    },
    {
     "name": "stderr",
     "output_type": "stream",
     "text": [
      "Processing Frames:  21%|███████████████████████▋                                                                                          | 83/399 [01:49<06:38,  1.26s/it]"
     ]
    },
    {
     "name": "stdout",
     "output_type": "stream",
     "text": [
      "Start frame: 55331\tEnd Frame: 55781\n",
      "No faces detected by index; Skipping scene.\n",
      "Start frame: 55781\tEnd Frame: 56231\n",
      "Computation reduction from downsampling & caching: 0.968889\n"
     ]
    },
    {
     "name": "stderr",
     "output_type": "stream",
     "text": [
      "Processing Frames:  21%|████████████████████████▎                                                                                         | 85/399 [01:50<05:04,  1.03it/s]"
     ]
    },
    {
     "name": "stdout",
     "output_type": "stream",
     "text": [
      "Start frame: 56231\tEnd Frame: 56681\n",
      "Computation reduction from downsampling & caching: 0.968889\n"
     ]
    },
    {
     "name": "stderr",
     "output_type": "stream",
     "text": [
      "Processing Frames:  22%|████████████████████████▌                                                                                         | 86/399 [01:52<05:16,  1.01s/it]"
     ]
    },
    {
     "name": "stdout",
     "output_type": "stream",
     "text": [
      "Start frame: 56681\tEnd Frame: 57131\n",
      "Computation reduction from downsampling & caching: 0.968889\n"
     ]
    },
    {
     "name": "stderr",
     "output_type": "stream",
     "text": [
      "Processing Frames:  22%|████████████████████████▊                                                                                         | 87/399 [01:53<06:17,  1.21s/it]"
     ]
    },
    {
     "name": "stdout",
     "output_type": "stream",
     "text": [
      "Start frame: 57131\tEnd Frame: 57581\n",
      "Computation reduction from downsampling & caching: 0.968889\n"
     ]
    },
    {
     "name": "stderr",
     "output_type": "stream",
     "text": [
      "Processing Frames:  22%|█████████████████████████▏                                                                                        | 88/399 [01:55<07:07,  1.37s/it]"
     ]
    },
    {
     "name": "stdout",
     "output_type": "stream",
     "text": [
      "Start frame: 57581\tEnd Frame: 58031\n",
      "No faces detected by index; Skipping scene.\n",
      "Start frame: 58031\tEnd Frame: 58481\n",
      "Computation reduction from downsampling & caching: 0.968889\n"
     ]
    },
    {
     "name": "stderr",
     "output_type": "stream",
     "text": [
      "Processing Frames:  23%|█████████████████████████▋                                                                                        | 90/399 [01:56<05:19,  1.03s/it]"
     ]
    },
    {
     "name": "stdout",
     "output_type": "stream",
     "text": [
      "Start frame: 58481\tEnd Frame: 58931\n",
      "Computation reduction from downsampling & caching: 0.968889\n"
     ]
    },
    {
     "name": "stderr",
     "output_type": "stream",
     "text": [
      "Processing Frames:  23%|██████████████████████████                                                                                        | 91/399 [01:58<05:40,  1.11s/it]"
     ]
    },
    {
     "name": "stdout",
     "output_type": "stream",
     "text": [
      "Start frame: 58931\tEnd Frame: 59381\n",
      "Computation reduction from downsampling & caching: 0.968889\n"
     ]
    },
    {
     "name": "stderr",
     "output_type": "stream",
     "text": [
      "Processing Frames:  23%|██████████████████████████▎                                                                                       | 92/399 [01:59<06:16,  1.23s/it]"
     ]
    },
    {
     "name": "stdout",
     "output_type": "stream",
     "text": [
      "Start frame: 59381\tEnd Frame: 59831\n",
      "Computation reduction from downsampling & caching: 0.968889\n"
     ]
    },
    {
     "name": "stderr",
     "output_type": "stream",
     "text": [
      "Processing Frames:  23%|██████████████████████████▌                                                                                       | 93/399 [02:01<06:47,  1.33s/it]"
     ]
    },
    {
     "name": "stdout",
     "output_type": "stream",
     "text": [
      "Start frame: 59831\tEnd Frame: 60281\n",
      "Computation reduction from downsampling & caching: 0.968889\n"
     ]
    },
    {
     "name": "stderr",
     "output_type": "stream",
     "text": [
      "Processing Frames:  24%|██████████████████████████▊                                                                                       | 94/399 [02:02<07:01,  1.38s/it]"
     ]
    },
    {
     "name": "stdout",
     "output_type": "stream",
     "text": [
      "Start frame: 60281\tEnd Frame: 60731\n",
      "Computation reduction from downsampling & caching: 0.968889\n"
     ]
    },
    {
     "name": "stderr",
     "output_type": "stream",
     "text": [
      "Processing Frames:  24%|███████████████████████████▏                                                                                      | 95/399 [02:04<07:05,  1.40s/it]"
     ]
    },
    {
     "name": "stdout",
     "output_type": "stream",
     "text": [
      "Start frame: 60731\tEnd Frame: 61181\n",
      "Computation reduction from downsampling & caching: 0.968889\n"
     ]
    },
    {
     "name": "stderr",
     "output_type": "stream",
     "text": [
      "Processing Frames:  24%|███████████████████████████▍                                                                                      | 96/399 [02:05<07:24,  1.47s/it]"
     ]
    },
    {
     "name": "stdout",
     "output_type": "stream",
     "text": [
      "Start frame: 61181\tEnd Frame: 61631\n",
      "Computation reduction from downsampling & caching: 0.968889\n"
     ]
    },
    {
     "name": "stderr",
     "output_type": "stream",
     "text": [
      "Processing Frames:  24%|███████████████████████████▋                                                                                      | 97/399 [02:07<07:28,  1.48s/it]"
     ]
    },
    {
     "name": "stdout",
     "output_type": "stream",
     "text": [
      "Start frame: 61631\tEnd Frame: 62081\n",
      "Computation reduction from downsampling & caching: 0.968889\n"
     ]
    },
    {
     "name": "stderr",
     "output_type": "stream",
     "text": [
      "Processing Frames:  25%|████████████████████████████                                                                                      | 98/399 [02:09<07:34,  1.51s/it]"
     ]
    },
    {
     "name": "stdout",
     "output_type": "stream",
     "text": [
      "Start frame: 62081\tEnd Frame: 62531\n",
      "Computation reduction from downsampling & caching: 0.968889\n"
     ]
    },
    {
     "name": "stderr",
     "output_type": "stream",
     "text": [
      "Processing Frames:  25%|████████████████████████████▎                                                                                     | 99/399 [02:10<08:06,  1.62s/it]"
     ]
    },
    {
     "name": "stdout",
     "output_type": "stream",
     "text": [
      "Start frame: 62531\tEnd Frame: 62981\n",
      "Computation reduction from downsampling & caching: 0.968889\n"
     ]
    },
    {
     "name": "stderr",
     "output_type": "stream",
     "text": [
      "Processing Frames:  25%|████████████████████████████▎                                                                                    | 100/399 [02:12<08:35,  1.73s/it]"
     ]
    },
    {
     "name": "stdout",
     "output_type": "stream",
     "text": [
      "Start frame: 62981\tEnd Frame: 63431\n",
      "Computation reduction from downsampling & caching: 0.968889\n"
     ]
    },
    {
     "name": "stderr",
     "output_type": "stream",
     "text": [
      "Processing Frames:  25%|████████████████████████████▌                                                                                    | 101/399 [02:14<08:43,  1.76s/it]"
     ]
    },
    {
     "name": "stdout",
     "output_type": "stream",
     "text": [
      "Start frame: 63431\tEnd Frame: 63881\n",
      "Computation reduction from downsampling & caching: 0.968889\n"
     ]
    },
    {
     "name": "stderr",
     "output_type": "stream",
     "text": [
      "Processing Frames:  26%|████████████████████████████▉                                                                                    | 102/399 [02:16<08:51,  1.79s/it]"
     ]
    },
    {
     "name": "stdout",
     "output_type": "stream",
     "text": [
      "Start frame: 63881\tEnd Frame: 64331\n",
      "Computation reduction from downsampling & caching: 0.968889\n"
     ]
    },
    {
     "name": "stderr",
     "output_type": "stream",
     "text": [
      "Processing Frames:  26%|█████████████████████████████▏                                                                                   | 103/399 [02:18<08:21,  1.69s/it]"
     ]
    },
    {
     "name": "stdout",
     "output_type": "stream",
     "text": [
      "Start frame: 64331\tEnd Frame: 64781\n",
      "Computation reduction from downsampling & caching: 0.968889\n"
     ]
    },
    {
     "name": "stderr",
     "output_type": "stream",
     "text": [
      "Processing Frames:  26%|█████████████████████████████▍                                                                                   | 104/399 [02:19<08:20,  1.70s/it]"
     ]
    },
    {
     "name": "stdout",
     "output_type": "stream",
     "text": [
      "Start frame: 64781\tEnd Frame: 65231\n",
      "Computation reduction from downsampling & caching: 0.968889\n"
     ]
    },
    {
     "name": "stderr",
     "output_type": "stream",
     "text": [
      "Processing Frames:  26%|█████████████████████████████▋                                                                                   | 105/399 [02:21<08:13,  1.68s/it]"
     ]
    },
    {
     "name": "stdout",
     "output_type": "stream",
     "text": [
      "Start frame: 65231\tEnd Frame: 65681\n",
      "Computation reduction from downsampling & caching: 0.968889\n"
     ]
    },
    {
     "name": "stderr",
     "output_type": "stream",
     "text": [
      "Processing Frames:  27%|██████████████████████████████                                                                                   | 106/399 [02:23<08:11,  1.68s/it]"
     ]
    },
    {
     "name": "stdout",
     "output_type": "stream",
     "text": [
      "Start frame: 65681\tEnd Frame: 66131\n",
      "Computation reduction from downsampling & caching: 0.968889\n"
     ]
    },
    {
     "name": "stderr",
     "output_type": "stream",
     "text": [
      "Processing Frames:  27%|██████████████████████████████▎                                                                                  | 107/399 [02:24<07:48,  1.61s/it]"
     ]
    },
    {
     "name": "stdout",
     "output_type": "stream",
     "text": [
      "Start frame: 66131\tEnd Frame: 66581\n",
      "Computation reduction from downsampling & caching: 0.968889\n"
     ]
    },
    {
     "name": "stderr",
     "output_type": "stream",
     "text": [
      "Processing Frames:  27%|██████████████████████████████▌                                                                                  | 108/399 [02:26<07:55,  1.63s/it]"
     ]
    },
    {
     "name": "stdout",
     "output_type": "stream",
     "text": [
      "Start frame: 66581\tEnd Frame: 67031\n",
      "Computation reduction from downsampling & caching: 0.968889\n"
     ]
    },
    {
     "name": "stderr",
     "output_type": "stream",
     "text": [
      "Processing Frames:  27%|██████████████████████████████▊                                                                                  | 109/399 [02:27<07:39,  1.58s/it]"
     ]
    },
    {
     "name": "stdout",
     "output_type": "stream",
     "text": [
      "Start frame: 67031\tEnd Frame: 67481\n",
      "Computation reduction from downsampling & caching: 0.968889\n"
     ]
    },
    {
     "name": "stderr",
     "output_type": "stream",
     "text": [
      "Processing Frames:  28%|███████████████████████████████▏                                                                                 | 110/399 [02:29<07:21,  1.53s/it]"
     ]
    },
    {
     "name": "stdout",
     "output_type": "stream",
     "text": [
      "Start frame: 67481\tEnd Frame: 67931\n",
      "Computation reduction from downsampling & caching: 0.968889\n"
     ]
    },
    {
     "name": "stderr",
     "output_type": "stream",
     "text": [
      "Processing Frames:  28%|███████████████████████████████▍                                                                                 | 111/399 [02:30<07:30,  1.56s/it]"
     ]
    },
    {
     "name": "stdout",
     "output_type": "stream",
     "text": [
      "Start frame: 67931\tEnd Frame: 68381\n",
      "Computation reduction from downsampling & caching: 0.968889\n"
     ]
    },
    {
     "name": "stderr",
     "output_type": "stream",
     "text": [
      "Processing Frames:  28%|███████████████████████████████▋                                                                                 | 112/399 [02:32<07:13,  1.51s/it]"
     ]
    },
    {
     "name": "stdout",
     "output_type": "stream",
     "text": [
      "Start frame: 68381\tEnd Frame: 68831\n",
      "Computation reduction from downsampling & caching: 0.968889\n"
     ]
    },
    {
     "name": "stderr",
     "output_type": "stream",
     "text": [
      "Processing Frames:  28%|████████████████████████████████                                                                                 | 113/399 [02:33<07:24,  1.56s/it]"
     ]
    },
    {
     "name": "stdout",
     "output_type": "stream",
     "text": [
      "Start frame: 68831\tEnd Frame: 69281\n",
      "Computation reduction from downsampling & caching: 0.968889\n"
     ]
    },
    {
     "name": "stderr",
     "output_type": "stream",
     "text": [
      "Processing Frames:  29%|████████████████████████████████▎                                                                                | 114/399 [02:35<07:05,  1.49s/it]"
     ]
    },
    {
     "name": "stdout",
     "output_type": "stream",
     "text": [
      "Start frame: 69281\tEnd Frame: 69731\n",
      "Computation reduction from downsampling & caching: 0.968889\n"
     ]
    },
    {
     "name": "stderr",
     "output_type": "stream",
     "text": [
      "Processing Frames:  29%|████████████████████████████████▌                                                                                | 115/399 [02:36<06:47,  1.44s/it]"
     ]
    },
    {
     "name": "stdout",
     "output_type": "stream",
     "text": [
      "Start frame: 69731\tEnd Frame: 70181\n",
      "Computation reduction from downsampling & caching: 0.968889\n"
     ]
    },
    {
     "name": "stderr",
     "output_type": "stream",
     "text": [
      "Processing Frames:  29%|████████████████████████████████▊                                                                                | 116/399 [02:37<06:41,  1.42s/it]"
     ]
    },
    {
     "name": "stdout",
     "output_type": "stream",
     "text": [
      "Start frame: 70181\tEnd Frame: 70631\n",
      "Computation reduction from downsampling & caching: 0.968889\n"
     ]
    },
    {
     "name": "stderr",
     "output_type": "stream",
     "text": [
      "Processing Frames:  29%|█████████████████████████████████▏                                                                               | 117/399 [02:39<06:28,  1.38s/it]"
     ]
    },
    {
     "name": "stdout",
     "output_type": "stream",
     "text": [
      "Start frame: 70631\tEnd Frame: 71081\n",
      "Computation reduction from downsampling & caching: 0.968889\n"
     ]
    },
    {
     "name": "stderr",
     "output_type": "stream",
     "text": [
      "Processing Frames:  30%|█████████████████████████████████▍                                                                               | 118/399 [02:40<06:25,  1.37s/it]"
     ]
    },
    {
     "name": "stdout",
     "output_type": "stream",
     "text": [
      "Start frame: 71081\tEnd Frame: 71531\n",
      "Computation reduction from downsampling & caching: 0.968889\n"
     ]
    },
    {
     "name": "stderr",
     "output_type": "stream",
     "text": [
      "Processing Frames:  30%|█████████████████████████████████▋                                                                               | 119/399 [02:41<06:04,  1.30s/it]"
     ]
    },
    {
     "name": "stdout",
     "output_type": "stream",
     "text": [
      "Start frame: 71531\tEnd Frame: 71981\n",
      "Computation reduction from downsampling & caching: 0.968889\n"
     ]
    },
    {
     "name": "stderr",
     "output_type": "stream",
     "text": [
      "Processing Frames:  30%|█████████████████████████████████▉                                                                               | 120/399 [02:43<06:25,  1.38s/it]"
     ]
    },
    {
     "name": "stdout",
     "output_type": "stream",
     "text": [
      "Start frame: 71981\tEnd Frame: 72431\n",
      "Computation reduction from downsampling & caching: 0.968889\n"
     ]
    },
    {
     "name": "stderr",
     "output_type": "stream",
     "text": [
      "Processing Frames:  30%|██████████████████████████████████▎                                                                              | 121/399 [02:45<07:02,  1.52s/it]"
     ]
    },
    {
     "name": "stdout",
     "output_type": "stream",
     "text": [
      "Start frame: 72431\tEnd Frame: 72881\n",
      "Computation reduction from downsampling & caching: 0.968889\n"
     ]
    },
    {
     "name": "stderr",
     "output_type": "stream",
     "text": [
      "Processing Frames:  31%|██████████████████████████████████▌                                                                              | 122/399 [02:46<07:06,  1.54s/it]"
     ]
    },
    {
     "name": "stdout",
     "output_type": "stream",
     "text": [
      "Start frame: 72881\tEnd Frame: 73331\n",
      "Computation reduction from downsampling & caching: 0.968889\n"
     ]
    },
    {
     "name": "stderr",
     "output_type": "stream",
     "text": [
      "Processing Frames:  31%|██████████████████████████████████▊                                                                              | 123/399 [02:48<07:03,  1.53s/it]"
     ]
    },
    {
     "name": "stdout",
     "output_type": "stream",
     "text": [
      "Start frame: 73331\tEnd Frame: 73781\n",
      "Computation reduction from downsampling & caching: 0.968889\n"
     ]
    },
    {
     "name": "stderr",
     "output_type": "stream",
     "text": [
      "Processing Frames:  31%|███████████████████████████████████                                                                              | 124/399 [02:49<06:55,  1.51s/it]"
     ]
    },
    {
     "name": "stdout",
     "output_type": "stream",
     "text": [
      "Start frame: 73781\tEnd Frame: 74231\n",
      "Computation reduction from downsampling & caching: 0.968889\n"
     ]
    },
    {
     "name": "stderr",
     "output_type": "stream",
     "text": [
      "Processing Frames:  31%|███████████████████████████████████▍                                                                             | 125/399 [02:51<06:49,  1.49s/it]"
     ]
    },
    {
     "name": "stdout",
     "output_type": "stream",
     "text": [
      "Start frame: 74231\tEnd Frame: 74681\n",
      "Computation reduction from downsampling & caching: 0.968889\n"
     ]
    },
    {
     "name": "stderr",
     "output_type": "stream",
     "text": [
      "Processing Frames:  32%|███████████████████████████████████▋                                                                             | 126/399 [02:52<06:32,  1.44s/it]"
     ]
    },
    {
     "name": "stdout",
     "output_type": "stream",
     "text": [
      "Start frame: 74681\tEnd Frame: 75131\n",
      "Computation reduction from downsampling & caching: 0.968889\n"
     ]
    },
    {
     "name": "stderr",
     "output_type": "stream",
     "text": [
      "Processing Frames:  32%|███████████████████████████████████▉                                                                             | 127/399 [02:54<07:03,  1.56s/it]"
     ]
    },
    {
     "name": "stdout",
     "output_type": "stream",
     "text": [
      "Start frame: 75131\tEnd Frame: 75581\n",
      "Computation reduction from downsampling & caching: 0.968889\n"
     ]
    },
    {
     "name": "stderr",
     "output_type": "stream",
     "text": [
      "Processing Frames:  32%|████████████████████████████████████▎                                                                            | 128/399 [02:55<06:41,  1.48s/it]"
     ]
    },
    {
     "name": "stdout",
     "output_type": "stream",
     "text": [
      "Start frame: 75581\tEnd Frame: 76031\n",
      "Computation reduction from downsampling & caching: 0.968889\n"
     ]
    },
    {
     "name": "stderr",
     "output_type": "stream",
     "text": [
      "Processing Frames:  32%|████████████████████████████████████▌                                                                            | 129/399 [02:56<06:38,  1.47s/it]"
     ]
    },
    {
     "name": "stdout",
     "output_type": "stream",
     "text": [
      "Start frame: 76031\tEnd Frame: 76481\n",
      "Computation reduction from downsampling & caching: 0.968889\n"
     ]
    },
    {
     "name": "stderr",
     "output_type": "stream",
     "text": [
      "Processing Frames:  33%|████████████████████████████████████▊                                                                            | 130/399 [02:58<06:31,  1.46s/it]"
     ]
    },
    {
     "name": "stdout",
     "output_type": "stream",
     "text": [
      "Start frame: 76481\tEnd Frame: 76931\n",
      "Computation reduction from downsampling & caching: 0.968889\n"
     ]
    },
    {
     "name": "stderr",
     "output_type": "stream",
     "text": [
      "Processing Frames:  33%|█████████████████████████████████████                                                                            | 131/399 [02:59<06:31,  1.46s/it]"
     ]
    },
    {
     "name": "stdout",
     "output_type": "stream",
     "text": [
      "Start frame: 76931\tEnd Frame: 77381\n",
      "Computation reduction from downsampling & caching: 0.968889\n"
     ]
    },
    {
     "name": "stderr",
     "output_type": "stream",
     "text": [
      "Processing Frames:  33%|█████████████████████████████████████▍                                                                           | 132/399 [03:01<06:22,  1.43s/it]"
     ]
    },
    {
     "name": "stdout",
     "output_type": "stream",
     "text": [
      "Start frame: 77381\tEnd Frame: 77831\n",
      "Computation reduction from downsampling & caching: 0.968889\n"
     ]
    },
    {
     "name": "stderr",
     "output_type": "stream",
     "text": [
      "Processing Frames:  33%|█████████████████████████████████████▋                                                                           | 133/399 [03:02<06:38,  1.50s/it]"
     ]
    },
    {
     "name": "stdout",
     "output_type": "stream",
     "text": [
      "Start frame: 77831\tEnd Frame: 78281\n",
      "Computation reduction from downsampling & caching: 0.968889\n"
     ]
    },
    {
     "name": "stderr",
     "output_type": "stream",
     "text": [
      "Processing Frames:  34%|█████████████████████████████████████▉                                                                           | 134/399 [03:04<06:28,  1.47s/it]"
     ]
    },
    {
     "name": "stdout",
     "output_type": "stream",
     "text": [
      "Start frame: 78281\tEnd Frame: 78731\n",
      "No faces detected by index; Skipping scene.\n",
      "Start frame: 78731\tEnd Frame: 79181\n",
      "Computation reduction from downsampling & caching: 0.968889\n"
     ]
    },
    {
     "name": "stderr",
     "output_type": "stream",
     "text": [
      "Processing Frames:  34%|██████████████████████████████████████▌                                                                          | 136/399 [03:05<05:09,  1.18s/it]"
     ]
    },
    {
     "name": "stdout",
     "output_type": "stream",
     "text": [
      "Start frame: 79181\tEnd Frame: 79631\n",
      "Computation reduction from downsampling & caching: 0.968889\n"
     ]
    },
    {
     "name": "stderr",
     "output_type": "stream",
     "text": [
      "Processing Frames:  34%|██████████████████████████████████████▊                                                                          | 137/399 [03:07<05:27,  1.25s/it]"
     ]
    },
    {
     "name": "stdout",
     "output_type": "stream",
     "text": [
      "Start frame: 79631\tEnd Frame: 80081\n",
      "Computation reduction from downsampling & caching: 0.968889\n"
     ]
    },
    {
     "name": "stderr",
     "output_type": "stream",
     "text": [
      "Processing Frames:  35%|███████████████████████████████████████                                                                          | 138/399 [03:08<05:33,  1.28s/it]"
     ]
    },
    {
     "name": "stdout",
     "output_type": "stream",
     "text": [
      "Start frame: 80081\tEnd Frame: 80531\n",
      "Computation reduction from downsampling & caching: 0.968889\n"
     ]
    },
    {
     "name": "stderr",
     "output_type": "stream",
     "text": [
      "Processing Frames:  35%|███████████████████████████████████████▎                                                                         | 139/399 [03:10<05:49,  1.35s/it]"
     ]
    },
    {
     "name": "stdout",
     "output_type": "stream",
     "text": [
      "Start frame: 80531\tEnd Frame: 80981\n",
      "Computation reduction from downsampling & caching: 0.968889\n"
     ]
    },
    {
     "name": "stderr",
     "output_type": "stream",
     "text": [
      "Processing Frames:  35%|███████████████████████████████████████▋                                                                         | 140/399 [03:11<06:06,  1.42s/it]"
     ]
    },
    {
     "name": "stdout",
     "output_type": "stream",
     "text": [
      "Start frame: 80981\tEnd Frame: 81431\n",
      "Computation reduction from downsampling & caching: 0.968889\n"
     ]
    },
    {
     "name": "stderr",
     "output_type": "stream",
     "text": [
      "Processing Frames:  35%|███████████████████████████████████████▉                                                                         | 141/399 [03:13<06:35,  1.53s/it]"
     ]
    },
    {
     "name": "stdout",
     "output_type": "stream",
     "text": [
      "Start frame: 81431\tEnd Frame: 81881\n",
      "Computation reduction from downsampling & caching: 0.968889\n"
     ]
    },
    {
     "name": "stderr",
     "output_type": "stream",
     "text": [
      "Processing Frames:  36%|████████████████████████████████████████▏                                                                        | 142/399 [03:15<06:24,  1.50s/it]"
     ]
    },
    {
     "name": "stdout",
     "output_type": "stream",
     "text": [
      "Start frame: 81881\tEnd Frame: 82331\n",
      "No faces detected by index; Skipping scene.\n",
      "Start frame: 82331\tEnd Frame: 82781\n",
      "No faces detected by index; Skipping scene.\n",
      "Start frame: 82781\tEnd Frame: 83231\n",
      "No faces detected by index; Skipping scene.\n",
      "Start frame: 83231\tEnd Frame: 83681\n",
      "Computation reduction from downsampling & caching: 0.968889\n"
     ]
    },
    {
     "name": "stderr",
     "output_type": "stream",
     "text": [
      "Processing Frames:  37%|█████████████████████████████████████████▎                                                                       | 146/399 [03:16<03:11,  1.32it/s]"
     ]
    },
    {
     "name": "stdout",
     "output_type": "stream",
     "text": [
      "Start frame: 83681\tEnd Frame: 84131\n",
      "Computation reduction from downsampling & caching: 0.968889\n"
     ]
    },
    {
     "name": "stderr",
     "output_type": "stream",
     "text": [
      "Processing Frames:  37%|█████████████████████████████████████████▋                                                                       | 147/399 [03:17<03:41,  1.14it/s]"
     ]
    },
    {
     "name": "stdout",
     "output_type": "stream",
     "text": [
      "Start frame: 84131\tEnd Frame: 84581\n",
      "Computation reduction from downsampling & caching: 0.968889\n"
     ]
    },
    {
     "name": "stderr",
     "output_type": "stream",
     "text": [
      "Processing Frames:  37%|█████████████████████████████████████████▉                                                                       | 148/399 [03:19<04:23,  1.05s/it]"
     ]
    },
    {
     "name": "stdout",
     "output_type": "stream",
     "text": [
      "Start frame: 84581\tEnd Frame: 85031\n",
      "Computation reduction from downsampling & caching: 0.968889\n"
     ]
    },
    {
     "name": "stderr",
     "output_type": "stream",
     "text": [
      "Processing Frames:  37%|██████████████████████████████████████████▏                                                                      | 149/399 [03:20<04:37,  1.11s/it]"
     ]
    },
    {
     "name": "stdout",
     "output_type": "stream",
     "text": [
      "Start frame: 85031\tEnd Frame: 85481\n",
      "Computation reduction from downsampling & caching: 0.968889\n"
     ]
    },
    {
     "name": "stderr",
     "output_type": "stream",
     "text": [
      "Processing Frames:  38%|██████████████████████████████████████████▍                                                                      | 150/399 [03:22<05:12,  1.25s/it]"
     ]
    },
    {
     "name": "stdout",
     "output_type": "stream",
     "text": [
      "Start frame: 85481\tEnd Frame: 85931\n",
      "Computation reduction from downsampling & caching: 0.968889\n"
     ]
    },
    {
     "name": "stderr",
     "output_type": "stream",
     "text": [
      "Processing Frames:  38%|██████████████████████████████████████████▊                                                                      | 151/399 [03:24<05:34,  1.35s/it]"
     ]
    },
    {
     "name": "stdout",
     "output_type": "stream",
     "text": [
      "Start frame: 85931\tEnd Frame: 86381\n",
      "Computation reduction from downsampling & caching: 0.968889\n"
     ]
    },
    {
     "name": "stderr",
     "output_type": "stream",
     "text": [
      "Processing Frames:  38%|███████████████████████████████████████████                                                                      | 152/399 [03:25<05:40,  1.38s/it]"
     ]
    },
    {
     "name": "stdout",
     "output_type": "stream",
     "text": [
      "Start frame: 86381\tEnd Frame: 86831\n",
      "Computation reduction from downsampling & caching: 0.968889\n"
     ]
    },
    {
     "name": "stderr",
     "output_type": "stream",
     "text": [
      "Processing Frames:  38%|███████████████████████████████████████████▎                                                                     | 153/399 [03:26<05:38,  1.38s/it]"
     ]
    },
    {
     "name": "stdout",
     "output_type": "stream",
     "text": [
      "Start frame: 86831\tEnd Frame: 87281\n",
      "Computation reduction from downsampling & caching: 0.968889\n"
     ]
    },
    {
     "name": "stderr",
     "output_type": "stream",
     "text": [
      "Processing Frames:  39%|███████████████████████████████████████████▌                                                                     | 154/399 [03:28<05:30,  1.35s/it]"
     ]
    },
    {
     "name": "stdout",
     "output_type": "stream",
     "text": [
      "Start frame: 87281\tEnd Frame: 87731\n",
      "Computation reduction from downsampling & caching: 0.968889\n"
     ]
    },
    {
     "name": "stderr",
     "output_type": "stream",
     "text": [
      "Processing Frames:  39%|███████████████████████████████████████████▉                                                                     | 155/399 [03:29<05:31,  1.36s/it]"
     ]
    },
    {
     "name": "stdout",
     "output_type": "stream",
     "text": [
      "Start frame: 87731\tEnd Frame: 88181\n",
      "No faces detected by index; Skipping scene.\n",
      "Start frame: 88181\tEnd Frame: 88631\n",
      "No faces detected by index; Skipping scene.\n",
      "Start frame: 88631\tEnd Frame: 89081\n",
      "Computation reduction from downsampling & caching: 0.968889\n"
     ]
    },
    {
     "name": "stderr",
     "output_type": "stream",
     "text": [
      "Processing Frames:  40%|████████████████████████████████████████████▋                                                                    | 158/399 [03:31<03:36,  1.11it/s]"
     ]
    },
    {
     "name": "stdout",
     "output_type": "stream",
     "text": [
      "Start frame: 89081\tEnd Frame: 89531\n",
      "Computation reduction from downsampling & caching: 0.968889\n"
     ]
    },
    {
     "name": "stderr",
     "output_type": "stream",
     "text": [
      "Processing Frames:  40%|█████████████████████████████████████████████                                                                    | 159/399 [03:32<03:48,  1.05it/s]"
     ]
    },
    {
     "name": "stdout",
     "output_type": "stream",
     "text": [
      "Start frame: 89531\tEnd Frame: 89981\n",
      "Computation reduction from downsampling & caching: 0.968889\n"
     ]
    },
    {
     "name": "stderr",
     "output_type": "stream",
     "text": [
      "Processing Frames:  40%|█████████████████████████████████████████████▎                                                                   | 160/399 [03:33<04:06,  1.03s/it]"
     ]
    },
    {
     "name": "stdout",
     "output_type": "stream",
     "text": [
      "Start frame: 89981\tEnd Frame: 90431\n",
      "Computation reduction from downsampling & caching: 0.968889\n"
     ]
    },
    {
     "name": "stderr",
     "output_type": "stream",
     "text": [
      "Processing Frames:  40%|█████████████████████████████████████████████▌                                                                   | 161/399 [03:34<04:20,  1.09s/it]"
     ]
    },
    {
     "name": "stdout",
     "output_type": "stream",
     "text": [
      "Start frame: 90431\tEnd Frame: 90881\n",
      "Computation reduction from downsampling & caching: 0.968889\n"
     ]
    },
    {
     "name": "stderr",
     "output_type": "stream",
     "text": [
      "Processing Frames:  41%|█████████████████████████████████████████████▉                                                                   | 162/399 [03:36<04:35,  1.16s/it]"
     ]
    },
    {
     "name": "stdout",
     "output_type": "stream",
     "text": [
      "Start frame: 90881\tEnd Frame: 91331\n",
      "Computation reduction from downsampling & caching: 0.968889\n"
     ]
    },
    {
     "name": "stderr",
     "output_type": "stream",
     "text": [
      "Processing Frames:  41%|██████████████████████████████████████████████▏                                                                  | 163/399 [03:37<04:47,  1.22s/it]"
     ]
    },
    {
     "name": "stdout",
     "output_type": "stream",
     "text": [
      "Start frame: 91331\tEnd Frame: 91781\n",
      "Computation reduction from downsampling & caching: 0.968889\n"
     ]
    },
    {
     "name": "stderr",
     "output_type": "stream",
     "text": [
      "Processing Frames:  41%|██████████████████████████████████████████████▍                                                                  | 164/399 [03:39<05:11,  1.33s/it]"
     ]
    },
    {
     "name": "stdout",
     "output_type": "stream",
     "text": [
      "Start frame: 91781\tEnd Frame: 92231\n",
      "Computation reduction from downsampling & caching: 0.968889\n"
     ]
    },
    {
     "name": "stderr",
     "output_type": "stream",
     "text": [
      "Processing Frames:  41%|██████████████████████████████████████████████▋                                                                  | 165/399 [03:41<05:43,  1.47s/it]"
     ]
    },
    {
     "name": "stdout",
     "output_type": "stream",
     "text": [
      "Start frame: 92231\tEnd Frame: 92681\n",
      "Computation reduction from downsampling & caching: 0.968889\n"
     ]
    },
    {
     "name": "stderr",
     "output_type": "stream",
     "text": [
      "Processing Frames:  42%|███████████████████████████████████████████████                                                                  | 166/399 [03:42<05:46,  1.49s/it]"
     ]
    },
    {
     "name": "stdout",
     "output_type": "stream",
     "text": [
      "Start frame: 92681\tEnd Frame: 93131\n",
      "Computation reduction from downsampling & caching: 0.968889\n"
     ]
    },
    {
     "name": "stderr",
     "output_type": "stream",
     "text": [
      "Processing Frames:  42%|███████████████████████████████████████████████▎                                                                 | 167/399 [03:44<06:01,  1.56s/it]"
     ]
    },
    {
     "name": "stdout",
     "output_type": "stream",
     "text": [
      "Start frame: 93131\tEnd Frame: 93581\n",
      "Computation reduction from downsampling & caching: 0.968889\n"
     ]
    },
    {
     "name": "stderr",
     "output_type": "stream",
     "text": [
      "Processing Frames:  42%|███████████████████████████████████████████████▌                                                                 | 168/399 [03:46<06:14,  1.62s/it]"
     ]
    },
    {
     "name": "stdout",
     "output_type": "stream",
     "text": [
      "Start frame: 93581\tEnd Frame: 94031\n",
      "Computation reduction from downsampling & caching: 0.968889\n"
     ]
    },
    {
     "name": "stderr",
     "output_type": "stream",
     "text": [
      "Processing Frames:  42%|███████████████████████████████████████████████▊                                                                 | 169/399 [03:47<06:06,  1.59s/it]"
     ]
    },
    {
     "name": "stdout",
     "output_type": "stream",
     "text": [
      "Start frame: 94031\tEnd Frame: 94481\n",
      "Computation reduction from downsampling & caching: 0.968889\n"
     ]
    },
    {
     "name": "stderr",
     "output_type": "stream",
     "text": [
      "Processing Frames:  43%|████████████████████████████████████████████████▏                                                                | 170/399 [03:49<05:58,  1.56s/it]"
     ]
    },
    {
     "name": "stdout",
     "output_type": "stream",
     "text": [
      "Start frame: 94481\tEnd Frame: 94931\n",
      "No faces detected by index; Skipping scene.\n",
      "Start frame: 94931\tEnd Frame: 95381\n",
      "Computation reduction from downsampling & caching: 0.968889\n"
     ]
    },
    {
     "name": "stderr",
     "output_type": "stream",
     "text": [
      "Processing Frames:  43%|████████████████████████████████████████████████▋                                                                | 172/399 [03:50<04:25,  1.17s/it]"
     ]
    },
    {
     "name": "stdout",
     "output_type": "stream",
     "text": [
      "Start frame: 95381\tEnd Frame: 95831\n",
      "Computation reduction from downsampling & caching: 0.968889\n"
     ]
    },
    {
     "name": "stderr",
     "output_type": "stream",
     "text": [
      "Processing Frames:  43%|████████████████████████████████████████████████▉                                                                | 173/399 [03:51<04:41,  1.24s/it]"
     ]
    },
    {
     "name": "stdout",
     "output_type": "stream",
     "text": [
      "Start frame: 95831\tEnd Frame: 96281\n",
      "Computation reduction from downsampling & caching: 0.968889\n"
     ]
    },
    {
     "name": "stderr",
     "output_type": "stream",
     "text": [
      "Processing Frames:  44%|█████████████████████████████████████████████████▎                                                               | 174/399 [03:53<04:52,  1.30s/it]"
     ]
    },
    {
     "name": "stdout",
     "output_type": "stream",
     "text": [
      "Start frame: 96281\tEnd Frame: 96731\n",
      "Computation reduction from downsampling & caching: 0.968889\n"
     ]
    },
    {
     "name": "stderr",
     "output_type": "stream",
     "text": [
      "Processing Frames:  44%|█████████████████████████████████████████████████▌                                                               | 175/399 [03:54<05:00,  1.34s/it]"
     ]
    },
    {
     "name": "stdout",
     "output_type": "stream",
     "text": [
      "Start frame: 96731\tEnd Frame: 97181\n",
      "Computation reduction from downsampling & caching: 0.968889\n"
     ]
    },
    {
     "name": "stderr",
     "output_type": "stream",
     "text": [
      "Processing Frames:  44%|█████████████████████████████████████████████████▊                                                               | 176/399 [03:56<05:27,  1.47s/it]"
     ]
    },
    {
     "name": "stdout",
     "output_type": "stream",
     "text": [
      "Start frame: 97181\tEnd Frame: 97631\n",
      "Computation reduction from downsampling & caching: 0.968889\n"
     ]
    },
    {
     "name": "stderr",
     "output_type": "stream",
     "text": [
      "Processing Frames:  44%|██████████████████████████████████████████████████▏                                                              | 177/399 [03:58<05:58,  1.61s/it]"
     ]
    },
    {
     "name": "stdout",
     "output_type": "stream",
     "text": [
      "Start frame: 97631\tEnd Frame: 98081\n",
      "Computation reduction from downsampling & caching: 0.968889\n"
     ]
    },
    {
     "name": "stderr",
     "output_type": "stream",
     "text": [
      "Processing Frames:  45%|██████████████████████████████████████████████████▍                                                              | 178/399 [04:00<06:10,  1.68s/it]"
     ]
    },
    {
     "name": "stdout",
     "output_type": "stream",
     "text": [
      "Start frame: 98081\tEnd Frame: 98531\n",
      "Computation reduction from downsampling & caching: 0.968889\n"
     ]
    },
    {
     "name": "stderr",
     "output_type": "stream",
     "text": [
      "Processing Frames:  45%|██████████████████████████████████████████████████▋                                                              | 179/399 [04:02<05:56,  1.62s/it]"
     ]
    },
    {
     "name": "stdout",
     "output_type": "stream",
     "text": [
      "Start frame: 98531\tEnd Frame: 98981\n",
      "Computation reduction from downsampling & caching: 0.968889\n"
     ]
    },
    {
     "name": "stderr",
     "output_type": "stream",
     "text": [
      "Processing Frames:  45%|██████████████████████████████████████████████████▉                                                              | 180/399 [04:03<05:59,  1.64s/it]"
     ]
    },
    {
     "name": "stdout",
     "output_type": "stream",
     "text": [
      "Start frame: 98981\tEnd Frame: 99431\n",
      "Computation reduction from downsampling & caching: 0.968889\n"
     ]
    },
    {
     "name": "stderr",
     "output_type": "stream",
     "text": [
      "Processing Frames:  45%|███████████████████████████████████████████████████▎                                                             | 181/399 [04:05<05:41,  1.57s/it]"
     ]
    },
    {
     "name": "stdout",
     "output_type": "stream",
     "text": [
      "Start frame: 99431\tEnd Frame: 99881\n",
      "Computation reduction from downsampling & caching: 0.968889\n"
     ]
    },
    {
     "name": "stderr",
     "output_type": "stream",
     "text": [
      "Processing Frames:  46%|███████████████████████████████████████████████████▌                                                             | 182/399 [04:06<05:54,  1.63s/it]"
     ]
    },
    {
     "name": "stdout",
     "output_type": "stream",
     "text": [
      "Start frame: 99881\tEnd Frame: 100331\n",
      "Computation reduction from downsampling & caching: 0.968889\n"
     ]
    },
    {
     "name": "stderr",
     "output_type": "stream",
     "text": [
      "Processing Frames:  46%|███████████████████████████████████████████████████▊                                                             | 183/399 [04:08<05:42,  1.58s/it]"
     ]
    },
    {
     "name": "stdout",
     "output_type": "stream",
     "text": [
      "Start frame: 100331\tEnd Frame: 100781\n",
      "Computation reduction from downsampling & caching: 0.968889\n"
     ]
    },
    {
     "name": "stderr",
     "output_type": "stream",
     "text": [
      "Processing Frames:  46%|████████████████████████████████████████████████████                                                             | 184/399 [04:10<06:02,  1.68s/it]"
     ]
    },
    {
     "name": "stdout",
     "output_type": "stream",
     "text": [
      "Start frame: 100781\tEnd Frame: 101231\n",
      "Computation reduction from downsampling & caching: 0.968889\n"
     ]
    },
    {
     "name": "stderr",
     "output_type": "stream",
     "text": [
      "Processing Frames:  46%|████████████████████████████████████████████████████▍                                                            | 185/399 [04:11<05:48,  1.63s/it]"
     ]
    },
    {
     "name": "stdout",
     "output_type": "stream",
     "text": [
      "Start frame: 101231\tEnd Frame: 101681\n",
      "Computation reduction from downsampling & caching: 0.968889\n"
     ]
    },
    {
     "name": "stderr",
     "output_type": "stream",
     "text": [
      "Processing Frames:  47%|████████████████████████████████████████████████████▋                                                            | 186/399 [04:13<05:34,  1.57s/it]"
     ]
    },
    {
     "name": "stdout",
     "output_type": "stream",
     "text": [
      "Start frame: 101681\tEnd Frame: 102131\n",
      "Computation reduction from downsampling & caching: 0.968889\n"
     ]
    },
    {
     "name": "stderr",
     "output_type": "stream",
     "text": [
      "Processing Frames:  47%|████████████████████████████████████████████████████▉                                                            | 187/399 [04:14<05:41,  1.61s/it]"
     ]
    },
    {
     "name": "stdout",
     "output_type": "stream",
     "text": [
      "Start frame: 102131\tEnd Frame: 102581\n",
      "Computation reduction from downsampling & caching: 0.968889\n"
     ]
    },
    {
     "name": "stderr",
     "output_type": "stream",
     "text": [
      "Processing Frames:  47%|█████████████████████████████████████████████████████▏                                                           | 188/399 [04:16<05:43,  1.63s/it]"
     ]
    },
    {
     "name": "stdout",
     "output_type": "stream",
     "text": [
      "Start frame: 102581\tEnd Frame: 103031\n",
      "Computation reduction from downsampling & caching: 0.968889\n"
     ]
    },
    {
     "name": "stderr",
     "output_type": "stream",
     "text": [
      "Processing Frames:  47%|█████████████████████████████████████████████████████▌                                                           | 189/399 [04:18<05:57,  1.70s/it]"
     ]
    },
    {
     "name": "stdout",
     "output_type": "stream",
     "text": [
      "Start frame: 103031\tEnd Frame: 103481\n",
      "Computation reduction from downsampling & caching: 0.968889\n"
     ]
    },
    {
     "name": "stderr",
     "output_type": "stream",
     "text": [
      "Processing Frames:  48%|█████████████████████████████████████████████████████▊                                                           | 190/399 [04:20<06:12,  1.78s/it]"
     ]
    },
    {
     "name": "stdout",
     "output_type": "stream",
     "text": [
      "Start frame: 103481\tEnd Frame: 103931\n",
      "Computation reduction from downsampling & caching: 0.968889\n"
     ]
    },
    {
     "name": "stderr",
     "output_type": "stream",
     "text": [
      "Processing Frames:  48%|██████████████████████████████████████████████████████                                                           | 191/399 [04:22<06:04,  1.75s/it]"
     ]
    },
    {
     "name": "stdout",
     "output_type": "stream",
     "text": [
      "Start frame: 103931\tEnd Frame: 104381\n",
      "No faces detected by index; Skipping scene.\n",
      "Start frame: 104381\tEnd Frame: 104831\n",
      "No faces detected by index; Skipping scene.\n",
      "Start frame: 104831\tEnd Frame: 105281\n",
      "Computation reduction from downsampling & caching: 0.968889\n"
     ]
    },
    {
     "name": "stderr",
     "output_type": "stream",
     "text": [
      "Processing Frames:  49%|██████████████████████████████████████████████████████▉                                                          | 194/399 [04:23<03:27,  1.01s/it]"
     ]
    },
    {
     "name": "stdout",
     "output_type": "stream",
     "text": [
      "Start frame: 105281\tEnd Frame: 105731\n",
      "Computation reduction from downsampling & caching: 0.968889\n"
     ]
    },
    {
     "name": "stderr",
     "output_type": "stream",
     "text": [
      "Processing Frames:  49%|███████████████████████████████████████████████████████▏                                                         | 195/399 [04:24<03:32,  1.04s/it]"
     ]
    },
    {
     "name": "stdout",
     "output_type": "stream",
     "text": [
      "Start frame: 105731\tEnd Frame: 106181\n",
      "Computation reduction from downsampling & caching: 0.968889\n"
     ]
    },
    {
     "name": "stderr",
     "output_type": "stream",
     "text": [
      "Processing Frames:  49%|███████████████████████████████████████████████████████▌                                                         | 196/399 [04:26<03:56,  1.16s/it]"
     ]
    },
    {
     "name": "stdout",
     "output_type": "stream",
     "text": [
      "Start frame: 106181\tEnd Frame: 106631\n",
      "Computation reduction from downsampling & caching: 0.968889\n"
     ]
    },
    {
     "name": "stderr",
     "output_type": "stream",
     "text": [
      "Processing Frames:  49%|███████████████████████████████████████████████████████▊                                                         | 197/399 [04:27<04:06,  1.22s/it]"
     ]
    },
    {
     "name": "stdout",
     "output_type": "stream",
     "text": [
      "Start frame: 106631\tEnd Frame: 107081\n",
      "Computation reduction from downsampling & caching: 0.968889\n"
     ]
    },
    {
     "name": "stderr",
     "output_type": "stream",
     "text": [
      "Processing Frames:  50%|████████████████████████████████████████████████████████                                                         | 198/399 [04:28<04:04,  1.22s/it]"
     ]
    },
    {
     "name": "stdout",
     "output_type": "stream",
     "text": [
      "Start frame: 107081\tEnd Frame: 107531\n",
      "Computation reduction from downsampling & caching: 0.968889\n"
     ]
    },
    {
     "name": "stderr",
     "output_type": "stream",
     "text": [
      "Processing Frames:  50%|████████████████████████████████████████████████████████▎                                                        | 199/399 [04:30<04:07,  1.24s/it]"
     ]
    },
    {
     "name": "stdout",
     "output_type": "stream",
     "text": [
      "Start frame: 107531\tEnd Frame: 107981\n",
      "Computation reduction from downsampling & caching: 0.968889\n"
     ]
    },
    {
     "name": "stderr",
     "output_type": "stream",
     "text": [
      "Processing Frames:  50%|████████████████████████████████████████████████████████▋                                                        | 200/399 [04:31<04:15,  1.28s/it]"
     ]
    },
    {
     "name": "stdout",
     "output_type": "stream",
     "text": [
      "Start frame: 107981\tEnd Frame: 108431\n",
      "Computation reduction from downsampling & caching: 0.968889\n"
     ]
    },
    {
     "name": "stderr",
     "output_type": "stream",
     "text": [
      "Processing Frames:  50%|████████████████████████████████████████████████████████▉                                                        | 201/399 [04:32<04:26,  1.35s/it]"
     ]
    },
    {
     "name": "stdout",
     "output_type": "stream",
     "text": [
      "Start frame: 108431\tEnd Frame: 108881\n",
      "Computation reduction from downsampling & caching: 0.968889\n"
     ]
    },
    {
     "name": "stderr",
     "output_type": "stream",
     "text": [
      "Processing Frames:  51%|█████████████████████████████████████████████████████████▏                                                       | 202/399 [04:34<04:17,  1.31s/it]"
     ]
    },
    {
     "name": "stdout",
     "output_type": "stream",
     "text": [
      "Start frame: 108881\tEnd Frame: 109331\n",
      "Computation reduction from downsampling & caching: 0.968889\n"
     ]
    },
    {
     "name": "stderr",
     "output_type": "stream",
     "text": [
      "Processing Frames:  51%|█████████████████████████████████████████████████████████▍                                                       | 203/399 [04:35<04:14,  1.30s/it]"
     ]
    },
    {
     "name": "stdout",
     "output_type": "stream",
     "text": [
      "Start frame: 109331\tEnd Frame: 109781\n",
      "Computation reduction from downsampling & caching: 0.968889\n"
     ]
    },
    {
     "name": "stderr",
     "output_type": "stream",
     "text": [
      "Processing Frames:  51%|█████████████████████████████████████████████████████████▊                                                       | 204/399 [04:36<04:17,  1.32s/it]"
     ]
    },
    {
     "name": "stdout",
     "output_type": "stream",
     "text": [
      "Start frame: 109781\tEnd Frame: 110231\n",
      "Computation reduction from downsampling & caching: 0.968889\n"
     ]
    },
    {
     "name": "stderr",
     "output_type": "stream",
     "text": [
      "Processing Frames:  51%|██████████████████████████████████████████████████████████                                                       | 205/399 [04:38<04:27,  1.38s/it]"
     ]
    },
    {
     "name": "stdout",
     "output_type": "stream",
     "text": [
      "Start frame: 110231\tEnd Frame: 110681\n",
      "Computation reduction from downsampling & caching: 0.968889\n"
     ]
    },
    {
     "name": "stderr",
     "output_type": "stream",
     "text": [
      "Processing Frames:  52%|██████████████████████████████████████████████████████████▎                                                      | 206/399 [04:39<04:27,  1.39s/it]"
     ]
    },
    {
     "name": "stdout",
     "output_type": "stream",
     "text": [
      "Start frame: 110681\tEnd Frame: 111131\n",
      "Computation reduction from downsampling & caching: 0.968889\n"
     ]
    },
    {
     "name": "stderr",
     "output_type": "stream",
     "text": [
      "Processing Frames:  52%|██████████████████████████████████████████████████████████▌                                                      | 207/399 [04:40<04:16,  1.33s/it]"
     ]
    },
    {
     "name": "stdout",
     "output_type": "stream",
     "text": [
      "Start frame: 111131\tEnd Frame: 111581\n",
      "Computation reduction from downsampling & caching: 0.968889\n"
     ]
    },
    {
     "name": "stderr",
     "output_type": "stream",
     "text": [
      "Processing Frames:  52%|██████████████████████████████████████████████████████████▉                                                      | 208/399 [04:42<04:38,  1.46s/it]"
     ]
    },
    {
     "name": "stdout",
     "output_type": "stream",
     "text": [
      "Start frame: 111581\tEnd Frame: 112031\n",
      "Computation reduction from downsampling & caching: 0.968889\n"
     ]
    },
    {
     "name": "stderr",
     "output_type": "stream",
     "text": [
      "Processing Frames:  52%|███████████████████████████████████████████████████████████▏                                                     | 209/399 [04:43<04:26,  1.40s/it]"
     ]
    },
    {
     "name": "stdout",
     "output_type": "stream",
     "text": [
      "Start frame: 112031\tEnd Frame: 112481\n",
      "Computation reduction from downsampling & caching: 0.968889\n"
     ]
    },
    {
     "name": "stderr",
     "output_type": "stream",
     "text": [
      "Processing Frames:  53%|███████████████████████████████████████████████████████████▍                                                     | 210/399 [04:45<04:37,  1.47s/it]"
     ]
    },
    {
     "name": "stdout",
     "output_type": "stream",
     "text": [
      "Start frame: 112481\tEnd Frame: 112931\n",
      "Computation reduction from downsampling & caching: 0.968889\n"
     ]
    },
    {
     "name": "stderr",
     "output_type": "stream",
     "text": [
      "Processing Frames:  53%|███████████████████████████████████████████████████████████▊                                                     | 211/399 [04:47<04:46,  1.52s/it]"
     ]
    },
    {
     "name": "stdout",
     "output_type": "stream",
     "text": [
      "Start frame: 112931\tEnd Frame: 113381\n",
      "Computation reduction from downsampling & caching: 0.968889\n"
     ]
    },
    {
     "name": "stderr",
     "output_type": "stream",
     "text": [
      "Processing Frames:  53%|████████████████████████████████████████████████████████████                                                     | 212/399 [04:49<05:02,  1.62s/it]"
     ]
    },
    {
     "name": "stdout",
     "output_type": "stream",
     "text": [
      "Start frame: 113381\tEnd Frame: 113831\n",
      "Computation reduction from downsampling & caching: 0.968889\n"
     ]
    },
    {
     "name": "stderr",
     "output_type": "stream",
     "text": [
      "Processing Frames:  53%|████████████████████████████████████████████████████████████▎                                                    | 213/399 [04:50<05:02,  1.62s/it]"
     ]
    },
    {
     "name": "stdout",
     "output_type": "stream",
     "text": [
      "Start frame: 113831\tEnd Frame: 114281\n",
      "Computation reduction from downsampling & caching: 0.968889\n"
     ]
    },
    {
     "name": "stderr",
     "output_type": "stream",
     "text": [
      "Processing Frames:  54%|████████████████████████████████████████████████████████████▌                                                    | 214/399 [04:52<05:27,  1.77s/it]"
     ]
    },
    {
     "name": "stdout",
     "output_type": "stream",
     "text": [
      "Start frame: 114281\tEnd Frame: 114731\n",
      "Computation reduction from downsampling & caching: 0.968889\n"
     ]
    },
    {
     "name": "stderr",
     "output_type": "stream",
     "text": [
      "Processing Frames:  54%|████████████████████████████████████████████████████████████▉                                                    | 215/399 [04:55<06:06,  1.99s/it]"
     ]
    },
    {
     "name": "stdout",
     "output_type": "stream",
     "text": [
      "Start frame: 114731\tEnd Frame: 115181\n",
      "Computation reduction from downsampling & caching: 0.968889\n"
     ]
    },
    {
     "name": "stderr",
     "output_type": "stream",
     "text": [
      "Processing Frames:  54%|█████████████████████████████████████████████████████████████▏                                                   | 216/399 [04:57<05:56,  1.95s/it]"
     ]
    },
    {
     "name": "stdout",
     "output_type": "stream",
     "text": [
      "Start frame: 115181\tEnd Frame: 115631\n",
      "Computation reduction from downsampling & caching: 0.968889\n"
     ]
    },
    {
     "name": "stderr",
     "output_type": "stream",
     "text": [
      "Processing Frames:  54%|█████████████████████████████████████████████████████████████▍                                                   | 217/399 [05:00<06:51,  2.26s/it]"
     ]
    },
    {
     "name": "stdout",
     "output_type": "stream",
     "text": [
      "Start frame: 115631\tEnd Frame: 116081\n",
      "Computation reduction from downsampling & caching: 0.968889\n"
     ]
    },
    {
     "name": "stderr",
     "output_type": "stream",
     "text": [
      "Processing Frames:  55%|█████████████████████████████████████████████████████████████▋                                                   | 218/399 [05:02<06:35,  2.19s/it]"
     ]
    },
    {
     "name": "stdout",
     "output_type": "stream",
     "text": [
      "Start frame: 116081\tEnd Frame: 116531\n",
      "Computation reduction from downsampling & caching: 0.968889\n"
     ]
    },
    {
     "name": "stderr",
     "output_type": "stream",
     "text": [
      "Processing Frames:  55%|██████████████████████████████████████████████████████████████                                                   | 219/399 [05:03<05:49,  1.94s/it]"
     ]
    },
    {
     "name": "stdout",
     "output_type": "stream",
     "text": [
      "Start frame: 116531\tEnd Frame: 116981\n",
      "Computation reduction from downsampling & caching: 0.968889\n"
     ]
    },
    {
     "name": "stderr",
     "output_type": "stream",
     "text": [
      "Processing Frames:  55%|██████████████████████████████████████████████████████████████▎                                                  | 220/399 [05:05<05:26,  1.83s/it]"
     ]
    },
    {
     "name": "stdout",
     "output_type": "stream",
     "text": [
      "Start frame: 116981\tEnd Frame: 117431\n",
      "Computation reduction from downsampling & caching: 0.968889\n"
     ]
    },
    {
     "name": "stderr",
     "output_type": "stream",
     "text": [
      "Processing Frames:  55%|██████████████████████████████████████████████████████████████▌                                                  | 221/399 [05:07<05:30,  1.86s/it]"
     ]
    },
    {
     "name": "stdout",
     "output_type": "stream",
     "text": [
      "Start frame: 117431\tEnd Frame: 117881\n",
      "Computation reduction from downsampling & caching: 0.968889\n"
     ]
    },
    {
     "name": "stderr",
     "output_type": "stream",
     "text": [
      "Processing Frames:  56%|██████████████████████████████████████████████████████████████▊                                                  | 222/399 [05:08<05:21,  1.82s/it]"
     ]
    },
    {
     "name": "stdout",
     "output_type": "stream",
     "text": [
      "Start frame: 117881\tEnd Frame: 118331\n",
      "Computation reduction from downsampling & caching: 0.968889\n"
     ]
    },
    {
     "name": "stderr",
     "output_type": "stream",
     "text": [
      "Processing Frames:  56%|███████████████████████████████████████████████████████████████▏                                                 | 223/399 [05:10<05:11,  1.77s/it]"
     ]
    },
    {
     "name": "stdout",
     "output_type": "stream",
     "text": [
      "Start frame: 118331\tEnd Frame: 118781\n",
      "Computation reduction from downsampling & caching: 0.968889\n"
     ]
    },
    {
     "name": "stderr",
     "output_type": "stream",
     "text": [
      "Processing Frames:  56%|███████████████████████████████████████████████████████████████▍                                                 | 224/399 [05:12<05:12,  1.78s/it]"
     ]
    },
    {
     "name": "stdout",
     "output_type": "stream",
     "text": [
      "Start frame: 118781\tEnd Frame: 119231\n",
      "Computation reduction from downsampling & caching: 0.968889\n"
     ]
    },
    {
     "name": "stderr",
     "output_type": "stream",
     "text": [
      "Processing Frames:  56%|███████████████████████████████████████████████████████████████▋                                                 | 225/399 [05:13<04:59,  1.72s/it]"
     ]
    },
    {
     "name": "stdout",
     "output_type": "stream",
     "text": [
      "Start frame: 119231\tEnd Frame: 119681\n",
      "Computation reduction from downsampling & caching: 0.968889\n"
     ]
    },
    {
     "name": "stderr",
     "output_type": "stream",
     "text": [
      "Processing Frames:  57%|████████████████████████████████████████████████████████████████                                                 | 226/399 [05:15<04:44,  1.64s/it]"
     ]
    },
    {
     "name": "stdout",
     "output_type": "stream",
     "text": [
      "Start frame: 119681\tEnd Frame: 120131\n",
      "Computation reduction from downsampling & caching: 0.968889\n"
     ]
    },
    {
     "name": "stderr",
     "output_type": "stream",
     "text": [
      "Processing Frames:  57%|████████████████████████████████████████████████████████████████▎                                                | 227/399 [05:17<04:55,  1.72s/it]"
     ]
    },
    {
     "name": "stdout",
     "output_type": "stream",
     "text": [
      "Start frame: 120131\tEnd Frame: 120581\n",
      "Computation reduction from downsampling & caching: 0.968889\n"
     ]
    },
    {
     "name": "stderr",
     "output_type": "stream",
     "text": [
      "Processing Frames:  57%|████████████████████████████████████████████████████████████████▌                                                | 228/399 [05:18<04:35,  1.61s/it]"
     ]
    },
    {
     "name": "stdout",
     "output_type": "stream",
     "text": [
      "Start frame: 120581\tEnd Frame: 121031\n",
      "Computation reduction from downsampling & caching: 0.968889\n"
     ]
    },
    {
     "name": "stderr",
     "output_type": "stream",
     "text": [
      "Processing Frames:  57%|████████████████████████████████████████████████████████████████▊                                                | 229/399 [05:19<04:19,  1.53s/it]"
     ]
    },
    {
     "name": "stdout",
     "output_type": "stream",
     "text": [
      "Start frame: 121031\tEnd Frame: 121481\n",
      "Computation reduction from downsampling & caching: 0.968889\n"
     ]
    },
    {
     "name": "stderr",
     "output_type": "stream",
     "text": [
      "Processing Frames:  58%|█████████████████████████████████████████████████████████████████▏                                               | 230/399 [05:21<04:35,  1.63s/it]"
     ]
    },
    {
     "name": "stdout",
     "output_type": "stream",
     "text": [
      "Start frame: 121481\tEnd Frame: 121931\n",
      "Computation reduction from downsampling & caching: 0.968889\n"
     ]
    },
    {
     "name": "stderr",
     "output_type": "stream",
     "text": [
      "Processing Frames:  58%|█████████████████████████████████████████████████████████████████▍                                               | 231/399 [05:23<04:55,  1.76s/it]"
     ]
    },
    {
     "name": "stdout",
     "output_type": "stream",
     "text": [
      "Start frame: 121931\tEnd Frame: 122381\n",
      "Computation reduction from downsampling & caching: 0.968889\n"
     ]
    },
    {
     "name": "stderr",
     "output_type": "stream",
     "text": [
      "Processing Frames:  58%|█████████████████████████████████████████████████████████████████▋                                               | 232/399 [05:25<05:06,  1.84s/it]"
     ]
    },
    {
     "name": "stdout",
     "output_type": "stream",
     "text": [
      "Start frame: 122381\tEnd Frame: 122831\n",
      "Computation reduction from downsampling & caching: 0.968889\n"
     ]
    },
    {
     "name": "stderr",
     "output_type": "stream",
     "text": [
      "Processing Frames:  58%|█████████████████████████████████████████████████████████████████▉                                               | 233/399 [05:27<05:21,  1.94s/it]"
     ]
    },
    {
     "name": "stdout",
     "output_type": "stream",
     "text": [
      "Start frame: 122831\tEnd Frame: 123281\n",
      "Computation reduction from downsampling & caching: 0.968889\n"
     ]
    },
    {
     "name": "stderr",
     "output_type": "stream",
     "text": [
      "Processing Frames:  59%|██████████████████████████████████████████████████████████████████▎                                              | 234/399 [05:29<05:12,  1.90s/it]"
     ]
    },
    {
     "name": "stdout",
     "output_type": "stream",
     "text": [
      "Start frame: 123281\tEnd Frame: 123731\n",
      "Computation reduction from downsampling & caching: 0.968889\n"
     ]
    },
    {
     "name": "stderr",
     "output_type": "stream",
     "text": [
      "Processing Frames:  59%|██████████████████████████████████████████████████████████████████▌                                              | 235/399 [05:31<05:04,  1.86s/it]"
     ]
    },
    {
     "name": "stdout",
     "output_type": "stream",
     "text": [
      "Start frame: 123731\tEnd Frame: 124181\n",
      "Computation reduction from downsampling & caching: 0.968889\n"
     ]
    },
    {
     "name": "stderr",
     "output_type": "stream",
     "text": [
      "Processing Frames:  59%|██████████████████████████████████████████████████████████████████▊                                              | 236/399 [05:33<05:09,  1.90s/it]"
     ]
    },
    {
     "name": "stdout",
     "output_type": "stream",
     "text": [
      "Start frame: 124181\tEnd Frame: 124631\n",
      "Computation reduction from downsampling & caching: 0.968889\n"
     ]
    },
    {
     "name": "stderr",
     "output_type": "stream",
     "text": [
      "Processing Frames:  59%|███████████████████████████████████████████████████████████████████                                              | 237/399 [05:34<04:33,  1.69s/it]"
     ]
    },
    {
     "name": "stdout",
     "output_type": "stream",
     "text": [
      "Start frame: 124631\tEnd Frame: 125081\n",
      "Computation reduction from downsampling & caching: 0.968889\n"
     ]
    },
    {
     "name": "stderr",
     "output_type": "stream",
     "text": [
      "Processing Frames:  60%|███████████████████████████████████████████████████████████████████▍                                             | 238/399 [05:36<04:46,  1.78s/it]"
     ]
    },
    {
     "name": "stdout",
     "output_type": "stream",
     "text": [
      "Start frame: 125081\tEnd Frame: 125531\n",
      "Computation reduction from downsampling & caching: 0.968889\n"
     ]
    },
    {
     "name": "stderr",
     "output_type": "stream",
     "text": [
      "Processing Frames:  60%|███████████████████████████████████████████████████████████████████▋                                             | 239/399 [05:38<04:26,  1.66s/it]"
     ]
    },
    {
     "name": "stdout",
     "output_type": "stream",
     "text": [
      "Start frame: 125531\tEnd Frame: 125981\n",
      "Computation reduction from downsampling & caching: 0.968889\n"
     ]
    },
    {
     "name": "stderr",
     "output_type": "stream",
     "text": [
      "Processing Frames:  60%|███████████████████████████████████████████████████████████████████▉                                             | 240/399 [05:39<04:06,  1.55s/it]"
     ]
    },
    {
     "name": "stdout",
     "output_type": "stream",
     "text": [
      "Start frame: 125981\tEnd Frame: 126431\n",
      "Computation reduction from downsampling & caching: 0.968889\n"
     ]
    },
    {
     "name": "stderr",
     "output_type": "stream",
     "text": [
      "Processing Frames:  60%|████████████████████████████████████████████████████████████████████▎                                            | 241/399 [05:40<03:49,  1.45s/it]"
     ]
    },
    {
     "name": "stdout",
     "output_type": "stream",
     "text": [
      "Start frame: 126431\tEnd Frame: 126881\n",
      "No faces detected by index; Skipping scene.\n",
      "Start frame: 126881\tEnd Frame: 127331\n",
      "No faces detected by index; Skipping scene.\n",
      "Start frame: 127331\tEnd Frame: 127781\n",
      "Computation reduction from downsampling & caching: 0.968889\n"
     ]
    },
    {
     "name": "stderr",
     "output_type": "stream",
     "text": [
      "Processing Frames:  61%|█████████████████████████████████████████████████████████████████████                                            | 244/399 [05:42<02:27,  1.05it/s]"
     ]
    },
    {
     "name": "stdout",
     "output_type": "stream",
     "text": [
      "Start frame: 127781\tEnd Frame: 128231\n",
      "Computation reduction from downsampling & caching: 0.968889\n"
     ]
    },
    {
     "name": "stderr",
     "output_type": "stream",
     "text": [
      "Processing Frames:  61%|█████████████████████████████████████████████████████████████████████▍                                           | 245/399 [05:43<02:35,  1.01s/it]"
     ]
    },
    {
     "name": "stdout",
     "output_type": "stream",
     "text": [
      "Start frame: 128231\tEnd Frame: 128681\n",
      "No faces detected by index; Skipping scene.\n",
      "Start frame: 128681\tEnd Frame: 129131\n",
      "No faces detected by index; Skipping scene.\n",
      "Start frame: 129131\tEnd Frame: 129581\n",
      "Computation reduction from downsampling & caching: 0.968889\n"
     ]
    },
    {
     "name": "stderr",
     "output_type": "stream",
     "text": [
      "Processing Frames:  62%|██████████████████████████████████████████████████████████████████████▏                                          | 248/399 [05:44<01:51,  1.35it/s]"
     ]
    },
    {
     "name": "stdout",
     "output_type": "stream",
     "text": [
      "Start frame: 129581\tEnd Frame: 130031\n",
      "Computation reduction from downsampling & caching: 0.968889\n"
     ]
    },
    {
     "name": "stderr",
     "output_type": "stream",
     "text": [
      "Processing Frames:  62%|██████████████████████████████████████████████████████████████████████▌                                          | 249/399 [05:46<02:09,  1.16it/s]"
     ]
    },
    {
     "name": "stdout",
     "output_type": "stream",
     "text": [
      "Start frame: 130031\tEnd Frame: 130481\n",
      "Computation reduction from downsampling & caching: 0.968889\n"
     ]
    },
    {
     "name": "stderr",
     "output_type": "stream",
     "text": [
      "Processing Frames:  63%|██████████████████████████████████████████████████████████████████████▊                                          | 250/399 [05:47<02:28,  1.00it/s]"
     ]
    },
    {
     "name": "stdout",
     "output_type": "stream",
     "text": [
      "Start frame: 130481\tEnd Frame: 130931\n",
      "Computation reduction from downsampling & caching: 0.968889\n"
     ]
    },
    {
     "name": "stderr",
     "output_type": "stream",
     "text": [
      "Processing Frames:  63%|███████████████████████████████████████████████████████████████████████                                          | 251/399 [05:49<02:39,  1.08s/it]"
     ]
    },
    {
     "name": "stdout",
     "output_type": "stream",
     "text": [
      "Start frame: 130931\tEnd Frame: 131381\n",
      "Computation reduction from downsampling & caching: 0.968889\n"
     ]
    },
    {
     "name": "stderr",
     "output_type": "stream",
     "text": [
      "Processing Frames:  63%|███████████████████████████████████████████████████████████████████████▎                                         | 252/399 [05:50<02:38,  1.08s/it]"
     ]
    },
    {
     "name": "stdout",
     "output_type": "stream",
     "text": [
      "Start frame: 131381\tEnd Frame: 131831\n",
      "Computation reduction from downsampling & caching: 0.968889\n"
     ]
    },
    {
     "name": "stderr",
     "output_type": "stream",
     "text": [
      "Processing Frames:  63%|███████████████████████████████████████████████████████████████████████▋                                         | 253/399 [05:51<02:43,  1.12s/it]"
     ]
    },
    {
     "name": "stdout",
     "output_type": "stream",
     "text": [
      "Start frame: 131831\tEnd Frame: 132281\n",
      "No faces detected by index; Skipping scene.\n",
      "Start frame: 132281\tEnd Frame: 132731\n",
      "No faces detected by index; Skipping scene.\n",
      "Start frame: 132731\tEnd Frame: 133181\n",
      "No faces detected by index; Skipping scene.\n",
      "Start frame: 133181\tEnd Frame: 133631\n",
      "No faces detected by index; Skipping scene.\n",
      "Start frame: 133631\tEnd Frame: 134081\n",
      "No faces detected by index; Skipping scene.\n",
      "Start frame: 134081\tEnd Frame: 134531\n",
      "No faces detected by index; Skipping scene.\n",
      "Start frame: 134531\tEnd Frame: 134981\n",
      "Computation reduction from downsampling & caching: 0.968889\n"
     ]
    },
    {
     "name": "stderr",
     "output_type": "stream",
     "text": [
      "Processing Frames:  65%|█████████████████████████████████████████████████████████████████████████▋                                       | 260/399 [05:52<00:59,  2.35it/s]"
     ]
    },
    {
     "name": "stdout",
     "output_type": "stream",
     "text": [
      "Start frame: 134981\tEnd Frame: 135431\n",
      "Computation reduction from downsampling & caching: 0.968889\n"
     ]
    },
    {
     "name": "stderr",
     "output_type": "stream",
     "text": [
      "Processing Frames:  65%|█████████████████████████████████████████████████████████████████████████▉                                       | 261/399 [05:54<01:16,  1.80it/s]"
     ]
    },
    {
     "name": "stdout",
     "output_type": "stream",
     "text": [
      "Start frame: 135431\tEnd Frame: 135881\n",
      "Computation reduction from downsampling & caching: 0.968889\n"
     ]
    },
    {
     "name": "stderr",
     "output_type": "stream",
     "text": [
      "Processing Frames:  66%|██████████████████████████████████████████████████████████████████████████▏                                      | 262/399 [05:55<01:39,  1.38it/s]"
     ]
    },
    {
     "name": "stdout",
     "output_type": "stream",
     "text": [
      "Start frame: 135881\tEnd Frame: 136331\n",
      "Computation reduction from downsampling & caching: 0.968889\n"
     ]
    },
    {
     "name": "stderr",
     "output_type": "stream",
     "text": [
      "Processing Frames:  66%|██████████████████████████████████████████████████████████████████████████▍                                      | 263/399 [05:56<01:49,  1.24it/s]"
     ]
    },
    {
     "name": "stdout",
     "output_type": "stream",
     "text": [
      "Start frame: 136331\tEnd Frame: 136781\n",
      "No faces detected by index; Skipping scene.\n",
      "Start frame: 136781\tEnd Frame: 137231\n",
      "Computation reduction from downsampling & caching: 0.968889\n"
     ]
    },
    {
     "name": "stderr",
     "output_type": "stream",
     "text": [
      "Processing Frames:  66%|███████████████████████████████████████████████████████████████████████████                                      | 265/399 [05:58<01:38,  1.35it/s]"
     ]
    },
    {
     "name": "stdout",
     "output_type": "stream",
     "text": [
      "Start frame: 137231\tEnd Frame: 137681\n",
      "Computation reduction from downsampling & caching: 0.968889\n"
     ]
    },
    {
     "name": "stderr",
     "output_type": "stream",
     "text": [
      "Processing Frames:  67%|███████████████████████████████████████████████████████████████████████████▎                                     | 266/399 [05:59<02:01,  1.10it/s]"
     ]
    },
    {
     "name": "stdout",
     "output_type": "stream",
     "text": [
      "Start frame: 137681\tEnd Frame: 138131\n",
      "Computation reduction from downsampling & caching: 0.968889\n"
     ]
    },
    {
     "name": "stderr",
     "output_type": "stream",
     "text": [
      "Processing Frames:  67%|███████████████████████████████████████████████████████████████████████████▌                                     | 267/399 [06:01<02:15,  1.02s/it]"
     ]
    },
    {
     "name": "stdout",
     "output_type": "stream",
     "text": [
      "Start frame: 138131\tEnd Frame: 138581\n",
      "Computation reduction from downsampling & caching: 0.968889\n"
     ]
    },
    {
     "name": "stderr",
     "output_type": "stream",
     "text": [
      "Processing Frames:  67%|███████████████████████████████████████████████████████████████████████████▉                                     | 268/399 [06:02<02:22,  1.09s/it]"
     ]
    },
    {
     "name": "stdout",
     "output_type": "stream",
     "text": [
      "Start frame: 138581\tEnd Frame: 139031\n",
      "Computation reduction from downsampling & caching: 0.968889\n"
     ]
    },
    {
     "name": "stderr",
     "output_type": "stream",
     "text": [
      "Processing Frames:  67%|████████████████████████████████████████████████████████████████████████████▏                                    | 269/399 [06:03<02:29,  1.15s/it]"
     ]
    },
    {
     "name": "stdout",
     "output_type": "stream",
     "text": [
      "Start frame: 139031\tEnd Frame: 139481\n",
      "Computation reduction from downsampling & caching: 0.968889\n"
     ]
    },
    {
     "name": "stderr",
     "output_type": "stream",
     "text": [
      "Processing Frames:  68%|████████████████████████████████████████████████████████████████████████████▍                                    | 270/399 [06:05<02:43,  1.27s/it]"
     ]
    },
    {
     "name": "stdout",
     "output_type": "stream",
     "text": [
      "Start frame: 139481\tEnd Frame: 139931\n",
      "Computation reduction from downsampling & caching: 0.968889\n"
     ]
    },
    {
     "name": "stderr",
     "output_type": "stream",
     "text": [
      "Processing Frames:  68%|████████████████████████████████████████████████████████████████████████████▋                                    | 271/399 [06:06<02:45,  1.29s/it]"
     ]
    },
    {
     "name": "stdout",
     "output_type": "stream",
     "text": [
      "Start frame: 139931\tEnd Frame: 140381\n",
      "Computation reduction from downsampling & caching: 0.968889\n"
     ]
    },
    {
     "name": "stderr",
     "output_type": "stream",
     "text": [
      "Processing Frames:  68%|█████████████████████████████████████████████████████████████████████████████                                    | 272/399 [06:08<02:48,  1.33s/it]"
     ]
    },
    {
     "name": "stdout",
     "output_type": "stream",
     "text": [
      "Start frame: 140381\tEnd Frame: 140831\n",
      "Computation reduction from downsampling & caching: 0.968889\n"
     ]
    },
    {
     "name": "stderr",
     "output_type": "stream",
     "text": [
      "Processing Frames:  68%|█████████████████████████████████████████████████████████████████████████████▎                                   | 273/399 [06:09<02:55,  1.39s/it]"
     ]
    },
    {
     "name": "stdout",
     "output_type": "stream",
     "text": [
      "Start frame: 140831\tEnd Frame: 141281\n",
      "Computation reduction from downsampling & caching: 0.968889\n"
     ]
    },
    {
     "name": "stderr",
     "output_type": "stream",
     "text": [
      "Processing Frames:  69%|█████████████████████████████████████████████████████████████████████████████▌                                   | 274/399 [06:11<02:55,  1.40s/it]"
     ]
    },
    {
     "name": "stdout",
     "output_type": "stream",
     "text": [
      "Start frame: 141281\tEnd Frame: 141731\n",
      "Computation reduction from downsampling & caching: 0.968889\n"
     ]
    },
    {
     "name": "stderr",
     "output_type": "stream",
     "text": [
      "Processing Frames:  69%|█████████████████████████████████████████████████████████████████████████████▉                                   | 275/399 [06:12<02:57,  1.43s/it]"
     ]
    },
    {
     "name": "stdout",
     "output_type": "stream",
     "text": [
      "Start frame: 141731\tEnd Frame: 142181\n",
      "Computation reduction from downsampling & caching: 0.968889\n"
     ]
    },
    {
     "name": "stderr",
     "output_type": "stream",
     "text": [
      "Processing Frames:  69%|██████████████████████████████████████████████████████████████████████████████▏                                  | 276/399 [06:14<02:59,  1.46s/it]"
     ]
    },
    {
     "name": "stdout",
     "output_type": "stream",
     "text": [
      "Start frame: 142181\tEnd Frame: 142631\n",
      "Computation reduction from downsampling & caching: 0.968889\n"
     ]
    },
    {
     "name": "stderr",
     "output_type": "stream",
     "text": [
      "Processing Frames:  69%|██████████████████████████████████████████████████████████████████████████████▍                                  | 277/399 [06:15<02:44,  1.35s/it]"
     ]
    },
    {
     "name": "stdout",
     "output_type": "stream",
     "text": [
      "Start frame: 142631\tEnd Frame: 143081\n",
      "Computation reduction from downsampling & caching: 0.968889\n"
     ]
    },
    {
     "name": "stderr",
     "output_type": "stream",
     "text": [
      "Processing Frames:  70%|██████████████████████████████████████████████████████████████████████████████▋                                  | 278/399 [06:16<02:37,  1.30s/it]"
     ]
    },
    {
     "name": "stdout",
     "output_type": "stream",
     "text": [
      "Start frame: 143081\tEnd Frame: 143531\n",
      "Computation reduction from downsampling & caching: 0.968889\n"
     ]
    },
    {
     "name": "stderr",
     "output_type": "stream",
     "text": [
      "Processing Frames:  70%|███████████████████████████████████████████████████████████████████████████████                                  | 279/399 [06:17<02:38,  1.32s/it]"
     ]
    },
    {
     "name": "stdout",
     "output_type": "stream",
     "text": [
      "Start frame: 143531\tEnd Frame: 143981\n",
      "Computation reduction from downsampling & caching: 0.968889\n"
     ]
    },
    {
     "name": "stderr",
     "output_type": "stream",
     "text": [
      "Processing Frames:  70%|███████████████████████████████████████████████████████████████████████████████▎                                 | 280/399 [06:19<02:36,  1.31s/it]"
     ]
    },
    {
     "name": "stdout",
     "output_type": "stream",
     "text": [
      "Start frame: 143981\tEnd Frame: 144431\n",
      "Computation reduction from downsampling & caching: 0.968889\n"
     ]
    },
    {
     "name": "stderr",
     "output_type": "stream",
     "text": [
      "Processing Frames:  70%|███████████████████████████████████████████████████████████████████████████████▌                                 | 281/399 [06:20<02:46,  1.41s/it]"
     ]
    },
    {
     "name": "stdout",
     "output_type": "stream",
     "text": [
      "Start frame: 144431\tEnd Frame: 144881\n",
      "Computation reduction from downsampling & caching: 0.968889\n"
     ]
    },
    {
     "name": "stderr",
     "output_type": "stream",
     "text": [
      "Processing Frames:  71%|███████████████████████████████████████████████████████████████████████████████▊                                 | 282/399 [06:22<02:57,  1.52s/it]"
     ]
    },
    {
     "name": "stdout",
     "output_type": "stream",
     "text": [
      "Start frame: 144881\tEnd Frame: 145331\n",
      "Computation reduction from downsampling & caching: 0.968889\n"
     ]
    },
    {
     "name": "stderr",
     "output_type": "stream",
     "text": [
      "Processing Frames:  71%|████████████████████████████████████████████████████████████████████████████████▏                                | 283/399 [06:24<03:05,  1.60s/it]"
     ]
    },
    {
     "name": "stdout",
     "output_type": "stream",
     "text": [
      "Start frame: 145331\tEnd Frame: 145781\n",
      "Computation reduction from downsampling & caching: 0.968889\n"
     ]
    },
    {
     "name": "stderr",
     "output_type": "stream",
     "text": [
      "Processing Frames:  71%|████████████████████████████████████████████████████████████████████████████████▍                                | 284/399 [06:25<02:58,  1.55s/it]"
     ]
    },
    {
     "name": "stdout",
     "output_type": "stream",
     "text": [
      "Start frame: 145781\tEnd Frame: 146231\n",
      "Computation reduction from downsampling & caching: 0.968889\n"
     ]
    },
    {
     "name": "stderr",
     "output_type": "stream",
     "text": [
      "Processing Frames:  71%|████████████████████████████████████████████████████████████████████████████████▋                                | 285/399 [06:26<02:47,  1.47s/it]"
     ]
    },
    {
     "name": "stdout",
     "output_type": "stream",
     "text": [
      "Start frame: 146231\tEnd Frame: 146681\n",
      "Computation reduction from downsampling & caching: 0.968889\n"
     ]
    },
    {
     "name": "stderr",
     "output_type": "stream",
     "text": [
      "Processing Frames:  72%|████████████████████████████████████████████████████████████████████████████████▉                                | 286/399 [06:28<02:41,  1.42s/it]"
     ]
    },
    {
     "name": "stdout",
     "output_type": "stream",
     "text": [
      "Start frame: 146681\tEnd Frame: 147131\n",
      "Computation reduction from downsampling & caching: 0.968889\n"
     ]
    },
    {
     "name": "stderr",
     "output_type": "stream",
     "text": [
      "Processing Frames:  72%|█████████████████████████████████████████████████████████████████████████████████▎                               | 287/399 [06:29<02:40,  1.43s/it]"
     ]
    },
    {
     "name": "stdout",
     "output_type": "stream",
     "text": [
      "Start frame: 147131\tEnd Frame: 147581\n",
      "Computation reduction from downsampling & caching: 0.968889\n"
     ]
    },
    {
     "name": "stderr",
     "output_type": "stream",
     "text": [
      "Processing Frames:  72%|█████████████████████████████████████████████████████████████████████████████████▌                               | 288/399 [06:30<02:30,  1.36s/it]"
     ]
    },
    {
     "name": "stdout",
     "output_type": "stream",
     "text": [
      "Start frame: 147581\tEnd Frame: 148031\n",
      "Computation reduction from downsampling & caching: 0.968889\n"
     ]
    },
    {
     "name": "stderr",
     "output_type": "stream",
     "text": [
      "Processing Frames:  72%|█████████████████████████████████████████████████████████████████████████████████▊                               | 289/399 [06:32<02:38,  1.44s/it]"
     ]
    },
    {
     "name": "stdout",
     "output_type": "stream",
     "text": [
      "Start frame: 148031\tEnd Frame: 148481\n",
      "Computation reduction from downsampling & caching: 0.968889\n"
     ]
    },
    {
     "name": "stderr",
     "output_type": "stream",
     "text": [
      "Processing Frames:  73%|██████████████████████████████████████████████████████████████████████████████████▏                              | 290/399 [06:34<02:45,  1.51s/it]"
     ]
    },
    {
     "name": "stdout",
     "output_type": "stream",
     "text": [
      "Start frame: 148481\tEnd Frame: 148931\n",
      "No faces detected by index; Skipping scene.\n",
      "Start frame: 148931\tEnd Frame: 149381\n",
      "Computation reduction from downsampling & caching: 0.968889\n"
     ]
    },
    {
     "name": "stderr",
     "output_type": "stream",
     "text": [
      "Processing Frames:  73%|██████████████████████████████████████████████████████████████████████████████████▋                              | 292/399 [06:35<01:56,  1.09s/it]"
     ]
    },
    {
     "name": "stdout",
     "output_type": "stream",
     "text": [
      "Start frame: 149381\tEnd Frame: 149831\n",
      "Computation reduction from downsampling & caching: 0.968889\n"
     ]
    },
    {
     "name": "stderr",
     "output_type": "stream",
     "text": [
      "Processing Frames:  73%|██████████████████████████████████████████████████████████████████████████████████▉                              | 293/399 [06:36<02:05,  1.18s/it]"
     ]
    },
    {
     "name": "stdout",
     "output_type": "stream",
     "text": [
      "Start frame: 149831\tEnd Frame: 150281\n",
      "Computation reduction from downsampling & caching: 0.968889\n"
     ]
    },
    {
     "name": "stderr",
     "output_type": "stream",
     "text": [
      "Processing Frames:  74%|███████████████████████████████████████████████████████████████████████████████████▎                             | 294/399 [06:38<02:12,  1.26s/it]"
     ]
    },
    {
     "name": "stdout",
     "output_type": "stream",
     "text": [
      "Start frame: 150281\tEnd Frame: 150731\n",
      "Computation reduction from downsampling & caching: 0.968889\n"
     ]
    },
    {
     "name": "stderr",
     "output_type": "stream",
     "text": [
      "Processing Frames:  74%|███████████████████████████████████████████████████████████████████████████████████▌                             | 295/399 [06:39<02:09,  1.24s/it]"
     ]
    },
    {
     "name": "stdout",
     "output_type": "stream",
     "text": [
      "Start frame: 150731\tEnd Frame: 151181\n",
      "Computation reduction from downsampling & caching: 0.968889\n"
     ]
    },
    {
     "name": "stderr",
     "output_type": "stream",
     "text": [
      "Processing Frames:  74%|███████████████████████████████████████████████████████████████████████████████████▊                             | 296/399 [06:40<02:13,  1.30s/it]"
     ]
    },
    {
     "name": "stdout",
     "output_type": "stream",
     "text": [
      "Start frame: 151181\tEnd Frame: 151631\n",
      "Computation reduction from downsampling & caching: 0.968889\n"
     ]
    },
    {
     "name": "stderr",
     "output_type": "stream",
     "text": [
      "Processing Frames:  74%|████████████████████████████████████████████████████████████████████████████████████                             | 297/399 [06:42<02:09,  1.27s/it]"
     ]
    },
    {
     "name": "stdout",
     "output_type": "stream",
     "text": [
      "Start frame: 151631\tEnd Frame: 152081\n",
      "Computation reduction from downsampling & caching: 0.968889\n"
     ]
    },
    {
     "name": "stderr",
     "output_type": "stream",
     "text": [
      "Processing Frames:  75%|████████████████████████████████████████████████████████████████████████████████████▍                            | 298/399 [06:43<02:13,  1.32s/it]"
     ]
    },
    {
     "name": "stdout",
     "output_type": "stream",
     "text": [
      "Start frame: 152081\tEnd Frame: 152531\n",
      "Computation reduction from downsampling & caching: 0.968889\n"
     ]
    },
    {
     "name": "stderr",
     "output_type": "stream",
     "text": [
      "Processing Frames:  75%|████████████████████████████████████████████████████████████████████████████████████▋                            | 299/399 [06:44<02:12,  1.33s/it]"
     ]
    },
    {
     "name": "stdout",
     "output_type": "stream",
     "text": [
      "Start frame: 152531\tEnd Frame: 152981\n",
      "Computation reduction from downsampling & caching: 0.968889\n"
     ]
    },
    {
     "name": "stderr",
     "output_type": "stream",
     "text": [
      "Processing Frames:  75%|████████████████████████████████████████████████████████████████████████████████████▉                            | 300/399 [06:46<02:05,  1.27s/it]"
     ]
    },
    {
     "name": "stdout",
     "output_type": "stream",
     "text": [
      "Start frame: 152981\tEnd Frame: 153431\n",
      "Computation reduction from downsampling & caching: 0.968889\n"
     ]
    },
    {
     "name": "stderr",
     "output_type": "stream",
     "text": [
      "Processing Frames:  75%|█████████████████████████████████████████████████████████████████████████████████████▏                           | 301/399 [06:47<02:02,  1.25s/it]"
     ]
    },
    {
     "name": "stdout",
     "output_type": "stream",
     "text": [
      "Start frame: 153431\tEnd Frame: 153881\n",
      "Computation reduction from downsampling & caching: 0.968889\n"
     ]
    },
    {
     "name": "stderr",
     "output_type": "stream",
     "text": [
      "Processing Frames:  76%|█████████████████████████████████████████████████████████████████████████████████████▌                           | 302/399 [06:48<01:58,  1.22s/it]"
     ]
    },
    {
     "name": "stdout",
     "output_type": "stream",
     "text": [
      "Start frame: 153881\tEnd Frame: 154331\n",
      "Computation reduction from downsampling & caching: 0.968889\n"
     ]
    },
    {
     "name": "stderr",
     "output_type": "stream",
     "text": [
      "Processing Frames:  76%|█████████████████████████████████████████████████████████████████████████████████████▊                           | 303/399 [06:49<02:04,  1.29s/it]"
     ]
    },
    {
     "name": "stdout",
     "output_type": "stream",
     "text": [
      "Start frame: 154331\tEnd Frame: 154781\n",
      "Computation reduction from downsampling & caching: 0.968889\n"
     ]
    },
    {
     "name": "stderr",
     "output_type": "stream",
     "text": [
      "Processing Frames:  76%|██████████████████████████████████████████████████████████████████████████████████████                           | 304/399 [06:51<02:01,  1.28s/it]"
     ]
    },
    {
     "name": "stdout",
     "output_type": "stream",
     "text": [
      "Start frame: 154781\tEnd Frame: 155231\n",
      "Computation reduction from downsampling & caching: 0.968889\n"
     ]
    },
    {
     "name": "stderr",
     "output_type": "stream",
     "text": [
      "Processing Frames:  76%|██████████████████████████████████████████████████████████████████████████████████████▍                          | 305/399 [06:52<01:58,  1.26s/it]"
     ]
    },
    {
     "name": "stdout",
     "output_type": "stream",
     "text": [
      "Start frame: 155231\tEnd Frame: 155681\n",
      "Computation reduction from downsampling & caching: 0.968889\n"
     ]
    },
    {
     "name": "stderr",
     "output_type": "stream",
     "text": [
      "Processing Frames:  77%|██████████████████████████████████████████████████████████████████████████████████████▋                          | 306/399 [06:53<01:54,  1.23s/it]"
     ]
    },
    {
     "name": "stdout",
     "output_type": "stream",
     "text": [
      "Start frame: 155681\tEnd Frame: 156131\n",
      "No faces detected by index; Skipping scene.\n",
      "Start frame: 156131\tEnd Frame: 156581\n",
      "Computation reduction from downsampling & caching: 0.968889\n"
     ]
    },
    {
     "name": "stderr",
     "output_type": "stream",
     "text": [
      "Processing Frames:  77%|███████████████████████████████████████████████████████████████████████████████████████▏                         | 308/399 [06:54<01:25,  1.06it/s]"
     ]
    },
    {
     "name": "stdout",
     "output_type": "stream",
     "text": [
      "Start frame: 156581\tEnd Frame: 157031\n",
      "Computation reduction from downsampling & caching: 0.968889\n"
     ]
    },
    {
     "name": "stderr",
     "output_type": "stream",
     "text": [
      "Processing Frames:  77%|███████████████████████████████████████████████████████████████████████████████████████▌                         | 309/399 [06:55<01:28,  1.02it/s]"
     ]
    },
    {
     "name": "stdout",
     "output_type": "stream",
     "text": [
      "Start frame: 157031\tEnd Frame: 157481\n",
      "Computation reduction from downsampling & caching: 0.968889\n"
     ]
    },
    {
     "name": "stderr",
     "output_type": "stream",
     "text": [
      "Processing Frames:  78%|███████████████████████████████████████████████████████████████████████████████████████▊                         | 310/399 [06:57<01:34,  1.07s/it]"
     ]
    },
    {
     "name": "stdout",
     "output_type": "stream",
     "text": [
      "Start frame: 157481\tEnd Frame: 157931\n",
      "Computation reduction from downsampling & caching: 0.968889\n"
     ]
    },
    {
     "name": "stderr",
     "output_type": "stream",
     "text": [
      "Processing Frames:  78%|████████████████████████████████████████████████████████████████████████████████████████                         | 311/399 [06:58<01:41,  1.15s/it]"
     ]
    },
    {
     "name": "stdout",
     "output_type": "stream",
     "text": [
      "Start frame: 157931\tEnd Frame: 158381\n",
      "Computation reduction from downsampling & caching: 0.968889\n"
     ]
    },
    {
     "name": "stderr",
     "output_type": "stream",
     "text": [
      "Processing Frames:  78%|████████████████████████████████████████████████████████████████████████████████████████▎                        | 312/399 [06:59<01:43,  1.19s/it]"
     ]
    },
    {
     "name": "stdout",
     "output_type": "stream",
     "text": [
      "Start frame: 158381\tEnd Frame: 158831\n",
      "Computation reduction from downsampling & caching: 0.968889\n"
     ]
    },
    {
     "name": "stderr",
     "output_type": "stream",
     "text": [
      "Processing Frames:  78%|████████████████████████████████████████████████████████████████████████████████████████▋                        | 313/399 [07:01<01:51,  1.30s/it]"
     ]
    },
    {
     "name": "stdout",
     "output_type": "stream",
     "text": [
      "Start frame: 158831\tEnd Frame: 159281\n",
      "Computation reduction from downsampling & caching: 0.968889\n"
     ]
    },
    {
     "name": "stderr",
     "output_type": "stream",
     "text": [
      "Processing Frames:  79%|████████████████████████████████████████████████████████████████████████████████████████▉                        | 314/399 [07:02<01:47,  1.27s/it]"
     ]
    },
    {
     "name": "stdout",
     "output_type": "stream",
     "text": [
      "Start frame: 159281\tEnd Frame: 159731\n",
      "Computation reduction from downsampling & caching: 0.968889\n"
     ]
    },
    {
     "name": "stderr",
     "output_type": "stream",
     "text": [
      "Processing Frames:  79%|█████████████████████████████████████████████████████████████████████████████████████████▏                       | 315/399 [07:03<01:44,  1.24s/it]"
     ]
    },
    {
     "name": "stdout",
     "output_type": "stream",
     "text": [
      "Start frame: 159731\tEnd Frame: 160181\n",
      "Computation reduction from downsampling & caching: 0.968889\n"
     ]
    },
    {
     "name": "stderr",
     "output_type": "stream",
     "text": [
      "Processing Frames:  79%|█████████████████████████████████████████████████████████████████████████████████████████▍                       | 316/399 [07:04<01:41,  1.22s/it]"
     ]
    },
    {
     "name": "stdout",
     "output_type": "stream",
     "text": [
      "Start frame: 160181\tEnd Frame: 160631\n",
      "Computation reduction from downsampling & caching: 0.968889\n"
     ]
    },
    {
     "name": "stderr",
     "output_type": "stream",
     "text": [
      "Processing Frames:  79%|█████████████████████████████████████████████████████████████████████████████████████████▊                       | 317/399 [07:06<01:44,  1.28s/it]"
     ]
    },
    {
     "name": "stdout",
     "output_type": "stream",
     "text": [
      "Start frame: 160631\tEnd Frame: 161081\n",
      "No faces detected by index; Skipping scene.\n",
      "Start frame: 161081\tEnd Frame: 161531\n",
      "Computation reduction from downsampling & caching: 0.968889\n"
     ]
    },
    {
     "name": "stderr",
     "output_type": "stream",
     "text": [
      "Processing Frames:  80%|██████████████████████████████████████████████████████████████████████████████████████████▎                      | 319/399 [07:07<01:17,  1.03it/s]"
     ]
    },
    {
     "name": "stdout",
     "output_type": "stream",
     "text": [
      "Start frame: 161531\tEnd Frame: 161981\n",
      "Computation reduction from downsampling & caching: 0.968889\n"
     ]
    },
    {
     "name": "stderr",
     "output_type": "stream",
     "text": [
      "Processing Frames:  80%|██████████████████████████████████████████████████████████████████████████████████████████▋                      | 320/399 [07:08<01:23,  1.06s/it]"
     ]
    },
    {
     "name": "stdout",
     "output_type": "stream",
     "text": [
      "Start frame: 161981\tEnd Frame: 162431\n",
      "No faces detected by index; Skipping scene.\n",
      "Start frame: 162431\tEnd Frame: 162881\n",
      "Computation reduction from downsampling & caching: 0.968889\n"
     ]
    },
    {
     "name": "stderr",
     "output_type": "stream",
     "text": [
      "Processing Frames:  81%|███████████████████████████████████████████████████████████████████████████████████████████▏                     | 322/399 [07:10<01:09,  1.11it/s]"
     ]
    },
    {
     "name": "stdout",
     "output_type": "stream",
     "text": [
      "Start frame: 162881\tEnd Frame: 163331\n",
      "Computation reduction from downsampling & caching: 0.968889\n"
     ]
    },
    {
     "name": "stderr",
     "output_type": "stream",
     "text": [
      "Processing Frames:  81%|███████████████████████████████████████████████████████████████████████████████████████████▍                     | 323/399 [07:11<01:18,  1.03s/it]"
     ]
    },
    {
     "name": "stdout",
     "output_type": "stream",
     "text": [
      "Start frame: 163331\tEnd Frame: 163781\n",
      "No faces detected by index; Skipping scene.\n",
      "Start frame: 163781\tEnd Frame: 164231\n",
      "Computation reduction from downsampling & caching: 0.968889\n"
     ]
    },
    {
     "name": "stderr",
     "output_type": "stream",
     "text": [
      "Processing Frames:  81%|████████████████████████████████████████████████████████████████████████████████████████████                     | 325/399 [07:12<01:03,  1.16it/s]"
     ]
    },
    {
     "name": "stdout",
     "output_type": "stream",
     "text": [
      "Start frame: 164231\tEnd Frame: 164681\n",
      "Computation reduction from downsampling & caching: 0.968889\n"
     ]
    },
    {
     "name": "stderr",
     "output_type": "stream",
     "text": [
      "Processing Frames:  82%|████████████████████████████████████████████████████████████████████████████████████████████▎                    | 326/399 [07:14<01:11,  1.02it/s]"
     ]
    },
    {
     "name": "stdout",
     "output_type": "stream",
     "text": [
      "Start frame: 164681\tEnd Frame: 165131\n",
      "Computation reduction from downsampling & caching: 0.968889\n"
     ]
    },
    {
     "name": "stderr",
     "output_type": "stream",
     "text": [
      "Processing Frames:  82%|████████████████████████████████████████████████████████████████████████████████████████████▌                    | 327/399 [07:15<01:17,  1.08s/it]"
     ]
    },
    {
     "name": "stdout",
     "output_type": "stream",
     "text": [
      "Start frame: 165131\tEnd Frame: 165581\n",
      "Computation reduction from downsampling & caching: 0.968889\n"
     ]
    },
    {
     "name": "stderr",
     "output_type": "stream",
     "text": [
      "Processing Frames:  82%|████████████████████████████████████████████████████████████████████████████████████████████▉                    | 328/399 [07:17<01:22,  1.16s/it]"
     ]
    },
    {
     "name": "stdout",
     "output_type": "stream",
     "text": [
      "Start frame: 165581\tEnd Frame: 166031\n",
      "Computation reduction from downsampling & caching: 0.968889\n"
     ]
    },
    {
     "name": "stderr",
     "output_type": "stream",
     "text": [
      "Processing Frames:  82%|█████████████████████████████████████████████████████████████████████████████████████████████▏                   | 329/399 [07:18<01:24,  1.21s/it]"
     ]
    },
    {
     "name": "stdout",
     "output_type": "stream",
     "text": [
      "Start frame: 166031\tEnd Frame: 166481\n",
      "Computation reduction from downsampling & caching: 0.968889\n"
     ]
    },
    {
     "name": "stderr",
     "output_type": "stream",
     "text": [
      "Processing Frames:  83%|█████████████████████████████████████████████████████████████████████████████████████████████▍                   | 330/399 [07:19<01:27,  1.27s/it]"
     ]
    },
    {
     "name": "stdout",
     "output_type": "stream",
     "text": [
      "Start frame: 166481\tEnd Frame: 166931\n",
      "Computation reduction from downsampling & caching: 0.968889\n"
     ]
    },
    {
     "name": "stderr",
     "output_type": "stream",
     "text": [
      "Processing Frames:  83%|█████████████████████████████████████████████████████████████████████████████████████████████▋                   | 331/399 [07:21<01:25,  1.25s/it]"
     ]
    },
    {
     "name": "stdout",
     "output_type": "stream",
     "text": [
      "Start frame: 166931\tEnd Frame: 167381\n",
      "Computation reduction from downsampling & caching: 0.968889\n"
     ]
    },
    {
     "name": "stderr",
     "output_type": "stream",
     "text": [
      "Processing Frames:  83%|██████████████████████████████████████████████████████████████████████████████████████████████                   | 332/399 [07:22<01:29,  1.33s/it]"
     ]
    },
    {
     "name": "stdout",
     "output_type": "stream",
     "text": [
      "Start frame: 167381\tEnd Frame: 167831\n",
      "Computation reduction from downsampling & caching: 0.968889\n"
     ]
    },
    {
     "name": "stderr",
     "output_type": "stream",
     "text": [
      "Processing Frames:  83%|██████████████████████████████████████████████████████████████████████████████████████████████▎                  | 333/399 [07:24<01:36,  1.46s/it]"
     ]
    },
    {
     "name": "stdout",
     "output_type": "stream",
     "text": [
      "Start frame: 167831\tEnd Frame: 168281\n",
      "Computation reduction from downsampling & caching: 0.968889\n"
     ]
    },
    {
     "name": "stderr",
     "output_type": "stream",
     "text": [
      "Processing Frames:  84%|██████████████████████████████████████████████████████████████████████████████████████████████▌                  | 334/399 [07:25<01:35,  1.47s/it]"
     ]
    },
    {
     "name": "stdout",
     "output_type": "stream",
     "text": [
      "Start frame: 168281\tEnd Frame: 168731\n",
      "No faces detected by index; Skipping scene.\n",
      "Start frame: 168731\tEnd Frame: 169181\n",
      "Computation reduction from downsampling & caching: 0.968889\n"
     ]
    },
    {
     "name": "stderr",
     "output_type": "stream",
     "text": [
      "Processing Frames:  84%|███████████████████████████████████████████████████████████████████████████████████████████████▏                 | 336/399 [07:27<01:10,  1.12s/it]"
     ]
    },
    {
     "name": "stdout",
     "output_type": "stream",
     "text": [
      "Start frame: 169181\tEnd Frame: 169631\n",
      "Computation reduction from downsampling & caching: 0.968889\n"
     ]
    },
    {
     "name": "stderr",
     "output_type": "stream",
     "text": [
      "Processing Frames:  84%|███████████████████████████████████████████████████████████████████████████████████████████████▍                 | 337/399 [07:28<01:16,  1.24s/it]"
     ]
    },
    {
     "name": "stdout",
     "output_type": "stream",
     "text": [
      "Start frame: 169631\tEnd Frame: 170081\n",
      "Computation reduction from downsampling & caching: 0.968889\n"
     ]
    },
    {
     "name": "stderr",
     "output_type": "stream",
     "text": [
      "Processing Frames:  85%|███████████████████████████████████████████████████████████████████████████████████████████████▋                 | 338/399 [07:30<01:21,  1.34s/it]"
     ]
    },
    {
     "name": "stdout",
     "output_type": "stream",
     "text": [
      "Start frame: 170081\tEnd Frame: 170531\n",
      "Computation reduction from downsampling & caching: 0.968889\n"
     ]
    },
    {
     "name": "stderr",
     "output_type": "stream",
     "text": [
      "Processing Frames:  85%|████████████████████████████████████████████████████████████████████████████████████████████████                 | 339/399 [07:32<01:27,  1.46s/it]"
     ]
    },
    {
     "name": "stdout",
     "output_type": "stream",
     "text": [
      "Start frame: 170531\tEnd Frame: 170981\n",
      "Computation reduction from downsampling & caching: 0.968889\n"
     ]
    },
    {
     "name": "stderr",
     "output_type": "stream",
     "text": [
      "Processing Frames:  85%|████████████████████████████████████████████████████████████████████████████████████████████████▎                | 340/399 [07:33<01:26,  1.47s/it]"
     ]
    },
    {
     "name": "stdout",
     "output_type": "stream",
     "text": [
      "Start frame: 170981\tEnd Frame: 171431\n",
      "No faces detected by index; Skipping scene.\n",
      "Start frame: 171431\tEnd Frame: 171881\n",
      "No faces detected by index; Skipping scene.\n",
      "Start frame: 171881\tEnd Frame: 172331\n",
      "No faces detected by index; Skipping scene.\n",
      "Start frame: 172331\tEnd Frame: 172781\n",
      "No faces detected by index; Skipping scene.\n",
      "Start frame: 172781\tEnd Frame: 173231\n",
      "Computation reduction from downsampling & caching: 0.968889\n"
     ]
    },
    {
     "name": "stderr",
     "output_type": "stream",
     "text": [
      "Processing Frames:  86%|█████████████████████████████████████████████████████████████████████████████████████████████████▋               | 345/399 [07:35<00:36,  1.46it/s]"
     ]
    },
    {
     "name": "stdout",
     "output_type": "stream",
     "text": [
      "Start frame: 173231\tEnd Frame: 173681\n",
      "Computation reduction from downsampling & caching: 0.968889\n"
     ]
    },
    {
     "name": "stderr",
     "output_type": "stream",
     "text": [
      "Processing Frames:  87%|█████████████████████████████████████████████████████████████████████████████████████████████████▉               | 346/399 [07:36<00:44,  1.19it/s]"
     ]
    },
    {
     "name": "stdout",
     "output_type": "stream",
     "text": [
      "Start frame: 173681\tEnd Frame: 174131\n",
      "Computation reduction from downsampling & caching: 0.968889\n"
     ]
    },
    {
     "name": "stderr",
     "output_type": "stream",
     "text": [
      "Processing Frames:  87%|██████████████████████████████████████████████████████████████████████████████████████████████████▎              | 347/399 [07:38<00:51,  1.01it/s]"
     ]
    },
    {
     "name": "stdout",
     "output_type": "stream",
     "text": [
      "Start frame: 174131\tEnd Frame: 174581\n",
      "Computation reduction from downsampling & caching: 0.968889\n"
     ]
    },
    {
     "name": "stderr",
     "output_type": "stream",
     "text": [
      "Processing Frames:  87%|██████████████████████████████████████████████████████████████████████████████████████████████████▌              | 348/399 [07:39<00:54,  1.08s/it]"
     ]
    },
    {
     "name": "stdout",
     "output_type": "stream",
     "text": [
      "Start frame: 174581\tEnd Frame: 175031\n",
      "No faces detected by index; Skipping scene.\n",
      "Start frame: 175031\tEnd Frame: 175481\n",
      "Computation reduction from downsampling & caching: 0.968889\n"
     ]
    },
    {
     "name": "stderr",
     "output_type": "stream",
     "text": [
      "Processing Frames:  88%|███████████████████████████████████████████████████████████████████████████████████████████████████              | 350/399 [07:41<00:46,  1.06it/s]"
     ]
    },
    {
     "name": "stdout",
     "output_type": "stream",
     "text": [
      "Start frame: 175481\tEnd Frame: 175931\n",
      "Computation reduction from downsampling & caching: 0.968889\n"
     ]
    },
    {
     "name": "stderr",
     "output_type": "stream",
     "text": [
      "Processing Frames:  88%|███████████████████████████████████████████████████████████████████████████████████████████████████▍             | 351/399 [07:42<00:50,  1.05s/it]"
     ]
    },
    {
     "name": "stdout",
     "output_type": "stream",
     "text": [
      "Start frame: 175931\tEnd Frame: 176381\n",
      "Computation reduction from downsampling & caching: 0.968889\n"
     ]
    },
    {
     "name": "stderr",
     "output_type": "stream",
     "text": [
      "Processing Frames:  88%|███████████████████████████████████████████████████████████████████████████████████████████████████▋             | 352/399 [07:44<00:52,  1.11s/it]"
     ]
    },
    {
     "name": "stdout",
     "output_type": "stream",
     "text": [
      "Start frame: 176381\tEnd Frame: 176831\n",
      "Computation reduction from downsampling & caching: 0.968889\n"
     ]
    },
    {
     "name": "stderr",
     "output_type": "stream",
     "text": [
      "Processing Frames:  88%|███████████████████████████████████████████████████████████████████████████████████████████████████▉             | 353/399 [07:45<00:52,  1.14s/it]"
     ]
    },
    {
     "name": "stdout",
     "output_type": "stream",
     "text": [
      "Start frame: 176831\tEnd Frame: 177281\n",
      "Computation reduction from downsampling & caching: 0.968889\n"
     ]
    },
    {
     "name": "stderr",
     "output_type": "stream",
     "text": [
      "Processing Frames:  89%|████████████████████████████████████████████████████████████████████████████████████████████████████▎            | 354/399 [07:46<00:51,  1.15s/it]"
     ]
    },
    {
     "name": "stdout",
     "output_type": "stream",
     "text": [
      "Start frame: 177281\tEnd Frame: 177731\n",
      "Computation reduction from downsampling & caching: 0.968889\n"
     ]
    },
    {
     "name": "stderr",
     "output_type": "stream",
     "text": [
      "Processing Frames:  89%|████████████████████████████████████████████████████████████████████████████████████████████████████▌            | 355/399 [07:47<00:51,  1.18s/it]"
     ]
    },
    {
     "name": "stdout",
     "output_type": "stream",
     "text": [
      "Start frame: 177731\tEnd Frame: 178181\n",
      "Computation reduction from downsampling & caching: 0.968889\n"
     ]
    },
    {
     "name": "stderr",
     "output_type": "stream",
     "text": [
      "Processing Frames:  89%|████████████████████████████████████████████████████████████████████████████████████████████████████▊            | 356/399 [07:49<00:52,  1.21s/it]"
     ]
    },
    {
     "name": "stdout",
     "output_type": "stream",
     "text": [
      "Start frame: 178181\tEnd Frame: 178631\n",
      "Computation reduction from downsampling & caching: 0.968889\n"
     ]
    },
    {
     "name": "stderr",
     "output_type": "stream",
     "text": [
      "Processing Frames:  89%|█████████████████████████████████████████████████████████████████████████████████████████████████████            | 357/399 [07:50<00:52,  1.25s/it]"
     ]
    },
    {
     "name": "stdout",
     "output_type": "stream",
     "text": [
      "Start frame: 178631\tEnd Frame: 179081\n",
      "Computation reduction from downsampling & caching: 0.968889\n"
     ]
    },
    {
     "name": "stderr",
     "output_type": "stream",
     "text": [
      "Processing Frames:  90%|█████████████████████████████████████████████████████████████████████████████████████████████████████▍           | 358/399 [07:51<00:51,  1.25s/it]"
     ]
    },
    {
     "name": "stdout",
     "output_type": "stream",
     "text": [
      "Start frame: 179081\tEnd Frame: 179531\n",
      "Computation reduction from downsampling & caching: 0.968889\n"
     ]
    },
    {
     "name": "stderr",
     "output_type": "stream",
     "text": [
      "Processing Frames:  90%|█████████████████████████████████████████████████████████████████████████████████████████████████████▋           | 359/399 [07:52<00:49,  1.23s/it]"
     ]
    },
    {
     "name": "stdout",
     "output_type": "stream",
     "text": [
      "Start frame: 179531\tEnd Frame: 179981\n",
      "Computation reduction from downsampling & caching: 0.968889\n"
     ]
    },
    {
     "name": "stderr",
     "output_type": "stream",
     "text": [
      "Processing Frames:  90%|█████████████████████████████████████████████████████████████████████████████████████████████████████▉           | 360/399 [07:54<00:54,  1.40s/it]"
     ]
    },
    {
     "name": "stdout",
     "output_type": "stream",
     "text": [
      "Start frame: 179981\tEnd Frame: 180431\n",
      "Computation reduction from downsampling & caching: 0.968889\n"
     ]
    },
    {
     "name": "stderr",
     "output_type": "stream",
     "text": [
      "Processing Frames:  90%|██████████████████████████████████████████████████████████████████████████████████████████████████████▏          | 361/399 [07:56<00:52,  1.39s/it]"
     ]
    },
    {
     "name": "stdout",
     "output_type": "stream",
     "text": [
      "Start frame: 180431\tEnd Frame: 180881\n",
      "Computation reduction from downsampling & caching: 0.968889\n"
     ]
    },
    {
     "name": "stderr",
     "output_type": "stream",
     "text": [
      "Processing Frames:  91%|██████████████████████████████████████████████████████████████████████████████████████████████████████▌          | 362/399 [07:57<00:50,  1.37s/it]"
     ]
    },
    {
     "name": "stdout",
     "output_type": "stream",
     "text": [
      "Start frame: 180881\tEnd Frame: 181331\n",
      "Computation reduction from downsampling & caching: 0.968889\n"
     ]
    },
    {
     "name": "stderr",
     "output_type": "stream",
     "text": [
      "Processing Frames:  91%|██████████████████████████████████████████████████████████████████████████████████████████████████████▊          | 363/399 [07:58<00:48,  1.34s/it]"
     ]
    },
    {
     "name": "stdout",
     "output_type": "stream",
     "text": [
      "Start frame: 181331\tEnd Frame: 181781\n",
      "Computation reduction from downsampling & caching: 0.968889\n"
     ]
    },
    {
     "name": "stderr",
     "output_type": "stream",
     "text": [
      "Processing Frames:  91%|███████████████████████████████████████████████████████████████████████████████████████████████████████          | 364/399 [08:00<00:47,  1.34s/it]"
     ]
    },
    {
     "name": "stdout",
     "output_type": "stream",
     "text": [
      "Start frame: 181781\tEnd Frame: 182231\n",
      "Computation reduction from downsampling & caching: 0.968889\n"
     ]
    },
    {
     "name": "stderr",
     "output_type": "stream",
     "text": [
      "Processing Frames:  91%|███████████████████████████████████████████████████████████████████████████████████████████████████████▎         | 365/399 [08:01<00:45,  1.33s/it]"
     ]
    },
    {
     "name": "stdout",
     "output_type": "stream",
     "text": [
      "Start frame: 182231\tEnd Frame: 182681\n",
      "Computation reduction from downsampling & caching: 0.968889\n"
     ]
    },
    {
     "name": "stderr",
     "output_type": "stream",
     "text": [
      "Processing Frames:  92%|███████████████████████████████████████████████████████████████████████████████████████████████████████▋         | 366/399 [08:02<00:41,  1.27s/it]"
     ]
    },
    {
     "name": "stdout",
     "output_type": "stream",
     "text": [
      "Start frame: 182681\tEnd Frame: 183131\n",
      "Computation reduction from downsampling & caching: 0.968889\n"
     ]
    },
    {
     "name": "stderr",
     "output_type": "stream",
     "text": [
      "Processing Frames:  92%|███████████████████████████████████████████████████████████████████████████████████████████████████████▉         | 367/399 [08:03<00:40,  1.28s/it]"
     ]
    },
    {
     "name": "stdout",
     "output_type": "stream",
     "text": [
      "Start frame: 183131\tEnd Frame: 183581\n",
      "Computation reduction from downsampling & caching: 0.968889\n"
     ]
    },
    {
     "name": "stderr",
     "output_type": "stream",
     "text": [
      "Processing Frames:  92%|████████████████████████████████████████████████████████████████████████████████████████████████████████▏        | 368/399 [08:05<00:44,  1.44s/it]"
     ]
    },
    {
     "name": "stdout",
     "output_type": "stream",
     "text": [
      "Start frame: 183581\tEnd Frame: 184031\n",
      "Computation reduction from downsampling & caching: 0.968889\n"
     ]
    },
    {
     "name": "stderr",
     "output_type": "stream",
     "text": [
      "Processing Frames:  92%|████████████████████████████████████████████████████████████████████████████████████████████████████████▌        | 369/399 [08:06<00:42,  1.42s/it]"
     ]
    },
    {
     "name": "stdout",
     "output_type": "stream",
     "text": [
      "Start frame: 184031\tEnd Frame: 184481\n",
      "Computation reduction from downsampling & caching: 0.968889\n"
     ]
    },
    {
     "name": "stderr",
     "output_type": "stream",
     "text": [
      "Processing Frames:  93%|████████████████████████████████████████████████████████████████████████████████████████████████████████▊        | 370/399 [08:08<00:40,  1.38s/it]"
     ]
    },
    {
     "name": "stdout",
     "output_type": "stream",
     "text": [
      "Start frame: 184481\tEnd Frame: 184931\n",
      "Computation reduction from downsampling & caching: 0.968889\n"
     ]
    },
    {
     "name": "stderr",
     "output_type": "stream",
     "text": [
      "Processing Frames:  93%|█████████████████████████████████████████████████████████████████████████████████████████████████████████        | 371/399 [08:09<00:40,  1.46s/it]"
     ]
    },
    {
     "name": "stdout",
     "output_type": "stream",
     "text": [
      "Start frame: 184931\tEnd Frame: 185381\n",
      "Computation reduction from downsampling & caching: 0.968889\n"
     ]
    },
    {
     "name": "stderr",
     "output_type": "stream",
     "text": [
      "Processing Frames:  93%|█████████████████████████████████████████████████████████████████████████████████████████████████████████▎       | 372/399 [08:11<00:38,  1.42s/it]"
     ]
    },
    {
     "name": "stdout",
     "output_type": "stream",
     "text": [
      "Start frame: 185381\tEnd Frame: 185831\n",
      "Computation reduction from downsampling & caching: 0.968889\n"
     ]
    },
    {
     "name": "stderr",
     "output_type": "stream",
     "text": [
      "Processing Frames:  93%|█████████████████████████████████████████████████████████████████████████████████████████████████████████▋       | 373/399 [08:12<00:35,  1.36s/it]"
     ]
    },
    {
     "name": "stdout",
     "output_type": "stream",
     "text": [
      "Start frame: 185831\tEnd Frame: 186281\n",
      "Computation reduction from downsampling & caching: 0.968889\n"
     ]
    },
    {
     "name": "stderr",
     "output_type": "stream",
     "text": [
      "Processing Frames:  94%|█████████████████████████████████████████████████████████████████████████████████████████████████████████▉       | 374/399 [08:13<00:34,  1.40s/it]"
     ]
    },
    {
     "name": "stdout",
     "output_type": "stream",
     "text": [
      "Start frame: 186281\tEnd Frame: 186731\n",
      "Computation reduction from downsampling & caching: 0.968889\n"
     ]
    },
    {
     "name": "stderr",
     "output_type": "stream",
     "text": [
      "Processing Frames:  94%|██████████████████████████████████████████████████████████████████████████████████████████████████████████▏      | 375/399 [08:15<00:33,  1.41s/it]"
     ]
    },
    {
     "name": "stdout",
     "output_type": "stream",
     "text": [
      "Start frame: 186731\tEnd Frame: 187181\n",
      "No faces detected by index; Skipping scene.\n",
      "Start frame: 187181\tEnd Frame: 187631\n",
      "Computation reduction from downsampling & caching: 0.968889\n"
     ]
    },
    {
     "name": "stderr",
     "output_type": "stream",
     "text": [
      "Processing Frames:  94%|██████████████████████████████████████████████████████████████████████████████████████████████████████████▊      | 377/399 [08:16<00:23,  1.08s/it]"
     ]
    },
    {
     "name": "stdout",
     "output_type": "stream",
     "text": [
      "Start frame: 187631\tEnd Frame: 188081\n",
      "Computation reduction from downsampling & caching: 0.968889\n"
     ]
    },
    {
     "name": "stderr",
     "output_type": "stream",
     "text": [
      "Processing Frames:  95%|███████████████████████████████████████████████████████████████████████████████████████████████████████████      | 378/399 [08:17<00:22,  1.06s/it]"
     ]
    },
    {
     "name": "stdout",
     "output_type": "stream",
     "text": [
      "Start frame: 188081\tEnd Frame: 188531\n",
      "Computation reduction from downsampling & caching: 0.968889\n"
     ]
    },
    {
     "name": "stderr",
     "output_type": "stream",
     "text": [
      "Processing Frames:  95%|███████████████████████████████████████████████████████████████████████████████████████████████████████████▎     | 379/399 [08:19<00:24,  1.22s/it]"
     ]
    },
    {
     "name": "stdout",
     "output_type": "stream",
     "text": [
      "Start frame: 188531\tEnd Frame: 188981\n",
      "Computation reduction from downsampling & caching: 0.968889\n"
     ]
    },
    {
     "name": "stderr",
     "output_type": "stream",
     "text": [
      "Processing Frames:  95%|███████████████████████████████████████████████████████████████████████████████████████████████████████████▌     | 380/399 [08:20<00:22,  1.21s/it]"
     ]
    },
    {
     "name": "stdout",
     "output_type": "stream",
     "text": [
      "Start frame: 188981\tEnd Frame: 189431\n",
      "Computation reduction from downsampling & caching: 0.968889\n"
     ]
    },
    {
     "name": "stderr",
     "output_type": "stream",
     "text": [
      "Processing Frames:  95%|███████████████████████████████████████████████████████████████████████████████████████████████████████████▉     | 381/399 [08:22<00:23,  1.32s/it]"
     ]
    },
    {
     "name": "stdout",
     "output_type": "stream",
     "text": [
      "Start frame: 189431\tEnd Frame: 189881\n",
      "Computation reduction from downsampling & caching: 0.968889\n"
     ]
    },
    {
     "name": "stderr",
     "output_type": "stream",
     "text": [
      "Processing Frames:  96%|████████████████████████████████████████████████████████████████████████████████████████████████████████████▏    | 382/399 [08:23<00:24,  1.42s/it]"
     ]
    },
    {
     "name": "stdout",
     "output_type": "stream",
     "text": [
      "Start frame: 189881\tEnd Frame: 190331\n",
      "Computation reduction from downsampling & caching: 0.968889\n"
     ]
    },
    {
     "name": "stderr",
     "output_type": "stream",
     "text": [
      "Processing Frames:  96%|████████████████████████████████████████████████████████████████████████████████████████████████████████████▍    | 383/399 [08:25<00:24,  1.51s/it]"
     ]
    },
    {
     "name": "stdout",
     "output_type": "stream",
     "text": [
      "Start frame: 190331\tEnd Frame: 190781\n",
      "Computation reduction from downsampling & caching: 0.968889\n"
     ]
    },
    {
     "name": "stderr",
     "output_type": "stream",
     "text": [
      "Processing Frames:  96%|████████████████████████████████████████████████████████████████████████████████████████████████████████████▊    | 384/399 [08:27<00:23,  1.55s/it]"
     ]
    },
    {
     "name": "stdout",
     "output_type": "stream",
     "text": [
      "Start frame: 190781\tEnd Frame: 191231\n",
      "Computation reduction from downsampling & caching: 0.968889\n"
     ]
    },
    {
     "name": "stderr",
     "output_type": "stream",
     "text": [
      "Processing Frames:  96%|█████████████████████████████████████████████████████████████████████████████████████████████████████████████    | 385/399 [08:28<00:21,  1.51s/it]"
     ]
    },
    {
     "name": "stdout",
     "output_type": "stream",
     "text": [
      "Start frame: 191231\tEnd Frame: 191681\n",
      "Computation reduction from downsampling & caching: 0.968889\n"
     ]
    },
    {
     "name": "stderr",
     "output_type": "stream",
     "text": [
      "Processing Frames:  97%|█████████████████████████████████████████████████████████████████████████████████████████████████████████████▎   | 386/399 [08:29<00:17,  1.38s/it]"
     ]
    },
    {
     "name": "stdout",
     "output_type": "stream",
     "text": [
      "Start frame: 191681\tEnd Frame: 192131\n",
      "Computation reduction from downsampling & caching: 0.968889\n"
     ]
    },
    {
     "name": "stderr",
     "output_type": "stream",
     "text": [
      "Processing Frames:  97%|█████████████████████████████████████████████████████████████████████████████████████████████████████████████▌   | 387/399 [08:30<00:15,  1.30s/it]"
     ]
    },
    {
     "name": "stdout",
     "output_type": "stream",
     "text": [
      "Start frame: 192131\tEnd Frame: 192581\n",
      "Computation reduction from downsampling & caching: 0.968889\n"
     ]
    },
    {
     "name": "stderr",
     "output_type": "stream",
     "text": [
      "Processing Frames:  97%|█████████████████████████████████████████████████████████████████████████████████████████████████████████████▉   | 388/399 [08:32<00:14,  1.36s/it]"
     ]
    },
    {
     "name": "stdout",
     "output_type": "stream",
     "text": [
      "Start frame: 192581\tEnd Frame: 193031\n",
      "Computation reduction from downsampling & caching: 0.968889\n"
     ]
    },
    {
     "name": "stderr",
     "output_type": "stream",
     "text": [
      "Processing Frames:  97%|██████████████████████████████████████████████████████████████████████████████████████████████████████████████▏  | 389/399 [08:33<00:12,  1.27s/it]"
     ]
    },
    {
     "name": "stdout",
     "output_type": "stream",
     "text": [
      "Start frame: 193031\tEnd Frame: 193481\n",
      "Computation reduction from downsampling & caching: 0.968889\n"
     ]
    },
    {
     "name": "stderr",
     "output_type": "stream",
     "text": [
      "Processing Frames:  98%|██████████████████████████████████████████████████████████████████████████████████████████████████████████████▍  | 390/399 [08:34<00:12,  1.34s/it]"
     ]
    },
    {
     "name": "stdout",
     "output_type": "stream",
     "text": [
      "Start frame: 193481\tEnd Frame: 193931\n",
      "Computation reduction from downsampling & caching: 0.968889\n"
     ]
    },
    {
     "name": "stderr",
     "output_type": "stream",
     "text": [
      "Processing Frames: 100%|█████████████████████████████████████████████████████████████████████████████████████████████████████████████████| 399/399 [08:36<00:00,  1.29s/it]\n"
     ]
    },
    {
     "name": "stdout",
     "output_type": "stream",
     "text": [
      "Start frame: 193931\tEnd Frame: 194381\n",
      "No faces detected by index; Skipping scene.\n",
      "Start frame: 194381\tEnd Frame: 194831\n",
      "No faces detected by index; Skipping scene.\n",
      "Start frame: 194831\tEnd Frame: 195281\n",
      "No faces detected by index; Skipping scene.\n",
      "Start frame: 195281\tEnd Frame: 195731\n",
      "No faces detected by index; Skipping scene.\n",
      "Start frame: 195731\tEnd Frame: 196181\n",
      "No faces detected by index; Skipping scene.\n",
      "Start frame: 196181\tEnd Frame: 196631\n",
      "No faces detected by index; Skipping scene.\n",
      "Start frame: 196631\tEnd Frame: 197081\n",
      "No faces detected by index; Skipping scene.\n",
      "Start frame: 197081\tEnd Frame: 197531\n",
      "No faces detected by index; Skipping scene.\n",
      "Now Processing: Kronos\n",
      "Starting from minute 10, processing up to minute 78.211445\n",
      "Building num_faces index of frames from every 15 seconds\n"
     ]
    },
    {
     "name": "stderr",
     "output_type": "stream",
     "text": [
      "Building Index: 100%|████████████████████████████████████████████████████████████████████████████████████████████████████████████████████| 273/273 [00:25<00:00, 10.80it/s]\n"
     ]
    },
    {
     "name": "stdout",
     "output_type": "stream",
     "text": [
      "Processing facial scenes\n"
     ]
    },
    {
     "name": "stderr",
     "output_type": "stream",
     "text": [
      "Processing Frames:   0%|                                                                                                                           | 0/272 [00:00<?, ?it/s]"
     ]
    },
    {
     "name": "stdout",
     "output_type": "stream",
     "text": [
      "Start frame: 14385\tEnd Frame: 14745\n",
      "No faces detected by index; Skipping scene.\n",
      "Start frame: 14745\tEnd Frame: 15105\n",
      "Computation reduction from downsampling & caching: 0.969444\n"
     ]
    },
    {
     "name": "stderr",
     "output_type": "stream",
     "text": [
      "Processing Frames:   1%|▊                                                                                                                  | 2/272 [00:00<02:01,  2.22it/s]"
     ]
    },
    {
     "name": "stdout",
     "output_type": "stream",
     "text": [
      "Start frame: 15105\tEnd Frame: 15465\n",
      "Computation reduction from downsampling & caching: 0.969444\n"
     ]
    },
    {
     "name": "stderr",
     "output_type": "stream",
     "text": [
      "Processing Frames:   1%|█▎                                                                                                                 | 3/272 [00:01<02:54,  1.55it/s]"
     ]
    },
    {
     "name": "stdout",
     "output_type": "stream",
     "text": [
      "Start frame: 15465\tEnd Frame: 15825\n",
      "Computation reduction from downsampling & caching: 0.969444\n"
     ]
    },
    {
     "name": "stderr",
     "output_type": "stream",
     "text": [
      "Processing Frames:   1%|█▋                                                                                                                 | 4/272 [00:02<03:20,  1.34it/s]"
     ]
    },
    {
     "name": "stdout",
     "output_type": "stream",
     "text": [
      "Start frame: 15825\tEnd Frame: 16185\n",
      "Computation reduction from downsampling & caching: 0.969444\n"
     ]
    },
    {
     "name": "stderr",
     "output_type": "stream",
     "text": [
      "Processing Frames:   2%|██                                                                                                                 | 5/272 [00:03<03:59,  1.11it/s]"
     ]
    },
    {
     "name": "stdout",
     "output_type": "stream",
     "text": [
      "Start frame: 16185\tEnd Frame: 16545\n",
      "Computation reduction from downsampling & caching: 0.969444\n"
     ]
    },
    {
     "name": "stderr",
     "output_type": "stream",
     "text": [
      "Processing Frames:   2%|██▌                                                                                                                | 6/272 [00:05<04:25,  1.00it/s]"
     ]
    },
    {
     "name": "stdout",
     "output_type": "stream",
     "text": [
      "Start frame: 16545\tEnd Frame: 16905\n",
      "Computation reduction from downsampling & caching: 0.969444\n"
     ]
    },
    {
     "name": "stderr",
     "output_type": "stream",
     "text": [
      "Processing Frames:   3%|██▉                                                                                                                | 7/272 [00:06<04:25,  1.00s/it]"
     ]
    },
    {
     "name": "stdout",
     "output_type": "stream",
     "text": [
      "Start frame: 16905\tEnd Frame: 17265\n",
      "Computation reduction from downsampling & caching: 0.969444\n"
     ]
    },
    {
     "name": "stderr",
     "output_type": "stream",
     "text": [
      "Processing Frames:   3%|███▍                                                                                                               | 8/272 [00:07<04:49,  1.10s/it]"
     ]
    },
    {
     "name": "stdout",
     "output_type": "stream",
     "text": [
      "Start frame: 17265\tEnd Frame: 17625\n",
      "Computation reduction from downsampling & caching: 0.969444\n"
     ]
    },
    {
     "name": "stderr",
     "output_type": "stream",
     "text": [
      "Processing Frames:   3%|███▊                                                                                                               | 9/272 [00:08<04:35,  1.05s/it]"
     ]
    },
    {
     "name": "stdout",
     "output_type": "stream",
     "text": [
      "Start frame: 17625\tEnd Frame: 17985\n",
      "Computation reduction from downsampling & caching: 0.969444\n"
     ]
    },
    {
     "name": "stderr",
     "output_type": "stream",
     "text": [
      "Processing Frames:   4%|████▏                                                                                                             | 10/272 [00:09<04:47,  1.10s/it]"
     ]
    },
    {
     "name": "stdout",
     "output_type": "stream",
     "text": [
      "Start frame: 17985\tEnd Frame: 18345\n",
      "Computation reduction from downsampling & caching: 0.969444\n"
     ]
    },
    {
     "name": "stderr",
     "output_type": "stream",
     "text": [
      "Processing Frames:   4%|████▌                                                                                                             | 11/272 [00:10<04:39,  1.07s/it]"
     ]
    },
    {
     "name": "stdout",
     "output_type": "stream",
     "text": [
      "Start frame: 18345\tEnd Frame: 18705\n",
      "Computation reduction from downsampling & caching: 0.969444\n"
     ]
    },
    {
     "name": "stderr",
     "output_type": "stream",
     "text": [
      "Processing Frames:   4%|█████                                                                                                             | 12/272 [00:12<05:06,  1.18s/it]"
     ]
    },
    {
     "name": "stdout",
     "output_type": "stream",
     "text": [
      "Start frame: 18705\tEnd Frame: 19065\n",
      "Computation reduction from downsampling & caching: 0.969444\n"
     ]
    },
    {
     "name": "stderr",
     "output_type": "stream",
     "text": [
      "Processing Frames:   5%|█████▍                                                                                                            | 13/272 [00:13<05:11,  1.20s/it]"
     ]
    },
    {
     "name": "stdout",
     "output_type": "stream",
     "text": [
      "Start frame: 19065\tEnd Frame: 19425\n",
      "Computation reduction from downsampling & caching: 0.969444\n"
     ]
    },
    {
     "name": "stderr",
     "output_type": "stream",
     "text": [
      "Processing Frames:   5%|█████▊                                                                                                            | 14/272 [00:14<05:22,  1.25s/it]"
     ]
    },
    {
     "name": "stdout",
     "output_type": "stream",
     "text": [
      "Start frame: 19425\tEnd Frame: 19785\n",
      "Computation reduction from downsampling & caching: 0.969444\n"
     ]
    },
    {
     "name": "stderr",
     "output_type": "stream",
     "text": [
      "Processing Frames:   6%|██████▎                                                                                                           | 15/272 [00:15<05:29,  1.28s/it]"
     ]
    },
    {
     "name": "stdout",
     "output_type": "stream",
     "text": [
      "Start frame: 19785\tEnd Frame: 20145\n",
      "Computation reduction from downsampling & caching: 0.969444\n"
     ]
    },
    {
     "name": "stderr",
     "output_type": "stream",
     "text": [
      "Processing Frames:   6%|██████▋                                                                                                           | 16/272 [00:17<05:39,  1.33s/it]"
     ]
    },
    {
     "name": "stdout",
     "output_type": "stream",
     "text": [
      "Start frame: 20145\tEnd Frame: 20505\n",
      "Computation reduction from downsampling & caching: 0.969444\n"
     ]
    },
    {
     "name": "stderr",
     "output_type": "stream",
     "text": [
      "Processing Frames:   6%|███████▏                                                                                                          | 17/272 [00:18<05:24,  1.27s/it]"
     ]
    },
    {
     "name": "stdout",
     "output_type": "stream",
     "text": [
      "Start frame: 20505\tEnd Frame: 20865\n",
      "Computation reduction from downsampling & caching: 0.969444\n"
     ]
    },
    {
     "name": "stderr",
     "output_type": "stream",
     "text": [
      "Processing Frames:   7%|███████▌                                                                                                          | 18/272 [00:19<05:12,  1.23s/it]"
     ]
    },
    {
     "name": "stdout",
     "output_type": "stream",
     "text": [
      "Start frame: 20865\tEnd Frame: 21225\n",
      "Computation reduction from downsampling & caching: 0.969444\n"
     ]
    },
    {
     "name": "stderr",
     "output_type": "stream",
     "text": [
      "Processing Frames:   7%|███████▉                                                                                                          | 19/272 [00:20<05:07,  1.22s/it]"
     ]
    },
    {
     "name": "stdout",
     "output_type": "stream",
     "text": [
      "Start frame: 21225\tEnd Frame: 21585\n",
      "Computation reduction from downsampling & caching: 0.969444\n"
     ]
    },
    {
     "name": "stderr",
     "output_type": "stream",
     "text": [
      "Processing Frames:   7%|████████▍                                                                                                         | 20/272 [00:22<05:11,  1.24s/it]"
     ]
    },
    {
     "name": "stdout",
     "output_type": "stream",
     "text": [
      "Start frame: 21585\tEnd Frame: 21945\n",
      "Computation reduction from downsampling & caching: 0.969444\n"
     ]
    },
    {
     "name": "stderr",
     "output_type": "stream",
     "text": [
      "Processing Frames:   8%|████████▊                                                                                                         | 21/272 [00:23<05:13,  1.25s/it]"
     ]
    },
    {
     "name": "stdout",
     "output_type": "stream",
     "text": [
      "Start frame: 21945\tEnd Frame: 22305\n",
      "Computation reduction from downsampling & caching: 0.969444\n"
     ]
    },
    {
     "name": "stderr",
     "output_type": "stream",
     "text": [
      "Processing Frames:   8%|█████████▏                                                                                                        | 22/272 [00:24<05:01,  1.21s/it]"
     ]
    },
    {
     "name": "stdout",
     "output_type": "stream",
     "text": [
      "Start frame: 22305\tEnd Frame: 22665\n",
      "Computation reduction from downsampling & caching: 0.969444\n"
     ]
    },
    {
     "name": "stderr",
     "output_type": "stream",
     "text": [
      "Processing Frames:   8%|█████████▋                                                                                                        | 23/272 [00:25<04:44,  1.14s/it]"
     ]
    },
    {
     "name": "stdout",
     "output_type": "stream",
     "text": [
      "Start frame: 22665\tEnd Frame: 23025\n",
      "Computation reduction from downsampling & caching: 0.969444\n"
     ]
    },
    {
     "name": "stderr",
     "output_type": "stream",
     "text": [
      "Processing Frames:   9%|██████████                                                                                                        | 24/272 [00:26<04:37,  1.12s/it]"
     ]
    },
    {
     "name": "stdout",
     "output_type": "stream",
     "text": [
      "Start frame: 23025\tEnd Frame: 23385\n",
      "Computation reduction from downsampling & caching: 0.969444\n"
     ]
    },
    {
     "name": "stderr",
     "output_type": "stream",
     "text": [
      "Processing Frames:   9%|██████████▍                                                                                                       | 25/272 [00:27<04:42,  1.14s/it]"
     ]
    },
    {
     "name": "stdout",
     "output_type": "stream",
     "text": [
      "Start frame: 23385\tEnd Frame: 23745\n",
      "Computation reduction from downsampling & caching: 0.969444\n"
     ]
    },
    {
     "name": "stderr",
     "output_type": "stream",
     "text": [
      "Processing Frames:  10%|██████████▉                                                                                                       | 26/272 [00:29<04:52,  1.19s/it]"
     ]
    },
    {
     "name": "stdout",
     "output_type": "stream",
     "text": [
      "Start frame: 23745\tEnd Frame: 24105\n",
      "Computation reduction from downsampling & caching: 0.969444\n"
     ]
    },
    {
     "name": "stderr",
     "output_type": "stream",
     "text": [
      "Processing Frames:  10%|███████████▎                                                                                                      | 27/272 [00:30<05:08,  1.26s/it]"
     ]
    },
    {
     "name": "stdout",
     "output_type": "stream",
     "text": [
      "Start frame: 24105\tEnd Frame: 24465\n",
      "No faces detected by index; Skipping scene.\n",
      "Start frame: 24465\tEnd Frame: 24825\n",
      "No faces detected by index; Skipping scene.\n",
      "Start frame: 24825\tEnd Frame: 25185\n",
      "Computation reduction from downsampling & caching: 0.969444\n"
     ]
    },
    {
     "name": "stderr",
     "output_type": "stream",
     "text": [
      "Processing Frames:  11%|████████████▌                                                                                                     | 30/272 [00:31<02:55,  1.38it/s]"
     ]
    },
    {
     "name": "stdout",
     "output_type": "stream",
     "text": [
      "Start frame: 25185\tEnd Frame: 25545\n",
      "Computation reduction from downsampling & caching: 0.969444\n"
     ]
    },
    {
     "name": "stderr",
     "output_type": "stream",
     "text": [
      "Processing Frames:  11%|████████████▉                                                                                                     | 31/272 [00:32<03:12,  1.25it/s]"
     ]
    },
    {
     "name": "stdout",
     "output_type": "stream",
     "text": [
      "Start frame: 25545\tEnd Frame: 25905\n",
      "Computation reduction from downsampling & caching: 0.969444\n"
     ]
    },
    {
     "name": "stderr",
     "output_type": "stream",
     "text": [
      "Processing Frames:  12%|█████████████▍                                                                                                    | 32/272 [00:33<03:08,  1.27it/s]"
     ]
    },
    {
     "name": "stdout",
     "output_type": "stream",
     "text": [
      "Start frame: 25905\tEnd Frame: 26265\n",
      "Computation reduction from downsampling & caching: 0.969444\n"
     ]
    },
    {
     "name": "stderr",
     "output_type": "stream",
     "text": [
      "Processing Frames:  12%|█████████████▊                                                                                                    | 33/272 [00:34<03:13,  1.23it/s]"
     ]
    },
    {
     "name": "stdout",
     "output_type": "stream",
     "text": [
      "Start frame: 26265\tEnd Frame: 26625\n",
      "No faces detected by index; Skipping scene.\n",
      "Start frame: 26625\tEnd Frame: 26985\n",
      "No faces detected by index; Skipping scene.\n",
      "Start frame: 26985\tEnd Frame: 27345\n",
      "Computation reduction from downsampling & caching: 0.969444\n"
     ]
    },
    {
     "name": "stderr",
     "output_type": "stream",
     "text": [
      "Processing Frames:  13%|███████████████                                                                                                   | 36/272 [00:35<02:10,  1.81it/s]"
     ]
    },
    {
     "name": "stdout",
     "output_type": "stream",
     "text": [
      "Start frame: 27345\tEnd Frame: 27705\n",
      "Computation reduction from downsampling & caching: 0.969444\n"
     ]
    },
    {
     "name": "stderr",
     "output_type": "stream",
     "text": [
      "Processing Frames:  14%|███████████████▌                                                                                                  | 37/272 [00:36<02:41,  1.45it/s]"
     ]
    },
    {
     "name": "stdout",
     "output_type": "stream",
     "text": [
      "Start frame: 27705\tEnd Frame: 28065\n",
      "Computation reduction from downsampling & caching: 0.969444\n"
     ]
    },
    {
     "name": "stderr",
     "output_type": "stream",
     "text": [
      "Processing Frames:  14%|███████████████▉                                                                                                  | 38/272 [00:37<02:56,  1.33it/s]"
     ]
    },
    {
     "name": "stdout",
     "output_type": "stream",
     "text": [
      "Start frame: 28065\tEnd Frame: 28425\n",
      "Computation reduction from downsampling & caching: 0.969444\n"
     ]
    },
    {
     "name": "stderr",
     "output_type": "stream",
     "text": [
      "Processing Frames:  14%|████████████████▎                                                                                                 | 39/272 [00:38<03:13,  1.20it/s]"
     ]
    },
    {
     "name": "stdout",
     "output_type": "stream",
     "text": [
      "Start frame: 28425\tEnd Frame: 28785\n",
      "No faces detected by index; Skipping scene.\n",
      "Start frame: 28785\tEnd Frame: 29145\n",
      "No faces detected by index; Skipping scene.\n",
      "Start frame: 29145\tEnd Frame: 29505\n",
      "No faces detected by index; Skipping scene.\n",
      "Start frame: 29505\tEnd Frame: 29865\n",
      "No faces detected by index; Skipping scene.\n",
      "Start frame: 29865\tEnd Frame: 30225\n",
      "No faces detected by index; Skipping scene.\n",
      "Start frame: 30225\tEnd Frame: 30585\n",
      "No faces detected by index; Skipping scene.\n",
      "Start frame: 30585\tEnd Frame: 30945\n",
      "Computation reduction from downsampling & caching: 0.969444\n"
     ]
    },
    {
     "name": "stderr",
     "output_type": "stream",
     "text": [
      "Processing Frames:  17%|███████████████████▎                                                                                              | 46/272 [00:39<01:17,  2.91it/s]"
     ]
    },
    {
     "name": "stdout",
     "output_type": "stream",
     "text": [
      "Start frame: 30945\tEnd Frame: 31305\n",
      "Computation reduction from downsampling & caching: 0.969444\n"
     ]
    },
    {
     "name": "stderr",
     "output_type": "stream",
     "text": [
      "Processing Frames:  17%|███████████████████▋                                                                                              | 47/272 [00:40<01:48,  2.08it/s]"
     ]
    },
    {
     "name": "stdout",
     "output_type": "stream",
     "text": [
      "Start frame: 31305\tEnd Frame: 31665\n",
      "Computation reduction from downsampling & caching: 0.969444\n"
     ]
    },
    {
     "name": "stderr",
     "output_type": "stream",
     "text": [
      "Processing Frames:  18%|████████████████████                                                                                              | 48/272 [00:41<02:11,  1.71it/s]"
     ]
    },
    {
     "name": "stdout",
     "output_type": "stream",
     "text": [
      "Start frame: 31665\tEnd Frame: 32025\n",
      "Computation reduction from downsampling & caching: 0.969444\n"
     ]
    },
    {
     "name": "stderr",
     "output_type": "stream",
     "text": [
      "Processing Frames:  18%|████████████████████▌                                                                                             | 49/272 [00:42<02:25,  1.53it/s]"
     ]
    },
    {
     "name": "stdout",
     "output_type": "stream",
     "text": [
      "Start frame: 32025\tEnd Frame: 32385\n",
      "Computation reduction from downsampling & caching: 0.969444\n"
     ]
    },
    {
     "name": "stderr",
     "output_type": "stream",
     "text": [
      "Processing Frames:  18%|████████████████████▉                                                                                             | 50/272 [00:43<02:38,  1.40it/s]"
     ]
    },
    {
     "name": "stdout",
     "output_type": "stream",
     "text": [
      "Start frame: 32385\tEnd Frame: 32745\n",
      "Computation reduction from downsampling & caching: 0.969444\n"
     ]
    },
    {
     "name": "stderr",
     "output_type": "stream",
     "text": [
      "Processing Frames:  19%|█████████████████████▍                                                                                            | 51/272 [00:45<03:00,  1.22it/s]"
     ]
    },
    {
     "name": "stdout",
     "output_type": "stream",
     "text": [
      "Start frame: 32745\tEnd Frame: 33105\n",
      "Computation reduction from downsampling & caching: 0.969444\n"
     ]
    },
    {
     "name": "stderr",
     "output_type": "stream",
     "text": [
      "Processing Frames:  19%|█████████████████████▊                                                                                            | 52/272 [00:46<03:11,  1.15it/s]"
     ]
    },
    {
     "name": "stdout",
     "output_type": "stream",
     "text": [
      "Start frame: 33105\tEnd Frame: 33465\n",
      "Computation reduction from downsampling & caching: 0.969444\n"
     ]
    },
    {
     "name": "stderr",
     "output_type": "stream",
     "text": [
      "Processing Frames:  19%|██████████████████████▏                                                                                           | 53/272 [00:47<03:21,  1.09it/s]"
     ]
    },
    {
     "name": "stdout",
     "output_type": "stream",
     "text": [
      "Start frame: 33465\tEnd Frame: 33825\n",
      "Computation reduction from downsampling & caching: 0.969444\n"
     ]
    },
    {
     "name": "stderr",
     "output_type": "stream",
     "text": [
      "Processing Frames:  20%|██████████████████████▋                                                                                           | 54/272 [00:48<03:22,  1.08it/s]"
     ]
    },
    {
     "name": "stdout",
     "output_type": "stream",
     "text": [
      "Start frame: 33825\tEnd Frame: 34185\n",
      "No faces detected by index; Skipping scene.\n",
      "Start frame: 34185\tEnd Frame: 34545\n",
      "No faces detected by index; Skipping scene.\n",
      "Start frame: 34545\tEnd Frame: 34905\n",
      "No faces detected by index; Skipping scene.\n",
      "Start frame: 34905\tEnd Frame: 35265\n",
      "Computation reduction from downsampling & caching: 0.969444\n"
     ]
    },
    {
     "name": "stderr",
     "output_type": "stream",
     "text": [
      "Processing Frames:  21%|████████████████████████▎                                                                                         | 58/272 [00:49<01:52,  1.90it/s]"
     ]
    },
    {
     "name": "stdout",
     "output_type": "stream",
     "text": [
      "Start frame: 35265\tEnd Frame: 35625\n",
      "Computation reduction from downsampling & caching: 0.969444\n"
     ]
    },
    {
     "name": "stderr",
     "output_type": "stream",
     "text": [
      "Processing Frames:  22%|████████████████████████▋                                                                                         | 59/272 [00:50<02:20,  1.52it/s]"
     ]
    },
    {
     "name": "stdout",
     "output_type": "stream",
     "text": [
      "Start frame: 35625\tEnd Frame: 35985\n",
      "Computation reduction from downsampling & caching: 0.969444\n"
     ]
    },
    {
     "name": "stderr",
     "output_type": "stream",
     "text": [
      "Processing Frames:  22%|█████████████████████████▏                                                                                        | 60/272 [00:51<02:36,  1.36it/s]"
     ]
    },
    {
     "name": "stdout",
     "output_type": "stream",
     "text": [
      "Start frame: 35985\tEnd Frame: 36345\n",
      "Computation reduction from downsampling & caching: 0.969444\n"
     ]
    },
    {
     "name": "stderr",
     "output_type": "stream",
     "text": [
      "Processing Frames:  22%|█████████████████████████▌                                                                                        | 61/272 [00:52<02:55,  1.20it/s]"
     ]
    },
    {
     "name": "stdout",
     "output_type": "stream",
     "text": [
      "Start frame: 36345\tEnd Frame: 36705\n",
      "Computation reduction from downsampling & caching: 0.969444\n"
     ]
    },
    {
     "name": "stderr",
     "output_type": "stream",
     "text": [
      "Processing Frames:  23%|█████████████████████████▉                                                                                        | 62/272 [00:53<03:05,  1.13it/s]"
     ]
    },
    {
     "name": "stdout",
     "output_type": "stream",
     "text": [
      "Start frame: 36705\tEnd Frame: 37065\n",
      "Computation reduction from downsampling & caching: 0.969444\n"
     ]
    },
    {
     "name": "stderr",
     "output_type": "stream",
     "text": [
      "Processing Frames:  23%|██████████████████████████▍                                                                                       | 63/272 [00:54<03:11,  1.09it/s]"
     ]
    },
    {
     "name": "stdout",
     "output_type": "stream",
     "text": [
      "Start frame: 37065\tEnd Frame: 37425\n",
      "Computation reduction from downsampling & caching: 0.969444\n"
     ]
    },
    {
     "name": "stderr",
     "output_type": "stream",
     "text": [
      "Processing Frames:  24%|██████████████████████████▊                                                                                       | 64/272 [00:56<03:33,  1.02s/it]"
     ]
    },
    {
     "name": "stdout",
     "output_type": "stream",
     "text": [
      "Start frame: 37425\tEnd Frame: 37785\n",
      "Computation reduction from downsampling & caching: 0.969444\n"
     ]
    },
    {
     "name": "stderr",
     "output_type": "stream",
     "text": [
      "Processing Frames:  24%|███████████████████████████▏                                                                                      | 65/272 [00:57<03:37,  1.05s/it]"
     ]
    },
    {
     "name": "stdout",
     "output_type": "stream",
     "text": [
      "Start frame: 37785\tEnd Frame: 38145\n",
      "Computation reduction from downsampling & caching: 0.969444\n"
     ]
    },
    {
     "name": "stderr",
     "output_type": "stream",
     "text": [
      "Processing Frames:  24%|███████████████████████████▋                                                                                      | 66/272 [00:57<03:23,  1.01it/s]"
     ]
    },
    {
     "name": "stdout",
     "output_type": "stream",
     "text": [
      "Start frame: 38145\tEnd Frame: 38505\n",
      "Computation reduction from downsampling & caching: 0.969444\n"
     ]
    },
    {
     "name": "stderr",
     "output_type": "stream",
     "text": [
      "Processing Frames:  25%|████████████████████████████                                                                                      | 67/272 [00:59<03:28,  1.02s/it]"
     ]
    },
    {
     "name": "stdout",
     "output_type": "stream",
     "text": [
      "Start frame: 38505\tEnd Frame: 38865\n",
      "Computation reduction from downsampling & caching: 0.969444\n"
     ]
    },
    {
     "name": "stderr",
     "output_type": "stream",
     "text": [
      "Processing Frames:  25%|████████████████████████████▌                                                                                     | 68/272 [00:59<03:16,  1.04it/s]"
     ]
    },
    {
     "name": "stdout",
     "output_type": "stream",
     "text": [
      "Start frame: 38865\tEnd Frame: 39225\n",
      "No faces detected by index; Skipping scene.\n",
      "Start frame: 39225\tEnd Frame: 39585\n",
      "Computation reduction from downsampling & caching: 0.969444\n"
     ]
    },
    {
     "name": "stderr",
     "output_type": "stream",
     "text": [
      "Processing Frames:  26%|█████████████████████████████▎                                                                                    | 70/272 [01:00<02:26,  1.38it/s]"
     ]
    },
    {
     "name": "stdout",
     "output_type": "stream",
     "text": [
      "Start frame: 39585\tEnd Frame: 39945\n",
      "Computation reduction from downsampling & caching: 0.969444\n"
     ]
    },
    {
     "name": "stderr",
     "output_type": "stream",
     "text": [
      "Processing Frames:  26%|█████████████████████████████▊                                                                                    | 71/272 [01:01<02:38,  1.27it/s]"
     ]
    },
    {
     "name": "stdout",
     "output_type": "stream",
     "text": [
      "Start frame: 39945\tEnd Frame: 40305\n",
      "No faces detected by index; Skipping scene.\n",
      "Start frame: 40305\tEnd Frame: 40665\n",
      "No faces detected by index; Skipping scene.\n",
      "Start frame: 40665\tEnd Frame: 41025\n",
      "No faces detected by index; Skipping scene.\n",
      "Start frame: 41025\tEnd Frame: 41385\n",
      "Computation reduction from downsampling & caching: 0.969444\n"
     ]
    },
    {
     "name": "stderr",
     "output_type": "stream",
     "text": [
      "Processing Frames:  28%|███████████████████████████████▍                                                                                  | 75/272 [01:02<01:32,  2.13it/s]"
     ]
    },
    {
     "name": "stdout",
     "output_type": "stream",
     "text": [
      "Start frame: 41385\tEnd Frame: 41745\n",
      "Computation reduction from downsampling & caching: 0.969444\n"
     ]
    },
    {
     "name": "stderr",
     "output_type": "stream",
     "text": [
      "Processing Frames:  28%|███████████████████████████████▊                                                                                  | 76/272 [01:04<02:01,  1.62it/s]"
     ]
    },
    {
     "name": "stdout",
     "output_type": "stream",
     "text": [
      "Start frame: 41745\tEnd Frame: 42105\n",
      "Computation reduction from downsampling & caching: 0.969444\n"
     ]
    },
    {
     "name": "stderr",
     "output_type": "stream",
     "text": [
      "Processing Frames:  28%|████████████████████████████████▎                                                                                 | 77/272 [01:05<02:15,  1.44it/s]"
     ]
    },
    {
     "name": "stdout",
     "output_type": "stream",
     "text": [
      "Start frame: 42105\tEnd Frame: 42465\n",
      "Computation reduction from downsampling & caching: 0.969444\n"
     ]
    },
    {
     "name": "stderr",
     "output_type": "stream",
     "text": [
      "Processing Frames:  29%|████████████████████████████████▋                                                                                 | 78/272 [01:06<02:48,  1.15it/s]"
     ]
    },
    {
     "name": "stdout",
     "output_type": "stream",
     "text": [
      "Start frame: 42465\tEnd Frame: 42825\n",
      "Computation reduction from downsampling & caching: 0.969444\n"
     ]
    },
    {
     "name": "stderr",
     "output_type": "stream",
     "text": [
      "Processing Frames:  29%|█████████████████████████████████                                                                                 | 79/272 [01:08<03:20,  1.04s/it]"
     ]
    },
    {
     "name": "stdout",
     "output_type": "stream",
     "text": [
      "Start frame: 42825\tEnd Frame: 43185\n",
      "Computation reduction from downsampling & caching: 0.969444\n"
     ]
    },
    {
     "name": "stderr",
     "output_type": "stream",
     "text": [
      "Processing Frames:  29%|█████████████████████████████████▌                                                                                | 80/272 [01:09<03:41,  1.15s/it]"
     ]
    },
    {
     "name": "stdout",
     "output_type": "stream",
     "text": [
      "Start frame: 43185\tEnd Frame: 43545\n",
      "Computation reduction from downsampling & caching: 0.969444\n"
     ]
    },
    {
     "name": "stderr",
     "output_type": "stream",
     "text": [
      "Processing Frames:  30%|█████████████████████████████████▉                                                                                | 81/272 [01:10<03:40,  1.15s/it]"
     ]
    },
    {
     "name": "stdout",
     "output_type": "stream",
     "text": [
      "Start frame: 43545\tEnd Frame: 43905\n",
      "Computation reduction from downsampling & caching: 0.969444\n"
     ]
    },
    {
     "name": "stderr",
     "output_type": "stream",
     "text": [
      "Processing Frames:  30%|██████████████████████████████████▎                                                                               | 82/272 [01:11<03:34,  1.13s/it]"
     ]
    },
    {
     "name": "stdout",
     "output_type": "stream",
     "text": [
      "Start frame: 43905\tEnd Frame: 44265\n",
      "Computation reduction from downsampling & caching: 0.969444\n"
     ]
    },
    {
     "name": "stderr",
     "output_type": "stream",
     "text": [
      "Processing Frames:  31%|██████████████████████████████████▊                                                                               | 83/272 [01:13<03:45,  1.20s/it]"
     ]
    },
    {
     "name": "stdout",
     "output_type": "stream",
     "text": [
      "Start frame: 44265\tEnd Frame: 44625\n",
      "Computation reduction from downsampling & caching: 0.969444\n"
     ]
    },
    {
     "name": "stderr",
     "output_type": "stream",
     "text": [
      "Processing Frames:  31%|███████████████████████████████████▏                                                                              | 84/272 [01:14<03:51,  1.23s/it]"
     ]
    },
    {
     "name": "stdout",
     "output_type": "stream",
     "text": [
      "Start frame: 44625\tEnd Frame: 44985\n",
      "Computation reduction from downsampling & caching: 0.969444\n"
     ]
    },
    {
     "name": "stderr",
     "output_type": "stream",
     "text": [
      "Processing Frames:  31%|███████████████████████████████████▋                                                                              | 85/272 [01:15<03:47,  1.22s/it]"
     ]
    },
    {
     "name": "stdout",
     "output_type": "stream",
     "text": [
      "Start frame: 44985\tEnd Frame: 45345\n",
      "Computation reduction from downsampling & caching: 0.969444\n"
     ]
    },
    {
     "name": "stderr",
     "output_type": "stream",
     "text": [
      "Processing Frames:  32%|████████████████████████████████████                                                                              | 86/272 [01:16<03:38,  1.17s/it]"
     ]
    },
    {
     "name": "stdout",
     "output_type": "stream",
     "text": [
      "Start frame: 45345\tEnd Frame: 45705\n",
      "Computation reduction from downsampling & caching: 0.969444\n"
     ]
    },
    {
     "name": "stderr",
     "output_type": "stream",
     "text": [
      "Processing Frames:  32%|████████████████████████████████████▍                                                                             | 87/272 [01:17<03:34,  1.16s/it]"
     ]
    },
    {
     "name": "stdout",
     "output_type": "stream",
     "text": [
      "Start frame: 45705\tEnd Frame: 46065\n",
      "Computation reduction from downsampling & caching: 0.969444\n"
     ]
    },
    {
     "name": "stderr",
     "output_type": "stream",
     "text": [
      "Processing Frames:  32%|████████████████████████████████████▉                                                                             | 88/272 [01:18<03:25,  1.12s/it]"
     ]
    },
    {
     "name": "stdout",
     "output_type": "stream",
     "text": [
      "Start frame: 46065\tEnd Frame: 46425\n",
      "Computation reduction from downsampling & caching: 0.969444\n"
     ]
    },
    {
     "name": "stderr",
     "output_type": "stream",
     "text": [
      "Processing Frames:  33%|█████████████████████████████████████▎                                                                            | 89/272 [01:19<03:14,  1.06s/it]"
     ]
    },
    {
     "name": "stdout",
     "output_type": "stream",
     "text": [
      "Start frame: 46425\tEnd Frame: 46785\n",
      "No faces detected by index; Skipping scene.\n",
      "Start frame: 46785\tEnd Frame: 47145\n",
      "Computation reduction from downsampling & caching: 0.969444\n"
     ]
    },
    {
     "name": "stderr",
     "output_type": "stream",
     "text": [
      "Processing Frames:  33%|██████████████████████████████████████▏                                                                           | 91/272 [01:20<02:23,  1.27it/s]"
     ]
    },
    {
     "name": "stdout",
     "output_type": "stream",
     "text": [
      "Start frame: 47145\tEnd Frame: 47505\n",
      "Computation reduction from downsampling & caching: 0.969444\n"
     ]
    },
    {
     "name": "stderr",
     "output_type": "stream",
     "text": [
      "Processing Frames:  34%|██████████████████████████████████████▌                                                                           | 92/272 [01:21<02:32,  1.18it/s]"
     ]
    },
    {
     "name": "stdout",
     "output_type": "stream",
     "text": [
      "Start frame: 47505\tEnd Frame: 47865\n",
      "Computation reduction from downsampling & caching: 0.969444\n"
     ]
    },
    {
     "name": "stderr",
     "output_type": "stream",
     "text": [
      "Processing Frames:  34%|██████████████████████████████████████▉                                                                           | 93/272 [01:22<02:29,  1.20it/s]"
     ]
    },
    {
     "name": "stdout",
     "output_type": "stream",
     "text": [
      "Start frame: 47865\tEnd Frame: 48225\n",
      "No faces detected by index; Skipping scene.\n",
      "Start frame: 48225\tEnd Frame: 48585\n",
      "Computation reduction from downsampling & caching: 0.969444\n"
     ]
    },
    {
     "name": "stderr",
     "output_type": "stream",
     "text": [
      "Processing Frames:  35%|███████████████████████████████████████▊                                                                          | 95/272 [01:23<01:59,  1.48it/s]"
     ]
    },
    {
     "name": "stdout",
     "output_type": "stream",
     "text": [
      "Start frame: 48585\tEnd Frame: 48945\n",
      "Computation reduction from downsampling & caching: 0.969444\n"
     ]
    },
    {
     "name": "stderr",
     "output_type": "stream",
     "text": [
      "Processing Frames:  35%|████████████████████████████████████████▏                                                                         | 96/272 [01:24<02:06,  1.40it/s]"
     ]
    },
    {
     "name": "stdout",
     "output_type": "stream",
     "text": [
      "Start frame: 48945\tEnd Frame: 49305\n",
      "Computation reduction from downsampling & caching: 0.969444\n"
     ]
    },
    {
     "name": "stderr",
     "output_type": "stream",
     "text": [
      "Processing Frames:  36%|████████████████████████████████████████▋                                                                         | 97/272 [01:25<02:10,  1.34it/s]"
     ]
    },
    {
     "name": "stdout",
     "output_type": "stream",
     "text": [
      "Start frame: 49305\tEnd Frame: 49665\n",
      "No faces detected by index; Skipping scene.\n",
      "Start frame: 49665\tEnd Frame: 50025\n",
      "Computation reduction from downsampling & caching: 0.969444\n"
     ]
    },
    {
     "name": "stderr",
     "output_type": "stream",
     "text": [
      "Processing Frames:  36%|█████████████████████████████████████████▍                                                                        | 99/272 [01:26<01:49,  1.57it/s]"
     ]
    },
    {
     "name": "stdout",
     "output_type": "stream",
     "text": [
      "Start frame: 50025\tEnd Frame: 50385\n",
      "Computation reduction from downsampling & caching: 0.969444\n"
     ]
    },
    {
     "name": "stderr",
     "output_type": "stream",
     "text": [
      "Processing Frames:  37%|█████████████████████████████████████████▌                                                                       | 100/272 [01:27<02:02,  1.40it/s]"
     ]
    },
    {
     "name": "stdout",
     "output_type": "stream",
     "text": [
      "Start frame: 50385\tEnd Frame: 50745\n",
      "No faces detected by index; Skipping scene.\n",
      "Start frame: 50745\tEnd Frame: 51105\n",
      "No faces detected by index; Skipping scene.\n",
      "Start frame: 51105\tEnd Frame: 51465\n",
      "No faces detected by index; Skipping scene.\n",
      "Start frame: 51465\tEnd Frame: 51825\n",
      "No faces detected by index; Skipping scene.\n",
      "Start frame: 51825\tEnd Frame: 52185\n",
      "Computation reduction from downsampling & caching: 0.969444\n"
     ]
    },
    {
     "name": "stderr",
     "output_type": "stream",
     "text": [
      "Processing Frames:  39%|███████████████████████████████████████████▌                                                                     | 105/272 [01:28<01:07,  2.46it/s]"
     ]
    },
    {
     "name": "stdout",
     "output_type": "stream",
     "text": [
      "Start frame: 52185\tEnd Frame: 52545\n",
      "Computation reduction from downsampling & caching: 0.969444\n"
     ]
    },
    {
     "name": "stderr",
     "output_type": "stream",
     "text": [
      "Processing Frames:  39%|████████████████████████████████████████████                                                                     | 106/272 [01:29<01:26,  1.91it/s]"
     ]
    },
    {
     "name": "stdout",
     "output_type": "stream",
     "text": [
      "Start frame: 52545\tEnd Frame: 52905\n",
      "Computation reduction from downsampling & caching: 0.969444\n"
     ]
    },
    {
     "name": "stderr",
     "output_type": "stream",
     "text": [
      "Processing Frames:  39%|████████████████████████████████████████████▍                                                                    | 107/272 [01:30<01:43,  1.59it/s]IOPub message rate exceeded.\n",
      "The Jupyter server will temporarily stop sending output\n",
      "to the client in order to avoid crashing it.\n",
      "To change this limit, set the config variable\n",
      "`--ServerApp.iopub_msg_rate_limit`.\n",
      "\n",
      "Current values:\n",
      "ServerApp.iopub_msg_rate_limit=1000.0 (msgs/sec)\n",
      "ServerApp.rate_limit_window=3.0 (secs)\n",
      "\n"
     ]
    }
   ],
   "source": [
    "\n",
    "face_index_sample_resolution = 15 # seconds\n",
    "process_frame_subsample_rate = 30 # 1 = process all frames, 2 = process every other frame, 3 = process every thrid frame\n",
    "# to improve performance, we first build an index of every 15 seconds that tells us whether that frame had a face.\n",
    "# next, we only process interfavals of 15 seconds which started and/or ended with a frame which had a face\n",
    "# this avoids processing areas with no faces\n",
    "\n",
    "num_faces_index = {} # frame_index --> number of faces\n",
    "\n",
    "def process_frame(frame_ref: dbops.Frame, frame_array_bgr=None):\n",
    "\n",
    "    if frame_array_bgr is None:\n",
    "        raise Error('frame_array_bgr must be supplied, cache restore not implemented')\n",
    "        # frame_array_bgr = np.array(frame_ref.get_frame_image())\n",
    "\n",
    "    frame_ref.compute_frame()\n",
    "    \n",
    "    # Detect faces\n",
    "    with torch.no_grad():\n",
    "        aligned_faces, boxes, scores, landmarks = face_detector.detect_align(frame_array_bgr)\n",
    "\n",
    "        num_faces = len(aligned_faces)\n",
    "        frame_ref.set_num_faces(num_faces)\n",
    "        \n",
    "        num_faces_index[frame_ref.frame_index] = num_faces\n",
    "    \n",
    "        # Recognize facial expression (happy, sad, angry, etc.)\n",
    "        # emotions, probab = emotion_detector.detect_emotion(faces)\n",
    "        if num_faces>0:\n",
    "            \n",
    "            for i, (aligned_face, landmark) in enumerate(zip(aligned_faces.cpu().numpy(), landmarks.cpu().numpy())):\n",
    "                face = dbops.Face.add_face(imdb_id, frame_idx, i)\n",
    "\n",
    "                face.set_face_image_aligned(Image.fromarray(\n",
    "                    cv2.cvtColor(aligned_face, cv2.COLOR_BGR2RGB).clip(0, 255).astype(np.uint8)\n",
    "                ))\n",
    "                face.set_facial_landmarks(landmark)\n",
    "                face.compute_face()\n",
    "        # else:\n",
    "        #     print(f'No faces found in frame {frame_idx}')\n",
    "\n",
    "\n",
    "for movie_ref in dbops.Movie.iterate_all_movies():\n",
    "    imdb_id = movie_ref.get_imdb_id()\n",
    "    title = movie_ref.get_title()\n",
    "    file_path = movie_ref.get_file_path()\n",
    "    \n",
    "    print(f'Now Processing: {title}')\n",
    "\n",
    "    video_stream = cv2.VideoCapture(file_path)\n",
    "\n",
    "    if not video_stream.isOpened():\n",
    "        print(f\"Error: Could not open video {file_path}\")\n",
    "    \n",
    "    fps = video_stream.get(cv2.CAP_PROP_FPS)       # frames per second\n",
    "\n",
    "    offset_minutes = 10\n",
    "    offset_in_frames = int(offset_minutes * 60 * fps)\n",
    "    video_stream.set(cv2.CAP_PROP_POS_FRAMES, offset_in_frames)\n",
    "    \n",
    "    # --- PROCESS next 5 minutes of frames ---\n",
    "    total_frames = int(video_stream.get(cv2.CAP_PROP_FRAME_COUNT))\n",
    "    frames_to_process = total_frames - int(5 * 60 * fps)  # 5 minutes = 300 seconds\n",
    "    \n",
    "    # Ensure we don't exceed the total number of frames\n",
    "    upper_frame_limit = offset_in_frames + frames_to_process\n",
    "    if upper_frame_limit > total_frames:\n",
    "        upper_frame_limit = total_frames\n",
    "    \n",
    "    print(f\"Starting from minute {offset_minutes}, processing up to minute {(upper_frame_limit / 60 / fps):02f}\")\n",
    "\n",
    "    print(f'Building num_faces index of frames from every {face_index_sample_resolution} seconds')\n",
    "\n",
    "    num_faces_index = {} # clear previous frames\n",
    "    \n",
    "    for frame_idx in tqdm(range(offset_in_frames, upper_frame_limit, int(math.ceil(face_index_sample_resolution * fps))), desc='Building Index'):\n",
    "        frame_ref = dbops.Frame.add_frame(imdb_id, frame_idx)\n",
    "        video_stream.set(cv2.CAP_PROP_POS_FRAMES, frame_idx)\n",
    "        ret, frame = video_stream.read()\n",
    "\n",
    "        if not ret:\n",
    "            print(f\"Error: Could not read frame: {frame_idx}\")\n",
    "            continue\n",
    "\n",
    "        # looks hackey but this avoids worring about caching the whole movie somewhere.\n",
    "        # instead, the movie is streamed right here, and then we get rid of it after\n",
    "        frame_ref.frame_image = Image.fromarray(cv2.cvtColor(frame, cv2.COLOR_BGR2RGB))\n",
    "        \n",
    "        process_frame(frame_ref, frame)\n",
    "        \n",
    "        del frame_ref, frame\n",
    "\n",
    "    processed_frames = movie_ref.iterate_frames()\n",
    "    processed_frame_idxs = set( f.frame_index for f in movie_ref.iterate_frames() )\n",
    "\n",
    "    print('Processing facial scenes')\n",
    "\n",
    "    video_stream.set(cv2.CAP_PROP_POS_FRAMES, offset_in_frames) # restart video\n",
    "    \n",
    "    indexed_frames = list(sorted(num_faces_index.keys()))\n",
    "    for i in tqdm(range(len(indexed_frames)-1), desc='Processing Frames'):\n",
    "        \n",
    "        start_frame = indexed_frames[i]\n",
    "        end_frame =   indexed_frames[i+1]\n",
    "        print(f'Start frame: {start_frame}\\tEnd Frame: {end_frame}')\n",
    "        \n",
    "        if num_faces_index[start_frame] > 0 or num_faces_index[end_frame] > 0:\n",
    "\n",
    "            # only compute frames in the current scene, given the downsample rate, and remove any frames which were already processed\n",
    "            \n",
    "            total_frames_in_scene = end_frame - start_frame\n",
    "            frames_to_process = set(range(start_frame, end_frame, process_frame_subsample_rate))\n",
    "            \n",
    "            # total_frames_in_subsampled_scene = len(frames_to_process)\n",
    "            frames_to_process = frames_to_process - processed_frame_idxs\n",
    "\n",
    "            total_unprocessed_frames_in_subsampled_scene = len(frames_to_process)\n",
    "\n",
    "            print(f'Computation reduction from downsampling & caching: {((total_frames_in_scene - total_unprocessed_frames_in_subsampled_scene) / total_frames_in_scene):02f}')\n",
    "            \n",
    "            for frame_idx in sorted(frames_to_process):\n",
    "        \n",
    "                frame_ref = dbops.Frame.add_frame(imdb_id, frame_idx)\n",
    "        \n",
    "                # if frame_ref.is_fully_cached(): # the above check is not full-proof like this but is way faster, and makes this redundant\n",
    "                #     print(f'Skipped frame {frame_idx}')\n",
    "                #     continue\n",
    "\n",
    "                video_stream.set(cv2.CAP_PROP_POS_FRAMES, frame_idx)\n",
    "                ret, frame = video_stream.read()\n",
    "        \n",
    "                if not ret:\n",
    "                    print(f\"Error: Could not read frame: {frame_idx}\")\n",
    "                    continue\n",
    "        \n",
    "                # looks hackey but this avoids worring about caching the whole movie somewhere.\n",
    "                # instead, the movie is streamed right here, and then we get rid of it after\n",
    "                frame_ref.frame_image = Image.fromarray(cv2.cvtColor(frame, cv2.COLOR_BGR2RGB))\n",
    "\n",
    "                process_frame(frame_ref, frame_array_bgr=frame)\n",
    "                \n",
    "                del frame_ref, frame\n",
    "\n",
    "        else:\n",
    "            print('No faces detected by index; Skipping scene.')\n",
    "\n",
    "    video_stream.release()\n",
    "print(\"Processing complete!\")\n"
   ]
  },
  {
   "cell_type": "code",
   "execution_count": 5,
   "id": "eccb0b06-d021-451a-a28d-a6e74f9383a2",
   "metadata": {},
   "outputs": [],
   "source": [
    "# face_image_cache_key = f'{movie.imdb_id}_*.png'\n",
    "# faces_output_mp4 = f'{movie.imdb_id}.mp4'\n",
    "# !ffmpeg -framerate 30 -pattern_type glob -i $face_image_cache_key \\\n",
    "#     -c:v libx264 -pix_fmt yuv420p $faces_output_mp4"
   ]
  },
  {
   "cell_type": "code",
   "execution_count": 6,
   "id": "65ece8f5-6668-4cbf-98bb-d3aeddeb32af",
   "metadata": {},
   "outputs": [
    {
     "name": "stdout",
     "output_type": "stream",
     "text": [
      "tt0021814_000014385_000.png\n",
      "tt0021814_000014415_000.png\n",
      "tt0021814_000014445_000.png\n",
      "tt0021814_000014475_000.png\n",
      "tt0021814_000014505_000.png\n",
      "tt0021814_000014535_000.png\n",
      "tt0021814_000014565_000.png\n",
      "tt0021814_000014595_000.png\n",
      "tt0021814_000014625_000.png\n",
      "tt0021814_000014655_000.png\n",
      "ls: write error: Broken pipe\n"
     ]
    }
   ],
   "source": [
    "!ls images/face/ | head"
   ]
  },
  {
   "cell_type": "code",
   "execution_count": 7,
   "id": "05c3f249-f463-4f42-806c-034259efb70b",
   "metadata": {},
   "outputs": [
    {
     "data": {
      "text/plain": [
       "'tt15439366'"
      ]
     },
     "execution_count": 7,
     "metadata": {},
     "output_type": "execute_result"
    }
   ],
   "source": [
    "movie.get_imdb_id()"
   ]
  },
  {
   "cell_type": "code",
   "execution_count": 8,
   "id": "6cf53251-4638-4ca6-a4d0-9a53c7cadee1",
   "metadata": {
    "editable": true,
    "slideshow": {
     "slide_type": ""
    },
    "tags": []
   },
   "outputs": [
    {
     "name": "stdout",
     "output_type": "stream",
     "text": [
      "41M\tmovies.db\n",
      "251K\tomdb\n",
      "1.2G\timages\n",
      "23G\tdata\n",
      "du: cannot access 'tmp': No such file or directory\n"
     ]
    }
   ],
   "source": [
    "!du -sh movies.db omdb images data tmp"
   ]
  },
  {
   "cell_type": "code",
   "execution_count": 9,
   "id": "535cb5a2-6515-4d88-8192-7d446b07f1c4",
   "metadata": {},
   "outputs": [
    {
     "data": {
      "text/plain": [
       "<module 'dbops' from '/scratch/u1319464/Data-Mining-Spring-2025-Project/dbops.py'>"
      ]
     },
     "execution_count": 9,
     "metadata": {},
     "output_type": "execute_result"
    }
   ],
   "source": [
    "dbops.conn.close()\n",
    "dbops.conn = dbops.psycopg2.connect(\"dbname=postgres user=u1319464 port=2111\")\n",
    "importlib.reload(dbops)  # Reload the module from source"
   ]
  },
  {
   "cell_type": "code",
   "execution_count": null,
   "id": "713750d9-5991-4010-b6cc-7f17f76369d6",
   "metadata": {},
   "outputs": [],
   "source": []
  }
 ],
 "metadata": {
  "kernelspec": {
   "display_name": "Python 3 (ipykernel)",
   "language": "python",
   "name": "python3"
  },
  "language_info": {
   "codemirror_mode": {
    "name": "ipython",
    "version": 3
   },
   "file_extension": ".py",
   "mimetype": "text/x-python",
   "name": "python",
   "nbconvert_exporter": "python",
   "pygments_lexer": "ipython3",
   "version": "3.8.18"
  }
 },
 "nbformat": 4,
 "nbformat_minor": 5
}
