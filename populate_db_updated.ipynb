{
 "cells": [
  {
   "cell_type": "code",
   "execution_count": 1,
   "id": "c8968c3b-62c6-46da-9d6b-a1e4948ba5be",
   "metadata": {},
   "outputs": [],
   "source": [
    "import importlib\n",
    "import dbops_updated as dbops\n",
    "import cv2\n",
    "import time\n",
    "import numpy as np\n",
    "from tqdm import tqdm\n",
    "from PIL import Image\n",
    "\n",
    "import torch\n",
    "\n",
    "from facelib import FaceDetector, FaceRecognizer, EmotionDetector, get_config\n",
    "import glob\n",
    "import math"
   ]
  },
  {
   "cell_type": "code",
   "execution_count": 2,
   "id": "bb0b7761-cf63-43df-bf11-197a898fd742",
   "metadata": {},
   "outputs": [
    {
     "data": {
      "text/plain": [
       "<module 'dbops_updated' from '/home/u1541638/Projects/Data-Mining-Spring-2025-Project/dbops_updated.py'>"
      ]
     },
     "execution_count": 2,
     "metadata": {},
     "output_type": "execute_result"
    }
   ],
   "source": [
    "importlib.reload(dbops)  # Reload the module from source"
   ]
  },
  {
   "cell_type": "code",
   "execution_count": 3,
   "id": "a4aa9118-11b2-4160-bf13-4c4b01e62431",
   "metadata": {},
   "outputs": [
    {
     "name": "stdout",
     "output_type": "stream",
     "text": [
      "Bishops Wife 1947.mp4\n",
      "Day the Earth Stood Still 1951.mp4\n",
      "Dracula 1931.mp4\n",
      "Earth vs the Flying Saucers color.mp4\n",
      "Fight.Club.10th.Anniversary.Edition.1999.1080p.BrRip.x264.YIFY.mp4\n",
      "Frankenstein 1931 colorized.mp4\n",
      "Hellhole.1985.1080p.BluRay.H264.AAC-RARBG.mp4\n",
      "Invasion of the Body Snatchers.mp4\n",
      "Invisible Man 1933.mp4\n",
      "It Came from Outer Space 1953 colorized.mp4\n",
      "Kronos 1957 colorized.mp4\n",
      "Natural Born Killer A.mp4\n",
      "Natural Born Killer B.mp4\n",
      "Sahara 1943.mp4\n",
      "Tarantula 1955 colorized.mp4\n",
      "Taxi Driver A.mp4\n",
      "Taxi Driver B.mp4\n",
      "The Matrix (1999) [OPEN MATTE] [WEB-DL 1080p 10bit DD5.1 x265].mp4\n",
      "Wolf Man 1941.mp4\n"
     ]
    }
   ],
   "source": [
    "!ls /scratch/u1319464/Data-Mining-Spring-2025-Project/data | grep -v \"Dragon Ball\""
   ]
  },
  {
   "cell_type": "code",
   "execution_count": 4,
   "id": "6b6dbc70-bcf5-423f-9a02-78cd89fbb9ea",
   "metadata": {},
   "outputs": [
    {
     "data": {
      "text/plain": [
       "{'/scratch/u1319464/Data-Mining-Spring-2025-Project/data/Bishops Wife 1947.mp4',\n",
       " '/scratch/u1319464/Data-Mining-Spring-2025-Project/data/Day the Earth Stood Still 1951.mp4',\n",
       " '/scratch/u1319464/Data-Mining-Spring-2025-Project/data/Dracula 1931.mp4',\n",
       " '/scratch/u1319464/Data-Mining-Spring-2025-Project/data/Earth vs the Flying Saucers color.mp4',\n",
       " '/scratch/u1319464/Data-Mining-Spring-2025-Project/data/Fight.Club.10th.Anniversary.Edition.1999.1080p.BrRip.x264.YIFY.mp4',\n",
       " '/scratch/u1319464/Data-Mining-Spring-2025-Project/data/Frankenstein 1931 colorized.mp4',\n",
       " '/scratch/u1319464/Data-Mining-Spring-2025-Project/data/Hellhole.1985.1080p.BluRay.H264.AAC-RARBG.mp4',\n",
       " '/scratch/u1319464/Data-Mining-Spring-2025-Project/data/Invasion of the Body Snatchers.mp4',\n",
       " '/scratch/u1319464/Data-Mining-Spring-2025-Project/data/Invisible Man 1933.mp4',\n",
       " '/scratch/u1319464/Data-Mining-Spring-2025-Project/data/It Came from Outer Space 1953 colorized.mp4',\n",
       " '/scratch/u1319464/Data-Mining-Spring-2025-Project/data/Kronos 1957 colorized.mp4',\n",
       " '/scratch/u1319464/Data-Mining-Spring-2025-Project/data/Natural Born Killer A.mp4',\n",
       " '/scratch/u1319464/Data-Mining-Spring-2025-Project/data/Natural Born Killer B.mp4',\n",
       " '/scratch/u1319464/Data-Mining-Spring-2025-Project/data/Sahara 1943.mp4',\n",
       " '/scratch/u1319464/Data-Mining-Spring-2025-Project/data/Tarantula 1955 colorized.mp4',\n",
       " '/scratch/u1319464/Data-Mining-Spring-2025-Project/data/Taxi Driver A.mp4',\n",
       " '/scratch/u1319464/Data-Mining-Spring-2025-Project/data/Taxi Driver B.mp4',\n",
       " '/scratch/u1319464/Data-Mining-Spring-2025-Project/data/The Matrix (1999) [OPEN MATTE] [WEB-DL 1080p 10bit DD5.1 x265].mp4',\n",
       " '/scratch/u1319464/Data-Mining-Spring-2025-Project/data/Wolf Man 1941.mp4'}"
      ]
     },
     "execution_count": 4,
     "metadata": {},
     "output_type": "execute_result"
    }
   ],
   "source": [
    "set(glob.glob('/scratch/u1319464/Data-Mining-Spring-2025-Project/data/*mp4')) - set(glob.glob('/scratch/u1319464/Data-Mining-Spring-2025-Project/data/Dragon Ball*mp4'))"
   ]
  },
  {
   "cell_type": "code",
   "execution_count": 5,
   "id": "97c99221",
   "metadata": {},
   "outputs": [],
   "source": [
    "movie_mapping = {\n",
    "    \"Wolf Man 1941\": \"The Wolf Man\",\n",
    "    \"Kronos 1957 colorized\": \"Kronos\",\n",
    "    \"Hellhole.1985.1080p.BluRay.H264.AAC-RARBG\": \"Hellhole\",\n",
    "    \"Taxi Driver B\": \"Taxi Driver\",\n",
    "    \"Dracula 1931\": \"Dracula\",\n",
    "    \"Natural Born Killer B\": \"Natural Born Killers\",\n",
    "    \"Invisible Man 1933\": \"The Invisible Man (1933)\",\n",
    "    \"The Matrix (1999) [OPEN MATTE] [WEB-DL 1080p 10bit DD5.1 x265]\": \"The Matrix\",\n",
    "    \"Fight.Club.10th.Anniversary.Edition.1999.1080p.BrRip.x264.YIFY\": \"Fight Club\",\n",
    "    \"Sahara 1943\": \"Sahara\",\n",
    "    \"Taxi Driver A\": \"Taxi Driver\",\n",
    "    \"Frankenstein 1931 colorized\": \"Frankenstein\",\n",
    "    \"Day the Earth Stood Still 1951\": \"The Day the Earth Stood Still\",\n",
    "    \"Natural Born Killer A\": \"Natural Born Killers\",\n",
    "    \"Invasion of the Body Snatchers\": \"Invasion of the Body Snatchers\",\n",
    "    \"Bishops Wife 1947\": \"The Bishop's Wife\",\n",
    "    \"It Came from Outer Space 1953 colorized\": \"It Came from Outer Space\",\n",
    "    \"Tarantula 1955 colorized\": \"Tarantula\",\n",
    "    \"Earth vs the Flying Saucers color\": \"Earth vs. the Flying Saucers\"\n",
    "}\n"
   ]
  },
  {
   "cell_type": "code",
   "execution_count": 6,
   "id": "1ed862de-c56a-4e0c-8d37-fd4dc4e0eaa8",
   "metadata": {},
   "outputs": [],
   "source": [
    "import glob\n",
    "for file_path in (set(glob.glob('/scratch/u1319464/Data-Mining-Spring-2025-Project/data/*mp4')) - set(glob.glob('/scratch/u1319464/Data-Mining-Spring-2025-Project/data/Dragon Ball*mp4'))):\n",
    "    title = file_path.replace('/scratch/u1319464/Data-Mining-Spring-2025-Project/data/', '').replace('.mp4', '')\n",
    "    omdb_data = dbops.omdb.get_movie_data(movie_mapping.get(title, title))\n",
    "    if omdb_data!=None:\n",
    "        dbops.Movie.add_movie_from_omdb_data(file_path, omdb_data)"
   ]
  },
  {
   "cell_type": "code",
   "execution_count": 7,
   "id": "3d620fcd-6c8f-4a06-af81-fd06486e6048",
   "metadata": {},
   "outputs": [
    {
     "data": {
      "text/plain": [
       "<dbops_updated.Movie at 0x7f21080e9eb0>"
      ]
     },
     "execution_count": 7,
     "metadata": {},
     "output_type": "execute_result"
    }
   ],
   "source": [
    "\n",
    "# Earth vs the Flying Saucers color\n",
    "dbops.Movie.add_movie_from_omdb_data('/scratch/u1319464/Data-Mining-Spring-2025-Project/data/Earth vs the Flying Saucers color.mp4', dbops.omdb.get_movie_data(identifier='tt0049169', is_imdb_id=True))\n",
    "\n",
    "# Wolf Man 1941\n",
    "dbops.Movie.add_movie_from_omdb_data('/scratch/u1319464/Data-Mining-Spring-2025-Project/data/Wolf Man 1941.mp4', dbops.omdb.get_movie_data(identifier='tt0034398', is_imdb_id=True))\n",
    "\n",
    "# Dracula 1931\n",
    "dbops.Movie.add_movie_from_omdb_data('/scratch/u1319464/Data-Mining-Spring-2025-Project/data/Dracula 1931.mp4', dbops.omdb.get_movie_data(identifier='tt0021814', is_imdb_id=True))\n",
    "\n",
    "# Taxi Driver A\n",
    "dbops.Movie.add_movie_from_omdb_data('/scratch/u1319464/Data-Mining-Spring-2025-Project/data/Taxi Driver A.mp4', dbops.omdb.get_movie_data(identifier='tt0075314', is_imdb_id=True))\n",
    "# Taxi Driver B\n",
    "# dbops.Movie.add_movie_from_omdb_data('./data/Earth vs the Flying Saucers color.mp4', dbops.omdb.get_movie_data(identifier='tt0075314', is_imdb_id=True)\n",
    "\n",
    "# Natural Born Killer A\n",
    "dbops.Movie.add_movie_from_omdb_data('/scratch/u1319464/Data-Mining-Spring-2025-Project/data/Natural Born Killer A.mp4', dbops.omdb.get_movie_data(identifier='tt0110632', is_imdb_id=True))\n",
    "# Natural Born Killer B\n",
    "# dbops.omdb.get_movie_data(identifier='tt0110632', is_imdb_id=True)\n",
    "\n",
    "# Bishops Wife 1947\n",
    "dbops.Movie.add_movie_from_omdb_data('/scratch/u1319464/Data-Mining-Spring-2025-Project/data/Bishops Wife 1947.mp4', dbops.omdb.get_movie_data(identifier='tt0039190', is_imdb_id=True))\n",
    "\n",
    "# Kronos 1957 colorized\n",
    "dbops.Movie.add_movie_from_omdb_data('/scratch/u1319464/Data-Mining-Spring-2025-Project/data/Kronos 1957 colorized.mp4', dbops.omdb.get_movie_data(identifier='tt0050610', is_imdb_id=True))\n",
    "\n",
    "# Sahara 1943\n",
    "dbops.Movie.add_movie_from_omdb_data('/scratch/u1319464/Data-Mining-Spring-2025-Project/data/Sahara 1943.mp4', dbops.omdb.get_movie_data(identifier='tt0036323', is_imdb_id=True))\n",
    "\n",
    "# It Came from Outer Space 1953 colorized\n",
    "dbops.Movie.add_movie_from_omdb_data('/scratch/u1319464/Data-Mining-Spring-2025-Project/data/It Came from Outer Space 1953 colorized.mp4', dbops.omdb.get_movie_data(identifier='tt0045920', is_imdb_id=True))\n",
    "\n",
    "# Tarantula 1955 colorized\n",
    "dbops.Movie.add_movie_from_omdb_data('/scratch/u1319464/Data-Mining-Spring-2025-Project/data/Tarantula 1955 colorized.mp4', dbops.omdb.get_movie_data(identifier='tt0048696', is_imdb_id=True))\n",
    "\n",
    "# The Matrix (1999)\n",
    "dbops.Movie.add_movie_from_omdb_data('/scratch/u1319464/Data-Mining-Spring-2025-Project/data/The Matrix (1999) [OPEN MATTE] [WEB-DL 1080p 10bit DD5.1 x265].mp4', dbops.omdb.get_movie_data(identifier='tt0133093', is_imdb_id=True))\n",
    "\n",
    "# Frankenstein 1931 colorized\n",
    "dbops.Movie.add_movie_from_omdb_data('/scratch/u1319464/Data-Mining-Spring-2025-Project/data/Frankenstein 1931 colorized.mp4', dbops.omdb.get_movie_data(identifier='tt0021884', is_imdb_id=True))\n",
    "\n",
    "# Hellhole.1985.1080p.BluRay.H264.AAC-RARBG\n",
    "dbops.Movie.add_movie_from_omdb_data('/scratch/u1319464/Data-Mining-Spring-2025-Project/data/Hellhole.1985.1080p.BluRay.H264.AAC-RARBG.mp4', dbops.omdb.get_movie_data(identifier='tt0089269', is_imdb_id=True))\n",
    "\n",
    "# Fight.Club.10th.Anniversary.Edition.1999.1080p.BrRip.x264.YIFY\n",
    "dbops.Movie.add_movie_from_omdb_data('/scratch/u1319464/Data-Mining-Spring-2025-Project/data/Fight.Club.10th.Anniversary.Edition.1999.1080p.BrRip.x264.YIFY.mp4', dbops.omdb.get_movie_data(identifier='tt0137523', is_imdb_id=True))\n",
    "\n",
    "# Day the Earth Stood Still 1951\n",
    "dbops.Movie.add_movie_from_omdb_data('/scratch/u1319464/Data-Mining-Spring-2025-Project/data/Day the Earth Stood Still 1951.mp4', dbops.omdb.get_movie_data(identifier='tt0043456', is_imdb_id=True))\n"
   ]
  },
  {
   "cell_type": "code",
   "execution_count": 8,
   "id": "09b31e47-9e6f-4b8d-ac31-07e064889684",
   "metadata": {},
   "outputs": [
    {
     "data": {
      "text/plain": [
       "('Hellhole',\n",
       " '/scratch/u1319464/Data-Mining-Spring-2025-Project/data/Hellhole.1985.1080p.BluRay.H264.AAC-RARBG.mp4',\n",
       " '26 Apr 1985')"
      ]
     },
     "execution_count": 8,
     "metadata": {},
     "output_type": "execute_result"
    }
   ],
   "source": [
    "movie = dbops.Movie('tt0089269')\n",
    "movie.get_title(), movie.get_file_path(), movie.get_date_created()"
   ]
  },
  {
   "cell_type": "code",
   "execution_count": 9,
   "id": "f087fa23-a5a9-4dc7-be0a-0f9ca9f91474",
   "metadata": {},
   "outputs": [
    {
     "name": "stdout",
     "output_type": "stream",
     "text": [
      "from EmotionDetector: weights loaded\n"
     ]
    }
   ],
   "source": [
    "face_detector = FaceDetector(name='resnet')\n",
    "emotion_detector = EmotionDetector()\n",
    "conf = get_config()\n",
    "face_regonizer = FaceRecognizer(conf)"
   ]
  },
  {
   "cell_type": "code",
   "execution_count": 10,
   "id": "ec582945-5c0f-4fb2-9cb5-61af01b3f6b4",
   "metadata": {
    "scrolled": true
   },
   "outputs": [
    {
     "name": "stdout",
     "output_type": "stream",
     "text": [
      "Now Processing: Dracula\n",
      "Starting from minute 10, processing up to minute 74.463312\n",
      "Building num_faces index of frames from every 15 seconds\n"
     ]
    },
    {
     "name": "stderr",
     "output_type": "stream",
     "text": [
      "Building Index:  24%|██▍       | 63/258 [00:15<00:47,  4.08it/s]\n"
     ]
    },
    {
     "ename": "KeyboardInterrupt",
     "evalue": "",
     "output_type": "error",
     "traceback": [
      "\u001b[0;31m---------------------------------------------------------------------------\u001b[0m",
      "\u001b[0;31mKeyboardInterrupt\u001b[0m                         Traceback (most recent call last)",
      "\u001b[0;32m/tmp/ipykernel_3267191/1750838126.py\u001b[0m in \u001b[0;36m<module>\u001b[0;34m\u001b[0m\n\u001b[1;32m     90\u001b[0m         \u001b[0mframe_ref\u001b[0m\u001b[0;34m.\u001b[0m\u001b[0mframe_image\u001b[0m \u001b[0;34m=\u001b[0m \u001b[0mImage\u001b[0m\u001b[0;34m.\u001b[0m\u001b[0mfromarray\u001b[0m\u001b[0;34m(\u001b[0m\u001b[0mcv2\u001b[0m\u001b[0;34m.\u001b[0m\u001b[0mcvtColor\u001b[0m\u001b[0;34m(\u001b[0m\u001b[0mframe\u001b[0m\u001b[0;34m,\u001b[0m \u001b[0mcv2\u001b[0m\u001b[0;34m.\u001b[0m\u001b[0mCOLOR_BGR2RGB\u001b[0m\u001b[0;34m)\u001b[0m\u001b[0;34m)\u001b[0m\u001b[0;34m\u001b[0m\u001b[0;34m\u001b[0m\u001b[0m\n\u001b[1;32m     91\u001b[0m \u001b[0;34m\u001b[0m\u001b[0m\n\u001b[0;32m---> 92\u001b[0;31m         \u001b[0mprocess_frame\u001b[0m\u001b[0;34m(\u001b[0m\u001b[0mframe_ref\u001b[0m\u001b[0;34m,\u001b[0m \u001b[0mframe\u001b[0m\u001b[0;34m)\u001b[0m\u001b[0;34m\u001b[0m\u001b[0;34m\u001b[0m\u001b[0m\n\u001b[0m\u001b[1;32m     93\u001b[0m \u001b[0;34m\u001b[0m\u001b[0m\n\u001b[1;32m     94\u001b[0m         \u001b[0;32mdel\u001b[0m \u001b[0mframe_ref\u001b[0m\u001b[0;34m,\u001b[0m \u001b[0mframe\u001b[0m\u001b[0;34m\u001b[0m\u001b[0;34m\u001b[0m\u001b[0m\n",
      "\u001b[0;32m/tmp/ipykernel_3267191/1750838126.py\u001b[0m in \u001b[0;36mprocess_frame\u001b[0;34m(frame_ref, frame_array)\u001b[0m\n\u001b[1;32m     16\u001b[0m     \u001b[0;31m# Detect faces\u001b[0m\u001b[0;34m\u001b[0m\u001b[0;34m\u001b[0m\u001b[0m\n\u001b[1;32m     17\u001b[0m     \u001b[0;32mwith\u001b[0m \u001b[0mtorch\u001b[0m\u001b[0;34m.\u001b[0m\u001b[0mno_grad\u001b[0m\u001b[0;34m(\u001b[0m\u001b[0;34m)\u001b[0m\u001b[0;34m:\u001b[0m\u001b[0;34m\u001b[0m\u001b[0;34m\u001b[0m\u001b[0m\n\u001b[0;32m---> 18\u001b[0;31m         \u001b[0maligned_faces\u001b[0m\u001b[0;34m,\u001b[0m \u001b[0mboxes\u001b[0m\u001b[0;34m,\u001b[0m \u001b[0mscores\u001b[0m\u001b[0;34m,\u001b[0m \u001b[0mlandmarks\u001b[0m \u001b[0;34m=\u001b[0m \u001b[0mface_detector\u001b[0m\u001b[0;34m.\u001b[0m\u001b[0mdetect_align\u001b[0m\u001b[0;34m(\u001b[0m\u001b[0mframe_array\u001b[0m\u001b[0;34m)\u001b[0m\u001b[0;34m\u001b[0m\u001b[0;34m\u001b[0m\u001b[0m\n\u001b[0m\u001b[1;32m     19\u001b[0m \u001b[0;34m\u001b[0m\u001b[0m\n\u001b[1;32m     20\u001b[0m         \u001b[0mnum_faces\u001b[0m \u001b[0;34m=\u001b[0m \u001b[0mlen\u001b[0m\u001b[0;34m(\u001b[0m\u001b[0maligned_faces\u001b[0m\u001b[0;34m)\u001b[0m\u001b[0;34m\u001b[0m\u001b[0;34m\u001b[0m\u001b[0m\n",
      "\u001b[0;32m~/.local/lib/python3.9/site-packages/facelib/Retinaface/Retinaface.py\u001b[0m in \u001b[0;36mdetect_align\u001b[0;34m(self, img)\u001b[0m\n\u001b[1;32m    149\u001b[0m                 \u001b[0ma\u001b[0m \u001b[0mtensor\u001b[0m\u001b[0;34m(\u001b[0m\u001b[0mn\u001b[0m\u001b[0;34m,\u001b[0m \u001b[0;36m112\u001b[0m\u001b[0;34m,\u001b[0m \u001b[0;36m112\u001b[0m\u001b[0;34m,\u001b[0m \u001b[0;36m3\u001b[0m\u001b[0;34m)\u001b[0m \u001b[0mof\u001b[0m \u001b[0mfaces\u001b[0m \u001b[0mthat\u001b[0m \u001b[0maligned\u001b[0m\u001b[0;34m\u001b[0m\u001b[0;34m\u001b[0m\u001b[0m\n\u001b[1;32m    150\u001b[0m         \"\"\"\n\u001b[0;32m--> 151\u001b[0;31m         \u001b[0mboxes\u001b[0m\u001b[0;34m,\u001b[0m \u001b[0mscores\u001b[0m\u001b[0;34m,\u001b[0m \u001b[0mlandmarks\u001b[0m \u001b[0;34m=\u001b[0m \u001b[0mself\u001b[0m\u001b[0;34m.\u001b[0m\u001b[0mdetect_faces\u001b[0m\u001b[0;34m(\u001b[0m\u001b[0mimg\u001b[0m\u001b[0;34m)\u001b[0m\u001b[0;34m\u001b[0m\u001b[0;34m\u001b[0m\u001b[0m\n\u001b[0m\u001b[1;32m    152\u001b[0m \u001b[0;34m\u001b[0m\u001b[0m\n\u001b[1;32m    153\u001b[0m         \u001b[0mwarped\u001b[0m \u001b[0;34m=\u001b[0m \u001b[0;34m[\u001b[0m\u001b[0;34m]\u001b[0m\u001b[0;34m\u001b[0m\u001b[0;34m\u001b[0m\u001b[0m\n",
      "\u001b[0;32m~/.local/lib/python3.9/site-packages/facelib/Retinaface/Retinaface.py\u001b[0m in \u001b[0;36mdetect_faces\u001b[0;34m(self, img_raw)\u001b[0m\n\u001b[1;32m    100\u001b[0m             \u001b[0;31m# print('net forward time: {:.4f}'.format(time.time() - tic))\u001b[0m\u001b[0;34m\u001b[0m\u001b[0;34m\u001b[0m\u001b[0m\n\u001b[1;32m    101\u001b[0m \u001b[0;34m\u001b[0m\u001b[0m\n\u001b[0;32m--> 102\u001b[0;31m         \u001b[0mpriors\u001b[0m \u001b[0;34m=\u001b[0m \u001b[0mprior_box\u001b[0m\u001b[0;34m(\u001b[0m\u001b[0mself\u001b[0m\u001b[0;34m.\u001b[0m\u001b[0mcfg\u001b[0m\u001b[0;34m,\u001b[0m \u001b[0mimage_size\u001b[0m\u001b[0;34m=\u001b[0m\u001b[0mimg\u001b[0m\u001b[0;34m.\u001b[0m\u001b[0mshape\u001b[0m\u001b[0;34m[\u001b[0m\u001b[0;36m2\u001b[0m\u001b[0;34m:\u001b[0m\u001b[0;34m]\u001b[0m\u001b[0;34m)\u001b[0m\u001b[0;34m.\u001b[0m\u001b[0mto\u001b[0m\u001b[0;34m(\u001b[0m\u001b[0mself\u001b[0m\u001b[0;34m.\u001b[0m\u001b[0mdevice\u001b[0m\u001b[0;34m)\u001b[0m\u001b[0;34m\u001b[0m\u001b[0;34m\u001b[0m\u001b[0m\n\u001b[0m\u001b[1;32m    103\u001b[0m         \u001b[0mboxes\u001b[0m \u001b[0;34m=\u001b[0m \u001b[0mdecode\u001b[0m\u001b[0;34m(\u001b[0m\u001b[0mloc\u001b[0m\u001b[0;34m.\u001b[0m\u001b[0mdata\u001b[0m\u001b[0;34m.\u001b[0m\u001b[0msqueeze\u001b[0m\u001b[0;34m(\u001b[0m\u001b[0;36m0\u001b[0m\u001b[0;34m)\u001b[0m\u001b[0;34m,\u001b[0m \u001b[0mpriors\u001b[0m\u001b[0;34m,\u001b[0m \u001b[0mself\u001b[0m\u001b[0;34m.\u001b[0m\u001b[0mcfg\u001b[0m\u001b[0;34m[\u001b[0m\u001b[0;34m'variance'\u001b[0m\u001b[0;34m]\u001b[0m\u001b[0;34m)\u001b[0m\u001b[0;34m\u001b[0m\u001b[0;34m\u001b[0m\u001b[0m\n\u001b[1;32m    104\u001b[0m         \u001b[0mboxes\u001b[0m \u001b[0;34m=\u001b[0m \u001b[0mboxes\u001b[0m \u001b[0;34m*\u001b[0m \u001b[0mscale\u001b[0m\u001b[0;34m\u001b[0m\u001b[0;34m\u001b[0m\u001b[0m\n",
      "\u001b[0;32m~/.local/lib/python3.9/site-packages/facelib/Retinaface/utils/box_utils.py\u001b[0m in \u001b[0;36mprior_box\u001b[0;34m(cfg, image_size)\u001b[0m\n\u001b[1;32m     20\u001b[0m                 \u001b[0ms_kx\u001b[0m \u001b[0;34m=\u001b[0m \u001b[0mmin_size\u001b[0m \u001b[0;34m/\u001b[0m \u001b[0mimage_size\u001b[0m\u001b[0;34m[\u001b[0m\u001b[0;36m1\u001b[0m\u001b[0;34m]\u001b[0m\u001b[0;34m\u001b[0m\u001b[0;34m\u001b[0m\u001b[0m\n\u001b[1;32m     21\u001b[0m                 \u001b[0ms_ky\u001b[0m \u001b[0;34m=\u001b[0m \u001b[0mmin_size\u001b[0m \u001b[0;34m/\u001b[0m \u001b[0mimage_size\u001b[0m\u001b[0;34m[\u001b[0m\u001b[0;36m0\u001b[0m\u001b[0;34m]\u001b[0m\u001b[0;34m\u001b[0m\u001b[0;34m\u001b[0m\u001b[0m\n\u001b[0;32m---> 22\u001b[0;31m                 \u001b[0mdense_cx\u001b[0m \u001b[0;34m=\u001b[0m \u001b[0;34m[\u001b[0m\u001b[0mx\u001b[0m \u001b[0;34m*\u001b[0m \u001b[0msteps\u001b[0m\u001b[0;34m[\u001b[0m\u001b[0mk\u001b[0m\u001b[0;34m]\u001b[0m \u001b[0;34m/\u001b[0m \u001b[0mimage_size\u001b[0m\u001b[0;34m[\u001b[0m\u001b[0;36m1\u001b[0m\u001b[0;34m]\u001b[0m \u001b[0;32mfor\u001b[0m \u001b[0mx\u001b[0m \u001b[0;32min\u001b[0m \u001b[0;34m[\u001b[0m\u001b[0mj\u001b[0m \u001b[0;34m+\u001b[0m \u001b[0;36m0.5\u001b[0m\u001b[0;34m]\u001b[0m\u001b[0;34m]\u001b[0m\u001b[0;34m\u001b[0m\u001b[0;34m\u001b[0m\u001b[0m\n\u001b[0m\u001b[1;32m     23\u001b[0m                 \u001b[0mdense_cy\u001b[0m \u001b[0;34m=\u001b[0m \u001b[0;34m[\u001b[0m\u001b[0my\u001b[0m \u001b[0;34m*\u001b[0m \u001b[0msteps\u001b[0m\u001b[0;34m[\u001b[0m\u001b[0mk\u001b[0m\u001b[0;34m]\u001b[0m \u001b[0;34m/\u001b[0m \u001b[0mimage_size\u001b[0m\u001b[0;34m[\u001b[0m\u001b[0;36m0\u001b[0m\u001b[0;34m]\u001b[0m \u001b[0;32mfor\u001b[0m \u001b[0my\u001b[0m \u001b[0;32min\u001b[0m \u001b[0;34m[\u001b[0m\u001b[0mi\u001b[0m \u001b[0;34m+\u001b[0m \u001b[0;36m0.5\u001b[0m\u001b[0;34m]\u001b[0m\u001b[0;34m]\u001b[0m\u001b[0;34m\u001b[0m\u001b[0;34m\u001b[0m\u001b[0m\n\u001b[1;32m     24\u001b[0m                 \u001b[0;32mfor\u001b[0m \u001b[0mcy\u001b[0m\u001b[0;34m,\u001b[0m \u001b[0mcx\u001b[0m \u001b[0;32min\u001b[0m \u001b[0mproduct\u001b[0m\u001b[0;34m(\u001b[0m\u001b[0mdense_cy\u001b[0m\u001b[0;34m,\u001b[0m \u001b[0mdense_cx\u001b[0m\u001b[0;34m)\u001b[0m\u001b[0;34m:\u001b[0m\u001b[0;34m\u001b[0m\u001b[0;34m\u001b[0m\u001b[0m\n",
      "\u001b[0;31mKeyboardInterrupt\u001b[0m: "
     ]
    }
   ],
   "source": [
    "\n",
    "face_index_sample_resolution = 15 # seconds\n",
    "process_frame_subsample_rate = 30 # 1 = process all frames, 2 = process every other frame, 3 = process every thrid frame\n",
    "# to improve performance, we first build an index of every 15 seconds that tells us whether that frame had a face.\n",
    "# next, we only process interfavals of 15 seconds which started and/or ended with a frame which had a face\n",
    "# this avoids processing areas with no faces\n",
    "\n",
    "num_faces_index = {} # frame_index --> number of faces\n",
    "\n",
    "def process_frame(frame_ref: dbops.Frame, frame_array=None):\n",
    "\n",
    "    if frame_array is None:\n",
    "        frame_array = np.array(frame_ref.get_frame_image())\n",
    "\n",
    "    frame_ref.compute_frame_aggregated()\n",
    "    \n",
    "    # Detect faces\n",
    "    with torch.no_grad():\n",
    "        aligned_faces, boxes, scores, landmarks = face_detector.detect_align(frame_array)\n",
    "\n",
    "        num_faces = len(aligned_faces)\n",
    "        frame_ref.set_num_faces(num_faces)\n",
    "        \n",
    "        num_faces_index[frame_ref.frame_index] = num_faces\n",
    "    \n",
    "        # Recognize facial expression (happy, sad, angry, etc.)\n",
    "        # emotions, probab = emotion_detector.detect_emotion(faces)\n",
    "        if num_faces>0:\n",
    "            embs = face_regonizer.feature_extractor(aligned_faces)\n",
    "            aligned_faces = aligned_faces.permute(0, 3, 1, 2)\n",
    "            aligned_faces = aligned_faces.float().div(255).cuda()\n",
    "            \n",
    "            # should this be softmaxxed?\n",
    "\n",
    "            emotion_vectors = torch.softmax(emotion_detector.model(aligned_faces), dim=1).cpu().numpy()\n",
    "            \n",
    "            for i, (aligned_face, emotion_vector, landmark, emb) in enumerate(zip(aligned_faces.permute(0, 2, 3, 1).cpu().numpy(), emotion_vectors, landmarks.cpu().numpy(), embs)):\n",
    "                face = dbops.Face.add_face(imdb_id, frame_idx, i, landmark, emotion_vector, emb)\n",
    "                face.set_face_image_aligned(Image.fromarray(cv2.cvtColor(aligned_face*255, cv2.COLOR_BGR2RGB).clip(0, 255).astype(np.uint8)))\n",
    "                face.compute_face_aggregated()\n",
    "\n",
    "        # else:\n",
    "        #     print(f'No faces found in frame {frame_idx}')\n",
    "\n",
    "for movie_ref in dbops.Movie.iterate_all_movies():\n",
    "    imdb_id = movie_ref.get_imdb_id()\n",
    "    title = movie_ref.get_title()\n",
    "    file_path = movie_ref.get_file_path()\n",
    "    \n",
    "    print(f'Now Processing: {title}')\n",
    "\n",
    "    video_stream = cv2.VideoCapture(file_path)\n",
    "\n",
    "    if not video_stream.isOpened():\n",
    "        print(f\"Error: Could not open video {file_path}\")\n",
    "    \n",
    "    fps = video_stream.get(cv2.CAP_PROP_FPS)       # frames per second\n",
    "    \n",
    "    process_frame_subsample_rate = int(fps)\n",
    "\n",
    "    offset_minutes = 10\n",
    "    offset_in_frames = int(offset_minutes * 60 * fps)\n",
    "    video_stream.set(cv2.CAP_PROP_POS_FRAMES, offset_in_frames)\n",
    "    \n",
    "    # --- PROCESS next 5 minutes of frames ---\n",
    "    total_frames = int(video_stream.get(cv2.CAP_PROP_FRAME_COUNT))\n",
    "    frames_to_process = total_frames - int(5 * 60 * fps)  # 5 minutes = 300 seconds\n",
    "    \n",
    "    # Ensure we don't exceed the total number of frames\n",
    "    upper_frame_limit = offset_in_frames + frames_to_process\n",
    "    if upper_frame_limit > total_frames:\n",
    "        upper_frame_limit = total_frames\n",
    "    \n",
    "    print(f\"Starting from minute {offset_minutes}, processing up to minute {(upper_frame_limit / 60 / fps):02f}\")\n",
    "\n",
    "    print(f'Building num_faces index of frames from every {face_index_sample_resolution} seconds')\n",
    "\n",
    "    num_faces_index = {} # clear previous frames\n",
    "    \n",
    "    for frame_idx in tqdm(range(offset_in_frames, upper_frame_limit, int(math.ceil(face_index_sample_resolution * fps))), desc='Building Index'):\n",
    "        frame_ref = dbops.Frame.add_frame(imdb_id, frame_idx)\n",
    "        video_stream.set(cv2.CAP_PROP_POS_FRAMES, frame_idx)\n",
    "        ret, frame = video_stream.read()\n",
    "\n",
    "        if not ret:\n",
    "            print(f\"Error: Could not read frame: {frame_idx}\")\n",
    "            continue\n",
    "\n",
    "        # looks hackey but this avoids worring about caching the whole movie somewhere.\n",
    "        # instead, the movie is streamed right here, and then we get rid of it after\n",
    "        frame_ref.frame_image = Image.fromarray(cv2.cvtColor(frame, cv2.COLOR_BGR2RGB))\n",
    "        \n",
    "        process_frame(frame_ref, frame)\n",
    "        \n",
    "        del frame_ref, frame\n",
    "\n",
    "    processed_frames = movie_ref.iterate_frames()\n",
    "    processed_frame_idxs = set( f.frame_index for f in movie_ref.iterate_frames() )\n",
    "\n",
    "    print('Processing facial scenes')\n",
    "\n",
    "    video_stream.set(cv2.CAP_PROP_POS_FRAMES, offset_in_frames) # restart video\n",
    "    \n",
    "    indexed_frames = list(sorted(num_faces_index.keys()))\n",
    "    for i in tqdm(range(len(indexed_frames)-1), desc='Processing Frames'):\n",
    "        \n",
    "        start_frame = indexed_frames[i]\n",
    "        end_frame =   indexed_frames[i+1]\n",
    "        # print(f'Start frame: {start_frame}\\tEnd Frame: {end_frame}')\n",
    "        \n",
    "        if num_faces_index[start_frame] > 0 or num_faces_index[end_frame] > 0:\n",
    "\n",
    "            # only compute frames in the current scene, given the downsample rate, and remove any frames which were already processed\n",
    "            \n",
    "            total_frames_in_scene = end_frame - start_frame\n",
    "            frames_to_process = set(range(start_frame, end_frame, process_frame_subsample_rate))\n",
    "            \n",
    "            # total_frames_in_subsampled_scene = len(frames_to_process)\n",
    "            frames_to_process = frames_to_process - processed_frame_idxs\n",
    "\n",
    "            total_unprocessed_frames_in_subsampled_scene = len(frames_to_process)\n",
    "\n",
    "            # print(f'Computation reduction from downsampling & caching: {((total_frames_in_scene - total_unprocessed_frames_in_subsampled_scene) / total_frames_in_scene):02f}')\n",
    "            \n",
    "            for frame_idx in sorted(frames_to_process):\n",
    "        \n",
    "                frame_ref = dbops.Frame.add_frame(imdb_id, frame_idx)\n",
    "        \n",
    "                # if frame_ref.is_fully_cached(): # the above check is not full-proof like this but is way faster, and makes this redundant\n",
    "                #     print(f'Skipped frame {frame_idx}')\n",
    "                #     continue\n",
    "\n",
    "                video_stream.set(cv2.CAP_PROP_POS_FRAMES, frame_idx)\n",
    "                ret, frame = video_stream.read()\n",
    "        \n",
    "                if not ret:\n",
    "                    print(f\"Error: Could not read frame: {frame_idx}\")\n",
    "                    continue\n",
    "        \n",
    "                # looks hackey but this avoids worring about caching the whole movie somewhere.\n",
    "                # instead, the movie is streamed right here, and then we get rid of it after\n",
    "                frame_ref.frame_image = Image.fromarray(cv2.cvtColor(frame, cv2.COLOR_BGR2RGB))\n",
    "                \n",
    "                process_frame(frame_ref, frame)\n",
    "                \n",
    "                del frame_ref, frame\n",
    "\n",
    "        # else:\n",
    "        #     print('No faces detected by index; Skipping scene.')\n",
    "\n",
    "    video_stream.release()\n",
    "    print(f\"Processing complete for: {title}\")\n",
    "print(\"Processing complete!\")\n",
    "\n"
   ]
  },
  {
   "cell_type": "code",
   "execution_count": null,
   "id": "eccb0b06-d021-451a-a28d-a6e74f9383a2",
   "metadata": {},
   "outputs": [
    {
     "data": {
      "text/plain": [
       "(136425, 136785)"
      ]
     },
     "execution_count": 12,
     "metadata": {},
     "output_type": "execute_result"
    }
   ],
   "source": [
    "start_frame, end_frame"
   ]
  },
  {
   "cell_type": "code",
   "execution_count": null,
   "id": "6cf53251-4638-4ca6-a4d0-9a53c7cadee1",
   "metadata": {
    "editable": true,
    "slideshow": {
     "slide_type": ""
    },
    "tags": []
   },
   "outputs": [
    {
     "name": "stdout",
     "output_type": "stream",
     "text": [
      "585M\tmovies.db\n",
      "88K\tomdb\n",
      "1.8G\timages\n",
      "5.0M\tdata\n",
      "du: cannot access 'tmp': No such file or directory\n"
     ]
    }
   ],
   "source": [
    "!du -sh movies.db omdb images data tmp"
   ]
  },
  {
   "cell_type": "code",
   "execution_count": null,
   "id": "535cb5a2-6515-4d88-8192-7d446b07f1c4",
   "metadata": {},
   "outputs": [],
   "source": []
  }
 ],
 "metadata": {
  "kernelspec": {
   "display_name": "Python 3",
   "language": "python",
   "name": "python3"
  },
  "language_info": {
   "codemirror_mode": {
    "name": "ipython",
    "version": 3
   },
   "file_extension": ".py",
   "mimetype": "text/x-python",
   "name": "python",
   "nbconvert_exporter": "python",
   "pygments_lexer": "ipython3",
   "version": "3.9.7"
  }
 },
 "nbformat": 4,
 "nbformat_minor": 5
}
