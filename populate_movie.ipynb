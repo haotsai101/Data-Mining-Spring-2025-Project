{
 "cells": [
  {
   "cell_type": "code",
   "execution_count": 6,
   "id": "685aa392-b13c-43f6-ae07-b45beac2cb71",
   "metadata": {},
   "outputs": [
    {
     "name": "stdout",
     "output_type": "stream",
     "text": [
      "psql:scaffold.sql:2: ERROR:  extension \"vector\" already exists\n",
      "psql:scaffold.sql:10: NOTICE:  relation \"movie\" already exists, skipping\n",
      "CREATE TABLE\n",
      "CREATE TABLE\n",
      "psql:scaffold.sql:30: NOTICE:  relation \"actor\" already exists, skipping\n",
      "CREATE TABLE\n",
      "psql:scaffold.sql:38: NOTICE:  relation \"character\" already exists, skipping\n",
      "CREATE TABLE\n",
      "psql:scaffold.sql:54: NOTICE:  relation \"face\" already exists, skipping\n",
      "CREATE TABLE\n",
      "psql:scaffold.sql:66: NOTICE:  relation \"face_emotion\" already exists, skipping\n",
      "CREATE TABLE\n",
      "psql:scaffold.sql:77: NOTICE:  relation \"face_identity\" already exists, skipping\n",
      "CREATE TABLE\n"
     ]
    }
   ],
   "source": [
    "# run table scaffolding\n",
    "!psql -p 2111 -f ./scaffold.sql -d postgres"
   ]
  },
  {
   "cell_type": "code",
   "execution_count": 2,
   "id": "42713388-2df2-41c7-aa29-9a06305c1219",
   "metadata": {},
   "outputs": [],
   "source": [
    "import dbops"
   ]
  },
  {
   "cell_type": "code",
   "execution_count": 3,
   "id": "be49ff2f-2418-4508-baf7-a3af1f9911ab",
   "metadata": {},
   "outputs": [
    {
     "data": {
      "text/plain": [
       "<dbops.Movie at 0x7f304b3fda30>"
      ]
     },
     "execution_count": 3,
     "metadata": {},
     "output_type": "execute_result"
    }
   ],
   "source": [
    "\n",
    "# Earth vs the Flying Saucers color\n",
    "dbops.Movie.add_movie_from_omdb_data('./data/Earth vs the Flying Saucers color.mp4', dbops.omdb.get_movie_data(identifier='tt0049169', is_imdb_id=True))\n",
    "\n",
    "# Wolf Man 1941\n",
    "dbops.Movie.add_movie_from_omdb_data('./data/Wolf Man 1941.mp4', dbops.omdb.get_movie_data(identifier='tt0034398', is_imdb_id=True))\n",
    "\n",
    "# Dracula 1931\n",
    "dbops.Movie.add_movie_from_omdb_data('./data/Dracula 1931.mp4', dbops.omdb.get_movie_data(identifier='tt0021814', is_imdb_id=True))\n",
    "\n",
    "# Taxi Driver A\n",
    "dbops.Movie.add_movie_from_omdb_data('./data/Taxi Driver A.mp4', dbops.omdb.get_movie_data(identifier='tt0075314', is_imdb_id=True))\n",
    "# Taxi Driver B\n",
    "# dbops.Movie.add_movie_from_omdb_data('./data/Earth vs the Flying Saucers color.mp4', dbops.omdb.get_movie_data(identifier='tt0075314', is_imdb_id=True)\n",
    "\n",
    "# Natural Born Killer A\n",
    "dbops.Movie.add_movie_from_omdb_data('./data/Natural Born Killer A.mp4', dbops.omdb.get_movie_data(identifier='tt0110632', is_imdb_id=True))\n",
    "# Natural Born Killer B\n",
    "# dbops.omdb.get_movie_data(identifier='tt0110632', is_imdb_id=True)\n",
    "\n",
    "# Bishops Wife 1947\n",
    "dbops.Movie.add_movie_from_omdb_data('./data/Bishops Wife 1947.mp4', dbops.omdb.get_movie_data(identifier='tt0039190', is_imdb_id=True))\n",
    "\n",
    "# Kronos 1957 colorized\n",
    "dbops.Movie.add_movie_from_omdb_data('./data/Kronos 1957 colorized.mp4', dbops.omdb.get_movie_data(identifier='tt0050610', is_imdb_id=True))\n",
    "\n",
    "# Sahara 1943\n",
    "dbops.Movie.add_movie_from_omdb_data('./data/Sahara 1943.mp4', dbops.omdb.get_movie_data(identifier='tt0036323', is_imdb_id=True))\n",
    "\n",
    "# It Came from Outer Space 1953 colorized\n",
    "dbops.Movie.add_movie_from_omdb_data('./data/It Came from Outer Space 1953 colorized.mp4', dbops.omdb.get_movie_data(identifier='tt0045920', is_imdb_id=True))\n",
    "\n",
    "# Tarantula 1955 colorized\n",
    "dbops.Movie.add_movie_from_omdb_data('./data/Tarantula 1955 colorized.mp4', dbops.omdb.get_movie_data(identifier='tt0048696', is_imdb_id=True))\n",
    "\n",
    "# The Matrix (1999)\n",
    "dbops.Movie.add_movie_from_omdb_data('./data/The Matrix (1999) [OPEN MATTE] [WEB-DL 1080p 10bit DD5.1 x265].mp4', dbops.omdb.get_movie_data(identifier='tt0133093', is_imdb_id=True))\n",
    "\n",
    "# Frankenstein 1931 colorized\n",
    "dbops.Movie.add_movie_from_omdb_data('./data/Frankenstein 1931 colorized.mp4', dbops.omdb.get_movie_data(identifier='tt0021884', is_imdb_id=True))\n",
    "\n",
    "# Hellhole.1985.1080p.BluRay.H264.AAC-RARBG\n",
    "dbops.Movie.add_movie_from_omdb_data('./data/Hellhole.1985.1080p.BluRay.H264.AAC-RARBG.mp4', dbops.omdb.get_movie_data(identifier='tt0089269', is_imdb_id=True))\n",
    "\n",
    "# Fight.Club.10th.Anniversary.Edition.1999.1080p.BrRip.x264.YIFY\n",
    "dbops.Movie.add_movie_from_omdb_data('./data/Fight.Club.10th.Anniversary.Edition.1999.1080p.BrRip.x264.YIFY.mp4', dbops.omdb.get_movie_data(identifier='tt0137523', is_imdb_id=True))\n",
    "\n",
    "# Day the Earth Stood Still 1951\n",
    "dbops.Movie.add_movie_from_omdb_data('./data/Day the Earth Stood Still 1951.mp4', dbops.omdb.get_movie_data(identifier='tt0043456', is_imdb_id=True))\n"
   ]
  },
  {
   "cell_type": "code",
   "execution_count": 4,
   "id": "6c5c739c-cd2d-45b6-81cf-2cd0fa5d6720",
   "metadata": {},
   "outputs": [
    {
     "name": "stdout",
     "output_type": "stream",
     "text": [
      "Bishops Wife 1947.mp4\n",
      "Day the Earth Stood Still 1951.mp4\n",
      "Dracula 1931.mp4\n",
      "Earth vs the Flying Saucers color.mp4\n",
      "Fight.Club.10th.Anniversary.Edition.1999.1080p.BrRip.x264.YIFY.mp4\n",
      "Frankenstein 1931 colorized.mp4\n",
      "Hellhole.1985.1080p.BluRay.H264.AAC-RARBG.mp4\n",
      "Invasion of the Body Snatchers.mp4\n",
      "Invisible Man 1933.mp4\n",
      "It Came from Outer Space 1953 colorized.mp4\n",
      "Kronos 1957 colorized.mp4\n",
      "Natural Born Killer A.mp4\n",
      "Natural Born Killer B.mp4\n",
      "Sahara 1943.mp4\n",
      "Tarantula 1955 colorized.mp4\n",
      "Taxi Driver A.mp4\n",
      "Taxi Driver B.mp4\n",
      "The Matrix (1999) [OPEN MATTE] [WEB-DL 1080p 10bit DD5.1 x265].mp4\n",
      "Wolf Man 1941.mp4\n"
     ]
    }
   ],
   "source": [
    "!ls data | grep -v \"Dragon Ball\""
   ]
  },
  {
   "cell_type": "code",
   "execution_count": 5,
   "id": "887aa1d3-2651-47c7-a3eb-18d2c7a611b1",
   "metadata": {},
   "outputs": [],
   "source": [
    "import glob\n",
    "for file_path in (set(glob.glob('./data/*mp4')) - set(glob.glob('./data/Dragon Ball*mp4'))):\n",
    "    title = file_path.replace('./data/', '').replace('.mp4', '')\n",
    "    omdb_data = dbops.omdb.get_movie_data(title)\n",
    "    if omdb_data!=None:\n",
    "        dbops.Movie.add_movie_from_omdb_data(file_path, omdb_data)"
   ]
  },
  {
   "cell_type": "code",
   "execution_count": null,
   "id": "e4abc6d7-94dc-4fee-be57-8f9d4b603c2c",
   "metadata": {},
   "outputs": [],
   "source": []
  }
 ],
 "metadata": {
  "kernelspec": {
   "display_name": "Python 3 (ipykernel)",
   "language": "python",
   "name": "python3"
  },
  "language_info": {
   "codemirror_mode": {
    "name": "ipython",
    "version": 3
   },
   "file_extension": ".py",
   "mimetype": "text/x-python",
   "name": "python",
   "nbconvert_exporter": "python",
   "pygments_lexer": "ipython3",
   "version": "3.8.18"
  }
 },
 "nbformat": 4,
 "nbformat_minor": 5
}
