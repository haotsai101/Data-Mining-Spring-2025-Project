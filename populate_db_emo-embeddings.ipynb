{
 "cells": [
  {
   "cell_type": "code",
   "execution_count": 1,
   "id": "6840af13-9e46-487c-8ce2-205db9809321",
   "metadata": {},
   "outputs": [
    {
     "name": "stderr",
     "output_type": "stream",
     "text": [
      "/scratch/u1319464/miniforge3/envs/ds4150-faces/lib/python3.8/site-packages/tqdm/auto.py:21: TqdmWarning: IProgress not found. Please update jupyter and ipywidgets. See https://ipywidgets.readthedocs.io/en/stable/user_install.html\n",
      "  from .autonotebook import tqdm as notebook_tqdm\n"
     ]
    }
   ],
   "source": [
    "import importlib\n",
    "import dbops\n",
    "import cv2\n",
    "import time\n",
    "import numpy as np\n",
    "from tqdm import tqdm\n",
    "from PIL import Image\n",
    "\n",
    "import torch\n",
    "from torchvision.transforms import functional as F\n",
    "\n",
    "from facelib import EmotionDetector\n",
    "\n",
    "import glob\n",
    "import math"
   ]
  },
  {
   "cell_type": "code",
   "execution_count": 2,
   "id": "3baead27-8a1b-44d8-aab2-f26ec17897c1",
   "metadata": {},
   "outputs": [
    {
     "data": {
      "text/plain": [
       "<module 'dbops' from '/scratch/u1319464/Data-Mining-Spring-2025-Project/dbops.py'>"
      ]
     },
     "execution_count": 2,
     "metadata": {},
     "output_type": "execute_result"
    }
   ],
   "source": [
    "importlib.reload(dbops)  # Reload the module from source"
   ]
  },
  {
   "cell_type": "code",
   "execution_count": 3,
   "id": "c2af61e4-4a72-4c19-86a9-e1c72e7057e0",
   "metadata": {},
   "outputs": [
    {
     "name": "stdout",
     "output_type": "stream",
     "text": [
      "from EmotionDetector: weights loaded\n"
     ]
    }
   ],
   "source": [
    "emotion_detector = EmotionDetector()"
   ]
  },
  {
   "cell_type": "code",
   "execution_count": 28,
   "id": "73e2d753-80b2-4ae3-91d3-cb86483c076c",
   "metadata": {},
   "outputs": [],
   "source": [
    "\n",
    "EMB_METHOD = 'FaceLib.EmotionDetector(name=\"densnet121\")'\n",
    "\n",
    "# from facelib/FacialExpressions.py\n",
    "labels = np.array(['angry', 'disgust', 'fear', 'happy', 'sad', 'surprise', 'neutral'])\n",
    "\n",
    "def do_embedding(faces):\n",
    "    if len(faces) > 0:\n",
    "        with torch.no_grad():\n",
    "            # [0,1], BGR <-- very important\n",
    "            faces = faces[:,[2,1,0]].float().div(255).to(emotion_detector.device)\n",
    "            # use this to override EmotionDetector.detect_emotion. It does the exact same thing, but returns the embedding in addition to classification\n",
    "            emotions = emotion_detector.model(faces)\n",
    "            prob = torch.softmax(emotions, dim=1)\n",
    "            emo_prob, emo_idx = torch.max(prob, dim=1)\n",
    "            return emotions, labels[emo_idx.tolist()], emo_prob.tolist()\n",
    "    else:\n",
    "        raise Exception('no faces to parse')\n"
   ]
  },
  {
   "cell_type": "code",
   "execution_count": 29,
   "id": "5776b1a6-db16-4165-9975-066795e889ab",
   "metadata": {},
   "outputs": [],
   "source": [
    "from IPython.display import display"
   ]
  },
  {
   "cell_type": "code",
   "execution_count": 30,
   "id": "7d736a9f-5c15-42e3-902e-6beaf9504c4e",
   "metadata": {
    "scrolled": true
   },
   "outputs": [
    {
     "name": "stderr",
     "output_type": "stream",
     "text": [
      "Earth vs. the Flying Saucers: 100%|████████████████████████████████████████████████████████████████████████████████████████████████████| 2766/2766 [01:49<00:00, 25.23it/s]\n",
      "The Wolf Man: 100%|████████████████████████████████████████████████████████████████████████████████████████████████████████████████████| 2142/2142 [01:08<00:00, 31.49it/s]\n",
      "Dracula: 100%|█████████████████████████████████████████████████████████████████████████████████████████████████████████████████████████| 2469/2469 [01:16<00:00, 32.49it/s]\n",
      "Taxi Driver: 100%|█████████████████████████████████████████████████████████████████████████████████████████████████████████████████████| 1484/1484 [00:31<00:00, 47.80it/s]\n",
      "Natural Born Killers: 100%|██████████████████████████████████████████████████████████████████████████████████████████████████████████████| 805/805 [00:10<00:00, 74.96it/s]\n",
      "The Bishop's Wife: 100%|███████████████████████████████████████████████████████████████████████████████████████████████████████████████| 5314/5314 [03:11<00:00, 27.81it/s]\n",
      "Kronos: 100%|██████████████████████████████████████████████████████████████████████████████████████████████████████████████████████████| 2242/2242 [01:05<00:00, 34.41it/s]\n",
      "Sahara: 100%|██████████████████████████████████████████████████████████████████████████████████████████████████████████████████████████| 3320/3320 [01:49<00:00, 30.39it/s]\n",
      "It Came from Outer Space: 100%|████████████████████████████████████████████████████████████████████████████████████████████████████████| 2715/2715 [02:01<00:00, 22.31it/s]\n",
      "Tarantula: 100%|███████████████████████████████████████████████████████████████████████████████████████████████████████████████████████| 2927/2927 [02:30<00:00, 19.48it/s]\n",
      "The Matrix: 100%|██████████████████████████████████████████████████████████████████████████████████████████████████████████████████████| 4753/4753 [02:37<00:00, 30.26it/s]\n",
      "Frankenstein: 100%|████████████████████████████████████████████████████████████████████████████████████████████████████████████████████| 2143/2143 [01:23<00:00, 25.54it/s]\n",
      "Hellhole: 100%|████████████████████████████████████████████████████████████████████████████████████████████████████████████████████████| 3091/3091 [02:17<00:00, 22.53it/s]\n",
      "Fight Club: 100%|██████████████████████████████████████████████████████████████████████████████████████████████████████████████████████| 5379/5379 [04:17<00:00, 20.89it/s]\n",
      "The Day the Earth Stood Still: 100%|███████████████████████████████████████████████████████████████████████████████████████████████████| 3503/3503 [01:55<00:00, 30.35it/s]\n",
      "Taxi Driver: A XXX Parody: 100%|███████████████████████████████████████████████████████████████████████████████████████████████████████| 1484/1484 [00:34<00:00, 43.64it/s]\n",
      "Invasion of the Body Snatchers: 100%|██████████████████████████████████████████████████████████████████████████████████████████████████| 2646/2646 [01:44<00:00, 25.31it/s]\n",
      "The Invisible Man (1933): 100%|████████████████████████████████████████████████████████████████████████████████████████████████████████| 2263/2263 [01:06<00:00, 34.15it/s]\n"
     ]
    }
   ],
   "source": [
    "\n",
    "\n",
    "for movie_ref in dbops.Movie.iterate_all_movies():\n",
    "    imdb_id = movie_ref.get_imdb_id()\n",
    "    title = movie_ref.get_title()\n",
    "    file_path = movie_ref.get_file_path()\n",
    "\n",
    "    for frame_ref in tqdm(movie_ref.iterate_frames(), desc=movie_ref.get_title()):\n",
    "        \n",
    "        for face_ref in frame_ref.iterate_faces():\n",
    "\n",
    "            emb_ref = dbops.FaceEmotionEmbedding.add_face_emotion(face_ref.imdb_id, face_ref.frame_index, face_ref.face_index, EMB_METHOD)\n",
    "\n",
    "            try:\n",
    "            \n",
    "                aligned_face_img = face_ref.get_face_image_aligned()\n",
    "\n",
    "                embeddings, classifications, confidences = do_embedding(F.pil_to_tensor(aligned_face_img).unsqueeze(0))\n",
    "\n",
    "                # print(classifications, confidences)\n",
    "                # display(aligned_face_img)\n",
    "                # display(Image.fromarray(cv2.imread(aligned_face_img.filename)))\n",
    "                \n",
    "                emb_ref.set_embedding(embeddings[0].cpu().numpy(), classifications[0], confidences[0])\n",
    "\n",
    "                # print(emb_ref.get_embedding())\n",
    "\n",
    "            except Exception as e:\n",
    "                print(e)\n"
   ]
  },
  {
   "cell_type": "code",
   "execution_count": null,
   "id": "c3c8b993-b6ee-47d5-b9f6-cc2881b5b13e",
   "metadata": {},
   "outputs": [],
   "source": []
  }
 ],
 "metadata": {
  "kernelspec": {
   "display_name": "Python 3 (ipykernel)",
   "language": "python",
   "name": "python3"
  },
  "language_info": {
   "codemirror_mode": {
    "name": "ipython",
    "version": 3
   },
   "file_extension": ".py",
   "mimetype": "text/x-python",
   "name": "python",
   "nbconvert_exporter": "python",
   "pygments_lexer": "ipython3",
   "version": "3.8.18"
  }
 },
 "nbformat": 4,
 "nbformat_minor": 5
}
