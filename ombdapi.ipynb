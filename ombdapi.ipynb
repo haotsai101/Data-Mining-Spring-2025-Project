{
 "cells": [
  {
   "cell_type": "code",
   "execution_count": 1,
   "id": "5ace6680-96a2-4d39-b5d2-f25dcec4194f",
   "metadata": {},
   "outputs": [],
   "source": [
    "# api_key = 'http://www.omdbapi.com/?i=tt3896198&apikey=15b0ce0f'"
   ]
  },
  {
   "cell_type": "code",
   "execution_count": 30,
   "id": "4fbb9c9a-ec6a-4ecd-bf73-dfaa26668e12",
   "metadata": {},
   "outputs": [],
   "source": [
    "import numpy as np"
   ]
  },
  {
   "cell_type": "code",
   "execution_count": 31,
   "id": "90b8d6ff-a3e2-42ff-be28-741aea3e1736",
   "metadata": {},
   "outputs": [],
   "source": [
    "import requests\n",
    "import json\n",
    "import os\n",
    "\n",
    "class OMDBApiCache:\n",
    "    cache = {}\n",
    "    cache_dir = \"omdb\"\n",
    "    \n",
    "    def __init__(self, api_key: str):\n",
    "        self.base_url = \"http://www.omdbapi.com/\"\n",
    "        self.api_key = api_key\n",
    "        if not os.path.exists(self.cache_dir):\n",
    "            os.makedirs(self.cache_dir)\n",
    "    \n",
    "    def get_movie_data(self, identifier: str, is_imdb_id: bool = False):\n",
    "        if identifier in OMDBApiCache.cache:\n",
    "            return OMDBApiCache.cache[identifier]\n",
    "        \n",
    "        params = {\n",
    "            'apikey': self.api_key,\n",
    "            'i' if is_imdb_id else 't': identifier\n",
    "        }\n",
    "        response = requests.get(self.base_url, params=params)\n",
    "        \n",
    "        if response.status_code == 200:\n",
    "            data = response.json()\n",
    "            if data.get(\"Response\") == \"True\":\n",
    "                imdb_id = data.get(\"imdbID\")\n",
    "                if imdb_id:\n",
    "                    file_path = os.path.join(self.cache_dir, f\"{imdb_id}.json\")\n",
    "                    with open(file_path, \"w\") as f:\n",
    "                        json.dump(data, f)\n",
    "                else:\n",
    "                    raise ValueError(\"No IMDb ID found in response\")\n",
    "                OMDBApiCache.cache[identifier] = data\n",
    "            else:\n",
    "                OMDBApiCache.cache[identifier] = None\n",
    "        else:\n",
    "            OMDBApiCache.cache[identifier] = None\n",
    "        \n",
    "        return OMDBApiCache.cache[identifier]\n",
    "    \n",
    "    def get_movie_ratings(self, identifier: str, is_imdb_id: bool = False):\n",
    "        data = self.get_movie_data(identifier, is_imdb_id)\n",
    "        if data and \"Ratings\" in data:\n",
    "            return data[\"Ratings\"]\n",
    "        return None\n"
   ]
  },
  {
   "cell_type": "code",
   "execution_count": 34,
   "id": "4e09cb33-0745-43d4-a1aa-4b81192adb1d",
   "metadata": {},
   "outputs": [],
   "source": [
    "omdb = OMDBApiCache(api_key='15b0ce0f')"
   ]
  },
  {
   "cell_type": "code",
   "execution_count": 35,
   "id": "0e95e9bb-3b5c-4ed5-85d6-7fc77dce8d98",
   "metadata": {},
   "outputs": [
    {
     "data": {
      "text/plain": [
       "{'Title': 'Blade Runner',\n",
       " 'Year': '1982',\n",
       " 'Rated': 'R',\n",
       " 'Released': '25 Jun 1982',\n",
       " 'Runtime': '117 min',\n",
       " 'Genre': 'Action, Drama, Sci-Fi',\n",
       " 'Director': 'Ridley Scott',\n",
       " 'Writer': 'Hampton Fancher, David Webb Peoples, Philip K. Dick',\n",
       " 'Actors': 'Harrison Ford, Rutger Hauer, Sean Young',\n",
       " 'Plot': 'A blade runner must pursue and terminate four replicants who stole a ship in space and have returned to Earth to find their creator.',\n",
       " 'Language': 'English, German, Cantonese, Japanese, Hungarian, Arabic, Korean',\n",
       " 'Country': 'United States, United Kingdom',\n",
       " 'Awards': 'Nominated for 2 Oscars. 13 wins & 22 nominations total',\n",
       " 'Poster': 'https://m.media-amazon.com/images/M/MV5BOWQ4YTBmNTQtMDYxMC00NGFjLTkwOGQtNzdhNmY1Nzc1MzUxXkEyXkFqcGc@._V1_SX300.jpg',\n",
       " 'Ratings': [{'Source': 'Internet Movie Database', 'Value': '8.1/10'},\n",
       "  {'Source': 'Rotten Tomatoes', 'Value': '89%'},\n",
       "  {'Source': 'Metacritic', 'Value': '84/100'}],\n",
       " 'Metascore': '84',\n",
       " 'imdbRating': '8.1',\n",
       " 'imdbVotes': '842,743',\n",
       " 'imdbID': 'tt0083658',\n",
       " 'Type': 'movie',\n",
       " 'DVD': 'N/A',\n",
       " 'BoxOffice': '$32,914,489',\n",
       " 'Production': 'N/A',\n",
       " 'Website': 'N/A',\n",
       " 'Response': 'True'}"
      ]
     },
     "execution_count": 35,
     "metadata": {},
     "output_type": "execute_result"
    }
   ],
   "source": [
    "# omdb.get_movie_data('blade runner')\n",
    "omdb.get_movie_data(identifier='tt0083658', is_imdb_id=True)"
   ]
  },
  {
   "cell_type": "code",
   "execution_count": 9,
   "id": "95bc4607-3284-4762-bfb9-8b6a4c0fc18c",
   "metadata": {},
   "outputs": [],
   "source": [
    "import glob"
   ]
  },
  {
   "cell_type": "code",
   "execution_count": 13,
   "id": "5596fbc6-18ac-42ca-b676-430ae2ac772f",
   "metadata": {},
   "outputs": [
    {
     "name": "stdout",
     "output_type": "stream",
     "text": [
      "{'Response': 'False', 'Error': 'Movie not found!'}\n",
      "{'Response': 'False', 'Error': 'Movie not found!'}\n",
      "{'Response': 'False', 'Error': 'Movie not found!'}\n",
      "{'Response': 'False', 'Error': 'Movie not found!'}\n",
      "{'Response': 'False', 'Error': 'Movie not found!'}\n",
      "{'Response': 'False', 'Error': 'Movie not found!'}\n",
      "{'Response': 'False', 'Error': 'Movie not found!'}\n",
      "{'Response': 'False', 'Error': 'Movie not found!'}\n",
      "{'Response': 'False', 'Error': 'Movie not found!'}\n",
      "{'Response': 'False', 'Error': 'Movie not found!'}\n",
      "{'Response': 'False', 'Error': 'Movie not found!'}\n",
      "{'Response': 'False', 'Error': 'Movie not found!'}\n",
      "{'Response': 'False', 'Error': 'Movie not found!'}\n",
      "{'Response': 'False', 'Error': 'Movie not found!'}\n",
      "{'Response': 'False', 'Error': 'Movie not found!'}\n",
      "{'Response': 'False', 'Error': 'Movie not found!'}\n",
      "{'Response': 'False', 'Error': 'Movie not found!'}\n",
      "{'Response': 'False', 'Error': 'Movie not found!'}\n",
      "{'Response': 'False', 'Error': 'Movie not found!'}\n",
      "{'Response': 'False', 'Error': 'Movie not found!'}\n",
      "{'Response': 'False', 'Error': 'Movie not found!'}\n",
      "{'Response': 'False', 'Error': 'Movie not found!'}\n",
      "{'Response': 'False', 'Error': 'Movie not found!'}\n",
      "{'Response': 'False', 'Error': 'Movie not found!'}\n",
      "{'Response': 'False', 'Error': 'Movie not found!'}\n",
      "{'Response': 'False', 'Error': 'Movie not found!'}\n",
      "{'Title': 'Taxi Driver: A XXX Parody', 'Year': '2011', 'Rated': 'X', 'Released': '29 Jul 2011', 'Runtime': '154 min', 'Genre': 'Adult', 'Director': 'Robert Black', 'Writer': 'N/A', 'Actors': 'Tommy Pistol, Lily LaBeau, Jessie Andrews, Evan Stone', 'Plot': 'A XXX parody based on the classic 1976 film.', 'Language': 'English', 'Country': 'USA', 'Awards': '1 win & 8 nominations.', 'Poster': 'N/A', 'Ratings': [{'Source': 'Internet Movie Database', 'Value': '6.4/10'}], 'Metascore': 'N/A', 'imdbRating': '6.4', 'imdbVotes': '27', 'imdbID': 'tt2074448', 'Type': 'movie', 'DVD': 'N/A', 'BoxOffice': 'N/A', 'Production': 'N/A', 'Website': 'N/A', 'Response': 'True'}\n",
      "{'Response': 'False', 'Error': 'Movie not found!'}\n",
      "{'Response': 'False', 'Error': 'Movie not found!'}\n",
      "{'Response': 'False', 'Error': 'Movie not found!'}\n",
      "{'Response': 'False', 'Error': 'Movie not found!'}\n",
      "{'Response': 'False', 'Error': 'Movie not found!'}\n",
      "{'Response': 'False', 'Error': 'Movie not found!'}\n",
      "{'Response': 'False', 'Error': 'Movie not found!'}\n",
      "{'Response': 'False', 'Error': 'Movie not found!'}\n",
      "{'Response': 'False', 'Error': 'Movie not found!'}\n",
      "{'Response': 'False', 'Error': 'Movie not found!'}\n",
      "{'Response': 'False', 'Error': 'Movie not found!'}\n",
      "{'Response': 'False', 'Error': 'Movie not found!'}\n",
      "{'Title': 'The Invisible Man (1933)', 'Year': '1933', 'Rated': 'N/A', 'Released': '25 Sep 2018', 'Runtime': 'N/A', 'Genre': 'Talk-Show', 'Director': 'N/A', 'Writer': 'N/A', 'Actors': 'James A. Janisse, Chelsea Rebecca', 'Plot': 'N/A', 'Language': 'N/A', 'Country': 'N/A', 'Awards': 'N/A', 'Poster': 'https://m.media-amazon.com/images/M/MV5BYTY2N2UyMWUtNDM2NC00M2Y0LTg3ZDQtZGUxYjU4MWI3OGQ3XkEyXkFqcGdeQXVyMTk2OTAzNTI@._V1_SX300.jpg', 'Ratings': [], 'Metascore': 'N/A', 'imdbRating': 'N/A', 'imdbVotes': 'N/A', 'imdbID': 'tt15439366', 'Type': 'movie', 'DVD': 'N/A', 'BoxOffice': 'N/A', 'Production': 'N/A', 'Website': 'N/A', 'Response': 'True'}\n",
      "{'Response': 'False', 'Error': 'Movie not found!'}\n",
      "{'Response': 'False', 'Error': 'Movie not found!'}\n",
      "{'Response': 'False', 'Error': 'Movie not found!'}\n",
      "{'Response': 'False', 'Error': 'Movie not found!'}\n",
      "{'Response': 'False', 'Error': 'Movie not found!'}\n",
      "{'Response': 'False', 'Error': 'Movie not found!'}\n",
      "{'Response': 'False', 'Error': 'Movie not found!'}\n",
      "{'Response': 'False', 'Error': 'Movie not found!'}\n",
      "{'Response': 'False', 'Error': 'Movie not found!'}\n",
      "{'Response': 'False', 'Error': 'Movie not found!'}\n",
      "{'Response': 'False', 'Error': 'Movie not found!'}\n",
      "{'Response': 'False', 'Error': 'Movie not found!'}\n",
      "{'Response': 'False', 'Error': 'Movie not found!'}\n",
      "{'Response': 'False', 'Error': 'Movie not found!'}\n",
      "{'Response': 'False', 'Error': 'Movie not found!'}\n",
      "{'Response': 'False', 'Error': 'Movie not found!'}\n",
      "{'Response': 'False', 'Error': 'Movie not found!'}\n",
      "{'Response': 'False', 'Error': 'Movie not found!'}\n",
      "{'Response': 'False', 'Error': 'Movie not found!'}\n",
      "{'Response': 'False', 'Error': 'Movie not found!'}\n",
      "{'Response': 'False', 'Error': 'Movie not found!'}\n",
      "{'Response': 'False', 'Error': 'Movie not found!'}\n",
      "{'Response': 'False', 'Error': 'Movie not found!'}\n",
      "{'Response': 'False', 'Error': 'Movie not found!'}\n",
      "{'Response': 'False', 'Error': 'Movie not found!'}\n",
      "{'Response': 'False', 'Error': 'Movie not found!'}\n",
      "{'Response': 'False', 'Error': 'Movie not found!'}\n",
      "{'Response': 'False', 'Error': 'Movie not found!'}\n",
      "{'Response': 'False', 'Error': 'Movie not found!'}\n",
      "{'Response': 'False', 'Error': 'Movie not found!'}\n",
      "{'Response': 'False', 'Error': 'Movie not found!'}\n",
      "{'Response': 'False', 'Error': 'Movie not found!'}\n",
      "{'Response': 'False', 'Error': 'Movie not found!'}\n",
      "{'Response': 'False', 'Error': 'Movie not found!'}\n",
      "{'Response': 'False', 'Error': 'Movie not found!'}\n",
      "{'Title': 'Invasion of the Body Snatchers', 'Year': '1978', 'Rated': 'PG', 'Released': '22 Dec 1978', 'Runtime': '115 min', 'Genre': 'Horror, Sci-Fi', 'Director': 'Philip Kaufman', 'Writer': 'W.D. Richter, Jack Finney', 'Actors': 'Donald Sutherland, Brooke Adams, Jeff Goldblum', 'Plot': \"When strange seeds drift to earth from space, mysterious pods begin to grow and invade San Francisco, replicating the city's residents one body at a time.\", 'Language': 'English, French', 'Country': 'United States', 'Awards': '3 wins & 11 nominations total', 'Poster': 'https://m.media-amazon.com/images/M/MV5BMzUzNDdjOTAtOThlNS00OTc0LWIyZjEtMzA3YTA4Mjk2Yjc5XkEyXkFqcGc@._V1_SX300.jpg', 'Ratings': [{'Source': 'Internet Movie Database', 'Value': '7.4/10'}, {'Source': 'Rotten Tomatoes', 'Value': '93%'}, {'Source': 'Metacritic', 'Value': '75/100'}], 'Metascore': '75', 'imdbRating': '7.4', 'imdbVotes': '75,132', 'imdbID': 'tt0077745', 'Type': 'movie', 'DVD': 'N/A', 'BoxOffice': '$24,946,533', 'Production': 'N/A', 'Website': 'N/A', 'Response': 'True'}\n",
      "{'Response': 'False', 'Error': 'Movie not found!'}\n",
      "{'Response': 'False', 'Error': 'Movie not found!'}\n",
      "{'Response': 'False', 'Error': 'Movie not found!'}\n",
      "{'Response': 'False', 'Error': 'Movie not found!'}\n",
      "{'Response': 'False', 'Error': 'Movie not found!'}\n",
      "{'Response': 'False', 'Error': 'Movie not found!'}\n",
      "{'Response': 'False', 'Error': 'Movie not found!'}\n",
      "{'Response': 'False', 'Error': 'Movie not found!'}\n"
     ]
    }
   ],
   "source": [
    "for file_path in glob.glob('./data/*mp4'):\n",
    "    title = file_path.replace('./data/', '').replace('.mp4', '')\n",
    "    print(omdb.get_movie_data(title))"
   ]
  },
  {
   "cell_type": "code",
   "execution_count": null,
   "id": "8c71e1ee-7149-4b15-88af-a6b11b672d97",
   "metadata": {},
   "outputs": [],
   "source": []
  }
 ],
 "metadata": {
  "kernelspec": {
   "display_name": "Python 3 (ipykernel)",
   "language": "python",
   "name": "python3"
  },
  "language_info": {
   "codemirror_mode": {
    "name": "ipython",
    "version": 3
   },
   "file_extension": ".py",
   "mimetype": "text/x-python",
   "name": "python",
   "nbconvert_exporter": "python",
   "pygments_lexer": "ipython3",
   "version": "3.8.5"
  }
 },
 "nbformat": 4,
 "nbformat_minor": 5
}
