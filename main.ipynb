{
 "cells": [
  {
   "cell_type": "markdown",
   "metadata": {},
   "source": [
    "# Load image"
   ]
  },
  {
   "cell_type": "code",
   "execution_count": 11,
   "metadata": {},
   "outputs": [],
   "source": [
    "import os\n",
    "import cv2"
   ]
  },
  {
   "cell_type": "code",
   "execution_count": 18,
   "metadata": {},
   "outputs": [],
   "source": [
    "# load filenmaes from data/frames\n",
    "frame_names = os.listdir('data/frames')\n",
    "\n",
    "frames = [cv2.imread('data/frames/'+frame_name, cv2.IMREAD_COLOR) for frame_name in frame_names]\n",
    "# frame_names"
   ]
  },
  {
   "cell_type": "markdown",
   "metadata": {},
   "source": [
    "# Load FaceLib: Face Analysis"
   ]
  },
  {
   "cell_type": "code",
   "execution_count": 8,
   "metadata": {},
   "outputs": [
    {
     "name": "stderr",
     "output_type": "stream",
     "text": [
      "downloading defualt weights: 100%|██████████| 1.79M/1.79M [00:00<00:00, 11.6MiB/s]\n"
     ]
    }
   ],
   "source": [
    "from facelib import FaceDetector\n",
    "detector = FaceDetector()\n"
   ]
  },
  {
   "cell_type": "code",
   "execution_count": 20,
   "metadata": {},
   "outputs": [
    {
     "name": "stdout",
     "output_type": "stream",
     "text": [
      "Frame: [[[8 3 5]\n",
      "  [8 3 5]\n",
      "  [6 4 4]\n",
      "  ...\n",
      "  [2 3 1]\n",
      "  [4 2 1]\n",
      "  [4 2 1]]\n",
      "\n",
      " [[8 3 5]\n",
      "  [6 3 5]\n",
      "  [6 4 4]\n",
      "  ...\n",
      "  [2 3 1]\n",
      "  [4 2 1]\n",
      "  [4 2 1]]\n",
      "\n",
      " [[6 3 5]\n",
      "  [6 3 5]\n",
      "  [6 4 4]\n",
      "  ...\n",
      "  [2 3 1]\n",
      "  [2 3 1]\n",
      "  [2 3 1]]\n",
      "\n",
      " ...\n",
      "\n",
      " [[1 6 4]\n",
      "  [1 6 4]\n",
      "  [0 5 3]\n",
      "  ...\n",
      "  [2 2 2]\n",
      "  [2 2 2]\n",
      "  [2 2 2]]\n",
      "\n",
      " [[1 6 4]\n",
      "  [1 6 4]\n",
      "  [0 5 3]\n",
      "  ...\n",
      "  [2 2 2]\n",
      "  [2 2 2]\n",
      "  [2 2 2]]\n",
      "\n",
      " [[1 6 4]\n",
      "  [1 6 4]\n",
      "  [0 5 3]\n",
      "  ...\n",
      "  [2 2 2]\n",
      "  [2 2 2]\n",
      "  [2 2 2]]]\n",
      "Number of faces: tensor([], size=(0, 4))\n",
      "Boxes: tensor([], size=(0, 4))\n",
      "Scores: tensor([], size=(0, 1))\n",
      "Landmarks: tensor([], size=(0, 5, 2))\n",
      "\n"
     ]
    }
   ],
   "source": [
    "# loop over frames\n",
    "for frame in frames:\n",
    "    boxes, scores, landmarks = detector.detect_faces(frame)\n",
    "    print('Frame:', frame)\n",
    "    print('Number of faces:', (boxes))\n",
    "    print('Boxes:', boxes)\n",
    "    print('Scores:', scores)\n",
    "    print('Landmarks:', landmarks)\n",
    "    print()\n",
    "    break\n"
   ]
  }
 ],
 "metadata": {
  "kernelspec": {
   "display_name": "base",
   "language": "python",
   "name": "python3"
  },
  "language_info": {
   "codemirror_mode": {
    "name": "ipython",
    "version": 3
   },
   "file_extension": ".py",
   "mimetype": "text/x-python",
   "name": "python",
   "nbconvert_exporter": "python",
   "pygments_lexer": "ipython3",
   "version": "3.12.7"
  }
 },
 "nbformat": 4,
 "nbformat_minor": 2
}
