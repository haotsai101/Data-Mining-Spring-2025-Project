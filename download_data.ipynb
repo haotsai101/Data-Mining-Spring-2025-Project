{
 "cells": [
  {
   "cell_type": "markdown",
   "id": "f9f68711-234a-4b3f-a4bb-b7370e66af4a",
   "metadata": {},
   "source": [
    "# Dragon Ball Z data (archive.org)"
   ]
  },
  {
   "cell_type": "code",
   "execution_count": 1,
   "id": "223bdfe2-47af-4ff3-991b-9aae12f1a220",
   "metadata": {},
   "outputs": [
    {
     "name": "stdout",
     "output_type": "stream",
     "text": [
      "/scratch/u1319464/Data-Mining-Spring-2025-Project/tmp\n"
     ]
    }
   ],
   "source": [
    "cd tmp"
   ]
  },
  {
   "cell_type": "code",
   "execution_count": 4,
   "id": "f7534c28-f5e9-4663-8dce-45d014dfe3b1",
   "metadata": {},
   "outputs": [
    {
     "name": "stdout",
     "output_type": "stream",
     "text": [
      "--2025-02-19 14:46:36--  https://archive.org/compress/ikaos-som-dragon-ball-gt-complete-001-064-r2j-dragon-box-multi-audio-v2/formats=H.264&file=/ikaos-som-dragon-ball-gt-complete-001-064-r2j-dragon-box-multi-audio-v2.zip\n",
      "Resolving archive.org (archive.org)... 207.241.224.2\n",
      "Connecting to archive.org (archive.org)|207.241.224.2|:443... connected.\n",
      "HTTP request sent, awaiting response... 302 Found\n",
      "Location: https://ia800508.us.archive.org/zip_dir.php?path=/14/items/ikaos-som-dragon-ball-gt-complete-001-064-r2j-dragon-box-multi-audio-v2.zip&formats=H.264 [following]\n",
      "--2025-02-19 14:46:36--  https://ia800508.us.archive.org/zip_dir.php?path=/14/items/ikaos-som-dragon-ball-gt-complete-001-064-r2j-dragon-box-multi-audio-v2.zip&formats=H.264\n",
      "Resolving ia800508.us.archive.org (ia800508.us.archive.org)... 207.241.230.58\n",
      "Connecting to ia800508.us.archive.org (ia800508.us.archive.org)|207.241.230.58|:443... connected.\n",
      "HTTP request sent, awaiting response... 200 OK\n",
      "Length: 9916204971 (9.2G) [application/zip]\n",
      "Saving to: ‘ikaos-som-dragon-ball-gt-complete-001-064-r2j-dragon-box-multi-audio-v2.zip’\n",
      "\n",
      "ikaos-som-dragon-ba 100%[===================>]   9.23G  6.48MB/s    in 26m 52s \n",
      "\n",
      "2025-02-19 15:13:29 (5.87 MB/s) - ‘ikaos-som-dragon-ball-gt-complete-001-064-r2j-dragon-box-multi-audio-v2.zip’ saved [9916204971/9916204971]\n",
      "\n"
     ]
    }
   ],
   "source": [
    "\n",
    "!wget 'https://archive.org/compress/ikaos-som-dragon-ball-gt-complete-001-064-r2j-dragon-box-multi-audio-v2/formats=H.264&file=/ikaos-som-dragon-ball-gt-complete-001-064-r2j-dragon-box-multi-audio-v2.zip'\n"
   ]
  },
  {
   "cell_type": "code",
   "execution_count": 5,
   "id": "0882e20f-c3b0-45fe-8758-a29177ba6ade",
   "metadata": {},
   "outputs": [
    {
     "name": "stdout",
     "output_type": "stream",
     "text": [
      "Archive:  ikaos-som-dragon-ball-gt-complete-001-064-r2j-dragon-box-multi-audio-v2.zip\n",
      " extracting: Dragon Ball GT.48.DBOX.480p.x264-iKaos [v2] [CDE7217C].mp4  \n",
      " extracting: Dragon Ball GT.17.DBOX.480p.x264-iKaos [v2] [F6403F39].mp4  \n",
      " extracting: Dragon Ball GT.15.DBOX.480p.x264-iKaos [v2] [31E7EDC3].mp4  \n",
      " extracting: Dragon Ball GT.16.DBOX.480p.x264-iKaos [v2] [4AB0BCE2].mp4  \n",
      " extracting: Dragon Ball GT.31.DBOX.480p.x264-iKaos [v2] [BE54C51E].mp4  \n",
      " extracting: Dragon Ball GT.45.DBOX.480p.x264-iKaos [v2] [F235ABC9].mp4  \n",
      " extracting: Dragon Ball GT.47.DBOX.480p.x264-iKaos [v2] [30C70531].mp4  \n",
      " extracting: Dragon Ball GT.43.DBOX.480p.x264-iKaos [v2] [6F45AD75].mp4  \n",
      " extracting: Dragon Ball GT.54.DBOX.480p.x264-iKaos [v2] [3FE997D2].mp4  \n",
      " extracting: Dragon Ball GT.51.DBOX.480p.x264-iKaos [v2] [E6C59A85].mp4  \n",
      " extracting: Dragon Ball GT.37.DBOX.480p.x264-iKaos [v2] [7BD28FD9].mp4  \n",
      " extracting: Dragon Ball GT.44.DBOX.480p.x264-iKaos [v2] [D9C6B105].mp4  \n",
      " extracting: Dragon Ball GT.60.DBOX.480p.x264-iKaos [v2] [D64A8270].mp4  \n",
      " extracting: Dragon Ball GT.56.DBOX.480p.x264-iKaos [v2] [656C2ACA].mp4  \n",
      " extracting: Dragon Ball GT.35.DBOX.480p.x264-iKaos [v2] [49A77377].mp4  \n",
      " extracting: Dragon Ball GT.26.DBOX.480p.x264-iKaos [v2] [93014D3C].mp4  \n",
      " extracting: Dragon Ball GT.SP1.DBOX.480p.x264-iKaos [v2] [046A1C10].mp4  \n",
      " extracting: Dragon Ball GT.46.DBOX.480p.x264-iKaos [v2] [C6BD0267].mp4  \n",
      " extracting: Dragon Ball GT.07.DBOX.480p.x264-iKaos [v2] [282DA8B1].mp4  \n",
      " extracting: Dragon Ball GT.13.DBOX.480p.x264-iKaos [v2] [C069F3F2].mp4  \n",
      " extracting: Dragon Ball GT.19.DBOX.480p.x264-iKaos [v2] [DEA762A4].mp4  \n",
      " extracting: Dragon Ball GT.20.DBOX.480p.x264-iKaos [v2] [E35E8F81].mp4  \n",
      " extracting: Dragon Ball GT.63.DBOX.480p.x264-iKaos [v2] [AE2E0CEA].mp4  \n",
      " extracting: Dragon Ball GT.04.DBOX.480p.x264-iKaos [v2] [F63FC21F].mp4  \n",
      " extracting: Dragon Ball GT.64.DBOX.480p.x264-iKaos [v2] [61B8F59C].mp4  \n",
      " extracting: Dragon Ball GT.02.DBOX.480p.x264-iKaos [v2] [7968795B].mp4  \n",
      " extracting: Dragon Ball GT.52.DBOX.480p.x264-iKaos [v2] [D04635C9].mp4  \n",
      " extracting: Dragon Ball GT.22.DBOX.480p.x264-iKaos [v2] [79CA895A].mp4  \n",
      " extracting: Dragon Ball GT.40.DBOX.480p.x264-iKaos [v2] [96F221DA].mp4  \n",
      " extracting: Dragon Ball GT.61.DBOX.480p.x264-iKaos [v2] [97D1A53F].mp4  \n",
      " extracting: Dragon Ball GT.36.DBOX.480p.x264-iKaos [v2] [43F11493].mp4  \n",
      " extracting: Dragon Ball GT.18.DBOX.480p.x264-iKaos [v2] [BE4A0E25].mp4  \n",
      " extracting: Dragon Ball GT.58.DBOX.480p.x264-iKaos [v2] [0885325B].mp4  \n",
      " extracting: Dragon Ball GT.32.DBOX.480p.x264-iKaos [v2] [A7CF96FF].mp4  \n",
      " extracting: Dragon Ball GT.09.DBOX.480p.x264-iKaos [v2] [DCD78518].mp4  \n",
      " extracting: Dragon Ball GT.06.DBOX.480p.x264-iKaos [v2] [84A093DD].mp4  \n",
      " extracting: Dragon Ball GT.38.DBOX.480p.x264-iKaos [v2] [1E19F5FC].mp4  \n",
      " extracting: Dragon Ball GT.42.DBOX.480p.x264-iKaos [v2] [5BDBE763].mp4  \n",
      " extracting: Dragon Ball GT.53.DBOX.480p.x264-iKaos [v2] [5F912217].mp4  \n",
      " extracting: Dragon Ball GT.12.DBOX.480p.x264-iKaos [v2] [51E3841E].mp4  \n",
      " extracting: Dragon Ball GT.33.DBOX.480p.x264-iKaos [v2] [DFB308E5].mp4  \n",
      " extracting: Dragon Ball GT.10.DBOX.480p.x264-iKaos [v2] [A868E3B6].mp4  \n",
      " extracting: EXTRAS/Misc Specials/DBGT 064 Credit Scroll (Fuji Broadcast).mp4  \n",
      " extracting: EXTRAS/Misc Specials/Dragon Ball GT - A Grand Problem.mp4  \n",
      " extracting: EXTRAS/NCOP-NCEDs/Dragon Ball GT NCED 3 - Blue Velvet.mp4  \n",
      " extracting: EXTRAS/NCOP-NCEDs/Dragon Ball GT NCED 1 - Hitori Ja Nai.mp4  \n",
      " extracting: EXTRAS/NCOP-NCEDs/Dragon Ball GT NCED 2 - Don't You See!.mp4  \n",
      " extracting: EXTRAS/English OPs, EDs, and Promos/FUNi DBGT ED.mp4  \n",
      " extracting: EXTRAS/English OPs, EDs, and Promos/Toonami USA OP3 - Lost Episodes.mp4  \n",
      " extracting: EXTRAS/English OPs, EDs, and Promos/Toonami S2 Promo.mp4  \n",
      " extracting: EXTRAS/English OPs, EDs, and Promos/FUNi DBGT OP.mp4  \n",
      " extracting: EXTRAS/English OPs, EDs, and Promos/Toonami Lost Episodes Promo.mp4  \n",
      " extracting: EXTRAS/English OPs, EDs, and Promos/Toonami USA OP1.mp4  \n",
      " extracting: EXTRAS/English OPs, EDs, and Promos/Toonami USA OP2.mp4  \n",
      " extracting: EXTRAS/English OPs, EDs, and Promos/FUNi DBGT Promo.mp4  \n",
      " extracting: EXTRAS/English OPs, EDs, and Promos/Nicktoons Shadow Dragons Promo.mp4  \n",
      " extracting: EXTRAS/JPN Previews/DBGT Short Trailer (Fan Reconstruction) [corre].mp4  \n",
      " extracting: EXTRAS/JPN Previews/DBGT 041 Special NEP.mp4  \n",
      " extracting: EXTRAS/JPN Previews/DBGT 002 Short NEP + DBM4 CM.mp4  \n",
      " extracting: EXTRAS/JPN Previews/DBGT 062 Short NEP + Dr Slump Preview.mp4  \n",
      " extracting: EXTRAS/JPN Previews/DBGT 061 Short NEP + Dr Slump Preview.mp4  \n",
      " extracting: EXTRAS/JPN Previews/DBGT 062 Short NEP (Reconstruction) [corre].mp4  \n",
      " extracting: EXTRAS/JPN Previews/DBGT 004 Short NEP (Reconstruction) [corre].mp4  \n",
      " extracting: EXTRAS/JPN Previews/DBZ 291 - DBGT First Episode Preview.mp4  \n",
      " extracting: EXTRAS/JPN Previews/DBGT 004 Short NEP + DBM4 CM.mp4  \n",
      " extracting: EXTRAS/JPN Previews/DBGT 064 Dr Slump NEP.mp4  \n",
      " extracting: EXTRAS/JPN Previews/DBGT 002 Short NEP (Reconstruction) [corre].mp4  \n",
      " extracting: EXTRAS/JPN Previews/DBGT 003 Short NEP (Reconstruction) [corre].mp4  \n",
      " extracting: EXTRAS/JPN Previews/DBGT 061 Short NEP (Reconstruction) [corre].mp4  \n",
      " extracting: EXTRAS/JPN Previews/DBGT 063 Short NEP + Dr Slump Preview.mp4  \n",
      " extracting: EXTRAS/JPN Previews/DBGT 003 Short NEP + DBM4 CM [v2].mp4  \n",
      " extracting: EXTRAS/JPN Previews/DBGT 063 Short NEP (Reconstruction) [corre].mp4  \n",
      " extracting: Dragon Ball GT.49.DBOX.480p.x264-iKaos [v2] [F9F9C9BB].mp4  \n",
      " extracting: Dragon Ball GT.41.DBOX.480p.x264-iKaos [v2] [F0662F01].mp4  \n",
      " extracting: Dragon Ball GT.05.DBOX.480p.x264-iKaos [v2] [CDFADD35].mp4  \n",
      " extracting: Dragon Ball GT.24.DBOX.480p.x264-iKaos [v2] [3A87AA57].mp4  \n",
      " extracting: Dragon Ball GT.59.DBOX.480p.x264-iKaos [v2] [7BB1BAEA].mp4  \n",
      " extracting: Dragon Ball GT.57.DBOX.480p.x264-iKaos [v2] [C0A03C13].mp4  \n",
      " extracting: Dragon Ball GT.23.DBOX.480p.x264-iKaos [v2] [9C1CEE03].mp4  \n",
      " extracting: Dragon Ball GT.34.DBOX.480p.x264-iKaos [v2] [21741646].mp4  \n",
      " extracting: Dragon Ball GT.21.DBOX.480p.x264-iKaos [v2] [39E15483].mp4  \n",
      " extracting: Dragon Ball GT.28.DBOX.480p.x264-iKaos [v2] [04E7E61F].mp4  \n",
      " extracting: Dragon Ball GT.50.DBOX.480p.x264-iKaos [v2] [49CEA90E].mp4  \n",
      " extracting: Dragon Ball GT.30.DBOX.480p.x264-iKaos [v2] [C3DFFBE4].mp4  \n",
      " extracting: Dragon Ball GT.11.DBOX.480p.x264-iKaos [v2] [FFAC14A3].mp4  \n",
      " extracting: Dragon Ball GT.14.DBOX.480p.x264-iKaos [v2] [467FC401].mp4  \n",
      " extracting: Dragon Ball GT.55.DBOX.480p.x264-iKaos [v2] [8B7589AA].mp4  \n",
      " extracting: Dragon Ball GT.03.DBOX.480p.x264-iKaos [v2] [F0831340].mp4  \n",
      " extracting: Dragon Ball GT.27.DBOX.480p.x264-iKaos [v2] [DC3FA76B].mp4  \n",
      " extracting: Dragon Ball GT.08.DBOX.480p.x264-iKaos [v2] [E000B92A].mp4  \n",
      " extracting: Dragon Ball GT.25.DBOX.480p.x264-iKaos [v2] [1B31AC01].mp4  \n",
      " extracting: Dragon Ball GT.39.DBOX.480p.x264-iKaos [v2] [E01CA843].mp4  \n",
      " extracting: Dragon Ball GT.62.DBOX.480p.x264-iKaos [v2] [7CE26D4A].mp4  \n",
      " extracting: Dragon Ball GT.01.DBOX.480p.x264-iKaos [v2] [E24A36DF].mp4  \n",
      " extracting: Dragon Ball GT.29.DBOX.480p.x264-iKaos [v2] [F1947D89].mp4  \n"
     ]
    }
   ],
   "source": [
    "\n",
    "!unzip ikaos-som-dragon-ball-gt-complete-001-064-r2j-dragon-box-multi-audio-v2.zip\n"
   ]
  },
  {
   "cell_type": "code",
   "execution_count": 8,
   "id": "edead509-3da8-4953-b508-37cace437e90",
   "metadata": {},
   "outputs": [],
   "source": [
    "!mv *mp4 ../data/"
   ]
  },
  {
   "cell_type": "markdown",
   "id": "42d7b1e4-b3a2-4d65-8b7e-98eaf13869dc",
   "metadata": {},
   "source": [
    "# Dracula (archive.org)"
   ]
  },
  {
   "cell_type": "code",
   "execution_count": 9,
   "id": "add93cf6-53dd-4bad-acf2-ee2d95cfc235",
   "metadata": {},
   "outputs": [
    {
     "name": "stdout",
     "output_type": "stream",
     "text": [
      "--2025-02-19 15:25:20--  https://archive.org/download/dracula-colorized/Dracula%201931.mp4\n",
      "Resolving archive.org (archive.org)... 207.241.224.2\n",
      "Connecting to archive.org (archive.org)|207.241.224.2|:443... connected.\n",
      "HTTP request sent, awaiting response... 302 Found\n",
      "Location: https://dn720004.ca.archive.org/0/items/dracula-colorized/Dracula%201931.mp4 [following]\n",
      "--2025-02-19 15:25:20--  https://dn720004.ca.archive.org/0/items/dracula-colorized/Dracula%201931.mp4\n",
      "Resolving dn720004.ca.archive.org (dn720004.ca.archive.org)... 184.105.214.248\n",
      "Connecting to dn720004.ca.archive.org (dn720004.ca.archive.org)|184.105.214.248|:443... connected.\n",
      "HTTP request sent, awaiting response... 200 OK\n",
      "Length: 717056635 (684M) [video/mp4]\n",
      "Saving to: ‘Dracula 1931.mp4’\n",
      "\n",
      "Dracula 1931.mp4    100%[===================>] 683.84M  8.31MB/s    in 1m 43s  \n",
      "\n",
      "2025-02-19 15:27:05 (6.66 MB/s) - ‘Dracula 1931.mp4’ saved [717056635/717056635]\n",
      "\n"
     ]
    }
   ],
   "source": [
    "\n",
    "!wget https://archive.org/download/dracula-colorized/Dracula%201931.mp4\n"
   ]
  },
  {
   "cell_type": "code",
   "execution_count": 16,
   "id": "4a9c5b57-b9a3-45ec-a12d-acaa98f54629",
   "metadata": {},
   "outputs": [],
   "source": [
    "\n",
    "!mv Dracula\\ 1931.mp4 ../data/\n"
   ]
  },
  {
   "cell_type": "markdown",
   "id": "f8121340-fb24-45a5-b2cd-ad2d05c0e6d4",
   "metadata": {},
   "source": [
    "# Misc. Movies from archive.org"
   ]
  },
  {
   "cell_type": "code",
   "execution_count": 12,
   "id": "0124bcb8-bb4c-4142-977a-29b546c2b9ff",
   "metadata": {},
   "outputs": [
    {
     "name": "stdout",
     "output_type": "stream",
     "text": [
      "--2025-02-19 15:32:11--  https://archive.org/download/day-the-earth-stood-still-1951/Day%20the%20Earth%20Stood%20Still%201951.mp4\n",
      "Resolving archive.org (archive.org)... 207.241.224.2\n",
      "Connecting to archive.org (archive.org)|207.241.224.2|:443... connected.\n",
      "HTTP request sent, awaiting response... 302 Found\n",
      "Location: https://dn720705.ca.archive.org/0/items/day-the-earth-stood-still-1951/Day%20the%20Earth%20Stood%20Still%201951.mp4 [following]\n",
      "--2025-02-19 15:32:11--  https://dn720705.ca.archive.org/0/items/day-the-earth-stood-still-1951/Day%20the%20Earth%20Stood%20Still%201951.mp4\n",
      "Resolving dn720705.ca.archive.org (dn720705.ca.archive.org)... 204.62.246.90\n",
      "Connecting to dn720705.ca.archive.org (dn720705.ca.archive.org)|204.62.246.90|:443... connected.\n",
      "HTTP request sent, awaiting response... 200 OK\n",
      "Length: 511639886 (488M) [video/mp4]\n",
      "Saving to: ‘Day the Earth Stood Still 1951.mp4’\n",
      "\n",
      "Day the Earth Stood 100%[===================>] 487.94M  25.5MB/s    in 22s     \n",
      "\n",
      "2025-02-19 15:32:37 (22.6 MB/s) - ‘Day the Earth Stood Still 1951.mp4’ saved [511639886/511639886]\n",
      "\n",
      "--2025-02-19 15:32:37--  https://archive.org/download/earth-vs-the-flying-saucers-color/Earth%20vs%20the%20Flying%20Saucers%20color.mp4\n",
      "Resolving archive.org (archive.org)... 207.241.224.2\n",
      "Connecting to archive.org (archive.org)|207.241.224.2|:443... connected.\n",
      "HTTP request sent, awaiting response... 302 Found\n",
      "Location: https://ia801607.us.archive.org/8/items/earth-vs-the-flying-saucers-color/Earth%20vs%20the%20Flying%20Saucers%20color.mp4 [following]\n",
      "--2025-02-19 15:32:37--  https://ia801607.us.archive.org/8/items/earth-vs-the-flying-saucers-color/Earth%20vs%20the%20Flying%20Saucers%20color.mp4\n",
      "Resolving ia801607.us.archive.org (ia801607.us.archive.org)... 207.241.228.127\n",
      "Connecting to ia801607.us.archive.org (ia801607.us.archive.org)|207.241.228.127|:443... connected.\n",
      "HTTP request sent, awaiting response... 200 OK\n",
      "Length: 472697906 (451M) [video/mp4]\n",
      "Saving to: ‘Earth vs the Flying Saucers color.mp4’\n",
      "\n",
      "Earth vs the Flying 100%[===================>] 450.80M  4.52MB/s    in 61s     \n",
      "\n",
      "2025-02-19 15:33:40 (7.40 MB/s) - ‘Earth vs the Flying Saucers color.mp4’ saved [472697906/472697906]\n",
      "\n",
      "--2025-02-19 15:33:40--  https://archive.org/details/creature-from-the-black-lagoon-1954-colorized\n",
      "Resolving archive.org (archive.org)... 207.241.224.2\n",
      "Connecting to archive.org (archive.org)|207.241.224.2|:443... connected.\n",
      "HTTP request sent, awaiting response... 200 OK\n",
      "Length: unspecified [text/html]\n",
      "Saving to: ‘creature-from-the-black-lagoon-1954-colorized’\n",
      "\n",
      "creature-from-the-b     [     <=>            ] 192.16K  53.9KB/s    in 3.6s    \n",
      "\n",
      "2025-02-19 15:33:44 (53.9 KB/s) - ‘creature-from-the-black-lagoon-1954-colorized’ saved [196769]\n",
      "\n"
     ]
    }
   ],
   "source": [
    "\n",
    "!wget https://archive.org/download/day-the-earth-stood-still-1951/Day%20the%20Earth%20Stood%20Still%201951.mp4\n",
    "!wget https://archive.org/download/earth-vs-the-flying-saucers-color/Earth%20vs%20the%20Flying%20Saucers%20color.mp4\n",
    "!wget https://archive.org/details/creature-from-the-black-lagoon-1954-colorized\n"
   ]
  },
  {
   "cell_type": "code",
   "execution_count": 13,
   "id": "1dba7bb0-eaef-4b2b-99cd-c31f8f156efe",
   "metadata": {},
   "outputs": [
    {
     "name": "stdout",
     "output_type": "stream",
     "text": [
      "--2025-02-19 15:35:05--  https://archive.org/download/bishops-wife-1947/Bishops%20Wife%201947.mp4\n",
      "Resolving archive.org (archive.org)... 207.241.224.2\n",
      "Connecting to archive.org (archive.org)|207.241.224.2|:443... connected.\n",
      "HTTP request sent, awaiting response... 302 Found\n",
      "Location: https://dn720001.ca.archive.org/0/items/bishops-wife-1947/Bishops%20Wife%201947.mp4 [following]\n",
      "--2025-02-19 15:35:06--  https://dn720001.ca.archive.org/0/items/bishops-wife-1947/Bishops%20Wife%201947.mp4\n",
      "Resolving dn720001.ca.archive.org (dn720001.ca.archive.org)... 184.105.214.245\n",
      "Connecting to dn720001.ca.archive.org (dn720001.ca.archive.org)|184.105.214.245|:443... connected.\n",
      "HTTP request sent, awaiting response... 200 OK\n",
      "Length: 916394792 (874M) [video/mp4]\n",
      "Saving to: ‘Bishops Wife 1947.mp4’\n",
      "\n",
      "Bishops Wife 1947.m 100%[===================>] 873.94M  1.18MB/s    in 18m 13s \n",
      "\n",
      "2025-02-19 15:53:20 (819 KB/s) - ‘Bishops Wife 1947.mp4’ saved [916394792/916394792]\n",
      "\n",
      "--2025-02-19 15:53:20--  https://archive.org/download/sahara-colorized/Sahara%201943.mp4\n",
      "Resolving archive.org (archive.org)... 207.241.224.2\n",
      "Connecting to archive.org (archive.org)|207.241.224.2|:443... connected.\n",
      "HTTP request sent, awaiting response... 302 Found\n",
      "Location: https://ia600504.us.archive.org/34/items/sahara-colorized/Sahara%201943.mp4 [following]\n",
      "--2025-02-19 15:53:21--  https://ia600504.us.archive.org/34/items/sahara-colorized/Sahara%201943.mp4\n",
      "Resolving ia600504.us.archive.org (ia600504.us.archive.org)... 207.241.227.184\n",
      "Connecting to ia600504.us.archive.org (ia600504.us.archive.org)|207.241.227.184|:443... connected.\n",
      "HTTP request sent, awaiting response... 200 OK\n",
      "Length: 737074068 (703M) [video/mp4]\n",
      "Saving to: ‘Sahara 1943.mp4’\n",
      "\n",
      "Sahara 1943.mp4     100%[===================>] 702.93M  59.6MB/s    in 13s     \n",
      "\n",
      "2025-02-19 15:53:41 (54.3 MB/s) - ‘Sahara 1943.mp4’ saved [737074068/737074068]\n",
      "\n",
      "--2025-02-19 15:53:41--  https://archive.org/download/wolf-man-1941/Wolf%20Man%201941.mp4\n",
      "Resolving archive.org (archive.org)... 207.241.224.2\n",
      "Connecting to archive.org (archive.org)|207.241.224.2|:443... connected.\n",
      "HTTP request sent, awaiting response... 302 Found\n",
      "Location: https://ia600509.us.archive.org/22/items/wolf-man-1941/Wolf%20Man%201941.mp4 [following]\n",
      "--2025-02-19 15:53:41--  https://ia600509.us.archive.org/22/items/wolf-man-1941/Wolf%20Man%201941.mp4\n",
      "Resolving ia600509.us.archive.org (ia600509.us.archive.org)... 207.241.227.189\n",
      "Connecting to ia600509.us.archive.org (ia600509.us.archive.org)|207.241.227.189|:443... connected.\n",
      "HTTP request sent, awaiting response... 200 OK\n",
      "Length: 566840160 (541M) [video/mp4]\n",
      "Saving to: ‘Wolf Man 1941.mp4’\n",
      "\n",
      "Wolf Man 1941.mp4   100%[===================>] 540.58M  55.5MB/s    in 10s     \n",
      "\n",
      "2025-02-19 15:53:56 (54.2 MB/s) - ‘Wolf Man 1941.mp4’ saved [566840160/566840160]\n",
      "\n",
      "--2025-02-19 15:53:57--  https://archive.org/download/invasion-of-the-body-snatchers-1956-colorized/Invasion%20of%20the%20Body%20Snatchers.mp4\n",
      "Resolving archive.org (archive.org)... 207.241.224.2\n",
      "Connecting to archive.org (archive.org)|207.241.224.2|:443... connected.\n",
      "HTTP request sent, awaiting response... 302 Found\n",
      "Location: https://dn720306.ca.archive.org/0/items/invasion-of-the-body-snatchers-1956-colorized/Invasion%20of%20the%20Body%20Snatchers.mp4 [following]\n",
      "--2025-02-19 15:53:57--  https://dn720306.ca.archive.org/0/items/invasion-of-the-body-snatchers-1956-colorized/Invasion%20of%20the%20Body%20Snatchers.mp4\n",
      "Resolving dn720306.ca.archive.org (dn720306.ca.archive.org)... 64.71.129.163\n",
      "Connecting to dn720306.ca.archive.org (dn720306.ca.archive.org)|64.71.129.163|:443... connected.\n",
      "HTTP request sent, awaiting response... 200 OK\n",
      "Length: 1065492831 (1016M) [video/mp4]\n",
      "Saving to: ‘Invasion of the Body Snatchers.mp4’\n",
      "\n",
      "Invasion of the Bod 100%[===================>]   1016M  24.5MB/s    in 54s     \n",
      "\n",
      "2025-02-19 15:54:54 (18.9 MB/s) - ‘Invasion of the Body Snatchers.mp4’ saved [1065492831/1065492831]\n",
      "\n"
     ]
    }
   ],
   "source": [
    "\n",
    "!wget https://archive.org/download/bishops-wife-1947/Bishops%20Wife%201947.mp4\n",
    "!wget https://archive.org/download/sahara-colorized/Sahara%201943.mp4\n",
    "!wget https://archive.org/download/wolf-man-1941/Wolf%20Man%201941.mp4\n",
    "!wget https://archive.org/download/invasion-of-the-body-snatchers-1956-colorized/Invasion%20of%20the%20Body%20Snatchers.mp4\n"
   ]
  },
  {
   "cell_type": "code",
   "execution_count": 14,
   "id": "c4a7eef7-6806-46c6-a333-cb9e1de0350a",
   "metadata": {},
   "outputs": [
    {
     "name": "stdout",
     "output_type": "stream",
     "text": [
      "--2025-02-19 16:02:05--  https://archive.org/download/frankenstein-1931-colorized/Frankenstein%201931%20colorized.mp4\n",
      "Resolving archive.org (archive.org)... 207.241.224.2\n",
      "Connecting to archive.org (archive.org)|207.241.224.2|:443... connected.\n",
      "HTTP request sent, awaiting response... 302 Found\n",
      "Location: https://dn720006.ca.archive.org/0/items/frankenstein-1931-colorized/Frankenstein%201931%20colorized.mp4 [following]\n",
      "--2025-02-19 16:02:05--  https://dn720006.ca.archive.org/0/items/frankenstein-1931-colorized/Frankenstein%201931%20colorized.mp4\n",
      "Resolving dn720006.ca.archive.org (dn720006.ca.archive.org)... 184.105.214.250\n",
      "Connecting to dn720006.ca.archive.org (dn720006.ca.archive.org)|184.105.214.250|:443... connected.\n",
      "HTTP request sent, awaiting response... 200 OK\n",
      "Length: 536698066 (512M) [video/mp4]\n",
      "Saving to: ‘Frankenstein 1931 colorized.mp4’\n",
      "\n",
      "Frankenstein 1931 c 100%[===================>] 511.83M  12.2MB/s    in 46s     \n",
      "\n",
      "2025-02-19 16:02:53 (11.2 MB/s) - ‘Frankenstein 1931 colorized.mp4’ saved [536698066/536698066]\n",
      "\n",
      "--2025-02-19 16:02:53--  https://archive.org/download/tarantula-1955-colorized/Tarantula%201955%20colorized.mp4\n",
      "Resolving archive.org (archive.org)... 207.241.224.2\n",
      "Connecting to archive.org (archive.org)|207.241.224.2|:443... connected.\n",
      "HTTP request sent, awaiting response... 302 Found\n",
      "Location: https://dn790001.ca.archive.org/0/items/tarantula-1955-colorized/Tarantula%201955%20colorized.mp4 [following]\n",
      "--2025-02-19 16:02:54--  https://dn790001.ca.archive.org/0/items/tarantula-1955-colorized/Tarantula%201955%20colorized.mp4\n",
      "Resolving dn790001.ca.archive.org (dn790001.ca.archive.org)... 184.105.203.168\n",
      "Connecting to dn790001.ca.archive.org (dn790001.ca.archive.org)|184.105.203.168|:443... connected.\n",
      "HTTP request sent, awaiting response... 200 OK\n",
      "Length: 516712628 (493M) [video/mp4]\n",
      "Saving to: ‘Tarantula 1955 colorized.mp4’\n",
      "\n",
      "Tarantula 1955 colo 100%[===================>] 492.78M  5.53MB/s    in 74s     \n",
      "\n",
      "2025-02-19 16:04:08 (6.66 MB/s) - ‘Tarantula 1955 colorized.mp4’ saved [516712628/516712628]\n",
      "\n",
      "--2025-02-19 16:04:09--  https://archive.org/download/it-came-from-outer-space-1953-colorized/It%20Came%20from%20Outer%20Space%201953%20colorized.mp4\n",
      "Resolving archive.org (archive.org)... 207.241.224.2\n",
      "Connecting to archive.org (archive.org)|207.241.224.2|:443... connected.\n",
      "HTTP request sent, awaiting response... 302 Found\n",
      "Location: https://dn720707.ca.archive.org/0/items/it-came-from-outer-space-1953-colorized/It%20Came%20from%20Outer%20Space%201953%20colorized.mp4 [following]\n",
      "--2025-02-19 16:04:09--  https://dn720707.ca.archive.org/0/items/it-came-from-outer-space-1953-colorized/It%20Came%20from%20Outer%20Space%201953%20colorized.mp4\n",
      "Resolving dn720707.ca.archive.org (dn720707.ca.archive.org)... 204.62.246.92\n",
      "Connecting to dn720707.ca.archive.org (dn720707.ca.archive.org)|204.62.246.92|:443... connected.\n",
      "HTTP request sent, awaiting response... 200 OK\n",
      "Length: 1064988683 (1016M) [video/mp4]\n",
      "Saving to: ‘It Came from Outer Space 1953 colorized.mp4’\n",
      "\n",
      "It Came from Outer  100%[===================>]   1016M  5.51MB/s    in 2m 8s   \n",
      "\n",
      "2025-02-19 16:06:19 (7.95 MB/s) - ‘It Came from Outer Space 1953 colorized.mp4’ saved [1064988683/1064988683]\n",
      "\n",
      "--2025-02-19 16:06:19--  https://archive.org/download/kronos-1957-colorized/Kronos%201957%20colorized.mp4\n",
      "Resolving archive.org (archive.org)... 207.241.224.2\n",
      "Connecting to archive.org (archive.org)|207.241.224.2|:443... connected.\n",
      "HTTP request sent, awaiting response... 302 Found\n",
      "Location: https://dn720405.ca.archive.org/0/items/kronos-1957-colorized/Kronos%201957%20colorized.mp4 [following]\n",
      "--2025-02-19 16:06:19--  https://dn720405.ca.archive.org/0/items/kronos-1957-colorized/Kronos%201957%20colorized.mp4\n",
      "Resolving dn720405.ca.archive.org (dn720405.ca.archive.org)... 204.62.246.38\n",
      "Connecting to dn720405.ca.archive.org (dn720405.ca.archive.org)|204.62.246.38|:443... connected.\n",
      "HTTP request sent, awaiting response... 200 OK\n",
      "Length: 877709284 (837M) [video/mp4]\n",
      "Saving to: ‘Kronos 1957 colorized.mp4’\n",
      "\n",
      "Kronos 1957 coloriz 100%[===================>] 837.05M  31.6MB/s    in 26s     \n",
      "\n",
      "2025-02-19 16:06:53 (32.7 MB/s) - ‘Kronos 1957 colorized.mp4’ saved [877709284/877709284]\n",
      "\n"
     ]
    }
   ],
   "source": [
    "\n",
    "!wget https://archive.org/download/frankenstein-1931-colorized/Frankenstein%201931%20colorized.mp4\n",
    "!wget https://archive.org/download/tarantula-1955-colorized/Tarantula%201955%20colorized.mp4\n",
    "!wget https://archive.org/download/it-came-from-outer-space-1953-colorized/It%20Came%20from%20Outer%20Space%201953%20colorized.mp4\n",
    "!wget https://archive.org/download/kronos-1957-colorized/Kronos%201957%20colorized.mp4\n"
   ]
  },
  {
   "cell_type": "code",
   "execution_count": 15,
   "id": "e3f23c52-6d2b-4b2e-8328-d3f340db660a",
   "metadata": {},
   "outputs": [
    {
     "name": "stdout",
     "output_type": "stream",
     "text": [
      "--2025-02-19 16:09:46--  https://archive.org/download/invisible-man-1933/Invisible%20Man%201933.mp4\n",
      "Resolving archive.org (archive.org)... 207.241.224.2\n",
      "Connecting to archive.org (archive.org)|207.241.224.2|:443... connected.\n",
      "HTTP request sent, awaiting response... 302 Found\n",
      "Location: https://dn720208.ca.archive.org/0/items/invisible-man-1933/Invisible%20Man%201933.mp4 [following]\n",
      "--2025-02-19 16:09:46--  https://dn720208.ca.archive.org/0/items/invisible-man-1933/Invisible%20Man%201933.mp4\n",
      "Resolving dn720208.ca.archive.org (dn720208.ca.archive.org)... 64.71.129.155\n",
      "Connecting to dn720208.ca.archive.org (dn720208.ca.archive.org)|64.71.129.155|:443... connected.\n",
      "HTTP request sent, awaiting response... 200 OK\n",
      "Length: 354825505 (338M) [video/mp4]\n",
      "Saving to: ‘Invisible Man 1933.mp4’\n",
      "\n",
      "Invisible Man 1933. 100%[===================>] 338.39M  30.0MB/s    in 13s     \n",
      "\n",
      "2025-02-19 16:10:01 (26.8 MB/s) - ‘Invisible Man 1933.mp4’ saved [354825505/354825505]\n",
      "\n"
     ]
    }
   ],
   "source": [
    "\n",
    "!wget https://archive.org/download/invisible-man-1933/Invisible%20Man%201933.mp4"
   ]
  },
  {
   "cell_type": "code",
   "execution_count": 21,
   "id": "daeb712a-e284-4758-8a18-6a636ad64c48",
   "metadata": {},
   "outputs": [
    {
     "name": "stdout",
     "output_type": "stream",
     "text": [
      "--2025-02-19 16:39:07--  https://archive.org/download/the-matrix-fullscreen/The%20Matrix%20%281999%29%20%5BOPEN%20MATTE%5D%20%5BWEB-DL%201080p%2010bit%20DD5.1%20x265%5D.mp4\n",
      "Resolving archive.org (archive.org)... 207.241.224.2\n",
      "Connecting to archive.org (archive.org)|207.241.224.2|:443... connected.\n",
      "HTTP request sent, awaiting response... 302 Found\n",
      "Location: https://dn720004.ca.archive.org/0/items/the-matrix-fullscreen/The%20Matrix%20%281999%29%20%5BOPEN%20MATTE%5D%20%5BWEB-DL%201080p%2010bit%20DD5.1%20x265%5D.mp4 [following]\n",
      "--2025-02-19 16:39:07--  https://dn720004.ca.archive.org/0/items/the-matrix-fullscreen/The%20Matrix%20%281999%29%20%5BOPEN%20MATTE%5D%20%5BWEB-DL%201080p%2010bit%20DD5.1%20x265%5D.mp4\n",
      "Resolving dn720004.ca.archive.org (dn720004.ca.archive.org)... 184.105.214.248\n",
      "Connecting to dn720004.ca.archive.org (dn720004.ca.archive.org)|184.105.214.248|:443... connected.\n",
      "HTTP request sent, awaiting response... 200 OK\n",
      "Length: 836505459 (798M) [video/mp4]\n",
      "Saving to: ‘The Matrix (1999) [OPEN MATTE] [WEB-DL 1080p 10bit DD5.1 x265].mp4’\n",
      "\n",
      "The Matrix (1999) [ 100%[===================>] 797.75M  1.47MB/s    in 8m 15s  \n",
      "\n",
      "2025-02-19 16:47:27 (1.61 MB/s) - ‘The Matrix (1999) [OPEN MATTE] [WEB-DL 1080p 10bit DD5.1 x265].mp4’ saved [836505459/836505459]\n",
      "\n"
     ]
    }
   ],
   "source": [
    "# matrix 1999\n",
    "!wget https://archive.org/download/the-matrix-fullscreen/The%20Matrix%20%281999%29%20%5BOPEN%20MATTE%5D%20%5BWEB-DL%201080p%2010bit%20DD5.1%20x265%5D.mp4"
   ]
  },
  {
   "cell_type": "code",
   "execution_count": 22,
   "id": "87bdeb87-866b-4618-b6be-027b60885372",
   "metadata": {},
   "outputs": [
    {
     "name": "stdout",
     "output_type": "stream",
     "text": [
      "--2025-02-19 16:47:27--  https://archive.org/download/hellhole.-1985.1080p.-blu-ray.-h-264.-aac-rarbg/Hellhole.1985.1080p.BluRay.H264.AAC-RARBG.mp4\n",
      "Resolving archive.org (archive.org)... 207.241.224.2\n",
      "Connecting to archive.org (archive.org)|207.241.224.2|:443... connected.\n",
      "HTTP request sent, awaiting response... 302 Found\n",
      "Location: https://dn720308.ca.archive.org/0/items/hellhole.-1985.1080p.-blu-ray.-h-264.-aac-rarbg/Hellhole.1985.1080p.BluRay.H264.AAC-RARBG.mp4 [following]\n",
      "--2025-02-19 16:47:27--  https://dn720308.ca.archive.org/0/items/hellhole.-1985.1080p.-blu-ray.-h-264.-aac-rarbg/Hellhole.1985.1080p.BluRay.H264.AAC-RARBG.mp4\n",
      "Resolving dn720308.ca.archive.org (dn720308.ca.archive.org)... 64.71.129.165\n",
      "Connecting to dn720308.ca.archive.org (dn720308.ca.archive.org)|64.71.129.165|:443... connected.\n",
      "HTTP request sent, awaiting response... 200 OK\n",
      "Length: 1950049651 (1.8G) [video/mp4]\n",
      "Saving to: ‘Hellhole.1985.1080p.BluRay.H264.AAC-RARBG.mp4’\n",
      "\n",
      "Hellhole.1985.1080p 100%[===================>]   1.82G  1.21MB/s    in 28m 48s \n",
      "\n",
      "2025-02-19 17:16:17 (1.08 MB/s) - ‘Hellhole.1985.1080p.BluRay.H264.AAC-RARBG.mp4’ saved [1950049651/1950049651]\n",
      "\n"
     ]
    }
   ],
   "source": [
    "# hellhole 1985\n",
    "\n",
    "!wget https://archive.org/download/hellhole.-1985.1080p.-blu-ray.-h-264.-aac-rarbg/Hellhole.1985.1080p.BluRay.H264.AAC-RARBG.mp4"
   ]
  },
  {
   "cell_type": "code",
   "execution_count": 23,
   "id": "f08b32b8-9665-4860-9cd7-092ecbbd69ce",
   "metadata": {},
   "outputs": [
    {
     "name": "stdout",
     "output_type": "stream",
     "text": [
      "--2025-02-19 17:16:17--  https://archive.org/download/natural-born-killer-b/Natural%20Born%20Killer%20A.mp4\n",
      "Resolving archive.org (archive.org)... 207.241.224.2\n",
      "Connecting to archive.org (archive.org)|207.241.224.2|:443... connected.\n",
      "HTTP request sent, awaiting response... 302 Found\n",
      "Location: https://ia801801.us.archive.org/8/items/natural-born-killer-b/Natural%20Born%20Killer%20A.mp4 [following]\n",
      "--2025-02-19 17:16:18--  https://ia801801.us.archive.org/8/items/natural-born-killer-b/Natural%20Born%20Killer%20A.mp4\n",
      "Resolving ia801801.us.archive.org (ia801801.us.archive.org)... 207.241.230.171\n",
      "Connecting to ia801801.us.archive.org (ia801801.us.archive.org)|207.241.230.171|:443... connected.\n",
      "HTTP request sent, awaiting response... 200 OK\n",
      "Length: 347720114 (332M) [video/mp4]\n",
      "Saving to: ‘Natural Born Killer A.mp4’\n",
      "\n",
      "Natural Born Killer 100%[===================>] 331.61M  9.01MB/s    in 38s     \n",
      "\n",
      "2025-02-19 17:16:56 (8.65 MB/s) - ‘Natural Born Killer A.mp4’ saved [347720114/347720114]\n",
      "\n",
      "--2025-02-19 17:16:56--  https://archive.org/download/natural-born-killer-b/Natural%20Born%20Killer%20B.mp4\n",
      "Resolving archive.org (archive.org)... 207.241.224.2\n",
      "Connecting to archive.org (archive.org)|207.241.224.2|:443... connected.\n",
      "HTTP request sent, awaiting response... 302 Found\n",
      "Location: https://ia601801.us.archive.org/8/items/natural-born-killer-b/Natural%20Born%20Killer%20B.mp4 [following]\n",
      "--2025-02-19 17:16:57--  https://ia601801.us.archive.org/8/items/natural-born-killer-b/Natural%20Born%20Killer%20B.mp4\n",
      "Resolving ia601801.us.archive.org (ia601801.us.archive.org)... 207.241.227.71\n",
      "Connecting to ia601801.us.archive.org (ia601801.us.archive.org)|207.241.227.71|:443... connected.\n",
      "HTTP request sent, awaiting response... 200 OK\n",
      "Length: 374512543 (357M) [video/mp4]\n",
      "Saving to: ‘Natural Born Killer B.mp4’\n",
      "\n",
      "Natural Born Killer 100%[===================>] 357.16M  41.0MB/s    in 8.9s    \n",
      "\n",
      "2025-02-19 17:17:09 (39.9 MB/s) - ‘Natural Born Killer B.mp4’ saved [374512543/374512543]\n",
      "\n"
     ]
    }
   ],
   "source": [
    "\n",
    "!wget https://archive.org/download/natural-born-killer-b/Natural%20Born%20Killer%20A.mp4\n",
    "!wget https://archive.org/download/natural-born-killer-b/Natural%20Born%20Killer%20B.mp4\n"
   ]
  },
  {
   "cell_type": "code",
   "execution_count": 24,
   "id": "5fa2162f-ea6a-48b3-a3cf-37fd7c6578c1",
   "metadata": {},
   "outputs": [
    {
     "name": "stdout",
     "output_type": "stream",
     "text": [
      "--2025-02-19 17:17:09--  https://archive.org/download/taxi-driver-a/Taxi%20Driver%20A.mp4\n",
      "Resolving archive.org (archive.org)... 207.241.224.2\n",
      "Connecting to archive.org (archive.org)|207.241.224.2|:443... connected.\n",
      "HTTP request sent, awaiting response... 302 Found\n",
      "Location: https://dn720209.ca.archive.org/0/items/taxi-driver-a/Taxi%20Driver%20A.mp4 [following]\n",
      "--2025-02-19 17:17:10--  https://dn720209.ca.archive.org/0/items/taxi-driver-a/Taxi%20Driver%20A.mp4\n",
      "Resolving dn720209.ca.archive.org (dn720209.ca.archive.org)... 64.71.129.156\n",
      "Connecting to dn720209.ca.archive.org (dn720209.ca.archive.org)|64.71.129.156|:443... connected.\n",
      "HTTP request sent, awaiting response... 200 OK\n",
      "Length: 342413328 (327M) [video/mp4]\n",
      "Saving to: ‘Taxi Driver A.mp4’\n",
      "\n",
      "Taxi Driver A.mp4   100%[===================>] 326.55M  38.4MB/s    in 8.8s    \n",
      "\n",
      "2025-02-19 17:17:23 (37.2 MB/s) - ‘Taxi Driver A.mp4’ saved [342413328/342413328]\n",
      "\n",
      "--2025-02-19 17:17:23--  https://archive.org/download/taxi-driver-a/Taxi%20Driver%20B.mp4\n",
      "Resolving archive.org (archive.org)... 207.241.224.2\n",
      "Connecting to archive.org (archive.org)|207.241.224.2|:443... connected.\n",
      "HTTP request sent, awaiting response... 302 Found\n",
      "Location: https://dn720209.ca.archive.org/0/items/taxi-driver-a/Taxi%20Driver%20B.mp4 [following]\n",
      "--2025-02-19 17:17:23--  https://dn720209.ca.archive.org/0/items/taxi-driver-a/Taxi%20Driver%20B.mp4\n",
      "Resolving dn720209.ca.archive.org (dn720209.ca.archive.org)... 64.71.129.156\n",
      "Connecting to dn720209.ca.archive.org (dn720209.ca.archive.org)|64.71.129.156|:443... connected.\n",
      "HTTP request sent, awaiting response... 200 OK\n",
      "Length: 322197408 (307M) [video/mp4]\n",
      "Saving to: ‘Taxi Driver B.mp4’\n",
      "\n",
      "Taxi Driver B.mp4   100%[===================>] 307.27M  22.5MB/s    in 14s     \n",
      "\n",
      "2025-02-19 17:17:41 (21.7 MB/s) - ‘Taxi Driver B.mp4’ saved [322197408/322197408]\n",
      "\n"
     ]
    }
   ],
   "source": [
    "\n",
    "!wget https://archive.org/download/taxi-driver-a/Taxi%20Driver%20A.mp4\n",
    "!wget https://archive.org/download/taxi-driver-a/Taxi%20Driver%20B.mp4\n"
   ]
  },
  {
   "cell_type": "code",
   "execution_count": 25,
   "id": "00025461-d811-4364-9956-2b5f7361e836",
   "metadata": {},
   "outputs": [
    {
     "name": "stdout",
     "output_type": "stream",
     "text": [
      "--2025-02-19 17:17:41--  https://archive.org/download/fight.club.10th.anniversary.edition.1999.1080p.brrip.x264.yify_201908/Fight.Club.10th.Anniversary.Edition.1999.1080p.BrRip.x264.YIFY.mp4\n",
      "Resolving archive.org (archive.org)... 207.241.224.2\n",
      "Connecting to archive.org (archive.org)|207.241.224.2|:443... connected.\n",
      "HTTP request sent, awaiting response... 302 Found\n",
      "Location: https://dn720700.ca.archive.org/0/items/fight.club.10th.anniversary.edition.1999.1080p.brrip.x264.yify_201908/Fight.Club.10th.Anniversary.Edition.1999.1080p.BrRip.x264.YIFY.mp4 [following]\n",
      "--2025-02-19 17:17:41--  https://dn720700.ca.archive.org/0/items/fight.club.10th.anniversary.edition.1999.1080p.brrip.x264.yify_201908/Fight.Club.10th.Anniversary.Edition.1999.1080p.BrRip.x264.YIFY.mp4\n",
      "Resolving dn720700.ca.archive.org (dn720700.ca.archive.org)... 204.62.246.85\n",
      "Connecting to dn720700.ca.archive.org (dn720700.ca.archive.org)|204.62.246.85|:443... connected.\n",
      "HTTP request sent, awaiting response... 200 OK\n",
      "Length: 1987772924 (1.9G) [video/mp4]\n",
      "Saving to: ‘Fight.Club.10th.Anniversary.Edition.1999.1080p.BrRip.x264.YIFY.mp4’\n",
      "\n",
      "Fight.Club.10th.Ann 100%[===================>]   1.85G  50.6MB/s    in 69s     \n",
      "\n",
      "2025-02-19 17:18:58 (27.4 MB/s) - ‘Fight.Club.10th.Anniversary.Edition.1999.1080p.BrRip.x264.YIFY.mp4’ saved [1987772924/1987772924]\n",
      "\n"
     ]
    }
   ],
   "source": [
    "\n",
    "!wget https://archive.org/download/fight.club.10th.anniversary.edition.1999.1080p.brrip.x264.yify_201908/Fight.Club.10th.Anniversary.Edition.1999.1080p.BrRip.x264.YIFY.mp4\n"
   ]
  },
  {
   "cell_type": "code",
   "execution_count": 26,
   "id": "7b75cf5c-b4df-4d3d-a7f2-a8c3188e8033",
   "metadata": {},
   "outputs": [
    {
     "name": "stdout",
     "output_type": "stream",
     "text": [
      "--2025-02-19 17:18:58--  https://archive.org/download/true-romance-quentin-tarantino-cut/True%20Romance.mpeg4\n",
      "Resolving archive.org (archive.org)... 207.241.224.2\n",
      "Connecting to archive.org (archive.org)|207.241.224.2|:443... connected.\n",
      "HTTP request sent, awaiting response... 302 Found\n",
      "Location: https://dn720407.ca.archive.org/0/items/true-romance-quentin-tarantino-cut/True%20Romance.mpeg4 [following]\n",
      "--2025-02-19 17:18:58--  https://dn720407.ca.archive.org/0/items/true-romance-quentin-tarantino-cut/True%20Romance.mpeg4\n",
      "Resolving dn720407.ca.archive.org (dn720407.ca.archive.org)... 204.62.246.40\n",
      "Connecting to dn720407.ca.archive.org (dn720407.ca.archive.org)|204.62.246.40|:443... connected.\n",
      "HTTP request sent, awaiting response... 200 OK\n",
      "Length: 5765034521 (5.4G) [video/mp4]\n",
      "Saving to: ‘True Romance.mpeg4’\n",
      "\n",
      "True Romance.mpeg4  100%[===================>]   5.37G  16.3MB/s    in 4m 59s  \n",
      "\n",
      "2025-02-19 17:23:58 (18.4 MB/s) - ‘True Romance.mpeg4’ saved [5765034521/5765034521]\n",
      "\n"
     ]
    }
   ],
   "source": [
    "\n",
    "!wget https://archive.org/download/true-romance-quentin-tarantino-cut/True%20Romance.mpeg4\n"
   ]
  },
  {
   "cell_type": "code",
   "execution_count": 27,
   "id": "22e34cc9-5be4-48b6-96a3-7e8392d804e1",
   "metadata": {},
   "outputs": [],
   "source": [
    "!mv *mp4 ../data/"
   ]
  },
  {
   "cell_type": "code",
   "execution_count": 31,
   "id": "8e0dc487-0b15-4850-9947-7cea9ea81e25",
   "metadata": {},
   "outputs": [
    {
     "name": "stdout",
     "output_type": "stream",
     "text": [
      "84\n"
     ]
    }
   ],
   "source": [
    "!ls ../data/ | wc -l"
   ]
  },
  {
   "cell_type": "code",
   "execution_count": 29,
   "id": "31e13d42-90c5-496d-8f86-36c6fb4e578c",
   "metadata": {},
   "outputs": [
    {
     "name": "stdout",
     "output_type": "stream",
     "text": [
      "870M\t../data/Bishops Wife 1947.mp4\n",
      "485M\t../data/Day the Earth Stood Still 1951.mp4\n",
      "682M\t../data/Dracula 1931.mp4\n",
      "140M\t../data/Dragon Ball GT.01.DBOX.480p.x264-iKaos [v2] [E24A36DF].mp4\n",
      "140M\t../data/Dragon Ball GT.02.DBOX.480p.x264-iKaos [v2] [7968795B].mp4\n",
      "140M\t../data/Dragon Ball GT.03.DBOX.480p.x264-iKaos [v2] [F0831340].mp4\n",
      "140M\t../data/Dragon Ball GT.04.DBOX.480p.x264-iKaos [v2] [F63FC21F].mp4\n",
      "140M\t../data/Dragon Ball GT.05.DBOX.480p.x264-iKaos [v2] [CDFADD35].mp4\n",
      "139M\t../data/Dragon Ball GT.06.DBOX.480p.x264-iKaos [v2] [84A093DD].mp4\n",
      "139M\t../data/Dragon Ball GT.07.DBOX.480p.x264-iKaos [v2] [282DA8B1].mp4\n",
      "141M\t../data/Dragon Ball GT.08.DBOX.480p.x264-iKaos [v2] [E000B92A].mp4\n",
      "141M\t../data/Dragon Ball GT.09.DBOX.480p.x264-iKaos [v2] [DCD78518].mp4\n",
      "143M\t../data/Dragon Ball GT.10.DBOX.480p.x264-iKaos [v2] [A868E3B6].mp4\n",
      "141M\t../data/Dragon Ball GT.11.DBOX.480p.x264-iKaos [v2] [FFAC14A3].mp4\n",
      "141M\t../data/Dragon Ball GT.12.DBOX.480p.x264-iKaos [v2] [51E3841E].mp4\n",
      "142M\t../data/Dragon Ball GT.13.DBOX.480p.x264-iKaos [v2] [C069F3F2].mp4\n",
      "140M\t../data/Dragon Ball GT.14.DBOX.480p.x264-iKaos [v2] [467FC401].mp4\n",
      "140M\t../data/Dragon Ball GT.15.DBOX.480p.x264-iKaos [v2] [31E7EDC3].mp4\n",
      "140M\t../data/Dragon Ball GT.16.DBOX.480p.x264-iKaos [v2] [4AB0BCE2].mp4\n",
      "140M\t../data/Dragon Ball GT.17.DBOX.480p.x264-iKaos [v2] [F6403F39].mp4\n",
      "139M\t../data/Dragon Ball GT.18.DBOX.480p.x264-iKaos [v2] [BE4A0E25].mp4\n",
      "139M\t../data/Dragon Ball GT.19.DBOX.480p.x264-iKaos [v2] [DEA762A4].mp4\n",
      "140M\t../data/Dragon Ball GT.20.DBOX.480p.x264-iKaos [v2] [E35E8F81].mp4\n",
      "140M\t../data/Dragon Ball GT.21.DBOX.480p.x264-iKaos [v2] [39E15483].mp4\n",
      "141M\t../data/Dragon Ball GT.22.DBOX.480p.x264-iKaos [v2] [79CA895A].mp4\n",
      "141M\t../data/Dragon Ball GT.23.DBOX.480p.x264-iKaos [v2] [9C1CEE03].mp4\n",
      "140M\t../data/Dragon Ball GT.24.DBOX.480p.x264-iKaos [v2] [3A87AA57].mp4\n",
      "139M\t../data/Dragon Ball GT.25.DBOX.480p.x264-iKaos [v2] [1B31AC01].mp4\n",
      "140M\t../data/Dragon Ball GT.26.DBOX.480p.x264-iKaos [v2] [93014D3C].mp4\n",
      "139M\t../data/Dragon Ball GT.27.DBOX.480p.x264-iKaos [v2] [DC3FA76B].mp4\n",
      "139M\t../data/Dragon Ball GT.28.DBOX.480p.x264-iKaos [v2] [04E7E61F].mp4\n",
      "140M\t../data/Dragon Ball GT.29.DBOX.480p.x264-iKaos [v2] [F1947D89].mp4\n",
      "141M\t../data/Dragon Ball GT.30.DBOX.480p.x264-iKaos [v2] [C3DFFBE4].mp4\n",
      "140M\t../data/Dragon Ball GT.31.DBOX.480p.x264-iKaos [v2] [BE54C51E].mp4\n",
      "140M\t../data/Dragon Ball GT.32.DBOX.480p.x264-iKaos [v2] [A7CF96FF].mp4\n",
      "139M\t../data/Dragon Ball GT.33.DBOX.480p.x264-iKaos [v2] [DFB308E5].mp4\n",
      "140M\t../data/Dragon Ball GT.34.DBOX.480p.x264-iKaos [v2] [21741646].mp4\n",
      "140M\t../data/Dragon Ball GT.35.DBOX.480p.x264-iKaos [v2] [49A77377].mp4\n",
      "140M\t../data/Dragon Ball GT.36.DBOX.480p.x264-iKaos [v2] [43F11493].mp4\n",
      "140M\t../data/Dragon Ball GT.37.DBOX.480p.x264-iKaos [v2] [7BD28FD9].mp4\n",
      "140M\t../data/Dragon Ball GT.38.DBOX.480p.x264-iKaos [v2] [1E19F5FC].mp4\n",
      "139M\t../data/Dragon Ball GT.39.DBOX.480p.x264-iKaos [v2] [E01CA843].mp4\n",
      "140M\t../data/Dragon Ball GT.40.DBOX.480p.x264-iKaos [v2] [96F221DA].mp4\n",
      "139M\t../data/Dragon Ball GT.41.DBOX.480p.x264-iKaos [v2] [F0662F01].mp4\n",
      "141M\t../data/Dragon Ball GT.42.DBOX.480p.x264-iKaos [v2] [5BDBE763].mp4\n",
      "140M\t../data/Dragon Ball GT.43.DBOX.480p.x264-iKaos [v2] [6F45AD75].mp4\n",
      "140M\t../data/Dragon Ball GT.44.DBOX.480p.x264-iKaos [v2] [D9C6B105].mp4\n",
      "140M\t../data/Dragon Ball GT.45.DBOX.480p.x264-iKaos [v2] [F235ABC9].mp4\n",
      "140M\t../data/Dragon Ball GT.46.DBOX.480p.x264-iKaos [v2] [C6BD0267].mp4\n",
      "140M\t../data/Dragon Ball GT.47.DBOX.480p.x264-iKaos [v2] [30C70531].mp4\n",
      "140M\t../data/Dragon Ball GT.48.DBOX.480p.x264-iKaos [v2] [CDE7217C].mp4\n",
      "139M\t../data/Dragon Ball GT.49.DBOX.480p.x264-iKaos [v2] [F9F9C9BB].mp4\n",
      "140M\t../data/Dragon Ball GT.50.DBOX.480p.x264-iKaos [v2] [49CEA90E].mp4\n",
      "140M\t../data/Dragon Ball GT.51.DBOX.480p.x264-iKaos [v2] [E6C59A85].mp4\n",
      "140M\t../data/Dragon Ball GT.52.DBOX.480p.x264-iKaos [v2] [D04635C9].mp4\n",
      "140M\t../data/Dragon Ball GT.53.DBOX.480p.x264-iKaos [v2] [5F912217].mp4\n",
      "140M\t../data/Dragon Ball GT.54.DBOX.480p.x264-iKaos [v2] [3FE997D2].mp4\n",
      "141M\t../data/Dragon Ball GT.55.DBOX.480p.x264-iKaos [v2] [8B7589AA].mp4\n",
      "140M\t../data/Dragon Ball GT.56.DBOX.480p.x264-iKaos [v2] [656C2ACA].mp4\n",
      "140M\t../data/Dragon Ball GT.57.DBOX.480p.x264-iKaos [v2] [C0A03C13].mp4\n",
      "140M\t../data/Dragon Ball GT.58.DBOX.480p.x264-iKaos [v2] [0885325B].mp4\n",
      "140M\t../data/Dragon Ball GT.59.DBOX.480p.x264-iKaos [v2] [7BB1BAEA].mp4\n",
      "140M\t../data/Dragon Ball GT.60.DBOX.480p.x264-iKaos [v2] [D64A8270].mp4\n",
      "139M\t../data/Dragon Ball GT.61.DBOX.480p.x264-iKaos [v2] [97D1A53F].mp4\n",
      "140M\t../data/Dragon Ball GT.62.DBOX.480p.x264-iKaos [v2] [7CE26D4A].mp4\n",
      "140M\t../data/Dragon Ball GT.63.DBOX.480p.x264-iKaos [v2] [AE2E0CEA].mp4\n",
      "137M\t../data/Dragon Ball GT.64.DBOX.480p.x264-iKaos [v2] [61B8F59C].mp4\n",
      "260M\t../data/Dragon Ball GT.SP1.DBOX.480p.x264-iKaos [v2] [046A1C10].mp4\n",
      "449M\t../data/Earth vs the Flying Saucers color.mp4\n",
      "1.9G\t../data/Fight.Club.10th.Anniversary.Edition.1999.1080p.BrRip.x264.YIFY.mp4\n",
      "509M\t../data/Frankenstein 1931 colorized.mp4\n",
      "1.9G\t../data/Hellhole.1985.1080p.BluRay.H264.AAC-RARBG.mp4\n",
      "1015M\t../data/Invasion of the Body Snatchers.mp4\n",
      "337M\t../data/Invisible Man 1933.mp4\n",
      "1014M\t../data/It Came from Outer Space 1953 colorized.mp4\n",
      "836M\t../data/Kronos 1957 colorized.mp4\n",
      "331M\t../data/Natural Born Killer A.mp4\n",
      "357M\t../data/Natural Born Killer B.mp4\n",
      "700M\t../data/Sahara 1943.mp4\n",
      "490M\t../data/Tarantula 1955 colorized.mp4\n",
      "326M\t../data/Taxi Driver A.mp4\n",
      "307M\t../data/Taxi Driver B.mp4\n",
      "797M\t../data/The Matrix (1999) [OPEN MATTE] [WEB-DL 1080p 10bit DD5.1 x265].mp4\n",
      "539M\t../data/Wolf Man 1941.mp4\n"
     ]
    }
   ],
   "source": [
    "!du -sh ../data/*"
   ]
  },
  {
   "cell_type": "code",
   "execution_count": 32,
   "id": "5786ccae-b806-4634-a988-8951deaf9f01",
   "metadata": {},
   "outputs": [
    {
     "name": "stdout",
     "output_type": "stream",
     "text": [
      "23G\t../data\n"
     ]
    }
   ],
   "source": [
    "!du -sh ../data"
   ]
  },
  {
   "cell_type": "code",
   "execution_count": null,
   "id": "e15230ee-0df1-4692-b791-71e9767eac21",
   "metadata": {},
   "outputs": [],
   "source": []
  }
 ],
 "metadata": {
  "kernelspec": {
   "display_name": "Python 3 (ipykernel)",
   "language": "python",
   "name": "python3"
  },
  "language_info": {
   "codemirror_mode": {
    "name": "ipython",
    "version": 3
   },
   "file_extension": ".py",
   "mimetype": "text/x-python",
   "name": "python",
   "nbconvert_exporter": "python",
   "pygments_lexer": "ipython3",
   "version": "3.8.5"
  }
 },
 "nbformat": 4,
 "nbformat_minor": 5
}
