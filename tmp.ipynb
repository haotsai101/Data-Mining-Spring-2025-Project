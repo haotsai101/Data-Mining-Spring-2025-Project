{
 "cells": [
  {
   "cell_type": "code",
   "execution_count": 3,
   "id": "300aea79-c00d-4969-b52a-df04950a3fe2",
   "metadata": {},
   "outputs": [],
   "source": [
    "from PIL import Image\n",
    "import requests\n",
    "import io\n",
    "url = 'https://imgs.search.brave.com/INL3m1ivWRw4I0phhRnF6Lx9TN2K9LbD3nOcBFnmeto/rs:fit:860:0:0:0/g:ce/aHR0cHM6Ly9pbWcu/ZnJlZXBpay5jb20v/ZnJlZS1waG90by9o/YXBweS1tYW4tc3R1/ZGVudC13aXRoLWFm/cm8taGFpcmRvLXNo/b3dzLXdoaXRlLXRl/ZXRoLWJlaW5nLWdv/b2QtbW9vZC1hZnRl/ci1jbGFzc2VzXzI3/MzYwOS0xNjYwOC5q/cGc_c2VtdD1haXNf/Y291bnRyeV9ib29z/dCZ3PTc0MA'\n",
    "response = requests.get(url, stream=True)\n",
    "image = Image.open(io.BytesIO(response.content))"
   ]
  },
  {
   "cell_type": "code",
   "execution_count": 6,
   "id": "044bc4ac-110c-4be8-bada-5a5a88098f40",
   "metadata": {},
   "outputs": [],
   "source": [
    "import numpy as np"
   ]
  },
  {
   "cell_type": "code",
   "execution_count": 7,
   "id": "ef1bfdd0-85e0-49fc-a5e2-e087ec127449",
   "metadata": {},
   "outputs": [
    {
     "name": "stdout",
     "output_type": "stream",
     "text": [
      "from EmotionDetector: weights loaded\n"
     ]
    }
   ],
   "source": [
    "from facelib import FaceDetector, EmotionDetector\n",
    "face_detector = FaceDetector(face_size=(224, 224))\n",
    "emotion_detector = EmotionDetector()\n",
    "\n",
    "faces, boxes, scores, landmarks = face_detector.detect_align(np.array(image))\n",
    "emotions, probab = emotion_detector.detect_emotion(faces)"
   ]
  },
  {
   "cell_type": "code",
   "execution_count": 10,
   "id": "1899c6fa-9982-4a6b-a591-f392d79053b4",
   "metadata": {},
   "outputs": [
    {
     "data": {
      "text/plain": [
       "array(['happy'], dtype='<U8')"
      ]
     },
     "execution_count": 10,
     "metadata": {},
     "output_type": "execute_result"
    }
   ],
   "source": [
    "emotions"
   ]
  },
  {
   "cell_type": "code",
   "execution_count": 11,
   "id": "5e34a07f-308a-4cad-94a9-7dea4cbe94ca",
   "metadata": {},
   "outputs": [
    {
     "data": {
      "text/plain": [
       "[0.9987794756889343]"
      ]
     },
     "execution_count": 11,
     "metadata": {},
     "output_type": "execute_result"
    }
   ],
   "source": [
    "probab"
   ]
  },
  {
   "cell_type": "code",
   "execution_count": null,
   "id": "2ef58f9b-bf65-4392-b75a-62a24744cf27",
   "metadata": {},
   "outputs": [],
   "source": []
  }
 ],
 "metadata": {
  "kernelspec": {
   "display_name": "Python 3 (ipykernel)",
   "language": "python",
   "name": "python3"
  },
  "language_info": {
   "codemirror_mode": {
    "name": "ipython",
    "version": 3
   },
   "file_extension": ".py",
   "mimetype": "text/x-python",
   "name": "python",
   "nbconvert_exporter": "python",
   "pygments_lexer": "ipython3",
   "version": "3.8.18"
  }
 },
 "nbformat": 4,
 "nbformat_minor": 5
}
